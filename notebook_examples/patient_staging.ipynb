{
 "cells": [
  {
   "cell_type": "code",
   "execution_count": 1,
   "id": "7d700392",
   "metadata": {},
   "outputs": [],
   "source": [
    "from matplotlib import pyplot as plt \n",
    "import numpy as np \n",
    "import pandas as pd \n",
    "import plotly.express as px\n",
    "import plotly.io as pio\n",
    "import plotly.graph_objs as go\n",
    "import plotly.offline as pyo\n",
    "import pickle"
   ]
  },
  {
   "cell_type": "markdown",
   "id": "40a70662",
   "metadata": {},
   "source": [
    "### Load pickle"
   ]
  },
  {
   "cell_type": "code",
   "execution_count": 3,
   "id": "5c5531f1",
   "metadata": {},
   "outputs": [],
   "source": [
    "read_input = open('data/ADC_FTLD_subtypes_agecorrected_zscore_final.pickle','rb')\n",
    "load_inputs = pickle.load(read_input)\n",
    "read_input.close()\n",
    "\n",
    "T, S, X = load_inputs"
   ]
  },
  {
   "cell_type": "markdown",
   "id": "0ad9f0c0",
   "metadata": {},
   "source": [
    "- T --> timeline (timeline object)\n",
    "\n",
    "- S --> subjects (dict)"
   ]
  },
  {
   "cell_type": "markdown",
   "id": "9c1eacb5",
   "metadata": {},
   "source": [
    "Install snowphlake package from github"
   ]
  },
  {
   "cell_type": "code",
   "execution_count": 5,
   "id": "8c93e4dd",
   "metadata": {},
   "outputs": [],
   "source": [
    "# !pip install git+https://github.com/snowphlake-dpm/snowphlake"
   ]
  },
  {
   "cell_type": "code",
   "execution_count": 14,
   "id": "975ccdf4",
   "metadata": {},
   "outputs": [
    {
     "data": {
      "text/plain": [
       "dict_keys(['staging', 'subtypes', 'subtypes_weights', 'atypicality', 'atypicality_all'])"
      ]
     },
     "execution_count": 14,
     "metadata": {},
     "output_type": "execute_result"
    }
   ],
   "source": [
    "S.keys()"
   ]
  },
  {
   "cell_type": "code",
   "execution_count": 20,
   "id": "650f6e4a",
   "metadata": {},
   "outputs": [
    {
     "data": {
      "text/plain": [
       "array([0.64496857, 0.65906196, 0.63194364, 0.8634197 , 0.64378491,\n",
       "       0.84498544, 0.66662705, 0.64895298, 0.42036603, 0.56937249,\n",
       "       0.71255446, 0.26264319, 0.71535925, 0.85409997, 0.48770082,\n",
       "       0.31537106, 0.45364571, 0.4154039 , 0.43270497, 0.40747315,\n",
       "       0.83681075, 0.91223967, 0.68895228, 0.57426128, 0.31168483,\n",
       "       0.56647969, 0.61000297, 0.79641349, 0.27726891, 0.72605748,\n",
       "       0.38544369, 0.37397692, 0.42132265, 0.81785935, 0.75903641,\n",
       "       0.21708226, 0.20621645, 0.46509033, 0.5268587 , 0.85793789,\n",
       "       0.70770064, 0.7996779 , 0.03494355, 0.56862576, 0.41773678,\n",
       "       0.58915334, 0.78438274, 0.32243666, 0.45184738, 0.38782596])"
      ]
     },
     "execution_count": 20,
     "metadata": {},
     "output_type": "execute_result"
    }
   ],
   "source": [
    "S['staging'][0:50]"
   ]
  },
  {
   "cell_type": "code",
   "execution_count": 27,
   "id": "24578afb",
   "metadata": {},
   "outputs": [
    {
     "data": {
      "text/plain": [
       "array([ 3.77340938,  9.41622155,  4.62668588,  7.33794599, 16.59190552,\n",
       "        3.44938702, 12.24217853, 12.23141099,  6.0023154 , 12.59100386,\n",
       "        9.04929997, 12.08461199,  5.72702371, 17.13140078,  9.68853373,\n",
       "        9.49001125, 21.90321315,  6.6561032 ,  3.7936146 ,  3.94649783,\n",
       "        2.31856854,  4.23023695,  9.74827541,  3.81768523,  2.4377852 ,\n",
       "        2.23540365, 18.23339926,  5.18047789,  5.4147483 ,  7.13871566,\n",
       "        3.86258724, 12.68981967,  7.18920314, 11.52189123,  8.20195775,\n",
       "       14.17164068,  5.31789805, 12.7504213 , 12.78733112,  1.39922972,\n",
       "        3.36835973,  4.62393041, 10.71174243,  4.10906568, 11.39750226,\n",
       "       11.27105022,  6.80940824,  2.11410596,  7.6231642 , 20.05737424])"
      ]
     },
     "execution_count": 27,
     "metadata": {},
     "output_type": "execute_result"
    }
   ],
   "source": [
    "S['atypicality'][0:50]"
   ]
  },
  {
   "cell_type": "code",
   "execution_count": 28,
   "id": "db8bd3a3",
   "metadata": {},
   "outputs": [
    {
     "data": {
      "text/plain": [
       "1080"
      ]
     },
     "execution_count": 28,
     "metadata": {},
     "output_type": "execute_result"
    }
   ],
   "source": [
    "len(S['staging'])"
   ]
  },
  {
   "cell_type": "code",
   "execution_count": null,
   "id": "910404a5",
   "metadata": {},
   "outputs": [],
   "source": []
  }
 ],
 "metadata": {
  "kernelspec": {
   "display_name": "Python 3 (ipykernel)",
   "language": "python",
   "name": "python3"
  },
  "language_info": {
   "codemirror_mode": {
    "name": "ipython",
    "version": 3
   },
   "file_extension": ".py",
   "mimetype": "text/x-python",
   "name": "python",
   "nbconvert_exporter": "python",
   "pygments_lexer": "ipython3",
   "version": "3.9.12"
  }
 },
 "nbformat": 4,
 "nbformat_minor": 5
}
