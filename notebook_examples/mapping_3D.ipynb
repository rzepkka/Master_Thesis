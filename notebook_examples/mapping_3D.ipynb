{
 "cells": [
  {
   "cell_type": "code",
   "execution_count": 4,
   "id": "3c51f1d7",
   "metadata": {},
   "outputs": [],
   "source": [
    "import numpy as np\n",
    "import ggseg\n",
    "import pickle\n",
    "\n",
    "from matplotlib import pyplot as plt \n",
    "import pandas as pd \n",
    "import plotly.express as px\n",
    "import plotly.io as pio\n",
    "import plotly.graph_objs as go\n",
    "import plotly.offline as pyo\n",
    "\n",
    "import json"
   ]
  },
  {
   "cell_type": "markdown",
   "id": "1f294e67",
   "metadata": {},
   "source": [
    "## New file"
   ]
  },
  {
   "cell_type": "code",
   "execution_count": 5,
   "id": "7133dc12",
   "metadata": {},
   "outputs": [],
   "source": [
    "# Import Pikle File\n",
    "read_input_file = open('data/EDADS_subtype_timelines_agecorrected_opt.pickle','rb')\n",
    "load_inputs = pickle.load(read_input_file)\n",
    "read_input_file.close()\n",
    "\n",
    "T, S, SBoot = load_inputs"
   ]
  },
  {
   "cell_type": "code",
   "execution_count": 48,
   "id": "499b17bc",
   "metadata": {},
   "outputs": [
    {
     "data": {
      "text/plain": [
       "['Temporal_lobe',\n",
       " 'Superior_frontal_gyrus',\n",
       " 'Middle_frontal_gyrus',\n",
       " 'Inferior_frontal_gyrus',\n",
       " 'Gyrus_rectus',\n",
       " 'Orbitofrontal_gyri',\n",
       " 'Precentral_gyrus',\n",
       " 'Postcentral_gyrus',\n",
       " 'Superior_parietal_gyrus',\n",
       " 'Inferolateral_remainder_of_parietal_lobe',\n",
       " 'Lateral_remainder_of_occipital_lobe',\n",
       " 'Lingual_gyrus',\n",
       " 'Insula',\n",
       " 'Gyrus_cinguli_anterior_part',\n",
       " 'Gyrus_cinguli_posterior_part',\n",
       " 'Parahippocampal_and_ambient_gyri',\n",
       " 'Thalamus',\n",
       " 'Caudate',\n",
       " 'Putamen',\n",
       " 'Hippocampus',\n",
       " 'Amygdala',\n",
       " 'Accumbens-area']"
      ]
     },
     "execution_count": 48,
     "metadata": {},
     "output_type": "execute_result"
    }
   ],
   "source": [
    "T.biomarker_labels"
   ]
  },
  {
   "cell_type": "markdown",
   "id": "01f332cc",
   "metadata": {},
   "source": [
    "### Old file"
   ]
  },
  {
   "cell_type": "code",
   "execution_count": 38,
   "id": "0cb25b37",
   "metadata": {},
   "outputs": [],
   "source": [
    "# Import Pikle File\n",
    "read_input_file = open('data/ADC_FTLD_subtypes_agecorrected_zscore_final.pickle','rb')\n",
    "load_inputs = pickle.load(read_input_file)\n",
    "read_input_file.close()\n",
    "\n",
    "T_old, S_old, SBoot_old = load_inputs"
   ]
  },
  {
   "cell_type": "markdown",
   "id": "97b97a11",
   "metadata": {},
   "source": [
    "### Load mappings"
   ]
  },
  {
   "cell_type": "code",
   "execution_count": 59,
   "id": "65efd5d6",
   "metadata": {},
   "outputs": [],
   "source": [
    "f = open('data/ASEG_combined.json')\n",
    "ASEG_combined = json.load(f)\n",
    "f.close()\n",
    "\n",
    "f = open('data/ASEG_separated.json')\n",
    "ASEG_separated = json.load(f)\n",
    "f.close()"
   ]
  },
  {
   "cell_type": "code",
   "execution_count": 37,
   "id": "9b4e6527",
   "metadata": {},
   "outputs": [],
   "source": [
    "f = open('/Users/macos/Downloads/DK_3D_combined.json')\n",
    "DK_3D_combined = json.load(f)\n",
    "f.close()\n",
    "\n",
    "f = open('/Users/macos/Downloads/DK_3D_separated.json')\n",
    "DK_3D_separated = json.load(f)\n",
    "f.close()"
   ]
  },
  {
   "cell_type": "markdown",
   "id": "737497e3",
   "metadata": {},
   "source": [
    "## DK-atlas"
   ]
  },
  {
   "cell_type": "code",
   "execution_count": 32,
   "id": "2061ebfc",
   "metadata": {},
   "outputs": [],
   "source": [
    "def dk_df_3D(T,S, mapped_dict, subtype_labels = None, subtype = None):\n",
    "    \n",
    "    \"\"\"\n",
    "    Creates a dictionary, which can be used as input to ggseg3d() function\n",
    "    :param T: Timeline object\n",
    "    :param S: subtyping dictionary, subtypes for each patient individually\n",
    "    :param mapped_dict: output of mapping_dk(); a dictionary with key: values --> T.biomarker_labels: list(DK-labels)\n",
    "    :param subtype_labels: a list with names of the subtypes (optional)\n",
    "    :param subtype: name or index of the subtype from subtype_lables (optional, choses first available subtype as default)  \n",
    "    :return: dictionary with scores for each DK region for chosen subtype\n",
    "    \"\"\"\n",
    "    \n",
    "    unique_subtypes = np.unique(S['subtypes'][~np.isnan(S['subtypes'])])\n",
    "    if subtype_labels is None:\n",
    "        subtype_labels = {f'Subtype {i}': i for i in range(len(unique_subtypes))}\n",
    "        if subtype is None:\n",
    "            subtype = next(iter(subtype_labels))\n",
    "    elif subtype is None:\n",
    "        subtype = subtype_labels[0]  \n",
    "        \n",
    "    # clean names from capital letters\n",
    "    labels = list(map(lambda x: x.lower(), T.biomarker_labels))\n",
    "    labels_dict = {num: label.lower() for num, label in enumerate(labels)}\n",
    "    \n",
    "    order = T.sequence_model['ordering'][subtype_labels[subtype]]\n",
    "    \n",
    "    labels_ordered = []\n",
    "    for o in order:\n",
    "        labels_ordered.append(labels_dict[o])   \n",
    "       \n",
    "    \n",
    "    dic = dict(zip(labels_ordered, T.sequence_model['event_centers'][subtype_labels[subtype]]))\n",
    "                    \n",
    "    # flat lost of dict values (single list of DK-labels)\n",
    "    dk_flat = [x for v in mapped_dict.values() for x in v]\n",
    "        \n",
    "    hemi = []\n",
    "    for idx, region in enumerate(dk_flat):\n",
    "        if 'left' in region:\n",
    "            hemi.append('left')\n",
    "            dk_flat[idx]=dk_flat[idx].replace(' left','')\n",
    "        elif 'right' in region:\n",
    "            hemi.append('right')\n",
    "            dk_flat[idx]=dk_flat[idx].replace(' right','')\n",
    "        else:\n",
    "            hemi.append('subcort')\n",
    "            \n",
    "    \n",
    "    #Match T.biomarker_labels to DK labels\n",
    "    list_plot = list()\n",
    "    for key in mapped_dict.keys():\n",
    "        for item in mapped_dict[key]:\n",
    "            list_plot.append(dic[key])\n",
    "\n",
    "    dic_dk = {'region': dk_flat, 'hemi':hemi, 'p': list_plot}\n",
    "    df = pd.DataFrame(dic_dk)\n",
    "    \n",
    "    return df"
   ]
  },
  {
   "cell_type": "markdown",
   "id": "44196f41",
   "metadata": {},
   "source": [
    "## Save the output to use as input in ggseg_3d() in R"
   ]
  },
  {
   "cell_type": "code",
   "execution_count": 44,
   "id": "40bd58db",
   "metadata": {},
   "outputs": [
    {
     "data": {
      "text/html": [
       "<div>\n",
       "<style scoped>\n",
       "    .dataframe tbody tr th:only-of-type {\n",
       "        vertical-align: middle;\n",
       "    }\n",
       "\n",
       "    .dataframe tbody tr th {\n",
       "        vertical-align: top;\n",
       "    }\n",
       "\n",
       "    .dataframe thead th {\n",
       "        text-align: right;\n",
       "    }\n",
       "</style>\n",
       "<table border=\"1\" class=\"dataframe\">\n",
       "  <thead>\n",
       "    <tr style=\"text-align: right;\">\n",
       "      <th></th>\n",
       "      <th>region</th>\n",
       "      <th>hemi</th>\n",
       "      <th>p</th>\n",
       "    </tr>\n",
       "  </thead>\n",
       "  <tbody>\n",
       "    <tr>\n",
       "      <th>0</th>\n",
       "      <td>bankssts</td>\n",
       "      <td>left</td>\n",
       "      <td>0.060456</td>\n",
       "    </tr>\n",
       "    <tr>\n",
       "      <th>1</th>\n",
       "      <td>transverse temporal</td>\n",
       "      <td>left</td>\n",
       "      <td>0.060456</td>\n",
       "    </tr>\n",
       "    <tr>\n",
       "      <th>2</th>\n",
       "      <td>superior temporal</td>\n",
       "      <td>left</td>\n",
       "      <td>0.060456</td>\n",
       "    </tr>\n",
       "    <tr>\n",
       "      <th>3</th>\n",
       "      <td>temporal pole</td>\n",
       "      <td>left</td>\n",
       "      <td>0.060456</td>\n",
       "    </tr>\n",
       "    <tr>\n",
       "      <th>4</th>\n",
       "      <td>entorhinal</td>\n",
       "      <td>left</td>\n",
       "      <td>0.060456</td>\n",
       "    </tr>\n",
       "    <tr>\n",
       "      <th>...</th>\n",
       "      <td>...</td>\n",
       "      <td>...</td>\n",
       "      <td>...</td>\n",
       "    </tr>\n",
       "    <tr>\n",
       "      <th>63</th>\n",
       "      <td>isthmus cingulate</td>\n",
       "      <td>left</td>\n",
       "      <td>0.310542</td>\n",
       "    </tr>\n",
       "    <tr>\n",
       "      <th>64</th>\n",
       "      <td>posterior cingulate</td>\n",
       "      <td>right</td>\n",
       "      <td>0.310542</td>\n",
       "    </tr>\n",
       "    <tr>\n",
       "      <th>65</th>\n",
       "      <td>isthmus cingulate</td>\n",
       "      <td>right</td>\n",
       "      <td>0.310542</td>\n",
       "    </tr>\n",
       "    <tr>\n",
       "      <th>66</th>\n",
       "      <td>parahippocampal</td>\n",
       "      <td>left</td>\n",
       "      <td>0.275749</td>\n",
       "    </tr>\n",
       "    <tr>\n",
       "      <th>67</th>\n",
       "      <td>parahippocampal</td>\n",
       "      <td>right</td>\n",
       "      <td>0.275749</td>\n",
       "    </tr>\n",
       "  </tbody>\n",
       "</table>\n",
       "<p>68 rows × 3 columns</p>\n",
       "</div>"
      ],
      "text/plain": [
       "                 region   hemi         p\n",
       "0              bankssts   left  0.060456\n",
       "1   transverse temporal   left  0.060456\n",
       "2     superior temporal   left  0.060456\n",
       "3         temporal pole   left  0.060456\n",
       "4            entorhinal   left  0.060456\n",
       "..                  ...    ...       ...\n",
       "63    isthmus cingulate   left  0.310542\n",
       "64  posterior cingulate  right  0.310542\n",
       "65    isthmus cingulate  right  0.310542\n",
       "66      parahippocampal   left  0.275749\n",
       "67      parahippocampal  right  0.275749\n",
       "\n",
       "[68 rows x 3 columns]"
      ]
     },
     "execution_count": 44,
     "metadata": {},
     "output_type": "execute_result"
    }
   ],
   "source": [
    "dk_new = dk_df_3D(T, S, mapped_dict = DK_3D_combined, subtype = 'Subtype 0')\n",
    "dk_new\n",
    "# dk.to_csv('data/dk_R_Subtype 3.csv', index = False)"
   ]
  },
  {
   "cell_type": "code",
   "execution_count": 40,
   "id": "2d0f8b03",
   "metadata": {},
   "outputs": [],
   "source": [
    "# pd.read_csv(\"data/dk_R_Subtype 3.csv\") "
   ]
  },
  {
   "cell_type": "code",
   "execution_count": 43,
   "id": "ad9f5031",
   "metadata": {},
   "outputs": [],
   "source": [
    "# OLD \n",
    "dk_old = dk_df_3D(T_old, S_old, mapped_dict = DK_3D_separated, subtype = 'Subtype 1')\n",
    "# dk_old"
   ]
  },
  {
   "cell_type": "markdown",
   "id": "6e12430e",
   "metadata": {},
   "source": [
    "## Aseg atlas"
   ]
  },
  {
   "cell_type": "code",
   "execution_count": 49,
   "id": "efd4f44b",
   "metadata": {},
   "outputs": [],
   "source": [
    "def aseg_df_3D(T, S, mapped_dict, subtype_labels = None, subtype = None):\n",
    "    \n",
    "    \"\"\"\n",
    "    Creates a dictionary, which can be used as input to ggseg.plot_dk() function\n",
    "    :param T: Timeline object\n",
    "    :param S: subtyping dictionary, subtypes for each patient individually\n",
    "    :param subtype_labels: a list with names of the subtypes (optional)\n",
    "    :param subtype: name or index of the subtype from subtype_lables (optional, choses first available subtype as default)  \n",
    "    :return: dictionary with scores for each DK region for chosen subtype\n",
    "    \"\"\"\n",
    "\n",
    "    unique_subtypes = np.unique(S['subtypes'][~np.isnan(S['subtypes'])])\n",
    "    if subtype_labels is None:\n",
    "        subtype_labels = {f'Subtype {i}': i for i in range(len(unique_subtypes))}\n",
    "        if subtype is None:\n",
    "            subtype = next(iter(subtype_labels))\n",
    "    elif subtype is None:\n",
    "        subtype = subtype_labels[0]\n",
    "        \n",
    "    labels = T.biomarker_labels\n",
    "    labels_dict = {num: label.lower() for num, label in enumerate(labels)}\n",
    "    order = T.sequence_model['ordering'][subtype_labels[subtype]]\n",
    "        \n",
    "    labels_ordered = []\n",
    "    for o in order:\n",
    "        labels_ordered.append(labels_dict[o])\n",
    "        \n",
    "    # Dictionary with all labels\n",
    "    dic = dict(zip(labels_ordered, T.sequence_model['event_centers'][subtype_labels[subtype]]))\n",
    "    \n",
    "    # flat list of dict values (single list of DK-labels)\n",
    "    aseg_flat = [x for v in mapped_dict.values() for x in v]\n",
    "    \n",
    "    #Match T.biomarker_labels to DK labels\n",
    "    list_plot = list()\n",
    "    for key in mapped_dict.keys():\n",
    "        for item in mapped_dict[key]:\n",
    "            list_plot.append(dic[key])\n",
    "            \n",
    "    # Dict for dk-label: T.label value\n",
    "    dic_aseg = {'region': aseg_flat, 'p':list_plot} \n",
    "    \n",
    "    df = pd.DataFrame(dic_aseg)\n",
    "    \n",
    "        \n",
    "#     regions= labels_ordered*2\n",
    "#     for l in range(len(labels_ordered)):\n",
    "#             regions[l]='Left-' + regions[l]\n",
    "#     for l in range(len(labels_ordered), 2*len(labels_ordered)):\n",
    "#         regions[l]='Right-' + regions[l]\n",
    "\n",
    "#     values = list(T.sequence_model['event_centers'][subtype_labels[subtype]]) + list(T.sequence_model['event_centers'][subtype_labels[subtype]])                                                                   \n",
    "                        \n",
    "           \n",
    "#     dic_aseg = {'region': regions, 'p': values}\n",
    "#     df = pd.DataFrame(dic_aseg)\n",
    "        \n",
    "    return df"
   ]
  },
  {
   "cell_type": "markdown",
   "id": "4f4c4293",
   "metadata": {},
   "source": [
    "## Save the output to use as input in ggseg_3d() in R"
   ]
  },
  {
   "cell_type": "code",
   "execution_count": 54,
   "id": "1ea48878",
   "metadata": {},
   "outputs": [
    {
     "data": {
      "text/html": [
       "<div>\n",
       "<style scoped>\n",
       "    .dataframe tbody tr th:only-of-type {\n",
       "        vertical-align: middle;\n",
       "    }\n",
       "\n",
       "    .dataframe tbody tr th {\n",
       "        vertical-align: top;\n",
       "    }\n",
       "\n",
       "    .dataframe thead th {\n",
       "        text-align: right;\n",
       "    }\n",
       "</style>\n",
       "<table border=\"1\" class=\"dataframe\">\n",
       "  <thead>\n",
       "    <tr style=\"text-align: right;\">\n",
       "      <th></th>\n",
       "      <th>region</th>\n",
       "      <th>p</th>\n",
       "    </tr>\n",
       "  </thead>\n",
       "  <tbody>\n",
       "    <tr>\n",
       "      <th>0</th>\n",
       "      <td>Right-Thalamus</td>\n",
       "      <td>0.264707</td>\n",
       "    </tr>\n",
       "    <tr>\n",
       "      <th>1</th>\n",
       "      <td>Left-Thalamus</td>\n",
       "      <td>0.264707</td>\n",
       "    </tr>\n",
       "    <tr>\n",
       "      <th>2</th>\n",
       "      <td>Right-Caudate</td>\n",
       "      <td>0.228164</td>\n",
       "    </tr>\n",
       "    <tr>\n",
       "      <th>3</th>\n",
       "      <td>Left-Caudate</td>\n",
       "      <td>0.228164</td>\n",
       "    </tr>\n",
       "    <tr>\n",
       "      <th>4</th>\n",
       "      <td>Right-Putamen</td>\n",
       "      <td>0.185907</td>\n",
       "    </tr>\n",
       "    <tr>\n",
       "      <th>5</th>\n",
       "      <td>Left-Putamen</td>\n",
       "      <td>0.185907</td>\n",
       "    </tr>\n",
       "    <tr>\n",
       "      <th>6</th>\n",
       "      <td>Right-Hippocampus</td>\n",
       "      <td>0.110260</td>\n",
       "    </tr>\n",
       "    <tr>\n",
       "      <th>7</th>\n",
       "      <td>Left-Hippocampus</td>\n",
       "      <td>0.110260</td>\n",
       "    </tr>\n",
       "    <tr>\n",
       "      <th>8</th>\n",
       "      <td>Right-Amygdala</td>\n",
       "      <td>0.824444</td>\n",
       "    </tr>\n",
       "    <tr>\n",
       "      <th>9</th>\n",
       "      <td>Left-Amygdala</td>\n",
       "      <td>0.824444</td>\n",
       "    </tr>\n",
       "  </tbody>\n",
       "</table>\n",
       "</div>"
      ],
      "text/plain": [
       "              region         p\n",
       "0     Right-Thalamus  0.264707\n",
       "1      Left-Thalamus  0.264707\n",
       "2      Right-Caudate  0.228164\n",
       "3       Left-Caudate  0.228164\n",
       "4      Right-Putamen  0.185907\n",
       "5       Left-Putamen  0.185907\n",
       "6  Right-Hippocampus  0.110260\n",
       "7   Left-Hippocampus  0.110260\n",
       "8     Right-Amygdala  0.824444\n",
       "9      Left-Amygdala  0.824444"
      ]
     },
     "execution_count": 54,
     "metadata": {},
     "output_type": "execute_result"
    }
   ],
   "source": [
    "# NEW DATA\n",
    "aseg_new = aseg_df_3D(T,S, ASEG_combined, subtype = 'Subtype 0')\n",
    "aseg_new\n",
    "\n",
    "# aseg.to_csv('data/aseg_R_Subtype 3.csv', index = False)"
   ]
  },
  {
   "cell_type": "code",
   "execution_count": 55,
   "id": "880bc3e8",
   "metadata": {},
   "outputs": [],
   "source": [
    "# pd.read_csv(\"data/aseg_R_Subtype 3.csv\") "
   ]
  },
  {
   "cell_type": "code",
   "execution_count": 57,
   "id": "c8614cc8",
   "metadata": {},
   "outputs": [],
   "source": [
    "# OLD FILE\n",
    "# aseg_old = aseg_df_3D(T_old,S_old, ASEG_separated, subtype = 'Subtype 0')\n",
    "# aseg_old"
   ]
  },
  {
   "cell_type": "code",
   "execution_count": null,
   "id": "f1e16d90",
   "metadata": {},
   "outputs": [],
   "source": []
  }
 ],
 "metadata": {
  "kernelspec": {
   "display_name": "Python 3 (ipykernel)",
   "language": "python",
   "name": "python3"
  },
  "language_info": {
   "codemirror_mode": {
    "name": "ipython",
    "version": 3
   },
   "file_extension": ".py",
   "mimetype": "text/x-python",
   "name": "python",
   "nbconvert_exporter": "python",
   "pygments_lexer": "ipython3",
   "version": "3.9.12"
  }
 },
 "nbformat": 4,
 "nbformat_minor": 5
}
