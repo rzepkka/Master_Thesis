{
 "cells": [
  {
   "cell_type": "code",
   "execution_count": 50,
   "id": "ec6187e7",
   "metadata": {},
   "outputs": [],
   "source": [
    "import pandas as pd\n",
    "import numpy as np\n",
    "import pickle\n",
    "\n",
    "import rpy2\n",
    "import rpy2.robjects.packages as rpackages\n",
    "from rpy2.robjects.packages import importr, data\n",
    "import rpy2.robjects as robjects\n",
    "from rpy2.robjects.conversion import localconverter\n",
    "from rpy2.robjects import pandas2ri\n",
    "\n",
    "import warnings\n",
    "warnings.filterwarnings(\"ignore\")"
   ]
  },
  {
   "cell_type": "code",
   "execution_count": 51,
   "id": "9282bae5",
   "metadata": {},
   "outputs": [],
   "source": [
    "utils = importr('utils')\n",
    "base = importr(\"base\")\n",
    "# datasets = importr('datasets')\n",
    "# ggseg = importr(\"ggseg\")\n",
    "# ggplot2 = importr(\"ggplot2\")\n",
    "# dplyr = importr(\"dplyr\")\n",
    "# tidyr = importr(\"tidyr\")\n",
    "# plotly = importr(\"plotly\")\n",
    "\n",
    "ggseg3d = importr('ggseg3d')\n",
    "\n",
    "htmlwidgets = importr('htmlwidgets')\n",
    "\n",
    "# htmltools = importr('htmltools')\n"
   ]
  },
  {
   "cell_type": "code",
   "execution_count": 52,
   "id": "2b8c5fb7",
   "metadata": {},
   "outputs": [
    {
     "data": {
      "text/plain": [
       "<rpy2.rinterface_lib.sexp.NULLType object at 0x7fecba197640> [RTYPES.NILSXP]"
      ]
     },
     "execution_count": 52,
     "metadata": {},
     "output_type": "execute_result"
    }
   ],
   "source": [
    "# Installing R packages\n",
    "\n",
    "utils.chooseCRANmirror(ind=1)\n",
    "# utils.install_packages('ggseg3d', repos=\"https://cloud.r-project.org\")"
   ]
  },
  {
   "cell_type": "markdown",
   "id": "3b363fd8",
   "metadata": {},
   "source": [
    "## Load pickle"
   ]
  },
  {
   "cell_type": "code",
   "execution_count": 53,
   "id": "bcd1663e",
   "metadata": {},
   "outputs": [],
   "source": [
    "# 1. LOAD PICKLE FILE\n",
    "read_input_file = open('data/EDADS_subtype_timelines_agecorrected_opt.pickle','rb')\n",
    "load_inputs = pickle.load(read_input_file)\n",
    "read_input_file.close()\n",
    "\n",
    "T, S, Sboot = load_inputs"
   ]
  },
  {
   "cell_type": "markdown",
   "id": "90ab15d4",
   "metadata": {},
   "source": [
    "### Get labels"
   ]
  },
  {
   "cell_type": "code",
   "execution_count": 54,
   "id": "d6798560",
   "metadata": {},
   "outputs": [
    {
     "data": {
      "text/plain": [
       "['Subtype 0', 'Subtype 1', 'Subtype 2', 'Subtype 3']"
      ]
     },
     "execution_count": 54,
     "metadata": {},
     "output_type": "execute_result"
    }
   ],
   "source": [
    "def get_labels(S):\n",
    "    unique_subtypes = np.unique(S['subtypes'][~np.isnan(S['subtypes'])])\n",
    "    subtype_labels = []\n",
    "    for i in range(len(unique_subtypes)):\n",
    "        subtype_labels.append('Subtype '+str(int(unique_subtypes[i])))        \n",
    "    return subtype_labels\n",
    "\n",
    "labels = get_labels(S=S)\n",
    "\n",
    "labels"
   ]
  },
  {
   "cell_type": "markdown",
   "id": "3f415902",
   "metadata": {},
   "source": [
    "## Ggseg 3D - Introduction"
   ]
  },
  {
   "cell_type": "markdown",
   "id": "b51e911a",
   "metadata": {},
   "source": [
    "### Custom ggseg"
   ]
  },
  {
   "cell_type": "code",
   "execution_count": 55,
   "id": "5db805ed",
   "metadata": {},
   "outputs": [
    {
     "data": {
      "text/plain": [
       "<rpy2.robjects.environments.Environment object at 0x7fec89c35040> [RTYPES.ENVSXP]\n",
       "R classes: ('environment',)\n",
       "n items: 16"
      ]
     },
     "execution_count": 55,
     "metadata": {},
     "output_type": "execute_result"
    }
   ],
   "source": [
    "robjects.r('''\n",
    "custom_ggseg <- function(.data=NULL, atlas=\"dk_3d\",\n",
    "                    surface = \"LCBC\", hemisphere = c(\"right\",\"subcort\"),\n",
    "                    label = \"region\", text = NULL, colour = \"colour\",\n",
    "                    palette = NULL, na.colour = \"darkgrey\", na.alpha = 1,\n",
    "                    show.legend = TRUE, options.legend = NULL, ...) {\n",
    "  \n",
    "  # Grab the atlas, even if it has been provided as character string\n",
    "  atlas3d = get_atlas(atlas,\n",
    "                      surface = surface,\n",
    "                      hemisphere = hemisphere)\n",
    "  \n",
    "  # If data has been supplied, merge it\n",
    "  if(!is.null(.data)){\n",
    "    atlas3d <- data_merge(.data, atlas3d)\n",
    "  }\n",
    "  \n",
    "  pal.colours <- get_palette(palette)\n",
    "  \n",
    "  # If colour column is numeric, calculate the gradient\n",
    "  if(is.numeric(unlist(atlas3d[,colour]))){\n",
    "    \n",
    "    if(is.null(names(palette))){\n",
    "      pal.colours$values <- seq(0,1,length.out = nrow(pal.colours))\n",
    "    }\n",
    "    \n",
    "    atlas3d$new_col = gradient_n_pal(pal.colours$orig, pal.colours$values,\"Lab\")(\n",
    "      unlist(atlas3d[,colour]))\n",
    "    fill = \"new_col\"\n",
    "    \n",
    "  }else{\n",
    "    fill = colour\n",
    "  }\n",
    "  \n",
    "  # initiate plot\n",
    "  p = plotly::plot_ly()\n",
    "  \n",
    "  # add one trace per file inputed\n",
    "  for(tt in 1:nrow(atlas3d)){\n",
    "    \n",
    "    col = rep(unlist(atlas3d[tt, fill]), nrow(atlas3d$mesh[[tt]]$faces))\n",
    "    \n",
    "    col = ifelse(is.na(col), na.colour, col)\n",
    "    \n",
    "    op = ifelse(is.na(unlist(atlas3d[tt, fill])), na.alpha, 1)\n",
    "    \n",
    "    txt = if(is.null(text)){\n",
    "      text\n",
    "    }else{\n",
    "      paste0(text, \": \", unlist(atlas3d[tt, text]))\n",
    "    }\n",
    "    \n",
    "    p = plotly::add_trace(p,\n",
    "                          x = atlas3d$mesh[[tt]]$vertices$x,\n",
    "                          y = atlas3d$mesh[[tt]]$vertices$y,\n",
    "                          z = atlas3d$mesh[[tt]]$vertices$z,\n",
    "                          \n",
    "                          i = atlas3d$mesh[[tt]]$faces$i-1,\n",
    "                          j = atlas3d$mesh[[tt]]$faces$j-1,\n",
    "                          k = atlas3d$mesh[[tt]]$faces$k-1,\n",
    "                          \n",
    "                          facecolor = col,\n",
    "                          type = \"mesh3d\",\n",
    "                          text = txt,\n",
    "                          showscale = FALSE,\n",
    "                          opacity = op,\n",
    "                          name = unlist(atlas3d[tt, label]),\n",
    "                          ...\n",
    "    )\n",
    "  }\n",
    "  \n",
    "  # work around to get legend\n",
    "  if(show.legend & is.numeric(unlist(atlas3d[,colour]))){\n",
    "    \n",
    "    dt_leg <- dplyr::mutate(pal.colours,\n",
    "                            x = 0, y = 0, z = 0)\n",
    "    p <- plotly::add_trace(p, data = dt_leg,\n",
    "                           x = ~ x, y = ~ y, z = ~ z,\n",
    "                           \n",
    "                           intensity =  ~ values,\n",
    "                           colorscale =  unname(dt_leg[,c(\"norm\", \"hex\")]),\n",
    "                           type = \"mesh3d\",\n",
    "                           colorbar = options.legend\n",
    "    )\n",
    "  }\n",
    "  \n",
    "  return(p)\n",
    "}\n",
    "\n",
    "\n",
    "environment(custom_ggseg) <- asNamespace('ggseg3d')\n",
    "\n",
    "''')"
   ]
  },
  {
   "cell_type": "markdown",
   "id": "c0db82cf",
   "metadata": {},
   "source": [
    "### Load data"
   ]
  },
  {
   "cell_type": "code",
   "execution_count": 56,
   "id": "9af8f944",
   "metadata": {},
   "outputs": [
    {
     "data": {
      "text/html": [
       "\n",
       "        <span>StrVector with 5 elements.</span>\n",
       "        <table>\n",
       "        <tbody>\n",
       "          <tr>\n",
       "          \n",
       "            <td>\n",
       "            'indian...\n",
       "            </td>\n",
       "          \n",
       "            <td>\n",
       "            'indian...\n",
       "            </td>\n",
       "          \n",
       "            <td>\n",
       "            'coral1'\n",
       "            </td>\n",
       "          \n",
       "            <td>\n",
       "            'lightp...\n",
       "            </td>\n",
       "          \n",
       "            <td>\n",
       "            'mistyr...\n",
       "            </td>\n",
       "          \n",
       "          </tr>\n",
       "        </tbody>\n",
       "        </table>\n",
       "        "
      ],
      "text/plain": [
       "<rpy2.robjects.vectors.StrVector object at 0x7feca88eb040> [RTYPES.STRSXP]\n",
       "R classes: ('character',)\n",
       "['indian..., 'indian..., 'coral1', 'lightp..., 'mistyr...]"
      ]
     },
     "execution_count": 56,
     "metadata": {},
     "output_type": "execute_result"
    }
   ],
   "source": [
    "robjects.r('''\n",
    "    colors = c(\"indianred4\",'indianred2','coral1','lightpink1','mistyrose1')   \n",
    "\n",
    "    ''')"
   ]
  },
  {
   "cell_type": "code",
   "execution_count": 57,
   "id": "ef209197",
   "metadata": {},
   "outputs": [],
   "source": [
    "for i in range(len(labels)):\n",
    "    robjects.globalenv['i'] = i\n",
    "        \n",
    "    robjects.r('''\n",
    "    \n",
    "    dk_data <- read.csv(file = paste('/Users/macos/Documents/GitHub/Master_Thesis/temp_folder/dk_R_Subtype ',i,'.csv', sep=''))\n",
    "    aseg_data <- read.csv(file = paste('/Users/macos/Documents/GitHub/Master_Thesis/temp_folder/aseg_R_Subtype ',i,'.csv', sep=''))   \n",
    "\n",
    "    ''')\n",
    "    \n",
    "    \n",
    "    output = robjects.r('''\n",
    "      \n",
    "    dk = custom_ggseg(.data = dk_data,\n",
    "             atlas = dk_3d,\n",
    "             hemisphere = c('left','right'),\n",
    "             colour = \"p\",\n",
    "             palette = colors,\n",
    "             text = \"p\",\n",
    "             options.legend = list(title=list(text=\"Cortical\"),dtick=0.1,\n",
    "                              tickformatstops=list(dtickrange=c(0,1))),\n",
    "             scene = 'scene')\n",
    "\n",
    "    aseg = custom_ggseg(.data = aseg_data, \n",
    "                   atlas = aseg_3d, \n",
    "                   colour = \"p\", \n",
    "                   palette = colors,\n",
    "                   text = \"p\", \n",
    "                   options.legend = list(title=list(text=\"Subcortical\"),dtick=0.1,\n",
    "                                         tickformatstops=list(dtickrange=c(0,1))),\n",
    "                   scene = 'scene2'\n",
    "    )\n",
    "    \n",
    "    fig2 <- subplot(dk, aseg)\n",
    "    fig2 <- fig2 %>% layout(title = paste('Subtype', i),\n",
    "                            scene = list(domain=list(x=c(0,1),y=c(0.5,1)),\n",
    "                                         aspectmode='auto',\n",
    "                                         xaxis=list(backgroundcolor='white')\n",
    "                            ),\n",
    "                            scene2 = list(domain=list(x=c(0,1),y=c(0,0.5)),\n",
    "                                          aspectmode='auto'\n",
    "                            )) \n",
    "                          \n",
    "    # saveWidget(fig2, paste('Subtype ', i,\".html\", sep=\"\"), selfcontained = F, libdir = paste(\"sub\",i,sep=\"\"))\n",
    "    \n",
    "    fig2\n",
    "   \n",
    "   ''')\n",
    "    \n",
    "    \n",
    "    htmlwidgets.saveWidget(output, f\"data/Subtype {i}.html\", selfcontained = False, libdir = f\"sub {i}\")"
   ]
  },
  {
   "cell_type": "code",
   "execution_count": null,
   "id": "ae125eed",
   "metadata": {},
   "outputs": [],
   "source": []
  }
 ],
 "metadata": {
  "kernelspec": {
   "display_name": "Python 3 (ipykernel)",
   "language": "python",
   "name": "python3"
  },
  "language_info": {
   "codemirror_mode": {
    "name": "ipython",
    "version": 3
   },
   "file_extension": ".py",
   "mimetype": "text/x-python",
   "name": "python",
   "nbconvert_exporter": "python",
   "pygments_lexer": "ipython3",
   "version": "3.9.12"
  }
 },
 "nbformat": 4,
 "nbformat_minor": 5
}
