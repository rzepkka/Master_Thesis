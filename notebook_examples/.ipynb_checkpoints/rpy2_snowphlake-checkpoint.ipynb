{
 "cells": [
  {
   "cell_type": "code",
   "execution_count": 1,
   "id": "ec6187e7",
   "metadata": {},
   "outputs": [],
   "source": [
    "import pandas as pd\n",
    "\n",
    "import rpy2\n",
    "import rpy2.robjects.packages as rpackages\n",
    "from rpy2.robjects.packages import importr, data\n",
    "import rpy2.robjects as robjects\n",
    "from rpy2.robjects.conversion import localconverter\n",
    "from rpy2.robjects import pandas2ri"
   ]
  },
  {
   "cell_type": "code",
   "execution_count": 2,
   "id": "9282bae5",
   "metadata": {},
   "outputs": [],
   "source": [
    "utils = importr('utils')\n",
    "base = importr(\"base\")\n",
    "datasets = importr('datasets')\n",
    "ggseg = importr(\"ggseg\")\n",
    "ggplot2 = importr(\"ggplot2\")\n",
    "dplyr = importr(\"dplyr\")\n",
    "tidyr = importr(\"tidyr\")\n",
    "\n",
    "ggseg3d = importr('ggseg3d')\n",
    "\n",
    "htmlwidgets = importr('htmlwidgets')\n",
    "\n",
    "htmltools = importr('htmltools')\n"
   ]
  },
  {
   "cell_type": "code",
   "execution_count": 3,
   "id": "2b8c5fb7",
   "metadata": {},
   "outputs": [
    {
     "data": {
      "text/plain": [
       "<rpy2.rinterface_lib.sexp.NULLType object at 0x7fc8f9021040> [RTYPES.NILSXP]"
      ]
     },
     "execution_count": 3,
     "metadata": {},
     "output_type": "execute_result"
    }
   ],
   "source": [
    "# Installing R packages\n",
    "\n",
    "utils.chooseCRANmirror(ind=1)\n",
    "# utils.install_packages('ggseg3d', repos=\"https://cloud.r-project.org\")"
   ]
  },
  {
   "cell_type": "markdown",
   "id": "d6d3899b",
   "metadata": {},
   "source": [
    "### Convert PandasDataFrame to rpy2 DataFrame"
   ]
  },
  {
   "cell_type": "code",
   "execution_count": 4,
   "id": "70a14048",
   "metadata": {},
   "outputs": [],
   "source": [
    "dk_data = pd.read_csv(\"data/dk_R_subtype0.csv\") \n",
    "# dk_data\n",
    "\n",
    "aseg_data = pd.read_csv(\"data/aseg_R_subtype0.csv\") \n",
    "# aseg_data"
   ]
  },
  {
   "cell_type": "code",
   "execution_count": 5,
   "id": "903b82e3",
   "metadata": {},
   "outputs": [
    {
     "name": "stdout",
     "output_type": "stream",
     "text": [
      "Type of dk_data_R: <class 'rpy2.robjects.vectors.DataFrame'>\n",
      "Type of aseg_data_R: <class 'rpy2.robjects.vectors.DataFrame'>\n"
     ]
    }
   ],
   "source": [
    "# Convers DK-atlas\n",
    "with localconverter(robjects.default_converter + pandas2ri.converter):\n",
    "    dk_data_R = robjects.conversion.py2rpy(dk_data)\n",
    "    \n",
    "# Convers ASEG-atlas\n",
    "with localconverter(robjects.default_converter + pandas2ri.converter):\n",
    "    aseg_data_R = robjects.conversion.py2rpy(aseg_data)\n",
    "    \n",
    "print(f'Type of dk_data_R: {type(dk_data_R)}')\n",
    "print(f'Type of aseg_data_R: {type(aseg_data_R)}')"
   ]
  },
  {
   "cell_type": "markdown",
   "id": "3f415902",
   "metadata": {},
   "source": [
    "## Ggseg 3D - Introduction"
   ]
  },
  {
   "cell_type": "markdown",
   "id": "260bdcba",
   "metadata": {},
   "source": [
    "#### ggseg3d: Tri-Surface Mesh Plots for Brain Atlases"
   ]
  },
  {
   "cell_type": "markdown",
   "id": "aa6797e1",
   "metadata": {},
   "source": [
    "https://cran.r-project.org/web/packages/ggseg3d/index.html#:~:text=ggseg3d%3A%20Tri%2DSurface%20Mesh%20Plots%20for%20Brain%20Atlases&text=The%20functions%20and%20data%20enable,are%20wrappers%20for%20'plotly'.\n",
    "\n",
    "Mainly contains a plotting function ggseg3d(), and data of two standard brain atlases (Desikan-Killiany and aseg). By far, the largest bit of the package is the data for each of the atlases. The functions and data enable users to plot tri-surface mesh plots of brain atlases, and customise these by projecting colours onto the brain segments based on values in their own data sets. Functions are wrappers for 'plotly'. Mowinckel & Vidal-Piñeiro (2020) <doi:10.1177/2515245920928009>."
   ]
  },
  {
   "cell_type": "markdown",
   "id": "c1f88977",
   "metadata": {},
   "source": [
    "### Function definitions"
   ]
  },
  {
   "cell_type": "markdown",
   "id": "016802d3",
   "metadata": {},
   "source": [
    "Definitions of R functions imported to the notebook"
   ]
  },
  {
   "cell_type": "code",
   "execution_count": 1,
   "id": "21e5b07e",
   "metadata": {},
   "outputs": [],
   "source": [
    "# print(ggseg3d.ggseg3d)"
   ]
  },
  {
   "cell_type": "code",
   "execution_count": 14,
   "id": "66617df3",
   "metadata": {},
   "outputs": [],
   "source": [
    "# print(ggseg3d.pan_camera)"
   ]
  },
  {
   "cell_type": "code",
   "execution_count": 17,
   "id": "6092538d",
   "metadata": {},
   "outputs": [],
   "source": [
    "# print(ggseg3d.get_palette)"
   ]
  },
  {
   "cell_type": "code",
   "execution_count": 18,
   "id": "1e6d90ab",
   "metadata": {},
   "outputs": [],
   "source": [
    "# print(ggseg3d.add_glassbrain)"
   ]
  },
  {
   "cell_type": "markdown",
   "id": "69e03ad8",
   "metadata": {},
   "source": [
    "### Get atlases"
   ]
  },
  {
   "cell_type": "markdown",
   "id": "b4239c71",
   "metadata": {},
   "source": [
    "Import DK-atlas and ASEG-atlas into the notebook"
   ]
  },
  {
   "cell_type": "code",
   "execution_count": 7,
   "id": "16b46e4f",
   "metadata": {
    "scrolled": true
   },
   "outputs": [],
   "source": [
    "dk_3d = ggseg3d.get_atlas('dk_3d', surface = [\"LCBC\",'inflated'], hemisphere = ['left','right'])\n",
    "aseg_3d = ggseg3d.get_atlas('aseg_3d', surface = \"LCBC\", hemisphere = 'subcort')\n",
    "\n",
    "# print(f'DK-atlas: {dk_3d}')\n",
    "# print(f'ASEG-atlas: {aseg_3d}')"
   ]
  },
  {
   "cell_type": "markdown",
   "id": "3f2d25f9",
   "metadata": {},
   "source": [
    "### Colors"
   ]
  },
  {
   "cell_type": "markdown",
   "id": "ae2c0c9d",
   "metadata": {},
   "source": [
    "Define boundry colours for the sequential color pallete (for coloring the regions)"
   ]
  },
  {
   "cell_type": "code",
   "execution_count": 8,
   "id": "e97d88c2",
   "metadata": {},
   "outputs": [
    {
     "name": "stdout",
     "output_type": "stream",
     "text": [
      "[1] \"#6e0101\" \"#ffabab\"\n",
      "\n"
     ]
    }
   ],
   "source": [
    "colors = robjects.r('''\n",
    "c('#6e0101','#ffabab')\n",
    "''')\n",
    "\n",
    "print(colors)"
   ]
  },
  {
   "cell_type": "code",
   "execution_count": 9,
   "id": "a6329686",
   "metadata": {},
   "outputs": [
    {
     "name": "stdout",
     "output_type": "stream",
     "text": [
      "[1]  0 25\n",
      "\n"
     ]
    }
   ],
   "source": [
    "# vminmax = [0,25]\n",
    "\n",
    "colorbar = robjects.r('''\n",
    "c(0,25)\n",
    "''')\n",
    "\n",
    "print(colorbar)"
   ]
  },
  {
   "cell_type": "markdown",
   "id": "d4a8b3c6",
   "metadata": {},
   "source": [
    "### Test ggseg3d function - saving to HTML"
   ]
  },
  {
   "cell_type": "code",
   "execution_count": 10,
   "id": "9b4c4991",
   "metadata": {},
   "outputs": [],
   "source": [
    "# saving with htmlwidgets\n",
    "\n",
    "plot_dk = ggseg3d.ggseg3d(dk_data_R, atlas = dk_3d, surface = [\"LCBC\",'inflated'], hemisphere = ['left','right'],\n",
    "               label = 'region', colour = 'p', palette = colors, vminmax = colorbar)\n",
    "\n",
    "htmlwidgets.saveWidget(plot_dk, \"html_outputs/plot_dk.html\", selfcontained = False)\n",
    "\n",
    "\n",
    "# type(plot_dk)"
   ]
  },
  {
   "cell_type": "code",
   "execution_count": 11,
   "id": "7d20ef15",
   "metadata": {},
   "outputs": [],
   "source": [
    "# saving with htmltools\n",
    "\n",
    "plot_aseg = ggseg3d.ggseg3d(aseg_data_R, atlas = aseg_3d, surface = \"LCBC\", hemisphere = 'subcort',\n",
    "               label = 'region', colour = 'p', palette = colors, vminmax = [0,25])\n",
    "\n",
    "htmltools.save_html(plot_aseg, \"html_outputs/plot_aseg.html\")\n",
    "\n",
    "# print(plot_aseg)"
   ]
  },
  {
   "cell_type": "markdown",
   "id": "bfc8e371",
   "metadata": {},
   "source": [
    "### Reopen HTML"
   ]
  },
  {
   "cell_type": "code",
   "execution_count": 2,
   "id": "16f70b76",
   "metadata": {},
   "outputs": [],
   "source": [
    "# import webbrowser\n",
    "# import os\n",
    "# webbrowser.open(\"/Users/macos/Documents/GitHub/Master_Thesis/notebook examples/html_outputs/plot_dk.html\")"
   ]
  },
  {
   "cell_type": "markdown",
   "id": "e4d7267a",
   "metadata": {},
   "source": [
    "## DK-ATLAS --> Python"
   ]
  },
  {
   "cell_type": "code",
   "execution_count": 186,
   "id": "a12bd3f7",
   "metadata": {},
   "outputs": [
    {
     "name": "stdout",
     "output_type": "stream",
     "text": [
      "\n"
     ]
    }
   ],
   "source": [
    "# LEFT HEMISPHERE\n",
    "\n",
    "dk_left = ggseg3d.ggseg3d(dk_data_R, atlas = dk_3d, surface = [\"LCBC\",'inflated'], hemisphere = 'left',\n",
    "               label = 'region', colour = 'p', palette = colors)\n",
    "\n",
    "dk_left = ggseg3d.pan_camera(dk_left, 'right medial')\n",
    "\n",
    "print(dk_left)"
   ]
  },
  {
   "cell_type": "code",
   "execution_count": 190,
   "id": "1a530da9",
   "metadata": {},
   "outputs": [
    {
     "name": "stdout",
     "output_type": "stream",
     "text": [
      "\n"
     ]
    }
   ],
   "source": [
    "# RIGHT HEMISPHERE\n",
    "\n",
    "dk_right = ggseg3d.ggseg3d(dk_data_R, atlas = dk_3d, surface = [\"LCBC\",'inflated'], hemisphere = 'right',\n",
    "               label = 'region', colour = 'p', palette = colors)\n",
    "\n",
    "dk_right = ggseg3d.pan_camera(dk_right, 'left medial')\n",
    "\n",
    "\n",
    "print(dk_right)"
   ]
  },
  {
   "cell_type": "code",
   "execution_count": 188,
   "id": "17025c62",
   "metadata": {},
   "outputs": [
    {
     "name": "stdout",
     "output_type": "stream",
     "text": [
      "\n"
     ]
    }
   ],
   "source": [
    "# WHOLE BRAIN\n",
    "\n",
    "dk_full = ggseg3d.ggseg3d(dk_data_R, atlas = dk_3d, surface = [\"LCBC\",'inflated'], hemisphere = ['left','right'],\n",
    "               label = 'region', colour = 'p', palette = colors)\n",
    "\n",
    "print(dk_full)"
   ]
  },
  {
   "cell_type": "markdown",
   "id": "fdb32fc7",
   "metadata": {},
   "source": [
    "## ASEG-ATLAS --> Python"
   ]
  },
  {
   "cell_type": "code",
   "execution_count": 191,
   "id": "74b04e1f",
   "metadata": {},
   "outputs": [
    {
     "name": "stdout",
     "output_type": "stream",
     "text": [
      "\n"
     ]
    }
   ],
   "source": [
    "# WITHOUT REFERENCE\n",
    "\n",
    "plot_aseg = ggseg3d.ggseg3d(aseg_data_R, atlas = aseg_3d, surface = \"LCBC\", hemisphere = 'subcort',\n",
    "               label = 'region', colour = 'p', palette = colors)\n",
    "\n",
    "print(plot_aseg)\n",
    "\n"
   ]
  },
  {
   "cell_type": "code",
   "execution_count": 177,
   "id": "7f723761",
   "metadata": {},
   "outputs": [
    {
     "name": "stdout",
     "output_type": "stream",
     "text": [
      "\n"
     ]
    }
   ],
   "source": [
    "# ADD GLASSBRAIN - REFERENCE\n",
    "\n",
    "plot_aseg = ggseg3d.add_glassbrain(plot_aseg, hemisphere = [\"left\", \"right\"], colour = \"#cecece\", opacity = 0.3)\n",
    "\n",
    "print(plot_aseg)"
   ]
  },
  {
   "cell_type": "code",
   "execution_count": null,
   "id": "e444ebbe",
   "metadata": {},
   "outputs": [],
   "source": []
  }
 ],
 "metadata": {
  "kernelspec": {
   "display_name": "Python 3 (ipykernel)",
   "language": "python",
   "name": "python3"
  },
  "language_info": {
   "codemirror_mode": {
    "name": "ipython",
    "version": 3
   },
   "file_extension": ".py",
   "mimetype": "text/x-python",
   "name": "python",
   "nbconvert_exporter": "python",
   "pygments_lexer": "ipython3",
   "version": "3.9.12"
  }
 },
 "nbformat": 4,
 "nbformat_minor": 5
}
