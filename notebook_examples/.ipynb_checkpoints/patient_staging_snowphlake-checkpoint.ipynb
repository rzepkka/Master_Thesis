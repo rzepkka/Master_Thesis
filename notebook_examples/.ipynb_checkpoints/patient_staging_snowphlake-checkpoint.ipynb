{
 "cells": [
  {
   "cell_type": "code",
   "execution_count": 311,
   "id": "a1ea00b4",
   "metadata": {},
   "outputs": [],
   "source": [
    "from matplotlib import pyplot as plt \n",
    "import numpy as np \n",
    "import pandas as pd \n",
    "import plotly.express as px\n",
    "import plotly.io as pio\n",
    "import plotly.graph_objs as go\n",
    "import plotly.offline as pyo\n",
    "import pickle\n",
    "\n",
    "from collections import Counter\n",
    "\n",
    "import plotly.graph_objects as go\n",
    "import plotly.express as px\n",
    "from plotly.subplots import make_subplots\n",
    "\n",
    "from matplotlib import rc"
   ]
  },
  {
   "cell_type": "markdown",
   "id": "ca277cbd",
   "metadata": {},
   "source": [
    "### Load pickle"
   ]
  },
  {
   "cell_type": "code",
   "execution_count": 2,
   "id": "b092acf5",
   "metadata": {},
   "outputs": [],
   "source": [
    "read_input = open('data/ADC_FTLD_subtypes_agecorrected_zscore_final.pickle','rb')\n",
    "load_inputs = pickle.load(read_input)\n",
    "read_input.close()\n",
    "\n",
    "T, S, X = load_inputs"
   ]
  },
  {
   "cell_type": "markdown",
   "id": "7339ef34",
   "metadata": {},
   "source": [
    "- T --> timeline (timeline object)\n",
    "\n",
    "- S --> subjects (dict)"
   ]
  },
  {
   "cell_type": "code",
   "execution_count": 3,
   "id": "41493ee9",
   "metadata": {},
   "outputs": [
    {
     "data": {
      "text/plain": [
       "1080"
      ]
     },
     "execution_count": 3,
     "metadata": {},
     "output_type": "execute_result"
    }
   ],
   "source": [
    "len(S['staging'])"
   ]
  },
  {
   "cell_type": "markdown",
   "id": "33b465f1",
   "metadata": {},
   "source": [
    "### Create diagnosis variable\n",
    "\n",
    "- FTD = Frontotemporal Dementia"
   ]
  },
  {
   "cell_type": "code",
   "execution_count": 10,
   "id": "8038a300",
   "metadata": {},
   "outputs": [],
   "source": [
    "subtypes = S['subtypes']\n",
    "staging = S['staging']\n",
    "diagnosis = ['Control' if np.isnan(subtype) else \"FTD\" for subtype in subtypes]\n",
    "# diagnosis"
   ]
  },
  {
   "cell_type": "code",
   "execution_count": 11,
   "id": "49175083",
   "metadata": {},
   "outputs": [
    {
     "data": {
      "text/plain": [
       "{'FTD': 399, 'Control': 681}"
      ]
     },
     "execution_count": 11,
     "metadata": {},
     "output_type": "execute_result"
    }
   ],
   "source": [
    "counter = dict(Counter(diagnosis))\n",
    "counter"
   ]
  },
  {
   "cell_type": "code",
   "execution_count": 14,
   "id": "bcc947f3",
   "metadata": {},
   "outputs": [],
   "source": [
    "# check = ['Control' if np.isnan(stage) else \"FTD\" for stage in staging]\n",
    "# counter = dict(Counter(check))\n",
    "# counter"
   ]
  },
  {
   "cell_type": "markdown",
   "id": "a7f051d5",
   "metadata": {},
   "source": [
    "### Convert Nans to 0.0"
   ]
  },
  {
   "cell_type": "code",
   "execution_count": 45,
   "id": "3db8531e",
   "metadata": {},
   "outputs": [],
   "source": [
    "staging = [np.float64(0.0) if np.isnan(stage) else stage for stage in staging]\n",
    "\n",
    "# dic = {'Diagnosis': diagnosis, 'Staging': staging}\n",
    "# dic\n",
    "\n",
    "# data = pd.DataFrame(dic)\n",
    "# data"
   ]
  },
  {
   "cell_type": "markdown",
   "id": "3b4c198d",
   "metadata": {},
   "source": [
    "### Get labels"
   ]
  },
  {
   "cell_type": "code",
   "execution_count": 77,
   "id": "ad5116d3",
   "metadata": {},
   "outputs": [
    {
     "data": {
      "text/plain": [
       "['Control', 'FTD']"
      ]
     },
     "execution_count": 77,
     "metadata": {},
     "output_type": "execute_result"
    }
   ],
   "source": [
    "labels = list(set(diagnosis))\n",
    "# labels = labels[::-1]\n",
    "labels"
   ]
  },
  {
   "cell_type": "markdown",
   "id": "5b726d17",
   "metadata": {},
   "source": [
    "### Get indexes"
   ]
  },
  {
   "cell_type": "code",
   "execution_count": 23,
   "id": "ff6122a3",
   "metadata": {},
   "outputs": [
    {
     "data": {
      "text/plain": [
       "399"
      ]
     },
     "execution_count": 23,
     "metadata": {},
     "output_type": "execute_result"
    }
   ],
   "source": [
    "diagnosis = np.array(diagnosis)\n",
    "staging = np.array(staging)\n",
    "\n",
    "idx_Control = np.where(diagnosis=='Control')\n",
    "idx_Control = idx_Control[0]\n",
    "\n",
    "idx_FTD = np.where(diagnosis=='FTD')\n",
    "idx_FTD = idx_FTD[0]\n",
    "len(idx_FTD)"
   ]
  },
  {
   "cell_type": "code",
   "execution_count": null,
   "id": "c33f15a3",
   "metadata": {},
   "outputs": [],
   "source": []
  },
  {
   "cell_type": "markdown",
   "id": "04edd259",
   "metadata": {},
   "source": [
    "## Patient staging function"
   ]
  },
  {
   "cell_type": "code",
   "execution_count": 339,
   "id": "a1d357ca",
   "metadata": {},
   "outputs": [],
   "source": [
    "def patient_staging(S, diagnosis, color_list=['#000000'], num_bins=10, bin_width=0.02):\n",
    "    \"\"\"\n",
    "    Creates a barplot\n",
    "    :param S: dictionary, Snowphlake output\n",
    "    :param diagnosis: np.array or list; with diagnosis labels corresponding to records in S\n",
    "    :param color_list: list with color hex values\n",
    "    :param num_bins: int, how many bins should be displayed\n",
    "    :param bin_width: int\n",
    "    :return: plotly go Bar figure\n",
    "    \"\"\"  \n",
    "    \n",
    "    # Convert NaNs to 0.0\n",
    "    staging = np.array([np.float64(0.0) if np.isnan(stage) else stage for stage in S['staging']])\n",
    "   \n",
    "    # Count number of each subtype occurences\n",
    "    counter = dict(Counter(diagnosis))\n",
    "        \n",
    "    # Get labels\n",
    "    labels = list(set(diagnosis))\n",
    "#     labels = labels[::-1]\n",
    "    \n",
    "    # Get indexes\n",
    "    diagnosis = np.array(diagnosis)\n",
    "    staging = np.array(staging)\n",
    "    \n",
    "    # Get indexes for each diagnostic label\n",
    "    idx_list = []\n",
    "    for l in labels:\n",
    "        idx = np.where(diagnosis==l)\n",
    "        idx = idx[0]\n",
    "        idx_list.append(idx)\n",
    "\n",
    "    # Bar settings\n",
    "    num_bins = num_bins\n",
    "    bin_width = np.repeat(bin_width, num_bins)\n",
    "          \n",
    "    color_list = color_list\n",
    "        \n",
    "    count=-1    \n",
    "    num_bins = num_bins\n",
    "    bar_width = np.repeat(0.02, num_bins)\n",
    "    counter = dict(Counter(diagnosis))\n",
    "\n",
    "    fig = go.Figure()\n",
    "    \n",
    "    for idx in idx_list:\n",
    "                if len(idx)>0:\n",
    "                    count=count+1;\n",
    "                freq,binc=np.histogram(staging[idx],bins=num_bins)\n",
    "                freq = (1.*freq)/len(staging)\n",
    "                \n",
    "                label = labels[count]\n",
    "\n",
    "                fig.add_trace(go.Bar(\n",
    "                            x=binc[:-1],\n",
    "                            y=freq,\n",
    "                            name=f'{label} (n = {counter[label]})',\n",
    "                            width=bin_width,\n",
    "                            marker_color=color_list[count]\n",
    "                )) \n",
    "                \n",
    "    fig.update_layout(\n",
    "        title=\"Patient Staging\",\n",
    "        title_font_size=34,\n",
    "        title_x=0.5,\n",
    "        xaxis_title=\"Disease Stage\",\n",
    "        yaxis_title=\"Frequency of occurences\",\n",
    "        xaxis = dict(\n",
    "            tickmode = 'linear',\n",
    "            tick0 = 0.0,\n",
    "            dtick = 0.1\n",
    "        ),\n",
    "        barmode='group',\n",
    "        legend_font_size=16,\n",
    "        legend=dict(\n",
    "            yanchor=\"top\",\n",
    "            y=0.95,\n",
    "            xanchor=\"right\",\n",
    "            x=0.95),\n",
    "        autosize = False,\n",
    "        width=1000,\n",
    "        height=800\n",
    "    )\n",
    "    \n",
    "    fig.update_xaxes(range=[-0.05, 1.0])\n",
    "    \n",
    "    fig.update_yaxes(title_font_size = 18, \n",
    "                    tickfont_size=14)\n",
    "    \n",
    "    fig.update_xaxes(title_font_size = 18, \n",
    "                    tickfont_size = 14)\n",
    "\n",
    "    return fig"
   ]
  },
  {
   "cell_type": "code",
   "execution_count": 340,
   "id": "1b446b88",
   "metadata": {},
   "outputs": [],
   "source": [
    "# FOR TESTING\n",
    "diagnosis = np.array(['Control' if np.isnan(subtype) else \"FTD\" for subtype in S['subtypes']])\n",
    "\n",
    "num_bins = 10\n",
    "bin_width = 0.02\n",
    "color_list = ['#4daf4a','#377eb8','#e41a1c', '#ffff00']\n"
   ]
  },
  {
   "cell_type": "code",
   "execution_count": 342,
   "id": "65b7ccfc",
   "metadata": {},
   "outputs": [
    {
     "data": {
      "application/vnd.plotly.v1+json": {
       "config": {
        "plotlyServerURL": "https://plot.ly"
       },
       "data": [
        {
         "marker": {
          "color": "#4daf4a"
         },
         "name": "Control (n = 681)",
         "type": "bar",
         "width": [
          0.04,
          0.04,
          0.04,
          0.04,
          0.04,
          0.04,
          0.04,
          0.04,
          0.04,
          0.04
         ],
         "x": [
          -0.5,
          -0.4,
          -0.3,
          -0.19999999999999996,
          -0.09999999999999998,
          0,
          0.10000000000000009,
          0.20000000000000007,
          0.30000000000000004,
          0.4
         ],
         "y": [
          0,
          0,
          0,
          0,
          0,
          0.6305555555555555,
          0,
          0,
          0,
          0
         ]
        },
        {
         "marker": {
          "color": "#377eb8"
         },
         "name": "FTD (n = 399)",
         "type": "bar",
         "width": [
          0.04,
          0.04,
          0.04,
          0.04,
          0.04,
          0.04,
          0.04,
          0.04,
          0.04,
          0.04
         ],
         "x": [
          9.645439912066206e-07,
          0.09244036987621851,
          0.1848797752084458,
          0.27731918054067317,
          0.36975858587290045,
          0.4621979912051277,
          0.5546373965373551,
          0.6470768018695824,
          0.7395162072018097,
          0.8319556125340369
         ],
         "y": [
          0.013888888888888888,
          0.013888888888888888,
          0.03518518518518519,
          0.046296296296296294,
          0.06018518518518518,
          0.04722222222222222,
          0.058333333333333334,
          0.046296296296296294,
          0.032407407407407406,
          0.01574074074074074
         ]
        }
       ],
       "layout": {
        "autosize": false,
        "barmode": "group",
        "height": 800,
        "legend": {
         "font": {
          "size": 16
         },
         "x": 0.95,
         "xanchor": "right",
         "y": 0.95,
         "yanchor": "top"
        },
        "template": {
         "data": {
          "bar": [
           {
            "error_x": {
             "color": "#2a3f5f"
            },
            "error_y": {
             "color": "#2a3f5f"
            },
            "marker": {
             "line": {
              "color": "#E5ECF6",
              "width": 0.5
             },
             "pattern": {
              "fillmode": "overlay",
              "size": 10,
              "solidity": 0.2
             }
            },
            "type": "bar"
           }
          ],
          "barpolar": [
           {
            "marker": {
             "line": {
              "color": "#E5ECF6",
              "width": 0.5
             },
             "pattern": {
              "fillmode": "overlay",
              "size": 10,
              "solidity": 0.2
             }
            },
            "type": "barpolar"
           }
          ],
          "carpet": [
           {
            "aaxis": {
             "endlinecolor": "#2a3f5f",
             "gridcolor": "white",
             "linecolor": "white",
             "minorgridcolor": "white",
             "startlinecolor": "#2a3f5f"
            },
            "baxis": {
             "endlinecolor": "#2a3f5f",
             "gridcolor": "white",
             "linecolor": "white",
             "minorgridcolor": "white",
             "startlinecolor": "#2a3f5f"
            },
            "type": "carpet"
           }
          ],
          "choropleth": [
           {
            "colorbar": {
             "outlinewidth": 0,
             "ticks": ""
            },
            "type": "choropleth"
           }
          ],
          "contour": [
           {
            "colorbar": {
             "outlinewidth": 0,
             "ticks": ""
            },
            "colorscale": [
             [
              0,
              "#0d0887"
             ],
             [
              0.1111111111111111,
              "#46039f"
             ],
             [
              0.2222222222222222,
              "#7201a8"
             ],
             [
              0.3333333333333333,
              "#9c179e"
             ],
             [
              0.4444444444444444,
              "#bd3786"
             ],
             [
              0.5555555555555556,
              "#d8576b"
             ],
             [
              0.6666666666666666,
              "#ed7953"
             ],
             [
              0.7777777777777778,
              "#fb9f3a"
             ],
             [
              0.8888888888888888,
              "#fdca26"
             ],
             [
              1,
              "#f0f921"
             ]
            ],
            "type": "contour"
           }
          ],
          "contourcarpet": [
           {
            "colorbar": {
             "outlinewidth": 0,
             "ticks": ""
            },
            "type": "contourcarpet"
           }
          ],
          "heatmap": [
           {
            "colorbar": {
             "outlinewidth": 0,
             "ticks": ""
            },
            "colorscale": [
             [
              0,
              "#0d0887"
             ],
             [
              0.1111111111111111,
              "#46039f"
             ],
             [
              0.2222222222222222,
              "#7201a8"
             ],
             [
              0.3333333333333333,
              "#9c179e"
             ],
             [
              0.4444444444444444,
              "#bd3786"
             ],
             [
              0.5555555555555556,
              "#d8576b"
             ],
             [
              0.6666666666666666,
              "#ed7953"
             ],
             [
              0.7777777777777778,
              "#fb9f3a"
             ],
             [
              0.8888888888888888,
              "#fdca26"
             ],
             [
              1,
              "#f0f921"
             ]
            ],
            "type": "heatmap"
           }
          ],
          "heatmapgl": [
           {
            "colorbar": {
             "outlinewidth": 0,
             "ticks": ""
            },
            "colorscale": [
             [
              0,
              "#0d0887"
             ],
             [
              0.1111111111111111,
              "#46039f"
             ],
             [
              0.2222222222222222,
              "#7201a8"
             ],
             [
              0.3333333333333333,
              "#9c179e"
             ],
             [
              0.4444444444444444,
              "#bd3786"
             ],
             [
              0.5555555555555556,
              "#d8576b"
             ],
             [
              0.6666666666666666,
              "#ed7953"
             ],
             [
              0.7777777777777778,
              "#fb9f3a"
             ],
             [
              0.8888888888888888,
              "#fdca26"
             ],
             [
              1,
              "#f0f921"
             ]
            ],
            "type": "heatmapgl"
           }
          ],
          "histogram": [
           {
            "marker": {
             "pattern": {
              "fillmode": "overlay",
              "size": 10,
              "solidity": 0.2
             }
            },
            "type": "histogram"
           }
          ],
          "histogram2d": [
           {
            "colorbar": {
             "outlinewidth": 0,
             "ticks": ""
            },
            "colorscale": [
             [
              0,
              "#0d0887"
             ],
             [
              0.1111111111111111,
              "#46039f"
             ],
             [
              0.2222222222222222,
              "#7201a8"
             ],
             [
              0.3333333333333333,
              "#9c179e"
             ],
             [
              0.4444444444444444,
              "#bd3786"
             ],
             [
              0.5555555555555556,
              "#d8576b"
             ],
             [
              0.6666666666666666,
              "#ed7953"
             ],
             [
              0.7777777777777778,
              "#fb9f3a"
             ],
             [
              0.8888888888888888,
              "#fdca26"
             ],
             [
              1,
              "#f0f921"
             ]
            ],
            "type": "histogram2d"
           }
          ],
          "histogram2dcontour": [
           {
            "colorbar": {
             "outlinewidth": 0,
             "ticks": ""
            },
            "colorscale": [
             [
              0,
              "#0d0887"
             ],
             [
              0.1111111111111111,
              "#46039f"
             ],
             [
              0.2222222222222222,
              "#7201a8"
             ],
             [
              0.3333333333333333,
              "#9c179e"
             ],
             [
              0.4444444444444444,
              "#bd3786"
             ],
             [
              0.5555555555555556,
              "#d8576b"
             ],
             [
              0.6666666666666666,
              "#ed7953"
             ],
             [
              0.7777777777777778,
              "#fb9f3a"
             ],
             [
              0.8888888888888888,
              "#fdca26"
             ],
             [
              1,
              "#f0f921"
             ]
            ],
            "type": "histogram2dcontour"
           }
          ],
          "mesh3d": [
           {
            "colorbar": {
             "outlinewidth": 0,
             "ticks": ""
            },
            "type": "mesh3d"
           }
          ],
          "parcoords": [
           {
            "line": {
             "colorbar": {
              "outlinewidth": 0,
              "ticks": ""
             }
            },
            "type": "parcoords"
           }
          ],
          "pie": [
           {
            "automargin": true,
            "type": "pie"
           }
          ],
          "scatter": [
           {
            "fillpattern": {
             "fillmode": "overlay",
             "size": 10,
             "solidity": 0.2
            },
            "type": "scatter"
           }
          ],
          "scatter3d": [
           {
            "line": {
             "colorbar": {
              "outlinewidth": 0,
              "ticks": ""
             }
            },
            "marker": {
             "colorbar": {
              "outlinewidth": 0,
              "ticks": ""
             }
            },
            "type": "scatter3d"
           }
          ],
          "scattercarpet": [
           {
            "marker": {
             "colorbar": {
              "outlinewidth": 0,
              "ticks": ""
             }
            },
            "type": "scattercarpet"
           }
          ],
          "scattergeo": [
           {
            "marker": {
             "colorbar": {
              "outlinewidth": 0,
              "ticks": ""
             }
            },
            "type": "scattergeo"
           }
          ],
          "scattergl": [
           {
            "marker": {
             "colorbar": {
              "outlinewidth": 0,
              "ticks": ""
             }
            },
            "type": "scattergl"
           }
          ],
          "scattermapbox": [
           {
            "marker": {
             "colorbar": {
              "outlinewidth": 0,
              "ticks": ""
             }
            },
            "type": "scattermapbox"
           }
          ],
          "scatterpolar": [
           {
            "marker": {
             "colorbar": {
              "outlinewidth": 0,
              "ticks": ""
             }
            },
            "type": "scatterpolar"
           }
          ],
          "scatterpolargl": [
           {
            "marker": {
             "colorbar": {
              "outlinewidth": 0,
              "ticks": ""
             }
            },
            "type": "scatterpolargl"
           }
          ],
          "scatterternary": [
           {
            "marker": {
             "colorbar": {
              "outlinewidth": 0,
              "ticks": ""
             }
            },
            "type": "scatterternary"
           }
          ],
          "surface": [
           {
            "colorbar": {
             "outlinewidth": 0,
             "ticks": ""
            },
            "colorscale": [
             [
              0,
              "#0d0887"
             ],
             [
              0.1111111111111111,
              "#46039f"
             ],
             [
              0.2222222222222222,
              "#7201a8"
             ],
             [
              0.3333333333333333,
              "#9c179e"
             ],
             [
              0.4444444444444444,
              "#bd3786"
             ],
             [
              0.5555555555555556,
              "#d8576b"
             ],
             [
              0.6666666666666666,
              "#ed7953"
             ],
             [
              0.7777777777777778,
              "#fb9f3a"
             ],
             [
              0.8888888888888888,
              "#fdca26"
             ],
             [
              1,
              "#f0f921"
             ]
            ],
            "type": "surface"
           }
          ],
          "table": [
           {
            "cells": {
             "fill": {
              "color": "#EBF0F8"
             },
             "line": {
              "color": "white"
             }
            },
            "header": {
             "fill": {
              "color": "#C8D4E3"
             },
             "line": {
              "color": "white"
             }
            },
            "type": "table"
           }
          ]
         },
         "layout": {
          "annotationdefaults": {
           "arrowcolor": "#2a3f5f",
           "arrowhead": 0,
           "arrowwidth": 1
          },
          "autotypenumbers": "strict",
          "coloraxis": {
           "colorbar": {
            "outlinewidth": 0,
            "ticks": ""
           }
          },
          "colorscale": {
           "diverging": [
            [
             0,
             "#8e0152"
            ],
            [
             0.1,
             "#c51b7d"
            ],
            [
             0.2,
             "#de77ae"
            ],
            [
             0.3,
             "#f1b6da"
            ],
            [
             0.4,
             "#fde0ef"
            ],
            [
             0.5,
             "#f7f7f7"
            ],
            [
             0.6,
             "#e6f5d0"
            ],
            [
             0.7,
             "#b8e186"
            ],
            [
             0.8,
             "#7fbc41"
            ],
            [
             0.9,
             "#4d9221"
            ],
            [
             1,
             "#276419"
            ]
           ],
           "sequential": [
            [
             0,
             "#0d0887"
            ],
            [
             0.1111111111111111,
             "#46039f"
            ],
            [
             0.2222222222222222,
             "#7201a8"
            ],
            [
             0.3333333333333333,
             "#9c179e"
            ],
            [
             0.4444444444444444,
             "#bd3786"
            ],
            [
             0.5555555555555556,
             "#d8576b"
            ],
            [
             0.6666666666666666,
             "#ed7953"
            ],
            [
             0.7777777777777778,
             "#fb9f3a"
            ],
            [
             0.8888888888888888,
             "#fdca26"
            ],
            [
             1,
             "#f0f921"
            ]
           ],
           "sequentialminus": [
            [
             0,
             "#0d0887"
            ],
            [
             0.1111111111111111,
             "#46039f"
            ],
            [
             0.2222222222222222,
             "#7201a8"
            ],
            [
             0.3333333333333333,
             "#9c179e"
            ],
            [
             0.4444444444444444,
             "#bd3786"
            ],
            [
             0.5555555555555556,
             "#d8576b"
            ],
            [
             0.6666666666666666,
             "#ed7953"
            ],
            [
             0.7777777777777778,
             "#fb9f3a"
            ],
            [
             0.8888888888888888,
             "#fdca26"
            ],
            [
             1,
             "#f0f921"
            ]
           ]
          },
          "colorway": [
           "#636efa",
           "#EF553B",
           "#00cc96",
           "#ab63fa",
           "#FFA15A",
           "#19d3f3",
           "#FF6692",
           "#B6E880",
           "#FF97FF",
           "#FECB52"
          ],
          "font": {
           "color": "#2a3f5f"
          },
          "geo": {
           "bgcolor": "white",
           "lakecolor": "white",
           "landcolor": "#E5ECF6",
           "showlakes": true,
           "showland": true,
           "subunitcolor": "white"
          },
          "hoverlabel": {
           "align": "left"
          },
          "hovermode": "closest",
          "mapbox": {
           "style": "light"
          },
          "paper_bgcolor": "white",
          "plot_bgcolor": "#E5ECF6",
          "polar": {
           "angularaxis": {
            "gridcolor": "white",
            "linecolor": "white",
            "ticks": ""
           },
           "bgcolor": "#E5ECF6",
           "radialaxis": {
            "gridcolor": "white",
            "linecolor": "white",
            "ticks": ""
           }
          },
          "scene": {
           "xaxis": {
            "backgroundcolor": "#E5ECF6",
            "gridcolor": "white",
            "gridwidth": 2,
            "linecolor": "white",
            "showbackground": true,
            "ticks": "",
            "zerolinecolor": "white"
           },
           "yaxis": {
            "backgroundcolor": "#E5ECF6",
            "gridcolor": "white",
            "gridwidth": 2,
            "linecolor": "white",
            "showbackground": true,
            "ticks": "",
            "zerolinecolor": "white"
           },
           "zaxis": {
            "backgroundcolor": "#E5ECF6",
            "gridcolor": "white",
            "gridwidth": 2,
            "linecolor": "white",
            "showbackground": true,
            "ticks": "",
            "zerolinecolor": "white"
           }
          },
          "shapedefaults": {
           "line": {
            "color": "#2a3f5f"
           }
          },
          "ternary": {
           "aaxis": {
            "gridcolor": "white",
            "linecolor": "white",
            "ticks": ""
           },
           "baxis": {
            "gridcolor": "white",
            "linecolor": "white",
            "ticks": ""
           },
           "bgcolor": "#E5ECF6",
           "caxis": {
            "gridcolor": "white",
            "linecolor": "white",
            "ticks": ""
           }
          },
          "title": {
           "x": 0.05
          },
          "xaxis": {
           "automargin": true,
           "gridcolor": "white",
           "linecolor": "white",
           "ticks": "",
           "title": {
            "standoff": 15
           },
           "zerolinecolor": "white",
           "zerolinewidth": 2
          },
          "yaxis": {
           "automargin": true,
           "gridcolor": "white",
           "linecolor": "white",
           "ticks": "",
           "title": {
            "standoff": 15
           },
           "zerolinecolor": "white",
           "zerolinewidth": 2
          }
         }
        },
        "title": {
         "font": {
          "size": 34
         },
         "text": "Patient Staging",
         "x": 0.5
        },
        "width": 1000,
        "xaxis": {
         "dtick": 0.1,
         "range": [
          -0.05,
          1
         ],
         "tick0": 0,
         "tickfont": {
          "size": 14
         },
         "tickmode": "linear",
         "title": {
          "font": {
           "size": 18
          },
          "text": "Disease Stage"
         }
        },
        "yaxis": {
         "tickfont": {
          "size": 14
         },
         "title": {
          "font": {
           "size": 18
          },
          "text": "Frequency of occurences"
         }
        }
       }
      },
      "text/html": [
       "<div>                            <div id=\"59e15d50-9237-465c-9c3f-c2b5b2cebe02\" class=\"plotly-graph-div\" style=\"height:800px; width:1000px;\"></div>            <script type=\"text/javascript\">                require([\"plotly\"], function(Plotly) {                    window.PLOTLYENV=window.PLOTLYENV || {};                                    if (document.getElementById(\"59e15d50-9237-465c-9c3f-c2b5b2cebe02\")) {                    Plotly.newPlot(                        \"59e15d50-9237-465c-9c3f-c2b5b2cebe02\",                        [{\"marker\":{\"color\":\"#4daf4a\"},\"name\":\"Control (n = 681)\",\"width\":[0.04,0.04,0.04,0.04,0.04,0.04,0.04,0.04,0.04,0.04],\"x\":[-0.5,-0.4,-0.3,-0.19999999999999996,-0.09999999999999998,0.0,0.10000000000000009,0.20000000000000007,0.30000000000000004,0.4],\"y\":[0.0,0.0,0.0,0.0,0.0,0.6305555555555555,0.0,0.0,0.0,0.0],\"type\":\"bar\"},{\"marker\":{\"color\":\"#377eb8\"},\"name\":\"FTD (n = 399)\",\"width\":[0.04,0.04,0.04,0.04,0.04,0.04,0.04,0.04,0.04,0.04],\"x\":[9.645439912066206e-07,0.09244036987621851,0.1848797752084458,0.27731918054067317,0.36975858587290045,0.4621979912051277,0.5546373965373551,0.6470768018695824,0.7395162072018097,0.8319556125340369],\"y\":[0.013888888888888888,0.013888888888888888,0.03518518518518519,0.046296296296296294,0.06018518518518518,0.04722222222222222,0.058333333333333334,0.046296296296296294,0.032407407407407406,0.01574074074074074],\"type\":\"bar\"}],                        {\"template\":{\"data\":{\"histogram2dcontour\":[{\"type\":\"histogram2dcontour\",\"colorbar\":{\"outlinewidth\":0,\"ticks\":\"\"},\"colorscale\":[[0.0,\"#0d0887\"],[0.1111111111111111,\"#46039f\"],[0.2222222222222222,\"#7201a8\"],[0.3333333333333333,\"#9c179e\"],[0.4444444444444444,\"#bd3786\"],[0.5555555555555556,\"#d8576b\"],[0.6666666666666666,\"#ed7953\"],[0.7777777777777778,\"#fb9f3a\"],[0.8888888888888888,\"#fdca26\"],[1.0,\"#f0f921\"]]}],\"choropleth\":[{\"type\":\"choropleth\",\"colorbar\":{\"outlinewidth\":0,\"ticks\":\"\"}}],\"histogram2d\":[{\"type\":\"histogram2d\",\"colorbar\":{\"outlinewidth\":0,\"ticks\":\"\"},\"colorscale\":[[0.0,\"#0d0887\"],[0.1111111111111111,\"#46039f\"],[0.2222222222222222,\"#7201a8\"],[0.3333333333333333,\"#9c179e\"],[0.4444444444444444,\"#bd3786\"],[0.5555555555555556,\"#d8576b\"],[0.6666666666666666,\"#ed7953\"],[0.7777777777777778,\"#fb9f3a\"],[0.8888888888888888,\"#fdca26\"],[1.0,\"#f0f921\"]]}],\"heatmap\":[{\"type\":\"heatmap\",\"colorbar\":{\"outlinewidth\":0,\"ticks\":\"\"},\"colorscale\":[[0.0,\"#0d0887\"],[0.1111111111111111,\"#46039f\"],[0.2222222222222222,\"#7201a8\"],[0.3333333333333333,\"#9c179e\"],[0.4444444444444444,\"#bd3786\"],[0.5555555555555556,\"#d8576b\"],[0.6666666666666666,\"#ed7953\"],[0.7777777777777778,\"#fb9f3a\"],[0.8888888888888888,\"#fdca26\"],[1.0,\"#f0f921\"]]}],\"heatmapgl\":[{\"type\":\"heatmapgl\",\"colorbar\":{\"outlinewidth\":0,\"ticks\":\"\"},\"colorscale\":[[0.0,\"#0d0887\"],[0.1111111111111111,\"#46039f\"],[0.2222222222222222,\"#7201a8\"],[0.3333333333333333,\"#9c179e\"],[0.4444444444444444,\"#bd3786\"],[0.5555555555555556,\"#d8576b\"],[0.6666666666666666,\"#ed7953\"],[0.7777777777777778,\"#fb9f3a\"],[0.8888888888888888,\"#fdca26\"],[1.0,\"#f0f921\"]]}],\"contourcarpet\":[{\"type\":\"contourcarpet\",\"colorbar\":{\"outlinewidth\":0,\"ticks\":\"\"}}],\"contour\":[{\"type\":\"contour\",\"colorbar\":{\"outlinewidth\":0,\"ticks\":\"\"},\"colorscale\":[[0.0,\"#0d0887\"],[0.1111111111111111,\"#46039f\"],[0.2222222222222222,\"#7201a8\"],[0.3333333333333333,\"#9c179e\"],[0.4444444444444444,\"#bd3786\"],[0.5555555555555556,\"#d8576b\"],[0.6666666666666666,\"#ed7953\"],[0.7777777777777778,\"#fb9f3a\"],[0.8888888888888888,\"#fdca26\"],[1.0,\"#f0f921\"]]}],\"surface\":[{\"type\":\"surface\",\"colorbar\":{\"outlinewidth\":0,\"ticks\":\"\"},\"colorscale\":[[0.0,\"#0d0887\"],[0.1111111111111111,\"#46039f\"],[0.2222222222222222,\"#7201a8\"],[0.3333333333333333,\"#9c179e\"],[0.4444444444444444,\"#bd3786\"],[0.5555555555555556,\"#d8576b\"],[0.6666666666666666,\"#ed7953\"],[0.7777777777777778,\"#fb9f3a\"],[0.8888888888888888,\"#fdca26\"],[1.0,\"#f0f921\"]]}],\"mesh3d\":[{\"type\":\"mesh3d\",\"colorbar\":{\"outlinewidth\":0,\"ticks\":\"\"}}],\"scatter\":[{\"fillpattern\":{\"fillmode\":\"overlay\",\"size\":10,\"solidity\":0.2},\"type\":\"scatter\"}],\"parcoords\":[{\"type\":\"parcoords\",\"line\":{\"colorbar\":{\"outlinewidth\":0,\"ticks\":\"\"}}}],\"scatterpolargl\":[{\"type\":\"scatterpolargl\",\"marker\":{\"colorbar\":{\"outlinewidth\":0,\"ticks\":\"\"}}}],\"bar\":[{\"error_x\":{\"color\":\"#2a3f5f\"},\"error_y\":{\"color\":\"#2a3f5f\"},\"marker\":{\"line\":{\"color\":\"#E5ECF6\",\"width\":0.5},\"pattern\":{\"fillmode\":\"overlay\",\"size\":10,\"solidity\":0.2}},\"type\":\"bar\"}],\"scattergeo\":[{\"type\":\"scattergeo\",\"marker\":{\"colorbar\":{\"outlinewidth\":0,\"ticks\":\"\"}}}],\"scatterpolar\":[{\"type\":\"scatterpolar\",\"marker\":{\"colorbar\":{\"outlinewidth\":0,\"ticks\":\"\"}}}],\"histogram\":[{\"marker\":{\"pattern\":{\"fillmode\":\"overlay\",\"size\":10,\"solidity\":0.2}},\"type\":\"histogram\"}],\"scattergl\":[{\"type\":\"scattergl\",\"marker\":{\"colorbar\":{\"outlinewidth\":0,\"ticks\":\"\"}}}],\"scatter3d\":[{\"type\":\"scatter3d\",\"line\":{\"colorbar\":{\"outlinewidth\":0,\"ticks\":\"\"}},\"marker\":{\"colorbar\":{\"outlinewidth\":0,\"ticks\":\"\"}}}],\"scattermapbox\":[{\"type\":\"scattermapbox\",\"marker\":{\"colorbar\":{\"outlinewidth\":0,\"ticks\":\"\"}}}],\"scatterternary\":[{\"type\":\"scatterternary\",\"marker\":{\"colorbar\":{\"outlinewidth\":0,\"ticks\":\"\"}}}],\"scattercarpet\":[{\"type\":\"scattercarpet\",\"marker\":{\"colorbar\":{\"outlinewidth\":0,\"ticks\":\"\"}}}],\"carpet\":[{\"aaxis\":{\"endlinecolor\":\"#2a3f5f\",\"gridcolor\":\"white\",\"linecolor\":\"white\",\"minorgridcolor\":\"white\",\"startlinecolor\":\"#2a3f5f\"},\"baxis\":{\"endlinecolor\":\"#2a3f5f\",\"gridcolor\":\"white\",\"linecolor\":\"white\",\"minorgridcolor\":\"white\",\"startlinecolor\":\"#2a3f5f\"},\"type\":\"carpet\"}],\"table\":[{\"cells\":{\"fill\":{\"color\":\"#EBF0F8\"},\"line\":{\"color\":\"white\"}},\"header\":{\"fill\":{\"color\":\"#C8D4E3\"},\"line\":{\"color\":\"white\"}},\"type\":\"table\"}],\"barpolar\":[{\"marker\":{\"line\":{\"color\":\"#E5ECF6\",\"width\":0.5},\"pattern\":{\"fillmode\":\"overlay\",\"size\":10,\"solidity\":0.2}},\"type\":\"barpolar\"}],\"pie\":[{\"automargin\":true,\"type\":\"pie\"}]},\"layout\":{\"autotypenumbers\":\"strict\",\"colorway\":[\"#636efa\",\"#EF553B\",\"#00cc96\",\"#ab63fa\",\"#FFA15A\",\"#19d3f3\",\"#FF6692\",\"#B6E880\",\"#FF97FF\",\"#FECB52\"],\"font\":{\"color\":\"#2a3f5f\"},\"hovermode\":\"closest\",\"hoverlabel\":{\"align\":\"left\"},\"paper_bgcolor\":\"white\",\"plot_bgcolor\":\"#E5ECF6\",\"polar\":{\"bgcolor\":\"#E5ECF6\",\"angularaxis\":{\"gridcolor\":\"white\",\"linecolor\":\"white\",\"ticks\":\"\"},\"radialaxis\":{\"gridcolor\":\"white\",\"linecolor\":\"white\",\"ticks\":\"\"}},\"ternary\":{\"bgcolor\":\"#E5ECF6\",\"aaxis\":{\"gridcolor\":\"white\",\"linecolor\":\"white\",\"ticks\":\"\"},\"baxis\":{\"gridcolor\":\"white\",\"linecolor\":\"white\",\"ticks\":\"\"},\"caxis\":{\"gridcolor\":\"white\",\"linecolor\":\"white\",\"ticks\":\"\"}},\"coloraxis\":{\"colorbar\":{\"outlinewidth\":0,\"ticks\":\"\"}},\"colorscale\":{\"sequential\":[[0.0,\"#0d0887\"],[0.1111111111111111,\"#46039f\"],[0.2222222222222222,\"#7201a8\"],[0.3333333333333333,\"#9c179e\"],[0.4444444444444444,\"#bd3786\"],[0.5555555555555556,\"#d8576b\"],[0.6666666666666666,\"#ed7953\"],[0.7777777777777778,\"#fb9f3a\"],[0.8888888888888888,\"#fdca26\"],[1.0,\"#f0f921\"]],\"sequentialminus\":[[0.0,\"#0d0887\"],[0.1111111111111111,\"#46039f\"],[0.2222222222222222,\"#7201a8\"],[0.3333333333333333,\"#9c179e\"],[0.4444444444444444,\"#bd3786\"],[0.5555555555555556,\"#d8576b\"],[0.6666666666666666,\"#ed7953\"],[0.7777777777777778,\"#fb9f3a\"],[0.8888888888888888,\"#fdca26\"],[1.0,\"#f0f921\"]],\"diverging\":[[0,\"#8e0152\"],[0.1,\"#c51b7d\"],[0.2,\"#de77ae\"],[0.3,\"#f1b6da\"],[0.4,\"#fde0ef\"],[0.5,\"#f7f7f7\"],[0.6,\"#e6f5d0\"],[0.7,\"#b8e186\"],[0.8,\"#7fbc41\"],[0.9,\"#4d9221\"],[1,\"#276419\"]]},\"xaxis\":{\"gridcolor\":\"white\",\"linecolor\":\"white\",\"ticks\":\"\",\"title\":{\"standoff\":15},\"zerolinecolor\":\"white\",\"automargin\":true,\"zerolinewidth\":2},\"yaxis\":{\"gridcolor\":\"white\",\"linecolor\":\"white\",\"ticks\":\"\",\"title\":{\"standoff\":15},\"zerolinecolor\":\"white\",\"automargin\":true,\"zerolinewidth\":2},\"scene\":{\"xaxis\":{\"backgroundcolor\":\"#E5ECF6\",\"gridcolor\":\"white\",\"linecolor\":\"white\",\"showbackground\":true,\"ticks\":\"\",\"zerolinecolor\":\"white\",\"gridwidth\":2},\"yaxis\":{\"backgroundcolor\":\"#E5ECF6\",\"gridcolor\":\"white\",\"linecolor\":\"white\",\"showbackground\":true,\"ticks\":\"\",\"zerolinecolor\":\"white\",\"gridwidth\":2},\"zaxis\":{\"backgroundcolor\":\"#E5ECF6\",\"gridcolor\":\"white\",\"linecolor\":\"white\",\"showbackground\":true,\"ticks\":\"\",\"zerolinecolor\":\"white\",\"gridwidth\":2}},\"shapedefaults\":{\"line\":{\"color\":\"#2a3f5f\"}},\"annotationdefaults\":{\"arrowcolor\":\"#2a3f5f\",\"arrowhead\":0,\"arrowwidth\":1},\"geo\":{\"bgcolor\":\"white\",\"landcolor\":\"#E5ECF6\",\"subunitcolor\":\"white\",\"showland\":true,\"showlakes\":true,\"lakecolor\":\"white\"},\"title\":{\"x\":0.05},\"mapbox\":{\"style\":\"light\"}}},\"title\":{\"text\":\"Patient Staging\",\"font\":{\"size\":34},\"x\":0.5},\"xaxis\":{\"title\":{\"text\":\"Disease Stage\",\"font\":{\"size\":18}},\"tickmode\":\"linear\",\"tick0\":0.0,\"dtick\":0.1,\"range\":[-0.05,1.0],\"tickfont\":{\"size\":14}},\"legend\":{\"font\":{\"size\":16},\"yanchor\":\"top\",\"y\":0.95,\"xanchor\":\"right\",\"x\":0.95},\"yaxis\":{\"title\":{\"text\":\"Frequency of occurences\",\"font\":{\"size\":18}},\"tickfont\":{\"size\":14}},\"barmode\":\"group\",\"autosize\":false,\"width\":1000,\"height\":800},                        {\"responsive\": true}                    ).then(function(){\n",
       "                            \n",
       "var gd = document.getElementById('59e15d50-9237-465c-9c3f-c2b5b2cebe02');\n",
       "var x = new MutationObserver(function (mutations, observer) {{\n",
       "        var display = window.getComputedStyle(gd).display;\n",
       "        if (!display || display === 'none') {{\n",
       "            console.log([gd, 'removed!']);\n",
       "            Plotly.purge(gd);\n",
       "            observer.disconnect();\n",
       "        }}\n",
       "}});\n",
       "\n",
       "// Listen for the removal of the full notebook cells\n",
       "var notebookContainer = gd.closest('#notebook-container');\n",
       "if (notebookContainer) {{\n",
       "    x.observe(notebookContainer, {childList: true});\n",
       "}}\n",
       "\n",
       "// Listen for the clearing of the current output cell\n",
       "var outputEl = gd.closest('.output');\n",
       "if (outputEl) {{\n",
       "    x.observe(outputEl, {childList: true});\n",
       "}}\n",
       "\n",
       "                        })                };                });            </script>        </div>"
      ]
     },
     "metadata": {},
     "output_type": "display_data"
    }
   ],
   "source": [
    "fig = patient_staging(S=S,\n",
    "                      diagnosis=diagnosis, \n",
    "                      color_list = color_list,\n",
    "                      num_bins=10, \n",
    "                      bin_width=0.04)\n",
    "fig"
   ]
  },
  {
   "cell_type": "markdown",
   "id": "bf648510",
   "metadata": {},
   "source": [
    "## Staging Boxplots function"
   ]
  },
  {
   "cell_type": "code",
   "execution_count": 361,
   "id": "7e389cc9",
   "metadata": {},
   "outputs": [],
   "source": [
    "def staging_boxes(S, diagnosis, color_list='#000000'):\n",
    "    \"\"\"\n",
    "    Creates a boxplot\n",
    "    :param S: dictionary, Snowphlake output\n",
    "    :param diagnosis: np.array or list; with diagnosis labels corresponding to records in S\n",
    "    :param color_list: list with color hex values\n",
    "    :return: plotly go Box figure\n",
    "    \"\"\"\n",
    "    \n",
    "    # Convert NaNs to 0.0\n",
    "    staging = np.array([np.float64(0.0) if np.isnan(stage) else stage for stage in S['staging']])\n",
    "   \n",
    "    # Count number of each subtype occurences\n",
    "    counter = dict(Counter(diagnosis))\n",
    "        \n",
    "    # Get labels\n",
    "    labels = list(set(diagnosis))\n",
    "    \n",
    "    # Get indexes\n",
    "    diagnosis = np.array(diagnosis)\n",
    "    staging = np.array(staging)\n",
    "    \n",
    "    # Get indexes for each diagnostic label\n",
    "    idx_list = []\n",
    "    for l in labels:\n",
    "        idx = np.where(diagnosis==l)\n",
    "        idx = idx[0]\n",
    "        idx_list.append(idx)\n",
    "        \n",
    "    \n",
    "    fig = go.Figure()\n",
    "\n",
    "    for count, idx in enumerate(idx_list):\n",
    "        fig.add_trace(go.Box(x=staging[idx], name=labels[count],\n",
    "                             fillcolor=color_list[count],\n",
    "                            line_color='#000000'))\n",
    "\n",
    "\n",
    "    fig.update_xaxes(range=[-0.05, 1.0])\n",
    "\n",
    "    # ADD BOXPOINTS\n",
    "    fig.update_traces(boxpoints='all', jitter=0)\n",
    "\n",
    "    fig.update_layout(\n",
    "            title=\"Staging - Boxplots\",\n",
    "            title_font_size=34,\n",
    "            title_x=0.5,\n",
    "            xaxis_title=\"Disease Stage\",\n",
    "            yaxis_title=\"Diagnosis\",\n",
    "            xaxis = dict(\n",
    "                tickmode = 'linear',\n",
    "                tick0 = 0.0,\n",
    "                dtick = 0.1\n",
    "            ),\n",
    "            legend_font_size=16,\n",
    "            legend=dict(\n",
    "                yanchor=\"top\",\n",
    "                y=0.97,\n",
    "                xanchor=\"right\",\n",
    "                x=0.97),\n",
    "            autosize = False,\n",
    "            width=1000,\n",
    "            height=800\n",
    "        )\n",
    "    \n",
    "    fig.update_yaxes(title_font_size = 18, \n",
    "                    tickfont_size=14)\n",
    "    \n",
    "    fig.update_xaxes(title_font_size = 18, \n",
    "                    tickfont_size = 14)\n",
    "\n",
    "    return fig"
   ]
  },
  {
   "cell_type": "code",
   "execution_count": 362,
   "id": "c033b820",
   "metadata": {},
   "outputs": [],
   "source": [
    "# FOR TESTING\n",
    "diagnosis = np.array(['Control' if np.isnan(subtype) else \"FTD\" for subtype in S['subtypes']])\n",
    "color_list = ['#4daf4a','#377eb8','#e41a1c', '#ffff00']"
   ]
  },
  {
   "cell_type": "code",
   "execution_count": 363,
   "id": "52f94dd2",
   "metadata": {},
   "outputs": [
    {
     "data": {
      "application/vnd.plotly.v1+json": {
       "config": {
        "plotlyServerURL": "https://plot.ly"
       },
       "data": [
        {
         "boxpoints": "all",
         "fillcolor": "#4daf4a",
         "jitter": 0,
         "line": {
          "color": "#000000"
         },
         "name": "Control",
         "type": "box",
         "x": [
          0,
          0,
          0,
          0,
          0,
          0,
          0,
          0,
          0,
          0,
          0,
          0,
          0,
          0,
          0,
          0,
          0,
          0,
          0,
          0,
          0,
          0,
          0,
          0,
          0,
          0,
          0,
          0,
          0,
          0,
          0,
          0,
          0,
          0,
          0,
          0,
          0,
          0,
          0,
          0,
          0,
          0,
          0,
          0,
          0,
          0,
          0,
          0,
          0,
          0,
          0,
          0,
          0,
          0,
          0,
          0,
          0,
          0,
          0,
          0,
          0,
          0,
          0,
          0,
          0,
          0,
          0,
          0,
          0,
          0,
          0,
          0,
          0,
          0,
          0,
          0,
          0,
          0,
          0,
          0,
          0,
          0,
          0,
          0,
          0,
          0,
          0,
          0,
          0,
          0,
          0,
          0,
          0,
          0,
          0,
          0,
          0,
          0,
          0,
          0,
          0,
          0,
          0,
          0,
          0,
          0,
          0,
          0,
          0,
          0,
          0,
          0,
          0,
          0,
          0,
          0,
          0,
          0,
          0,
          0,
          0,
          0,
          0,
          0,
          0,
          0,
          0,
          0,
          0,
          0,
          0,
          0,
          0,
          0,
          0,
          0,
          0,
          0,
          0,
          0,
          0,
          0,
          0,
          0,
          0,
          0,
          0,
          0,
          0,
          0,
          0,
          0,
          0,
          0,
          0,
          0,
          0,
          0,
          0,
          0,
          0,
          0,
          0,
          0,
          0,
          0,
          0,
          0,
          0,
          0,
          0,
          0,
          0,
          0,
          0,
          0,
          0,
          0,
          0,
          0,
          0,
          0,
          0,
          0,
          0,
          0,
          0,
          0,
          0,
          0,
          0,
          0,
          0,
          0,
          0,
          0,
          0,
          0,
          0,
          0,
          0,
          0,
          0,
          0,
          0,
          0,
          0,
          0,
          0,
          0,
          0,
          0,
          0,
          0,
          0,
          0,
          0,
          0,
          0,
          0,
          0,
          0,
          0,
          0,
          0,
          0,
          0,
          0,
          0,
          0,
          0,
          0,
          0,
          0,
          0,
          0,
          0,
          0,
          0,
          0,
          0,
          0,
          0,
          0,
          0,
          0,
          0,
          0,
          0,
          0,
          0,
          0,
          0,
          0,
          0,
          0,
          0,
          0,
          0,
          0,
          0,
          0,
          0,
          0,
          0,
          0,
          0,
          0,
          0,
          0,
          0,
          0,
          0,
          0,
          0,
          0,
          0,
          0,
          0,
          0,
          0,
          0,
          0,
          0,
          0,
          0,
          0,
          0,
          0,
          0,
          0,
          0,
          0,
          0,
          0,
          0,
          0,
          0,
          0,
          0,
          0,
          0,
          0,
          0,
          0,
          0,
          0,
          0,
          0,
          0,
          0,
          0,
          0,
          0,
          0,
          0,
          0,
          0,
          0,
          0,
          0,
          0,
          0,
          0,
          0,
          0,
          0,
          0,
          0,
          0,
          0,
          0,
          0,
          0,
          0,
          0,
          0,
          0,
          0,
          0,
          0,
          0,
          0,
          0,
          0,
          0,
          0,
          0,
          0,
          0,
          0,
          0,
          0,
          0,
          0,
          0,
          0,
          0,
          0,
          0,
          0,
          0,
          0,
          0,
          0,
          0,
          0,
          0,
          0,
          0,
          0,
          0,
          0,
          0,
          0,
          0,
          0,
          0,
          0,
          0,
          0,
          0,
          0,
          0,
          0,
          0,
          0,
          0,
          0,
          0,
          0,
          0,
          0,
          0,
          0,
          0,
          0,
          0,
          0,
          0,
          0,
          0,
          0,
          0,
          0,
          0,
          0,
          0,
          0,
          0,
          0,
          0,
          0,
          0,
          0,
          0,
          0,
          0,
          0,
          0,
          0,
          0,
          0,
          0,
          0,
          0,
          0,
          0,
          0,
          0,
          0,
          0,
          0,
          0,
          0,
          0,
          0,
          0,
          0,
          0,
          0,
          0,
          0,
          0,
          0,
          0,
          0,
          0,
          0,
          0,
          0,
          0,
          0,
          0,
          0,
          0,
          0,
          0,
          0,
          0,
          0,
          0,
          0,
          0,
          0,
          0,
          0,
          0,
          0,
          0,
          0,
          0,
          0,
          0,
          0,
          0,
          0,
          0,
          0,
          0,
          0,
          0,
          0,
          0,
          0,
          0,
          0,
          0,
          0,
          0,
          0,
          0,
          0,
          0,
          0,
          0,
          0,
          0,
          0,
          0,
          0,
          0,
          0,
          0,
          0,
          0,
          0,
          0,
          0,
          0,
          0,
          0,
          0,
          0,
          0,
          0,
          0,
          0,
          0,
          0,
          0,
          0,
          0,
          0,
          0,
          0,
          0,
          0,
          0,
          0,
          0,
          0,
          0,
          0,
          0,
          0,
          0,
          0,
          0,
          0,
          0,
          0,
          0,
          0,
          0,
          0,
          0,
          0,
          0,
          0,
          0,
          0,
          0,
          0,
          0,
          0,
          0,
          0,
          0,
          0,
          0,
          0,
          0,
          0,
          0,
          0,
          0,
          0,
          0,
          0,
          0,
          0,
          0,
          0,
          0,
          0,
          0,
          0,
          0,
          0,
          0,
          0,
          0,
          0,
          0,
          0,
          0,
          0,
          0,
          0,
          0,
          0,
          0,
          0,
          0,
          0,
          0,
          0,
          0,
          0,
          0,
          0,
          0,
          0,
          0,
          0,
          0,
          0,
          0,
          0,
          0,
          0,
          0,
          0,
          0,
          0,
          0,
          0,
          0,
          0,
          0,
          0,
          0,
          0,
          0,
          0,
          0,
          0,
          0,
          0,
          0,
          0,
          0,
          0,
          0,
          0,
          0,
          0,
          0,
          0,
          0,
          0,
          0,
          0,
          0,
          0,
          0,
          0,
          0,
          0,
          0,
          0,
          0,
          0,
          0,
          0,
          0,
          0,
          0,
          0,
          0,
          0,
          0,
          0,
          0,
          0,
          0,
          0,
          0,
          0,
          0,
          0,
          0,
          0,
          0,
          0,
          0,
          0,
          0,
          0,
          0
         ]
        },
        {
         "boxpoints": "all",
         "fillcolor": "#377eb8",
         "jitter": 0,
         "line": {
          "color": "#000000"
         },
         "name": "FTD",
         "type": "box",
         "x": [
          0.6449685657785498,
          0.6590619603873156,
          0.6319436420219753,
          0.8634197046981563,
          0.6437849097615216,
          0.8449854419226479,
          0.6666270474081025,
          0.6489529825568414,
          0.420366025247966,
          0.5693724916028124,
          0.712554459551869,
          0.26264319009880077,
          0.7153592519543716,
          0.8540999650283891,
          0.4877008204761825,
          0.31537106183612,
          0.4536457127413268,
          0.41540390168555136,
          0.43270497032342714,
          0.40747314999386064,
          0.836810752581152,
          0.9122396704889625,
          0.6889522819031294,
          0.5742612750704278,
          0.3116848258211178,
          0.5664796913469416,
          0.6100029706469662,
          0.7964134882924317,
          0.2772689089376184,
          0.7260574846062734,
          0.3854436903138692,
          0.3739769182584946,
          0.4213226511450717,
          0.8178593513911204,
          0.7590364120418589,
          0.21708225937703846,
          0.2062164528642152,
          0.4650903289459059,
          0.5268586987305922,
          0.8579378909336371,
          0.7077006386249364,
          0.7996779030818512,
          0.03494355090897148,
          0.568625757174977,
          0.41773677634851536,
          0.5891533442064718,
          0.7843827421760664,
          0.32243665610362493,
          0.45184738078807823,
          0.3878259644087224,
          0.28957068040173534,
          0.787651002111678,
          0.5149666275205809,
          0.6917477748901232,
          0.28849813534923846,
          0.4052696222925299,
          0.5666558055144478,
          0.7980528683738982,
          0.5116675176067327,
          0.7283984869049175,
          0.7847095685999108,
          0.686138125393673,
          0.7196023071620539,
          0.4162775289575352,
          0.227984318344684,
          0.5264446951215576,
          0.41766832349721816,
          0.6507216349907464,
          0.5640521658407726,
          0.43662104113939815,
          0.6046010245560383,
          0.6422231188105595,
          0.4911166893276341,
          0.5780099618750802,
          0.7125687250109267,
          0.7720331218017269,
          0.1528513916435123,
          0.3460869745853882,
          0.32389593165355707,
          0.5734838213004053,
          0.6209636423545791,
          0.503741213812019,
          0.2857162588575298,
          0.8410076239089161,
          0.6532806018630285,
          0.7312517971019362,
          0.7975298345012848,
          0.8453276572068976,
          0.39633009738328945,
          0.8691648078713313,
          0.32703743920484557,
          0.6933904540558843,
          0.5037008190679723,
          0.742984324907454,
          0.4550481871709296,
          0.38579183106776627,
          0.6485639040683673,
          0.5479205372051514,
          0.7637777145311039,
          0.49206194047961094,
          0.35769824079032575,
          0.42042706224496096,
          0.5640264546203178,
          0.4669376347453882,
          0.5023245220946969,
          0.5792593291298732,
          0.7555319129953824,
          0.276048364880175,
          0.39530840674083706,
          0.8455240131336502,
          0.2081216338186276,
          0.5819026544949434,
          0.015356835431437961,
          0.7732867019475635,
          0.7042480068034442,
          0.6756753989784365,
          0.240951289742843,
          0.8504268577331056,
          0.7343573355086033,
          0.26827789558880916,
          0.349042135931469,
          0.27444223626763237,
          0.3082243349044816,
          0.26143075182703596,
          0.16912072106695164,
          0.40969596290972293,
          0.39225989121549615,
          0.2460716556521648,
          0.48825238509489316,
          0.6243363500261567,
          0.6120006072672507,
          0.7698393461520763,
          0.9243950178662643,
          0.7529008232996627,
          0.584067947351682,
          0.24728804828312226,
          0.4543121536254664,
          0.31328982092400653,
          0.6067503550631238,
          0.5624440769012096,
          0.17540477367633875,
          0.29947327607460505,
          0.7168675271101195,
          0.3816006037087142,
          0.7310249241102608,
          0.1533419315159797,
          0.414448849129135,
          0.2973409205472481,
          0.3553172121756581,
          0.4889102729683709,
          0.5896236208244102,
          0.5488408382026368,
          0.8109499239035818,
          0.38909697094043616,
          0.6177291092139223,
          0.8225074622725096,
          0.38995638611314126,
          0.6544992019801095,
          0.30606389955449737,
          0.5264482907248726,
          0.37898442843242064,
          0.7309370034026865,
          0.22395651747334655,
          0.32028647364765084,
          0.154382975749539,
          0.0010638553585313622,
          0.34507756095136227,
          0.185625836776455,
          0.5885015029163597,
          0.2097925768685861,
          0.30367895191898914,
          0.2893965233733927,
          0.2830425973417201,
          0.47549540046326577,
          0.5038621727264806,
          0.5509195647271008,
          0.0034603785153154696,
          0.7758446943554008,
          0.4356366551029238,
          0.41893763483935,
          0.4248179655556595,
          0.5166405580513523,
          0.15427697692493247,
          0.053586019441816964,
          0.5593526537638358,
          0.5455810344273107,
          0.5566570939538357,
          0.378070476187631,
          0.4626669065979543,
          0.6476330124570769,
          0.46861406966011354,
          0.6996673728548127,
          0.4266583604300756,
          0.3967104874202596,
          0.17631809505616147,
          0.6941329015238903,
          0.23446290890823218,
          0.31979926593850394,
          0.3721532092485653,
          0.6735617859161397,
          0.3488866297526655,
          0.5883529248869932,
          0.4841486980007536,
          0.3064102191987229,
          0.4953851013074865,
          0.40567904274388167,
          0.39018915100484214,
          0.40028010387007323,
          0.0006510648742398578,
          0.6464817428987035,
          0.5735489946569162,
          0.3204584985008362,
          0.4071157316502128,
          0.0802509908470654,
          0.22965244086356967,
          0.3085845605327039,
          0.7047002056380383,
          0.0740764427188843,
          0.6200084494439504,
          0.0327060762941335,
          0.45814853968417185,
          0.7329821029968914,
          0.43456869467902254,
          0.6269930641168914,
          0.6201017292433637,
          0.4197920522555377,
          0.3153547491564159,
          0.5724918211012329,
          0.5514449638873674,
          0.7191953565524656,
          0.09777566194161155,
          0.28750782138910397,
          0.33740332052802724,
          0.5961962111027421,
          0.02362775832353396,
          0.818448922832928,
          0.3821474238926237,
          0.5268618602920703,
          0.24270372092684878,
          0.3482009605325013,
          0.8535897533749884,
          0.250638677607398,
          0.1784710606364103,
          0.5630411727018525,
          0.5585988536931212,
          0.2437248135091405,
          0.2613430129458397,
          0.6380700103409311,
          0.002563896722970596,
          0.23505089062111378,
          0.6081866590479926,
          0.5085991627229302,
          0.5139808400313134,
          0.5725217333868817,
          0.2236957672325537,
          0.6838504607652581,
          0.3994335410892514,
          0.41475968749589986,
          0.271725160038854,
          0.7468415243662394,
          0.5561496638976606,
          0.4485257449911155,
          0.19551986330091872,
          0.5183907822568252,
          0.3415913244149741,
          0.5219768478391638,
          0.5134667485818277,
          0.32306946388836943,
          0.7331250374852966,
          0.8478699824930601,
          0.48313476780944237,
          0.4888307719291594,
          0.3829087283546902,
          0.2313040142562877,
          0.3341594138340101,
          0.058782743495306634,
          0.3918249040974415,
          0.6749311890463289,
          0.7953879143252951,
          0.5157334219365866,
          0.28942004018637896,
          0.6425505097219021,
          0.6666378834472253,
          0.5561330596147992,
          0.7480596464616889,
          0.4232204961638767,
          0.34824293836193243,
          0.6188010127966703,
          0.5945288720085526,
          0.7028006965146667,
          0.733782490416505,
          0.462803747016133,
          0.6214766208812403,
          0.4056601209534097,
          0.16232861930254597,
          0.7133265983284383,
          0.4146638500275731,
          0.4415841734273702,
          0.48570839049088177,
          0.24484578570209586,
          0.6885927700984713,
          0.41380509483027644,
          0.46884027965576286,
          0.798385752759362,
          0.3295421558679705,
          0.8681885925616301,
          0.2834412580162565,
          0.010286534687781505,
          0.6096877126574536,
          0.5753008182905008,
          0.41482546119374175,
          0.3150718819970336,
          0.33788922968682633,
          0.22725595435968327,
          0.4565532960558135,
          0.7865426895519154,
          0.4784128274178238,
          0.6981565871047632,
          0.16133929887999296,
          9.645439912066206e-07,
          0.3597539551805661,
          0.4290721475059719,
          0.6460583876341712,
          0.8009812881510117,
          0.5185655896730513,
          0.43273297604845756,
          0.5237002785182999,
          0.7401711317557577,
          0.5649190982429143,
          0.5498496942797699,
          0.457187828232134,
          0.21831222271088063,
          0.5017404461332311,
          0.6797102648419362,
          0.48984670036425787,
          0.5575827240777276,
          0.16851452375936896,
          0.6168062151423274,
          0.48871712077620144,
          0.24118908998559063,
          0.2121590756536322,
          0.32720096839175833,
          0.7107044271140269,
          0.7355935943064797,
          0.5281980808568895,
          0.5038556287855591,
          0.5932901496959141,
          0.28901321508233085,
          0.2298668139893755,
          0.3852329909739148,
          0.6473258616235956,
          0.6930267593744844,
          0.25264318807728264,
          0.8385985992358183,
          0.27799215456591864,
          0.378578178991851,
          0.4572270476722647,
          0.8134743329944275,
          0.8438631509159249,
          0.7876929642663162,
          0.7095331194313574,
          0.3655594810094029,
          0.44426177280660245,
          0.8042218834014172,
          0.45614374786293405,
          0.38582875041505477,
          0.1788480606463827,
          0.49695827478953736,
          0.2680359848700071,
          0.43417439739991537,
          0.24603535825630526,
          0.6742834601890298,
          0.3307588556529122,
          0.6787290037594085,
          0.5609163289642172,
          0.35190866275720145,
          0.6739739879288925,
          0.5686409415952417,
          0.560158278192539,
          0.3360271781410292,
          0.29010557355423483,
          0.7878345309472141,
          0.5012006638952474,
          0.6227094605670972,
          0.7668611625525575,
          0.5858735946150816,
          0.1815774931095309,
          0.0024461811746643016,
          0.27406224407877183,
          0.6444580039073916,
          0.5861251205014746,
          0.8318223206223806,
          0.5842062551425956,
          0.208729296481669,
          0.7924015952667713,
          0.5203260213495929,
          0.339977526316517,
          0.7515263398435127,
          0.14266676018256147
         ]
        }
       ],
       "layout": {
        "autosize": false,
        "height": 800,
        "legend": {
         "font": {
          "size": 16
         },
         "x": 0.97,
         "xanchor": "right",
         "y": 0.97,
         "yanchor": "top"
        },
        "template": {
         "data": {
          "bar": [
           {
            "error_x": {
             "color": "#2a3f5f"
            },
            "error_y": {
             "color": "#2a3f5f"
            },
            "marker": {
             "line": {
              "color": "#E5ECF6",
              "width": 0.5
             },
             "pattern": {
              "fillmode": "overlay",
              "size": 10,
              "solidity": 0.2
             }
            },
            "type": "bar"
           }
          ],
          "barpolar": [
           {
            "marker": {
             "line": {
              "color": "#E5ECF6",
              "width": 0.5
             },
             "pattern": {
              "fillmode": "overlay",
              "size": 10,
              "solidity": 0.2
             }
            },
            "type": "barpolar"
           }
          ],
          "carpet": [
           {
            "aaxis": {
             "endlinecolor": "#2a3f5f",
             "gridcolor": "white",
             "linecolor": "white",
             "minorgridcolor": "white",
             "startlinecolor": "#2a3f5f"
            },
            "baxis": {
             "endlinecolor": "#2a3f5f",
             "gridcolor": "white",
             "linecolor": "white",
             "minorgridcolor": "white",
             "startlinecolor": "#2a3f5f"
            },
            "type": "carpet"
           }
          ],
          "choropleth": [
           {
            "colorbar": {
             "outlinewidth": 0,
             "ticks": ""
            },
            "type": "choropleth"
           }
          ],
          "contour": [
           {
            "colorbar": {
             "outlinewidth": 0,
             "ticks": ""
            },
            "colorscale": [
             [
              0,
              "#0d0887"
             ],
             [
              0.1111111111111111,
              "#46039f"
             ],
             [
              0.2222222222222222,
              "#7201a8"
             ],
             [
              0.3333333333333333,
              "#9c179e"
             ],
             [
              0.4444444444444444,
              "#bd3786"
             ],
             [
              0.5555555555555556,
              "#d8576b"
             ],
             [
              0.6666666666666666,
              "#ed7953"
             ],
             [
              0.7777777777777778,
              "#fb9f3a"
             ],
             [
              0.8888888888888888,
              "#fdca26"
             ],
             [
              1,
              "#f0f921"
             ]
            ],
            "type": "contour"
           }
          ],
          "contourcarpet": [
           {
            "colorbar": {
             "outlinewidth": 0,
             "ticks": ""
            },
            "type": "contourcarpet"
           }
          ],
          "heatmap": [
           {
            "colorbar": {
             "outlinewidth": 0,
             "ticks": ""
            },
            "colorscale": [
             [
              0,
              "#0d0887"
             ],
             [
              0.1111111111111111,
              "#46039f"
             ],
             [
              0.2222222222222222,
              "#7201a8"
             ],
             [
              0.3333333333333333,
              "#9c179e"
             ],
             [
              0.4444444444444444,
              "#bd3786"
             ],
             [
              0.5555555555555556,
              "#d8576b"
             ],
             [
              0.6666666666666666,
              "#ed7953"
             ],
             [
              0.7777777777777778,
              "#fb9f3a"
             ],
             [
              0.8888888888888888,
              "#fdca26"
             ],
             [
              1,
              "#f0f921"
             ]
            ],
            "type": "heatmap"
           }
          ],
          "heatmapgl": [
           {
            "colorbar": {
             "outlinewidth": 0,
             "ticks": ""
            },
            "colorscale": [
             [
              0,
              "#0d0887"
             ],
             [
              0.1111111111111111,
              "#46039f"
             ],
             [
              0.2222222222222222,
              "#7201a8"
             ],
             [
              0.3333333333333333,
              "#9c179e"
             ],
             [
              0.4444444444444444,
              "#bd3786"
             ],
             [
              0.5555555555555556,
              "#d8576b"
             ],
             [
              0.6666666666666666,
              "#ed7953"
             ],
             [
              0.7777777777777778,
              "#fb9f3a"
             ],
             [
              0.8888888888888888,
              "#fdca26"
             ],
             [
              1,
              "#f0f921"
             ]
            ],
            "type": "heatmapgl"
           }
          ],
          "histogram": [
           {
            "marker": {
             "pattern": {
              "fillmode": "overlay",
              "size": 10,
              "solidity": 0.2
             }
            },
            "type": "histogram"
           }
          ],
          "histogram2d": [
           {
            "colorbar": {
             "outlinewidth": 0,
             "ticks": ""
            },
            "colorscale": [
             [
              0,
              "#0d0887"
             ],
             [
              0.1111111111111111,
              "#46039f"
             ],
             [
              0.2222222222222222,
              "#7201a8"
             ],
             [
              0.3333333333333333,
              "#9c179e"
             ],
             [
              0.4444444444444444,
              "#bd3786"
             ],
             [
              0.5555555555555556,
              "#d8576b"
             ],
             [
              0.6666666666666666,
              "#ed7953"
             ],
             [
              0.7777777777777778,
              "#fb9f3a"
             ],
             [
              0.8888888888888888,
              "#fdca26"
             ],
             [
              1,
              "#f0f921"
             ]
            ],
            "type": "histogram2d"
           }
          ],
          "histogram2dcontour": [
           {
            "colorbar": {
             "outlinewidth": 0,
             "ticks": ""
            },
            "colorscale": [
             [
              0,
              "#0d0887"
             ],
             [
              0.1111111111111111,
              "#46039f"
             ],
             [
              0.2222222222222222,
              "#7201a8"
             ],
             [
              0.3333333333333333,
              "#9c179e"
             ],
             [
              0.4444444444444444,
              "#bd3786"
             ],
             [
              0.5555555555555556,
              "#d8576b"
             ],
             [
              0.6666666666666666,
              "#ed7953"
             ],
             [
              0.7777777777777778,
              "#fb9f3a"
             ],
             [
              0.8888888888888888,
              "#fdca26"
             ],
             [
              1,
              "#f0f921"
             ]
            ],
            "type": "histogram2dcontour"
           }
          ],
          "mesh3d": [
           {
            "colorbar": {
             "outlinewidth": 0,
             "ticks": ""
            },
            "type": "mesh3d"
           }
          ],
          "parcoords": [
           {
            "line": {
             "colorbar": {
              "outlinewidth": 0,
              "ticks": ""
             }
            },
            "type": "parcoords"
           }
          ],
          "pie": [
           {
            "automargin": true,
            "type": "pie"
           }
          ],
          "scatter": [
           {
            "fillpattern": {
             "fillmode": "overlay",
             "size": 10,
             "solidity": 0.2
            },
            "type": "scatter"
           }
          ],
          "scatter3d": [
           {
            "line": {
             "colorbar": {
              "outlinewidth": 0,
              "ticks": ""
             }
            },
            "marker": {
             "colorbar": {
              "outlinewidth": 0,
              "ticks": ""
             }
            },
            "type": "scatter3d"
           }
          ],
          "scattercarpet": [
           {
            "marker": {
             "colorbar": {
              "outlinewidth": 0,
              "ticks": ""
             }
            },
            "type": "scattercarpet"
           }
          ],
          "scattergeo": [
           {
            "marker": {
             "colorbar": {
              "outlinewidth": 0,
              "ticks": ""
             }
            },
            "type": "scattergeo"
           }
          ],
          "scattergl": [
           {
            "marker": {
             "colorbar": {
              "outlinewidth": 0,
              "ticks": ""
             }
            },
            "type": "scattergl"
           }
          ],
          "scattermapbox": [
           {
            "marker": {
             "colorbar": {
              "outlinewidth": 0,
              "ticks": ""
             }
            },
            "type": "scattermapbox"
           }
          ],
          "scatterpolar": [
           {
            "marker": {
             "colorbar": {
              "outlinewidth": 0,
              "ticks": ""
             }
            },
            "type": "scatterpolar"
           }
          ],
          "scatterpolargl": [
           {
            "marker": {
             "colorbar": {
              "outlinewidth": 0,
              "ticks": ""
             }
            },
            "type": "scatterpolargl"
           }
          ],
          "scatterternary": [
           {
            "marker": {
             "colorbar": {
              "outlinewidth": 0,
              "ticks": ""
             }
            },
            "type": "scatterternary"
           }
          ],
          "surface": [
           {
            "colorbar": {
             "outlinewidth": 0,
             "ticks": ""
            },
            "colorscale": [
             [
              0,
              "#0d0887"
             ],
             [
              0.1111111111111111,
              "#46039f"
             ],
             [
              0.2222222222222222,
              "#7201a8"
             ],
             [
              0.3333333333333333,
              "#9c179e"
             ],
             [
              0.4444444444444444,
              "#bd3786"
             ],
             [
              0.5555555555555556,
              "#d8576b"
             ],
             [
              0.6666666666666666,
              "#ed7953"
             ],
             [
              0.7777777777777778,
              "#fb9f3a"
             ],
             [
              0.8888888888888888,
              "#fdca26"
             ],
             [
              1,
              "#f0f921"
             ]
            ],
            "type": "surface"
           }
          ],
          "table": [
           {
            "cells": {
             "fill": {
              "color": "#EBF0F8"
             },
             "line": {
              "color": "white"
             }
            },
            "header": {
             "fill": {
              "color": "#C8D4E3"
             },
             "line": {
              "color": "white"
             }
            },
            "type": "table"
           }
          ]
         },
         "layout": {
          "annotationdefaults": {
           "arrowcolor": "#2a3f5f",
           "arrowhead": 0,
           "arrowwidth": 1
          },
          "autotypenumbers": "strict",
          "coloraxis": {
           "colorbar": {
            "outlinewidth": 0,
            "ticks": ""
           }
          },
          "colorscale": {
           "diverging": [
            [
             0,
             "#8e0152"
            ],
            [
             0.1,
             "#c51b7d"
            ],
            [
             0.2,
             "#de77ae"
            ],
            [
             0.3,
             "#f1b6da"
            ],
            [
             0.4,
             "#fde0ef"
            ],
            [
             0.5,
             "#f7f7f7"
            ],
            [
             0.6,
             "#e6f5d0"
            ],
            [
             0.7,
             "#b8e186"
            ],
            [
             0.8,
             "#7fbc41"
            ],
            [
             0.9,
             "#4d9221"
            ],
            [
             1,
             "#276419"
            ]
           ],
           "sequential": [
            [
             0,
             "#0d0887"
            ],
            [
             0.1111111111111111,
             "#46039f"
            ],
            [
             0.2222222222222222,
             "#7201a8"
            ],
            [
             0.3333333333333333,
             "#9c179e"
            ],
            [
             0.4444444444444444,
             "#bd3786"
            ],
            [
             0.5555555555555556,
             "#d8576b"
            ],
            [
             0.6666666666666666,
             "#ed7953"
            ],
            [
             0.7777777777777778,
             "#fb9f3a"
            ],
            [
             0.8888888888888888,
             "#fdca26"
            ],
            [
             1,
             "#f0f921"
            ]
           ],
           "sequentialminus": [
            [
             0,
             "#0d0887"
            ],
            [
             0.1111111111111111,
             "#46039f"
            ],
            [
             0.2222222222222222,
             "#7201a8"
            ],
            [
             0.3333333333333333,
             "#9c179e"
            ],
            [
             0.4444444444444444,
             "#bd3786"
            ],
            [
             0.5555555555555556,
             "#d8576b"
            ],
            [
             0.6666666666666666,
             "#ed7953"
            ],
            [
             0.7777777777777778,
             "#fb9f3a"
            ],
            [
             0.8888888888888888,
             "#fdca26"
            ],
            [
             1,
             "#f0f921"
            ]
           ]
          },
          "colorway": [
           "#636efa",
           "#EF553B",
           "#00cc96",
           "#ab63fa",
           "#FFA15A",
           "#19d3f3",
           "#FF6692",
           "#B6E880",
           "#FF97FF",
           "#FECB52"
          ],
          "font": {
           "color": "#2a3f5f"
          },
          "geo": {
           "bgcolor": "white",
           "lakecolor": "white",
           "landcolor": "#E5ECF6",
           "showlakes": true,
           "showland": true,
           "subunitcolor": "white"
          },
          "hoverlabel": {
           "align": "left"
          },
          "hovermode": "closest",
          "mapbox": {
           "style": "light"
          },
          "paper_bgcolor": "white",
          "plot_bgcolor": "#E5ECF6",
          "polar": {
           "angularaxis": {
            "gridcolor": "white",
            "linecolor": "white",
            "ticks": ""
           },
           "bgcolor": "#E5ECF6",
           "radialaxis": {
            "gridcolor": "white",
            "linecolor": "white",
            "ticks": ""
           }
          },
          "scene": {
           "xaxis": {
            "backgroundcolor": "#E5ECF6",
            "gridcolor": "white",
            "gridwidth": 2,
            "linecolor": "white",
            "showbackground": true,
            "ticks": "",
            "zerolinecolor": "white"
           },
           "yaxis": {
            "backgroundcolor": "#E5ECF6",
            "gridcolor": "white",
            "gridwidth": 2,
            "linecolor": "white",
            "showbackground": true,
            "ticks": "",
            "zerolinecolor": "white"
           },
           "zaxis": {
            "backgroundcolor": "#E5ECF6",
            "gridcolor": "white",
            "gridwidth": 2,
            "linecolor": "white",
            "showbackground": true,
            "ticks": "",
            "zerolinecolor": "white"
           }
          },
          "shapedefaults": {
           "line": {
            "color": "#2a3f5f"
           }
          },
          "ternary": {
           "aaxis": {
            "gridcolor": "white",
            "linecolor": "white",
            "ticks": ""
           },
           "baxis": {
            "gridcolor": "white",
            "linecolor": "white",
            "ticks": ""
           },
           "bgcolor": "#E5ECF6",
           "caxis": {
            "gridcolor": "white",
            "linecolor": "white",
            "ticks": ""
           }
          },
          "title": {
           "x": 0.05
          },
          "xaxis": {
           "automargin": true,
           "gridcolor": "white",
           "linecolor": "white",
           "ticks": "",
           "title": {
            "standoff": 15
           },
           "zerolinecolor": "white",
           "zerolinewidth": 2
          },
          "yaxis": {
           "automargin": true,
           "gridcolor": "white",
           "linecolor": "white",
           "ticks": "",
           "title": {
            "standoff": 15
           },
           "zerolinecolor": "white",
           "zerolinewidth": 2
          }
         }
        },
        "title": {
         "font": {
          "size": 34
         },
         "text": "Staging - Boxplots",
         "x": 0.5
        },
        "width": 1000,
        "xaxis": {
         "dtick": 0.1,
         "range": [
          -0.05,
          1
         ],
         "tick0": 0,
         "tickfont": {
          "size": 14
         },
         "tickmode": "linear",
         "title": {
          "font": {
           "size": 18
          },
          "text": "Disease Stage"
         }
        },
        "yaxis": {
         "tickfont": {
          "size": 14
         },
         "title": {
          "font": {
           "size": 18
          },
          "text": "Diagnosis"
         }
        }
       }
      },
      "text/html": [
       "<div>                            <div id=\"8aa89c8b-a63f-4ce9-ae35-3e38aba019f5\" class=\"plotly-graph-div\" style=\"height:800px; width:1000px;\"></div>            <script type=\"text/javascript\">                require([\"plotly\"], function(Plotly) {                    window.PLOTLYENV=window.PLOTLYENV || {};                                    if (document.getElementById(\"8aa89c8b-a63f-4ce9-ae35-3e38aba019f5\")) {                    Plotly.newPlot(                        \"8aa89c8b-a63f-4ce9-ae35-3e38aba019f5\",                        [{\"fillcolor\":\"#4daf4a\",\"line\":{\"color\":\"#000000\"},\"name\":\"Control\",\"x\":[0.0,0.0,0.0,0.0,0.0,0.0,0.0,0.0,0.0,0.0,0.0,0.0,0.0,0.0,0.0,0.0,0.0,0.0,0.0,0.0,0.0,0.0,0.0,0.0,0.0,0.0,0.0,0.0,0.0,0.0,0.0,0.0,0.0,0.0,0.0,0.0,0.0,0.0,0.0,0.0,0.0,0.0,0.0,0.0,0.0,0.0,0.0,0.0,0.0,0.0,0.0,0.0,0.0,0.0,0.0,0.0,0.0,0.0,0.0,0.0,0.0,0.0,0.0,0.0,0.0,0.0,0.0,0.0,0.0,0.0,0.0,0.0,0.0,0.0,0.0,0.0,0.0,0.0,0.0,0.0,0.0,0.0,0.0,0.0,0.0,0.0,0.0,0.0,0.0,0.0,0.0,0.0,0.0,0.0,0.0,0.0,0.0,0.0,0.0,0.0,0.0,0.0,0.0,0.0,0.0,0.0,0.0,0.0,0.0,0.0,0.0,0.0,0.0,0.0,0.0,0.0,0.0,0.0,0.0,0.0,0.0,0.0,0.0,0.0,0.0,0.0,0.0,0.0,0.0,0.0,0.0,0.0,0.0,0.0,0.0,0.0,0.0,0.0,0.0,0.0,0.0,0.0,0.0,0.0,0.0,0.0,0.0,0.0,0.0,0.0,0.0,0.0,0.0,0.0,0.0,0.0,0.0,0.0,0.0,0.0,0.0,0.0,0.0,0.0,0.0,0.0,0.0,0.0,0.0,0.0,0.0,0.0,0.0,0.0,0.0,0.0,0.0,0.0,0.0,0.0,0.0,0.0,0.0,0.0,0.0,0.0,0.0,0.0,0.0,0.0,0.0,0.0,0.0,0.0,0.0,0.0,0.0,0.0,0.0,0.0,0.0,0.0,0.0,0.0,0.0,0.0,0.0,0.0,0.0,0.0,0.0,0.0,0.0,0.0,0.0,0.0,0.0,0.0,0.0,0.0,0.0,0.0,0.0,0.0,0.0,0.0,0.0,0.0,0.0,0.0,0.0,0.0,0.0,0.0,0.0,0.0,0.0,0.0,0.0,0.0,0.0,0.0,0.0,0.0,0.0,0.0,0.0,0.0,0.0,0.0,0.0,0.0,0.0,0.0,0.0,0.0,0.0,0.0,0.0,0.0,0.0,0.0,0.0,0.0,0.0,0.0,0.0,0.0,0.0,0.0,0.0,0.0,0.0,0.0,0.0,0.0,0.0,0.0,0.0,0.0,0.0,0.0,0.0,0.0,0.0,0.0,0.0,0.0,0.0,0.0,0.0,0.0,0.0,0.0,0.0,0.0,0.0,0.0,0.0,0.0,0.0,0.0,0.0,0.0,0.0,0.0,0.0,0.0,0.0,0.0,0.0,0.0,0.0,0.0,0.0,0.0,0.0,0.0,0.0,0.0,0.0,0.0,0.0,0.0,0.0,0.0,0.0,0.0,0.0,0.0,0.0,0.0,0.0,0.0,0.0,0.0,0.0,0.0,0.0,0.0,0.0,0.0,0.0,0.0,0.0,0.0,0.0,0.0,0.0,0.0,0.0,0.0,0.0,0.0,0.0,0.0,0.0,0.0,0.0,0.0,0.0,0.0,0.0,0.0,0.0,0.0,0.0,0.0,0.0,0.0,0.0,0.0,0.0,0.0,0.0,0.0,0.0,0.0,0.0,0.0,0.0,0.0,0.0,0.0,0.0,0.0,0.0,0.0,0.0,0.0,0.0,0.0,0.0,0.0,0.0,0.0,0.0,0.0,0.0,0.0,0.0,0.0,0.0,0.0,0.0,0.0,0.0,0.0,0.0,0.0,0.0,0.0,0.0,0.0,0.0,0.0,0.0,0.0,0.0,0.0,0.0,0.0,0.0,0.0,0.0,0.0,0.0,0.0,0.0,0.0,0.0,0.0,0.0,0.0,0.0,0.0,0.0,0.0,0.0,0.0,0.0,0.0,0.0,0.0,0.0,0.0,0.0,0.0,0.0,0.0,0.0,0.0,0.0,0.0,0.0,0.0,0.0,0.0,0.0,0.0,0.0,0.0,0.0,0.0,0.0,0.0,0.0,0.0,0.0,0.0,0.0,0.0,0.0,0.0,0.0,0.0,0.0,0.0,0.0,0.0,0.0,0.0,0.0,0.0,0.0,0.0,0.0,0.0,0.0,0.0,0.0,0.0,0.0,0.0,0.0,0.0,0.0,0.0,0.0,0.0,0.0,0.0,0.0,0.0,0.0,0.0,0.0,0.0,0.0,0.0,0.0,0.0,0.0,0.0,0.0,0.0,0.0,0.0,0.0,0.0,0.0,0.0,0.0,0.0,0.0,0.0,0.0,0.0,0.0,0.0,0.0,0.0,0.0,0.0,0.0,0.0,0.0,0.0,0.0,0.0,0.0,0.0,0.0,0.0,0.0,0.0,0.0,0.0,0.0,0.0,0.0,0.0,0.0,0.0,0.0,0.0,0.0,0.0,0.0,0.0,0.0,0.0,0.0,0.0,0.0,0.0,0.0,0.0,0.0,0.0,0.0,0.0,0.0,0.0,0.0,0.0,0.0,0.0,0.0,0.0,0.0,0.0,0.0,0.0,0.0,0.0,0.0,0.0,0.0,0.0,0.0,0.0,0.0,0.0,0.0,0.0,0.0,0.0,0.0,0.0,0.0,0.0,0.0,0.0,0.0,0.0,0.0,0.0,0.0,0.0,0.0,0.0,0.0,0.0,0.0,0.0,0.0,0.0,0.0,0.0,0.0,0.0,0.0,0.0,0.0,0.0,0.0,0.0,0.0,0.0,0.0,0.0,0.0,0.0,0.0,0.0,0.0,0.0,0.0,0.0,0.0,0.0,0.0,0.0,0.0,0.0,0.0,0.0,0.0,0.0,0.0,0.0,0.0,0.0,0.0,0.0,0.0,0.0,0.0,0.0,0.0,0.0,0.0,0.0,0.0,0.0,0.0,0.0,0.0,0.0,0.0,0.0,0.0,0.0,0.0,0.0,0.0,0.0,0.0,0.0,0.0],\"type\":\"box\",\"boxpoints\":\"all\",\"jitter\":0},{\"fillcolor\":\"#377eb8\",\"line\":{\"color\":\"#000000\"},\"name\":\"FTD\",\"x\":[0.6449685657785498,0.6590619603873156,0.6319436420219753,0.8634197046981563,0.6437849097615216,0.8449854419226479,0.6666270474081025,0.6489529825568414,0.420366025247966,0.5693724916028124,0.712554459551869,0.26264319009880077,0.7153592519543716,0.8540999650283891,0.4877008204761825,0.31537106183612,0.4536457127413268,0.41540390168555136,0.43270497032342714,0.40747314999386064,0.836810752581152,0.9122396704889625,0.6889522819031294,0.5742612750704278,0.3116848258211178,0.5664796913469416,0.6100029706469662,0.7964134882924317,0.2772689089376184,0.7260574846062734,0.3854436903138692,0.3739769182584946,0.4213226511450717,0.8178593513911204,0.7590364120418589,0.21708225937703846,0.2062164528642152,0.4650903289459059,0.5268586987305922,0.8579378909336371,0.7077006386249364,0.7996779030818512,0.03494355090897148,0.568625757174977,0.41773677634851536,0.5891533442064718,0.7843827421760664,0.32243665610362493,0.45184738078807823,0.3878259644087224,0.28957068040173534,0.787651002111678,0.5149666275205809,0.6917477748901232,0.28849813534923846,0.4052696222925299,0.5666558055144478,0.7980528683738982,0.5116675176067327,0.7283984869049175,0.7847095685999108,0.686138125393673,0.7196023071620539,0.4162775289575352,0.227984318344684,0.5264446951215576,0.41766832349721816,0.6507216349907464,0.5640521658407726,0.43662104113939815,0.6046010245560383,0.6422231188105595,0.4911166893276341,0.5780099618750802,0.7125687250109267,0.7720331218017269,0.1528513916435123,0.3460869745853882,0.32389593165355707,0.5734838213004053,0.6209636423545791,0.503741213812019,0.2857162588575298,0.8410076239089161,0.6532806018630285,0.7312517971019362,0.7975298345012848,0.8453276572068976,0.39633009738328945,0.8691648078713313,0.32703743920484557,0.6933904540558843,0.5037008190679723,0.742984324907454,0.4550481871709296,0.38579183106776627,0.6485639040683673,0.5479205372051514,0.7637777145311039,0.49206194047961094,0.35769824079032575,0.42042706224496096,0.5640264546203178,0.4669376347453882,0.5023245220946969,0.5792593291298732,0.7555319129953824,0.276048364880175,0.39530840674083706,0.8455240131336502,0.2081216338186276,0.5819026544949434,0.015356835431437961,0.7732867019475635,0.7042480068034442,0.6756753989784365,0.240951289742843,0.8504268577331056,0.7343573355086033,0.26827789558880916,0.349042135931469,0.27444223626763237,0.3082243349044816,0.26143075182703596,0.16912072106695164,0.40969596290972293,0.39225989121549615,0.2460716556521648,0.48825238509489316,0.6243363500261567,0.6120006072672507,0.7698393461520763,0.9243950178662643,0.7529008232996627,0.584067947351682,0.24728804828312226,0.4543121536254664,0.31328982092400653,0.6067503550631238,0.5624440769012096,0.17540477367633875,0.29947327607460505,0.7168675271101195,0.3816006037087142,0.7310249241102608,0.1533419315159797,0.414448849129135,0.2973409205472481,0.3553172121756581,0.4889102729683709,0.5896236208244102,0.5488408382026368,0.8109499239035818,0.38909697094043616,0.6177291092139223,0.8225074622725096,0.38995638611314126,0.6544992019801095,0.30606389955449737,0.5264482907248726,0.37898442843242064,0.7309370034026865,0.22395651747334655,0.32028647364765084,0.154382975749539,0.0010638553585313622,0.34507756095136227,0.185625836776455,0.5885015029163597,0.2097925768685861,0.30367895191898914,0.2893965233733927,0.2830425973417201,0.47549540046326577,0.5038621727264806,0.5509195647271008,0.0034603785153154696,0.7758446943554008,0.4356366551029238,0.41893763483935,0.4248179655556595,0.5166405580513523,0.15427697692493247,0.053586019441816964,0.5593526537638358,0.5455810344273107,0.5566570939538357,0.378070476187631,0.4626669065979543,0.6476330124570769,0.46861406966011354,0.6996673728548127,0.4266583604300756,0.3967104874202596,0.17631809505616147,0.6941329015238903,0.23446290890823218,0.31979926593850394,0.3721532092485653,0.6735617859161397,0.3488866297526655,0.5883529248869932,0.4841486980007536,0.3064102191987229,0.4953851013074865,0.40567904274388167,0.39018915100484214,0.40028010387007323,0.0006510648742398578,0.6464817428987035,0.5735489946569162,0.3204584985008362,0.4071157316502128,0.0802509908470654,0.22965244086356967,0.3085845605327039,0.7047002056380383,0.0740764427188843,0.6200084494439504,0.0327060762941335,0.45814853968417185,0.7329821029968914,0.43456869467902254,0.6269930641168914,0.6201017292433637,0.4197920522555377,0.3153547491564159,0.5724918211012329,0.5514449638873674,0.7191953565524656,0.09777566194161155,0.28750782138910397,0.33740332052802724,0.5961962111027421,0.02362775832353396,0.818448922832928,0.3821474238926237,0.5268618602920703,0.24270372092684878,0.3482009605325013,0.8535897533749884,0.250638677607398,0.1784710606364103,0.5630411727018525,0.5585988536931212,0.2437248135091405,0.2613430129458397,0.6380700103409311,0.002563896722970596,0.23505089062111378,0.6081866590479926,0.5085991627229302,0.5139808400313134,0.5725217333868817,0.2236957672325537,0.6838504607652581,0.3994335410892514,0.41475968749589986,0.271725160038854,0.7468415243662394,0.5561496638976606,0.4485257449911155,0.19551986330091872,0.5183907822568252,0.3415913244149741,0.5219768478391638,0.5134667485818277,0.32306946388836943,0.7331250374852966,0.8478699824930601,0.48313476780944237,0.4888307719291594,0.3829087283546902,0.2313040142562877,0.3341594138340101,0.058782743495306634,0.3918249040974415,0.6749311890463289,0.7953879143252951,0.5157334219365866,0.28942004018637896,0.6425505097219021,0.6666378834472253,0.5561330596147992,0.7480596464616889,0.4232204961638767,0.34824293836193243,0.6188010127966703,0.5945288720085526,0.7028006965146667,0.733782490416505,0.462803747016133,0.6214766208812403,0.4056601209534097,0.16232861930254597,0.7133265983284383,0.4146638500275731,0.4415841734273702,0.48570839049088177,0.24484578570209586,0.6885927700984713,0.41380509483027644,0.46884027965576286,0.798385752759362,0.3295421558679705,0.8681885925616301,0.2834412580162565,0.010286534687781505,0.6096877126574536,0.5753008182905008,0.41482546119374175,0.3150718819970336,0.33788922968682633,0.22725595435968327,0.4565532960558135,0.7865426895519154,0.4784128274178238,0.6981565871047632,0.16133929887999296,9.645439912066206e-07,0.3597539551805661,0.4290721475059719,0.6460583876341712,0.8009812881510117,0.5185655896730513,0.43273297604845756,0.5237002785182999,0.7401711317557577,0.5649190982429143,0.5498496942797699,0.457187828232134,0.21831222271088063,0.5017404461332311,0.6797102648419362,0.48984670036425787,0.5575827240777276,0.16851452375936896,0.6168062151423274,0.48871712077620144,0.24118908998559063,0.2121590756536322,0.32720096839175833,0.7107044271140269,0.7355935943064797,0.5281980808568895,0.5038556287855591,0.5932901496959141,0.28901321508233085,0.2298668139893755,0.3852329909739148,0.6473258616235956,0.6930267593744844,0.25264318807728264,0.8385985992358183,0.27799215456591864,0.378578178991851,0.4572270476722647,0.8134743329944275,0.8438631509159249,0.7876929642663162,0.7095331194313574,0.3655594810094029,0.44426177280660245,0.8042218834014172,0.45614374786293405,0.38582875041505477,0.1788480606463827,0.49695827478953736,0.2680359848700071,0.43417439739991537,0.24603535825630526,0.6742834601890298,0.3307588556529122,0.6787290037594085,0.5609163289642172,0.35190866275720145,0.6739739879288925,0.5686409415952417,0.560158278192539,0.3360271781410292,0.29010557355423483,0.7878345309472141,0.5012006638952474,0.6227094605670972,0.7668611625525575,0.5858735946150816,0.1815774931095309,0.0024461811746643016,0.27406224407877183,0.6444580039073916,0.5861251205014746,0.8318223206223806,0.5842062551425956,0.208729296481669,0.7924015952667713,0.5203260213495929,0.339977526316517,0.7515263398435127,0.14266676018256147],\"type\":\"box\",\"boxpoints\":\"all\",\"jitter\":0}],                        {\"template\":{\"data\":{\"histogram2dcontour\":[{\"type\":\"histogram2dcontour\",\"colorbar\":{\"outlinewidth\":0,\"ticks\":\"\"},\"colorscale\":[[0.0,\"#0d0887\"],[0.1111111111111111,\"#46039f\"],[0.2222222222222222,\"#7201a8\"],[0.3333333333333333,\"#9c179e\"],[0.4444444444444444,\"#bd3786\"],[0.5555555555555556,\"#d8576b\"],[0.6666666666666666,\"#ed7953\"],[0.7777777777777778,\"#fb9f3a\"],[0.8888888888888888,\"#fdca26\"],[1.0,\"#f0f921\"]]}],\"choropleth\":[{\"type\":\"choropleth\",\"colorbar\":{\"outlinewidth\":0,\"ticks\":\"\"}}],\"histogram2d\":[{\"type\":\"histogram2d\",\"colorbar\":{\"outlinewidth\":0,\"ticks\":\"\"},\"colorscale\":[[0.0,\"#0d0887\"],[0.1111111111111111,\"#46039f\"],[0.2222222222222222,\"#7201a8\"],[0.3333333333333333,\"#9c179e\"],[0.4444444444444444,\"#bd3786\"],[0.5555555555555556,\"#d8576b\"],[0.6666666666666666,\"#ed7953\"],[0.7777777777777778,\"#fb9f3a\"],[0.8888888888888888,\"#fdca26\"],[1.0,\"#f0f921\"]]}],\"heatmap\":[{\"type\":\"heatmap\",\"colorbar\":{\"outlinewidth\":0,\"ticks\":\"\"},\"colorscale\":[[0.0,\"#0d0887\"],[0.1111111111111111,\"#46039f\"],[0.2222222222222222,\"#7201a8\"],[0.3333333333333333,\"#9c179e\"],[0.4444444444444444,\"#bd3786\"],[0.5555555555555556,\"#d8576b\"],[0.6666666666666666,\"#ed7953\"],[0.7777777777777778,\"#fb9f3a\"],[0.8888888888888888,\"#fdca26\"],[1.0,\"#f0f921\"]]}],\"heatmapgl\":[{\"type\":\"heatmapgl\",\"colorbar\":{\"outlinewidth\":0,\"ticks\":\"\"},\"colorscale\":[[0.0,\"#0d0887\"],[0.1111111111111111,\"#46039f\"],[0.2222222222222222,\"#7201a8\"],[0.3333333333333333,\"#9c179e\"],[0.4444444444444444,\"#bd3786\"],[0.5555555555555556,\"#d8576b\"],[0.6666666666666666,\"#ed7953\"],[0.7777777777777778,\"#fb9f3a\"],[0.8888888888888888,\"#fdca26\"],[1.0,\"#f0f921\"]]}],\"contourcarpet\":[{\"type\":\"contourcarpet\",\"colorbar\":{\"outlinewidth\":0,\"ticks\":\"\"}}],\"contour\":[{\"type\":\"contour\",\"colorbar\":{\"outlinewidth\":0,\"ticks\":\"\"},\"colorscale\":[[0.0,\"#0d0887\"],[0.1111111111111111,\"#46039f\"],[0.2222222222222222,\"#7201a8\"],[0.3333333333333333,\"#9c179e\"],[0.4444444444444444,\"#bd3786\"],[0.5555555555555556,\"#d8576b\"],[0.6666666666666666,\"#ed7953\"],[0.7777777777777778,\"#fb9f3a\"],[0.8888888888888888,\"#fdca26\"],[1.0,\"#f0f921\"]]}],\"surface\":[{\"type\":\"surface\",\"colorbar\":{\"outlinewidth\":0,\"ticks\":\"\"},\"colorscale\":[[0.0,\"#0d0887\"],[0.1111111111111111,\"#46039f\"],[0.2222222222222222,\"#7201a8\"],[0.3333333333333333,\"#9c179e\"],[0.4444444444444444,\"#bd3786\"],[0.5555555555555556,\"#d8576b\"],[0.6666666666666666,\"#ed7953\"],[0.7777777777777778,\"#fb9f3a\"],[0.8888888888888888,\"#fdca26\"],[1.0,\"#f0f921\"]]}],\"mesh3d\":[{\"type\":\"mesh3d\",\"colorbar\":{\"outlinewidth\":0,\"ticks\":\"\"}}],\"scatter\":[{\"fillpattern\":{\"fillmode\":\"overlay\",\"size\":10,\"solidity\":0.2},\"type\":\"scatter\"}],\"parcoords\":[{\"type\":\"parcoords\",\"line\":{\"colorbar\":{\"outlinewidth\":0,\"ticks\":\"\"}}}],\"scatterpolargl\":[{\"type\":\"scatterpolargl\",\"marker\":{\"colorbar\":{\"outlinewidth\":0,\"ticks\":\"\"}}}],\"bar\":[{\"error_x\":{\"color\":\"#2a3f5f\"},\"error_y\":{\"color\":\"#2a3f5f\"},\"marker\":{\"line\":{\"color\":\"#E5ECF6\",\"width\":0.5},\"pattern\":{\"fillmode\":\"overlay\",\"size\":10,\"solidity\":0.2}},\"type\":\"bar\"}],\"scattergeo\":[{\"type\":\"scattergeo\",\"marker\":{\"colorbar\":{\"outlinewidth\":0,\"ticks\":\"\"}}}],\"scatterpolar\":[{\"type\":\"scatterpolar\",\"marker\":{\"colorbar\":{\"outlinewidth\":0,\"ticks\":\"\"}}}],\"histogram\":[{\"marker\":{\"pattern\":{\"fillmode\":\"overlay\",\"size\":10,\"solidity\":0.2}},\"type\":\"histogram\"}],\"scattergl\":[{\"type\":\"scattergl\",\"marker\":{\"colorbar\":{\"outlinewidth\":0,\"ticks\":\"\"}}}],\"scatter3d\":[{\"type\":\"scatter3d\",\"line\":{\"colorbar\":{\"outlinewidth\":0,\"ticks\":\"\"}},\"marker\":{\"colorbar\":{\"outlinewidth\":0,\"ticks\":\"\"}}}],\"scattermapbox\":[{\"type\":\"scattermapbox\",\"marker\":{\"colorbar\":{\"outlinewidth\":0,\"ticks\":\"\"}}}],\"scatterternary\":[{\"type\":\"scatterternary\",\"marker\":{\"colorbar\":{\"outlinewidth\":0,\"ticks\":\"\"}}}],\"scattercarpet\":[{\"type\":\"scattercarpet\",\"marker\":{\"colorbar\":{\"outlinewidth\":0,\"ticks\":\"\"}}}],\"carpet\":[{\"aaxis\":{\"endlinecolor\":\"#2a3f5f\",\"gridcolor\":\"white\",\"linecolor\":\"white\",\"minorgridcolor\":\"white\",\"startlinecolor\":\"#2a3f5f\"},\"baxis\":{\"endlinecolor\":\"#2a3f5f\",\"gridcolor\":\"white\",\"linecolor\":\"white\",\"minorgridcolor\":\"white\",\"startlinecolor\":\"#2a3f5f\"},\"type\":\"carpet\"}],\"table\":[{\"cells\":{\"fill\":{\"color\":\"#EBF0F8\"},\"line\":{\"color\":\"white\"}},\"header\":{\"fill\":{\"color\":\"#C8D4E3\"},\"line\":{\"color\":\"white\"}},\"type\":\"table\"}],\"barpolar\":[{\"marker\":{\"line\":{\"color\":\"#E5ECF6\",\"width\":0.5},\"pattern\":{\"fillmode\":\"overlay\",\"size\":10,\"solidity\":0.2}},\"type\":\"barpolar\"}],\"pie\":[{\"automargin\":true,\"type\":\"pie\"}]},\"layout\":{\"autotypenumbers\":\"strict\",\"colorway\":[\"#636efa\",\"#EF553B\",\"#00cc96\",\"#ab63fa\",\"#FFA15A\",\"#19d3f3\",\"#FF6692\",\"#B6E880\",\"#FF97FF\",\"#FECB52\"],\"font\":{\"color\":\"#2a3f5f\"},\"hovermode\":\"closest\",\"hoverlabel\":{\"align\":\"left\"},\"paper_bgcolor\":\"white\",\"plot_bgcolor\":\"#E5ECF6\",\"polar\":{\"bgcolor\":\"#E5ECF6\",\"angularaxis\":{\"gridcolor\":\"white\",\"linecolor\":\"white\",\"ticks\":\"\"},\"radialaxis\":{\"gridcolor\":\"white\",\"linecolor\":\"white\",\"ticks\":\"\"}},\"ternary\":{\"bgcolor\":\"#E5ECF6\",\"aaxis\":{\"gridcolor\":\"white\",\"linecolor\":\"white\",\"ticks\":\"\"},\"baxis\":{\"gridcolor\":\"white\",\"linecolor\":\"white\",\"ticks\":\"\"},\"caxis\":{\"gridcolor\":\"white\",\"linecolor\":\"white\",\"ticks\":\"\"}},\"coloraxis\":{\"colorbar\":{\"outlinewidth\":0,\"ticks\":\"\"}},\"colorscale\":{\"sequential\":[[0.0,\"#0d0887\"],[0.1111111111111111,\"#46039f\"],[0.2222222222222222,\"#7201a8\"],[0.3333333333333333,\"#9c179e\"],[0.4444444444444444,\"#bd3786\"],[0.5555555555555556,\"#d8576b\"],[0.6666666666666666,\"#ed7953\"],[0.7777777777777778,\"#fb9f3a\"],[0.8888888888888888,\"#fdca26\"],[1.0,\"#f0f921\"]],\"sequentialminus\":[[0.0,\"#0d0887\"],[0.1111111111111111,\"#46039f\"],[0.2222222222222222,\"#7201a8\"],[0.3333333333333333,\"#9c179e\"],[0.4444444444444444,\"#bd3786\"],[0.5555555555555556,\"#d8576b\"],[0.6666666666666666,\"#ed7953\"],[0.7777777777777778,\"#fb9f3a\"],[0.8888888888888888,\"#fdca26\"],[1.0,\"#f0f921\"]],\"diverging\":[[0,\"#8e0152\"],[0.1,\"#c51b7d\"],[0.2,\"#de77ae\"],[0.3,\"#f1b6da\"],[0.4,\"#fde0ef\"],[0.5,\"#f7f7f7\"],[0.6,\"#e6f5d0\"],[0.7,\"#b8e186\"],[0.8,\"#7fbc41\"],[0.9,\"#4d9221\"],[1,\"#276419\"]]},\"xaxis\":{\"gridcolor\":\"white\",\"linecolor\":\"white\",\"ticks\":\"\",\"title\":{\"standoff\":15},\"zerolinecolor\":\"white\",\"automargin\":true,\"zerolinewidth\":2},\"yaxis\":{\"gridcolor\":\"white\",\"linecolor\":\"white\",\"ticks\":\"\",\"title\":{\"standoff\":15},\"zerolinecolor\":\"white\",\"automargin\":true,\"zerolinewidth\":2},\"scene\":{\"xaxis\":{\"backgroundcolor\":\"#E5ECF6\",\"gridcolor\":\"white\",\"linecolor\":\"white\",\"showbackground\":true,\"ticks\":\"\",\"zerolinecolor\":\"white\",\"gridwidth\":2},\"yaxis\":{\"backgroundcolor\":\"#E5ECF6\",\"gridcolor\":\"white\",\"linecolor\":\"white\",\"showbackground\":true,\"ticks\":\"\",\"zerolinecolor\":\"white\",\"gridwidth\":2},\"zaxis\":{\"backgroundcolor\":\"#E5ECF6\",\"gridcolor\":\"white\",\"linecolor\":\"white\",\"showbackground\":true,\"ticks\":\"\",\"zerolinecolor\":\"white\",\"gridwidth\":2}},\"shapedefaults\":{\"line\":{\"color\":\"#2a3f5f\"}},\"annotationdefaults\":{\"arrowcolor\":\"#2a3f5f\",\"arrowhead\":0,\"arrowwidth\":1},\"geo\":{\"bgcolor\":\"white\",\"landcolor\":\"#E5ECF6\",\"subunitcolor\":\"white\",\"showland\":true,\"showlakes\":true,\"lakecolor\":\"white\"},\"title\":{\"x\":0.05},\"mapbox\":{\"style\":\"light\"}}},\"xaxis\":{\"range\":[-0.05,1.0],\"title\":{\"text\":\"Disease Stage\",\"font\":{\"size\":18}},\"tickmode\":\"linear\",\"tick0\":0.0,\"dtick\":0.1,\"tickfont\":{\"size\":14}},\"title\":{\"text\":\"Staging - Boxplots\",\"font\":{\"size\":34},\"x\":0.5},\"legend\":{\"font\":{\"size\":16},\"yanchor\":\"top\",\"y\":0.97,\"xanchor\":\"right\",\"x\":0.97},\"yaxis\":{\"title\":{\"text\":\"Diagnosis\",\"font\":{\"size\":18}},\"tickfont\":{\"size\":14}},\"autosize\":false,\"width\":1000,\"height\":800},                        {\"responsive\": true}                    ).then(function(){\n",
       "                            \n",
       "var gd = document.getElementById('8aa89c8b-a63f-4ce9-ae35-3e38aba019f5');\n",
       "var x = new MutationObserver(function (mutations, observer) {{\n",
       "        var display = window.getComputedStyle(gd).display;\n",
       "        if (!display || display === 'none') {{\n",
       "            console.log([gd, 'removed!']);\n",
       "            Plotly.purge(gd);\n",
       "            observer.disconnect();\n",
       "        }}\n",
       "}});\n",
       "\n",
       "// Listen for the removal of the full notebook cells\n",
       "var notebookContainer = gd.closest('#notebook-container');\n",
       "if (notebookContainer) {{\n",
       "    x.observe(notebookContainer, {childList: true});\n",
       "}}\n",
       "\n",
       "// Listen for the clearing of the current output cell\n",
       "var outputEl = gd.closest('.output');\n",
       "if (outputEl) {{\n",
       "    x.observe(outputEl, {childList: true});\n",
       "}}\n",
       "\n",
       "                        })                };                });            </script>        </div>"
      ]
     },
     "metadata": {},
     "output_type": "display_data"
    }
   ],
   "source": [
    "fig = staging_boxes(S=S,\n",
    "                    diagnosis=diagnosis,\n",
    "                    color_list=color_list)\n",
    "fig"
   ]
  },
  {
   "cell_type": "markdown",
   "id": "3a32da49",
   "metadata": {},
   "source": [
    "# DOUBLE FUNCTION"
   ]
  },
  {
   "cell_type": "code",
   "execution_count": 378,
   "id": "039aef3e",
   "metadata": {},
   "outputs": [],
   "source": [
    "def staging(S, diagnosis, color_list=['#000000'], num_bins=10, bin_width=0.02):\n",
    "    \"\"\"\n",
    "    Creates a barplot\n",
    "    :param S: dictionary, Snowphlake output\n",
    "    :param diagnosis: np.array or list; with diagnosis labels corresponding to records in S\n",
    "    :param color_list: list with color hex values\n",
    "    :param num_bins: int, how many bins should be displayed\n",
    "    :param bin_width: int\n",
    "    :return: plotly go Bar figure\n",
    "    \"\"\"\n",
    "    \n",
    "    \n",
    "    # Convert NaNs to 0.0\n",
    "    staging = np.array([np.float64(0.0) if np.isnan(stage) else stage for stage in S['staging']])\n",
    "   \n",
    "    # Count number of each subtype occurences\n",
    "    counter = dict(Counter(diagnosis))\n",
    "        \n",
    "    # Get labels\n",
    "    labels = list(set(diagnosis))\n",
    "#     labels = labels[::-1]\n",
    "    \n",
    "    # Get indexes\n",
    "    diagnosis = np.array(diagnosis)\n",
    "    staging = np.array(staging)\n",
    "    \n",
    "    # Get indexes for each diagnostic label\n",
    "    idx_list = []\n",
    "    for l in labels:\n",
    "        idx = np.where(diagnosis==l)\n",
    "        idx = idx[0]\n",
    "        idx_list.append(idx)\n",
    "\n",
    "    # Bar settings\n",
    "    num_bins = num_bins\n",
    "    bin_width = np.repeat(bin_width, num_bins)\n",
    "          \n",
    "    color_list = color_list\n",
    "        \n",
    "    count=-1    \n",
    "    num_bins = num_bins\n",
    "    bar_width = np.repeat(0.02, num_bins)\n",
    "    counter = dict(Counter(diagnosis))\n",
    "\n",
    "#     fig = go.Figure()\n",
    "    fig = make_subplots(rows=2, cols=1)\n",
    "    \n",
    "    for idx in idx_list:\n",
    "                if len(idx)>0:\n",
    "                    count=count+1;\n",
    "                freq,binc=np.histogram(staging[idx],bins=num_bins)\n",
    "                freq = (1.*freq)/len(staging)\n",
    "                \n",
    "                label = labels[count]\n",
    "\n",
    "                fig.add_trace(go.Bar(\n",
    "                            x=binc[:-1],\n",
    "                            y=freq,\n",
    "                            name=f'{label} (n = {counter[label]})',\n",
    "                            width=bin_width,\n",
    "                            marker_color=color_list[count]\n",
    "                ),row=1, col=1) \n",
    "                \n",
    "\n",
    "    fig.update_layout(\n",
    "        title=\"Patient Staging\",\n",
    "        title_font_size=34,\n",
    "        title_x=0.5,\n",
    "        xaxis_title=\"Disease Stage\",\n",
    "        yaxis_title=\"Frequency of occurences\",\n",
    "        xaxis = dict(\n",
    "            tickmode = 'linear',\n",
    "            tick0 = 0.0,\n",
    "            dtick = 0.1\n",
    "        ),\n",
    "        barmode='group',\n",
    "        legend_font_size=16,\n",
    "        autosize = False,\n",
    "        width=1000,\n",
    "        height=1200\n",
    "    )\n",
    "    \n",
    "    fig.update_xaxes(range=[-0.05, 1.0],row=1, col=1)\n",
    "    \n",
    "    fig.update_yaxes(title_font_size = 18, \n",
    "                    tickfont_size=14)\n",
    "    \n",
    "    fig.update_xaxes(title_font_size = 18, \n",
    "                    tickfont_size = 14)\n",
    "    \n",
    "    # ====================\n",
    "    \n",
    "#     fig = go.Figure()\n",
    "    \n",
    "    for count, idx in enumerate(idx_list):\n",
    "        fig.add_trace(go.Box(x=staging[idx], \n",
    "                             name=labels[count],\n",
    "                             fillcolor=color_list[count],\n",
    "                            line_color='#000000',\n",
    "                            showlegend=False),\n",
    "                      row=2,col=1)    \n",
    "        \n",
    "#     fig.update_traces(mode=\"markers+lines\", hovertemplate=None)\n",
    "    fig.update_layout(hovermode=\"closest\")\n",
    "\n",
    "    return fig"
   ]
  },
  {
   "cell_type": "code",
   "execution_count": 377,
   "id": "f9d53326",
   "metadata": {},
   "outputs": [
    {
     "data": {
      "application/vnd.plotly.v1+json": {
       "config": {
        "plotlyServerURL": "https://plot.ly"
       },
       "data": [
        {
         "marker": {
          "color": "#4daf4a"
         },
         "name": "Control (n = 681)",
         "type": "bar",
         "width": [
          0.04,
          0.04,
          0.04,
          0.04,
          0.04,
          0.04,
          0.04,
          0.04,
          0.04,
          0.04
         ],
         "x": [
          -0.5,
          -0.4,
          -0.3,
          -0.19999999999999996,
          -0.09999999999999998,
          0,
          0.10000000000000009,
          0.20000000000000007,
          0.30000000000000004,
          0.4
         ],
         "xaxis": "x",
         "y": [
          0,
          0,
          0,
          0,
          0,
          0.6305555555555555,
          0,
          0,
          0,
          0
         ],
         "yaxis": "y"
        },
        {
         "marker": {
          "color": "#377eb8"
         },
         "name": "FTD (n = 399)",
         "type": "bar",
         "width": [
          0.04,
          0.04,
          0.04,
          0.04,
          0.04,
          0.04,
          0.04,
          0.04,
          0.04,
          0.04
         ],
         "x": [
          9.645439912066206e-07,
          0.09244036987621851,
          0.1848797752084458,
          0.27731918054067317,
          0.36975858587290045,
          0.4621979912051277,
          0.5546373965373551,
          0.6470768018695824,
          0.7395162072018097,
          0.8319556125340369
         ],
         "xaxis": "x",
         "y": [
          0.013888888888888888,
          0.013888888888888888,
          0.03518518518518519,
          0.046296296296296294,
          0.06018518518518518,
          0.04722222222222222,
          0.058333333333333334,
          0.046296296296296294,
          0.032407407407407406,
          0.01574074074074074
         ],
         "yaxis": "y"
        },
        {
         "fillcolor": "#4daf4a",
         "line": {
          "color": "#000000"
         },
         "name": "Control",
         "showlegend": false,
         "type": "box",
         "x": [
          0,
          0,
          0,
          0,
          0,
          0,
          0,
          0,
          0,
          0,
          0,
          0,
          0,
          0,
          0,
          0,
          0,
          0,
          0,
          0,
          0,
          0,
          0,
          0,
          0,
          0,
          0,
          0,
          0,
          0,
          0,
          0,
          0,
          0,
          0,
          0,
          0,
          0,
          0,
          0,
          0,
          0,
          0,
          0,
          0,
          0,
          0,
          0,
          0,
          0,
          0,
          0,
          0,
          0,
          0,
          0,
          0,
          0,
          0,
          0,
          0,
          0,
          0,
          0,
          0,
          0,
          0,
          0,
          0,
          0,
          0,
          0,
          0,
          0,
          0,
          0,
          0,
          0,
          0,
          0,
          0,
          0,
          0,
          0,
          0,
          0,
          0,
          0,
          0,
          0,
          0,
          0,
          0,
          0,
          0,
          0,
          0,
          0,
          0,
          0,
          0,
          0,
          0,
          0,
          0,
          0,
          0,
          0,
          0,
          0,
          0,
          0,
          0,
          0,
          0,
          0,
          0,
          0,
          0,
          0,
          0,
          0,
          0,
          0,
          0,
          0,
          0,
          0,
          0,
          0,
          0,
          0,
          0,
          0,
          0,
          0,
          0,
          0,
          0,
          0,
          0,
          0,
          0,
          0,
          0,
          0,
          0,
          0,
          0,
          0,
          0,
          0,
          0,
          0,
          0,
          0,
          0,
          0,
          0,
          0,
          0,
          0,
          0,
          0,
          0,
          0,
          0,
          0,
          0,
          0,
          0,
          0,
          0,
          0,
          0,
          0,
          0,
          0,
          0,
          0,
          0,
          0,
          0,
          0,
          0,
          0,
          0,
          0,
          0,
          0,
          0,
          0,
          0,
          0,
          0,
          0,
          0,
          0,
          0,
          0,
          0,
          0,
          0,
          0,
          0,
          0,
          0,
          0,
          0,
          0,
          0,
          0,
          0,
          0,
          0,
          0,
          0,
          0,
          0,
          0,
          0,
          0,
          0,
          0,
          0,
          0,
          0,
          0,
          0,
          0,
          0,
          0,
          0,
          0,
          0,
          0,
          0,
          0,
          0,
          0,
          0,
          0,
          0,
          0,
          0,
          0,
          0,
          0,
          0,
          0,
          0,
          0,
          0,
          0,
          0,
          0,
          0,
          0,
          0,
          0,
          0,
          0,
          0,
          0,
          0,
          0,
          0,
          0,
          0,
          0,
          0,
          0,
          0,
          0,
          0,
          0,
          0,
          0,
          0,
          0,
          0,
          0,
          0,
          0,
          0,
          0,
          0,
          0,
          0,
          0,
          0,
          0,
          0,
          0,
          0,
          0,
          0,
          0,
          0,
          0,
          0,
          0,
          0,
          0,
          0,
          0,
          0,
          0,
          0,
          0,
          0,
          0,
          0,
          0,
          0,
          0,
          0,
          0,
          0,
          0,
          0,
          0,
          0,
          0,
          0,
          0,
          0,
          0,
          0,
          0,
          0,
          0,
          0,
          0,
          0,
          0,
          0,
          0,
          0,
          0,
          0,
          0,
          0,
          0,
          0,
          0,
          0,
          0,
          0,
          0,
          0,
          0,
          0,
          0,
          0,
          0,
          0,
          0,
          0,
          0,
          0,
          0,
          0,
          0,
          0,
          0,
          0,
          0,
          0,
          0,
          0,
          0,
          0,
          0,
          0,
          0,
          0,
          0,
          0,
          0,
          0,
          0,
          0,
          0,
          0,
          0,
          0,
          0,
          0,
          0,
          0,
          0,
          0,
          0,
          0,
          0,
          0,
          0,
          0,
          0,
          0,
          0,
          0,
          0,
          0,
          0,
          0,
          0,
          0,
          0,
          0,
          0,
          0,
          0,
          0,
          0,
          0,
          0,
          0,
          0,
          0,
          0,
          0,
          0,
          0,
          0,
          0,
          0,
          0,
          0,
          0,
          0,
          0,
          0,
          0,
          0,
          0,
          0,
          0,
          0,
          0,
          0,
          0,
          0,
          0,
          0,
          0,
          0,
          0,
          0,
          0,
          0,
          0,
          0,
          0,
          0,
          0,
          0,
          0,
          0,
          0,
          0,
          0,
          0,
          0,
          0,
          0,
          0,
          0,
          0,
          0,
          0,
          0,
          0,
          0,
          0,
          0,
          0,
          0,
          0,
          0,
          0,
          0,
          0,
          0,
          0,
          0,
          0,
          0,
          0,
          0,
          0,
          0,
          0,
          0,
          0,
          0,
          0,
          0,
          0,
          0,
          0,
          0,
          0,
          0,
          0,
          0,
          0,
          0,
          0,
          0,
          0,
          0,
          0,
          0,
          0,
          0,
          0,
          0,
          0,
          0,
          0,
          0,
          0,
          0,
          0,
          0,
          0,
          0,
          0,
          0,
          0,
          0,
          0,
          0,
          0,
          0,
          0,
          0,
          0,
          0,
          0,
          0,
          0,
          0,
          0,
          0,
          0,
          0,
          0,
          0,
          0,
          0,
          0,
          0,
          0,
          0,
          0,
          0,
          0,
          0,
          0,
          0,
          0,
          0,
          0,
          0,
          0,
          0,
          0,
          0,
          0,
          0,
          0,
          0,
          0,
          0,
          0,
          0,
          0,
          0,
          0,
          0,
          0,
          0,
          0,
          0,
          0,
          0,
          0,
          0,
          0,
          0,
          0,
          0,
          0,
          0,
          0,
          0,
          0,
          0,
          0,
          0,
          0,
          0,
          0,
          0,
          0,
          0,
          0,
          0,
          0,
          0,
          0,
          0,
          0,
          0,
          0,
          0,
          0,
          0,
          0,
          0,
          0,
          0,
          0,
          0,
          0,
          0,
          0,
          0,
          0,
          0,
          0,
          0,
          0,
          0,
          0,
          0,
          0,
          0,
          0,
          0,
          0,
          0,
          0,
          0,
          0,
          0,
          0,
          0,
          0,
          0,
          0,
          0,
          0,
          0,
          0,
          0,
          0,
          0,
          0,
          0,
          0,
          0,
          0,
          0,
          0,
          0,
          0,
          0,
          0,
          0,
          0,
          0,
          0,
          0,
          0,
          0,
          0,
          0
         ],
         "xaxis": "x2",
         "yaxis": "y2"
        },
        {
         "fillcolor": "#377eb8",
         "line": {
          "color": "#000000"
         },
         "name": "FTD",
         "showlegend": false,
         "type": "box",
         "x": [
          0.6449685657785498,
          0.6590619603873156,
          0.6319436420219753,
          0.8634197046981563,
          0.6437849097615216,
          0.8449854419226479,
          0.6666270474081025,
          0.6489529825568414,
          0.420366025247966,
          0.5693724916028124,
          0.712554459551869,
          0.26264319009880077,
          0.7153592519543716,
          0.8540999650283891,
          0.4877008204761825,
          0.31537106183612,
          0.4536457127413268,
          0.41540390168555136,
          0.43270497032342714,
          0.40747314999386064,
          0.836810752581152,
          0.9122396704889625,
          0.6889522819031294,
          0.5742612750704278,
          0.3116848258211178,
          0.5664796913469416,
          0.6100029706469662,
          0.7964134882924317,
          0.2772689089376184,
          0.7260574846062734,
          0.3854436903138692,
          0.3739769182584946,
          0.4213226511450717,
          0.8178593513911204,
          0.7590364120418589,
          0.21708225937703846,
          0.2062164528642152,
          0.4650903289459059,
          0.5268586987305922,
          0.8579378909336371,
          0.7077006386249364,
          0.7996779030818512,
          0.03494355090897148,
          0.568625757174977,
          0.41773677634851536,
          0.5891533442064718,
          0.7843827421760664,
          0.32243665610362493,
          0.45184738078807823,
          0.3878259644087224,
          0.28957068040173534,
          0.787651002111678,
          0.5149666275205809,
          0.6917477748901232,
          0.28849813534923846,
          0.4052696222925299,
          0.5666558055144478,
          0.7980528683738982,
          0.5116675176067327,
          0.7283984869049175,
          0.7847095685999108,
          0.686138125393673,
          0.7196023071620539,
          0.4162775289575352,
          0.227984318344684,
          0.5264446951215576,
          0.41766832349721816,
          0.6507216349907464,
          0.5640521658407726,
          0.43662104113939815,
          0.6046010245560383,
          0.6422231188105595,
          0.4911166893276341,
          0.5780099618750802,
          0.7125687250109267,
          0.7720331218017269,
          0.1528513916435123,
          0.3460869745853882,
          0.32389593165355707,
          0.5734838213004053,
          0.6209636423545791,
          0.503741213812019,
          0.2857162588575298,
          0.8410076239089161,
          0.6532806018630285,
          0.7312517971019362,
          0.7975298345012848,
          0.8453276572068976,
          0.39633009738328945,
          0.8691648078713313,
          0.32703743920484557,
          0.6933904540558843,
          0.5037008190679723,
          0.742984324907454,
          0.4550481871709296,
          0.38579183106776627,
          0.6485639040683673,
          0.5479205372051514,
          0.7637777145311039,
          0.49206194047961094,
          0.35769824079032575,
          0.42042706224496096,
          0.5640264546203178,
          0.4669376347453882,
          0.5023245220946969,
          0.5792593291298732,
          0.7555319129953824,
          0.276048364880175,
          0.39530840674083706,
          0.8455240131336502,
          0.2081216338186276,
          0.5819026544949434,
          0.015356835431437961,
          0.7732867019475635,
          0.7042480068034442,
          0.6756753989784365,
          0.240951289742843,
          0.8504268577331056,
          0.7343573355086033,
          0.26827789558880916,
          0.349042135931469,
          0.27444223626763237,
          0.3082243349044816,
          0.26143075182703596,
          0.16912072106695164,
          0.40969596290972293,
          0.39225989121549615,
          0.2460716556521648,
          0.48825238509489316,
          0.6243363500261567,
          0.6120006072672507,
          0.7698393461520763,
          0.9243950178662643,
          0.7529008232996627,
          0.584067947351682,
          0.24728804828312226,
          0.4543121536254664,
          0.31328982092400653,
          0.6067503550631238,
          0.5624440769012096,
          0.17540477367633875,
          0.29947327607460505,
          0.7168675271101195,
          0.3816006037087142,
          0.7310249241102608,
          0.1533419315159797,
          0.414448849129135,
          0.2973409205472481,
          0.3553172121756581,
          0.4889102729683709,
          0.5896236208244102,
          0.5488408382026368,
          0.8109499239035818,
          0.38909697094043616,
          0.6177291092139223,
          0.8225074622725096,
          0.38995638611314126,
          0.6544992019801095,
          0.30606389955449737,
          0.5264482907248726,
          0.37898442843242064,
          0.7309370034026865,
          0.22395651747334655,
          0.32028647364765084,
          0.154382975749539,
          0.0010638553585313622,
          0.34507756095136227,
          0.185625836776455,
          0.5885015029163597,
          0.2097925768685861,
          0.30367895191898914,
          0.2893965233733927,
          0.2830425973417201,
          0.47549540046326577,
          0.5038621727264806,
          0.5509195647271008,
          0.0034603785153154696,
          0.7758446943554008,
          0.4356366551029238,
          0.41893763483935,
          0.4248179655556595,
          0.5166405580513523,
          0.15427697692493247,
          0.053586019441816964,
          0.5593526537638358,
          0.5455810344273107,
          0.5566570939538357,
          0.378070476187631,
          0.4626669065979543,
          0.6476330124570769,
          0.46861406966011354,
          0.6996673728548127,
          0.4266583604300756,
          0.3967104874202596,
          0.17631809505616147,
          0.6941329015238903,
          0.23446290890823218,
          0.31979926593850394,
          0.3721532092485653,
          0.6735617859161397,
          0.3488866297526655,
          0.5883529248869932,
          0.4841486980007536,
          0.3064102191987229,
          0.4953851013074865,
          0.40567904274388167,
          0.39018915100484214,
          0.40028010387007323,
          0.0006510648742398578,
          0.6464817428987035,
          0.5735489946569162,
          0.3204584985008362,
          0.4071157316502128,
          0.0802509908470654,
          0.22965244086356967,
          0.3085845605327039,
          0.7047002056380383,
          0.0740764427188843,
          0.6200084494439504,
          0.0327060762941335,
          0.45814853968417185,
          0.7329821029968914,
          0.43456869467902254,
          0.6269930641168914,
          0.6201017292433637,
          0.4197920522555377,
          0.3153547491564159,
          0.5724918211012329,
          0.5514449638873674,
          0.7191953565524656,
          0.09777566194161155,
          0.28750782138910397,
          0.33740332052802724,
          0.5961962111027421,
          0.02362775832353396,
          0.818448922832928,
          0.3821474238926237,
          0.5268618602920703,
          0.24270372092684878,
          0.3482009605325013,
          0.8535897533749884,
          0.250638677607398,
          0.1784710606364103,
          0.5630411727018525,
          0.5585988536931212,
          0.2437248135091405,
          0.2613430129458397,
          0.6380700103409311,
          0.002563896722970596,
          0.23505089062111378,
          0.6081866590479926,
          0.5085991627229302,
          0.5139808400313134,
          0.5725217333868817,
          0.2236957672325537,
          0.6838504607652581,
          0.3994335410892514,
          0.41475968749589986,
          0.271725160038854,
          0.7468415243662394,
          0.5561496638976606,
          0.4485257449911155,
          0.19551986330091872,
          0.5183907822568252,
          0.3415913244149741,
          0.5219768478391638,
          0.5134667485818277,
          0.32306946388836943,
          0.7331250374852966,
          0.8478699824930601,
          0.48313476780944237,
          0.4888307719291594,
          0.3829087283546902,
          0.2313040142562877,
          0.3341594138340101,
          0.058782743495306634,
          0.3918249040974415,
          0.6749311890463289,
          0.7953879143252951,
          0.5157334219365866,
          0.28942004018637896,
          0.6425505097219021,
          0.6666378834472253,
          0.5561330596147992,
          0.7480596464616889,
          0.4232204961638767,
          0.34824293836193243,
          0.6188010127966703,
          0.5945288720085526,
          0.7028006965146667,
          0.733782490416505,
          0.462803747016133,
          0.6214766208812403,
          0.4056601209534097,
          0.16232861930254597,
          0.7133265983284383,
          0.4146638500275731,
          0.4415841734273702,
          0.48570839049088177,
          0.24484578570209586,
          0.6885927700984713,
          0.41380509483027644,
          0.46884027965576286,
          0.798385752759362,
          0.3295421558679705,
          0.8681885925616301,
          0.2834412580162565,
          0.010286534687781505,
          0.6096877126574536,
          0.5753008182905008,
          0.41482546119374175,
          0.3150718819970336,
          0.33788922968682633,
          0.22725595435968327,
          0.4565532960558135,
          0.7865426895519154,
          0.4784128274178238,
          0.6981565871047632,
          0.16133929887999296,
          9.645439912066206e-07,
          0.3597539551805661,
          0.4290721475059719,
          0.6460583876341712,
          0.8009812881510117,
          0.5185655896730513,
          0.43273297604845756,
          0.5237002785182999,
          0.7401711317557577,
          0.5649190982429143,
          0.5498496942797699,
          0.457187828232134,
          0.21831222271088063,
          0.5017404461332311,
          0.6797102648419362,
          0.48984670036425787,
          0.5575827240777276,
          0.16851452375936896,
          0.6168062151423274,
          0.48871712077620144,
          0.24118908998559063,
          0.2121590756536322,
          0.32720096839175833,
          0.7107044271140269,
          0.7355935943064797,
          0.5281980808568895,
          0.5038556287855591,
          0.5932901496959141,
          0.28901321508233085,
          0.2298668139893755,
          0.3852329909739148,
          0.6473258616235956,
          0.6930267593744844,
          0.25264318807728264,
          0.8385985992358183,
          0.27799215456591864,
          0.378578178991851,
          0.4572270476722647,
          0.8134743329944275,
          0.8438631509159249,
          0.7876929642663162,
          0.7095331194313574,
          0.3655594810094029,
          0.44426177280660245,
          0.8042218834014172,
          0.45614374786293405,
          0.38582875041505477,
          0.1788480606463827,
          0.49695827478953736,
          0.2680359848700071,
          0.43417439739991537,
          0.24603535825630526,
          0.6742834601890298,
          0.3307588556529122,
          0.6787290037594085,
          0.5609163289642172,
          0.35190866275720145,
          0.6739739879288925,
          0.5686409415952417,
          0.560158278192539,
          0.3360271781410292,
          0.29010557355423483,
          0.7878345309472141,
          0.5012006638952474,
          0.6227094605670972,
          0.7668611625525575,
          0.5858735946150816,
          0.1815774931095309,
          0.0024461811746643016,
          0.27406224407877183,
          0.6444580039073916,
          0.5861251205014746,
          0.8318223206223806,
          0.5842062551425956,
          0.208729296481669,
          0.7924015952667713,
          0.5203260213495929,
          0.339977526316517,
          0.7515263398435127,
          0.14266676018256147
         ],
         "xaxis": "x2",
         "yaxis": "y2"
        }
       ],
       "layout": {
        "autosize": false,
        "barmode": "group",
        "height": 1200,
        "hovermode": "x",
        "legend": {
         "font": {
          "size": 16
         }
        },
        "template": {
         "data": {
          "bar": [
           {
            "error_x": {
             "color": "#2a3f5f"
            },
            "error_y": {
             "color": "#2a3f5f"
            },
            "marker": {
             "line": {
              "color": "#E5ECF6",
              "width": 0.5
             },
             "pattern": {
              "fillmode": "overlay",
              "size": 10,
              "solidity": 0.2
             }
            },
            "type": "bar"
           }
          ],
          "barpolar": [
           {
            "marker": {
             "line": {
              "color": "#E5ECF6",
              "width": 0.5
             },
             "pattern": {
              "fillmode": "overlay",
              "size": 10,
              "solidity": 0.2
             }
            },
            "type": "barpolar"
           }
          ],
          "carpet": [
           {
            "aaxis": {
             "endlinecolor": "#2a3f5f",
             "gridcolor": "white",
             "linecolor": "white",
             "minorgridcolor": "white",
             "startlinecolor": "#2a3f5f"
            },
            "baxis": {
             "endlinecolor": "#2a3f5f",
             "gridcolor": "white",
             "linecolor": "white",
             "minorgridcolor": "white",
             "startlinecolor": "#2a3f5f"
            },
            "type": "carpet"
           }
          ],
          "choropleth": [
           {
            "colorbar": {
             "outlinewidth": 0,
             "ticks": ""
            },
            "type": "choropleth"
           }
          ],
          "contour": [
           {
            "colorbar": {
             "outlinewidth": 0,
             "ticks": ""
            },
            "colorscale": [
             [
              0,
              "#0d0887"
             ],
             [
              0.1111111111111111,
              "#46039f"
             ],
             [
              0.2222222222222222,
              "#7201a8"
             ],
             [
              0.3333333333333333,
              "#9c179e"
             ],
             [
              0.4444444444444444,
              "#bd3786"
             ],
             [
              0.5555555555555556,
              "#d8576b"
             ],
             [
              0.6666666666666666,
              "#ed7953"
             ],
             [
              0.7777777777777778,
              "#fb9f3a"
             ],
             [
              0.8888888888888888,
              "#fdca26"
             ],
             [
              1,
              "#f0f921"
             ]
            ],
            "type": "contour"
           }
          ],
          "contourcarpet": [
           {
            "colorbar": {
             "outlinewidth": 0,
             "ticks": ""
            },
            "type": "contourcarpet"
           }
          ],
          "heatmap": [
           {
            "colorbar": {
             "outlinewidth": 0,
             "ticks": ""
            },
            "colorscale": [
             [
              0,
              "#0d0887"
             ],
             [
              0.1111111111111111,
              "#46039f"
             ],
             [
              0.2222222222222222,
              "#7201a8"
             ],
             [
              0.3333333333333333,
              "#9c179e"
             ],
             [
              0.4444444444444444,
              "#bd3786"
             ],
             [
              0.5555555555555556,
              "#d8576b"
             ],
             [
              0.6666666666666666,
              "#ed7953"
             ],
             [
              0.7777777777777778,
              "#fb9f3a"
             ],
             [
              0.8888888888888888,
              "#fdca26"
             ],
             [
              1,
              "#f0f921"
             ]
            ],
            "type": "heatmap"
           }
          ],
          "heatmapgl": [
           {
            "colorbar": {
             "outlinewidth": 0,
             "ticks": ""
            },
            "colorscale": [
             [
              0,
              "#0d0887"
             ],
             [
              0.1111111111111111,
              "#46039f"
             ],
             [
              0.2222222222222222,
              "#7201a8"
             ],
             [
              0.3333333333333333,
              "#9c179e"
             ],
             [
              0.4444444444444444,
              "#bd3786"
             ],
             [
              0.5555555555555556,
              "#d8576b"
             ],
             [
              0.6666666666666666,
              "#ed7953"
             ],
             [
              0.7777777777777778,
              "#fb9f3a"
             ],
             [
              0.8888888888888888,
              "#fdca26"
             ],
             [
              1,
              "#f0f921"
             ]
            ],
            "type": "heatmapgl"
           }
          ],
          "histogram": [
           {
            "marker": {
             "pattern": {
              "fillmode": "overlay",
              "size": 10,
              "solidity": 0.2
             }
            },
            "type": "histogram"
           }
          ],
          "histogram2d": [
           {
            "colorbar": {
             "outlinewidth": 0,
             "ticks": ""
            },
            "colorscale": [
             [
              0,
              "#0d0887"
             ],
             [
              0.1111111111111111,
              "#46039f"
             ],
             [
              0.2222222222222222,
              "#7201a8"
             ],
             [
              0.3333333333333333,
              "#9c179e"
             ],
             [
              0.4444444444444444,
              "#bd3786"
             ],
             [
              0.5555555555555556,
              "#d8576b"
             ],
             [
              0.6666666666666666,
              "#ed7953"
             ],
             [
              0.7777777777777778,
              "#fb9f3a"
             ],
             [
              0.8888888888888888,
              "#fdca26"
             ],
             [
              1,
              "#f0f921"
             ]
            ],
            "type": "histogram2d"
           }
          ],
          "histogram2dcontour": [
           {
            "colorbar": {
             "outlinewidth": 0,
             "ticks": ""
            },
            "colorscale": [
             [
              0,
              "#0d0887"
             ],
             [
              0.1111111111111111,
              "#46039f"
             ],
             [
              0.2222222222222222,
              "#7201a8"
             ],
             [
              0.3333333333333333,
              "#9c179e"
             ],
             [
              0.4444444444444444,
              "#bd3786"
             ],
             [
              0.5555555555555556,
              "#d8576b"
             ],
             [
              0.6666666666666666,
              "#ed7953"
             ],
             [
              0.7777777777777778,
              "#fb9f3a"
             ],
             [
              0.8888888888888888,
              "#fdca26"
             ],
             [
              1,
              "#f0f921"
             ]
            ],
            "type": "histogram2dcontour"
           }
          ],
          "mesh3d": [
           {
            "colorbar": {
             "outlinewidth": 0,
             "ticks": ""
            },
            "type": "mesh3d"
           }
          ],
          "parcoords": [
           {
            "line": {
             "colorbar": {
              "outlinewidth": 0,
              "ticks": ""
             }
            },
            "type": "parcoords"
           }
          ],
          "pie": [
           {
            "automargin": true,
            "type": "pie"
           }
          ],
          "scatter": [
           {
            "fillpattern": {
             "fillmode": "overlay",
             "size": 10,
             "solidity": 0.2
            },
            "type": "scatter"
           }
          ],
          "scatter3d": [
           {
            "line": {
             "colorbar": {
              "outlinewidth": 0,
              "ticks": ""
             }
            },
            "marker": {
             "colorbar": {
              "outlinewidth": 0,
              "ticks": ""
             }
            },
            "type": "scatter3d"
           }
          ],
          "scattercarpet": [
           {
            "marker": {
             "colorbar": {
              "outlinewidth": 0,
              "ticks": ""
             }
            },
            "type": "scattercarpet"
           }
          ],
          "scattergeo": [
           {
            "marker": {
             "colorbar": {
              "outlinewidth": 0,
              "ticks": ""
             }
            },
            "type": "scattergeo"
           }
          ],
          "scattergl": [
           {
            "marker": {
             "colorbar": {
              "outlinewidth": 0,
              "ticks": ""
             }
            },
            "type": "scattergl"
           }
          ],
          "scattermapbox": [
           {
            "marker": {
             "colorbar": {
              "outlinewidth": 0,
              "ticks": ""
             }
            },
            "type": "scattermapbox"
           }
          ],
          "scatterpolar": [
           {
            "marker": {
             "colorbar": {
              "outlinewidth": 0,
              "ticks": ""
             }
            },
            "type": "scatterpolar"
           }
          ],
          "scatterpolargl": [
           {
            "marker": {
             "colorbar": {
              "outlinewidth": 0,
              "ticks": ""
             }
            },
            "type": "scatterpolargl"
           }
          ],
          "scatterternary": [
           {
            "marker": {
             "colorbar": {
              "outlinewidth": 0,
              "ticks": ""
             }
            },
            "type": "scatterternary"
           }
          ],
          "surface": [
           {
            "colorbar": {
             "outlinewidth": 0,
             "ticks": ""
            },
            "colorscale": [
             [
              0,
              "#0d0887"
             ],
             [
              0.1111111111111111,
              "#46039f"
             ],
             [
              0.2222222222222222,
              "#7201a8"
             ],
             [
              0.3333333333333333,
              "#9c179e"
             ],
             [
              0.4444444444444444,
              "#bd3786"
             ],
             [
              0.5555555555555556,
              "#d8576b"
             ],
             [
              0.6666666666666666,
              "#ed7953"
             ],
             [
              0.7777777777777778,
              "#fb9f3a"
             ],
             [
              0.8888888888888888,
              "#fdca26"
             ],
             [
              1,
              "#f0f921"
             ]
            ],
            "type": "surface"
           }
          ],
          "table": [
           {
            "cells": {
             "fill": {
              "color": "#EBF0F8"
             },
             "line": {
              "color": "white"
             }
            },
            "header": {
             "fill": {
              "color": "#C8D4E3"
             },
             "line": {
              "color": "white"
             }
            },
            "type": "table"
           }
          ]
         },
         "layout": {
          "annotationdefaults": {
           "arrowcolor": "#2a3f5f",
           "arrowhead": 0,
           "arrowwidth": 1
          },
          "autotypenumbers": "strict",
          "coloraxis": {
           "colorbar": {
            "outlinewidth": 0,
            "ticks": ""
           }
          },
          "colorscale": {
           "diverging": [
            [
             0,
             "#8e0152"
            ],
            [
             0.1,
             "#c51b7d"
            ],
            [
             0.2,
             "#de77ae"
            ],
            [
             0.3,
             "#f1b6da"
            ],
            [
             0.4,
             "#fde0ef"
            ],
            [
             0.5,
             "#f7f7f7"
            ],
            [
             0.6,
             "#e6f5d0"
            ],
            [
             0.7,
             "#b8e186"
            ],
            [
             0.8,
             "#7fbc41"
            ],
            [
             0.9,
             "#4d9221"
            ],
            [
             1,
             "#276419"
            ]
           ],
           "sequential": [
            [
             0,
             "#0d0887"
            ],
            [
             0.1111111111111111,
             "#46039f"
            ],
            [
             0.2222222222222222,
             "#7201a8"
            ],
            [
             0.3333333333333333,
             "#9c179e"
            ],
            [
             0.4444444444444444,
             "#bd3786"
            ],
            [
             0.5555555555555556,
             "#d8576b"
            ],
            [
             0.6666666666666666,
             "#ed7953"
            ],
            [
             0.7777777777777778,
             "#fb9f3a"
            ],
            [
             0.8888888888888888,
             "#fdca26"
            ],
            [
             1,
             "#f0f921"
            ]
           ],
           "sequentialminus": [
            [
             0,
             "#0d0887"
            ],
            [
             0.1111111111111111,
             "#46039f"
            ],
            [
             0.2222222222222222,
             "#7201a8"
            ],
            [
             0.3333333333333333,
             "#9c179e"
            ],
            [
             0.4444444444444444,
             "#bd3786"
            ],
            [
             0.5555555555555556,
             "#d8576b"
            ],
            [
             0.6666666666666666,
             "#ed7953"
            ],
            [
             0.7777777777777778,
             "#fb9f3a"
            ],
            [
             0.8888888888888888,
             "#fdca26"
            ],
            [
             1,
             "#f0f921"
            ]
           ]
          },
          "colorway": [
           "#636efa",
           "#EF553B",
           "#00cc96",
           "#ab63fa",
           "#FFA15A",
           "#19d3f3",
           "#FF6692",
           "#B6E880",
           "#FF97FF",
           "#FECB52"
          ],
          "font": {
           "color": "#2a3f5f"
          },
          "geo": {
           "bgcolor": "white",
           "lakecolor": "white",
           "landcolor": "#E5ECF6",
           "showlakes": true,
           "showland": true,
           "subunitcolor": "white"
          },
          "hoverlabel": {
           "align": "left"
          },
          "hovermode": "closest",
          "mapbox": {
           "style": "light"
          },
          "paper_bgcolor": "white",
          "plot_bgcolor": "#E5ECF6",
          "polar": {
           "angularaxis": {
            "gridcolor": "white",
            "linecolor": "white",
            "ticks": ""
           },
           "bgcolor": "#E5ECF6",
           "radialaxis": {
            "gridcolor": "white",
            "linecolor": "white",
            "ticks": ""
           }
          },
          "scene": {
           "xaxis": {
            "backgroundcolor": "#E5ECF6",
            "gridcolor": "white",
            "gridwidth": 2,
            "linecolor": "white",
            "showbackground": true,
            "ticks": "",
            "zerolinecolor": "white"
           },
           "yaxis": {
            "backgroundcolor": "#E5ECF6",
            "gridcolor": "white",
            "gridwidth": 2,
            "linecolor": "white",
            "showbackground": true,
            "ticks": "",
            "zerolinecolor": "white"
           },
           "zaxis": {
            "backgroundcolor": "#E5ECF6",
            "gridcolor": "white",
            "gridwidth": 2,
            "linecolor": "white",
            "showbackground": true,
            "ticks": "",
            "zerolinecolor": "white"
           }
          },
          "shapedefaults": {
           "line": {
            "color": "#2a3f5f"
           }
          },
          "ternary": {
           "aaxis": {
            "gridcolor": "white",
            "linecolor": "white",
            "ticks": ""
           },
           "baxis": {
            "gridcolor": "white",
            "linecolor": "white",
            "ticks": ""
           },
           "bgcolor": "#E5ECF6",
           "caxis": {
            "gridcolor": "white",
            "linecolor": "white",
            "ticks": ""
           }
          },
          "title": {
           "x": 0.05
          },
          "xaxis": {
           "automargin": true,
           "gridcolor": "white",
           "linecolor": "white",
           "ticks": "",
           "title": {
            "standoff": 15
           },
           "zerolinecolor": "white",
           "zerolinewidth": 2
          },
          "yaxis": {
           "automargin": true,
           "gridcolor": "white",
           "linecolor": "white",
           "ticks": "",
           "title": {
            "standoff": 15
           },
           "zerolinecolor": "white",
           "zerolinewidth": 2
          }
         }
        },
        "title": {
         "font": {
          "size": 34
         },
         "text": "Patient Staging",
         "x": 0.5
        },
        "width": 1000,
        "xaxis": {
         "anchor": "y",
         "domain": [
          0,
          1
         ],
         "dtick": 0.1,
         "range": [
          -0.05,
          1
         ],
         "tick0": 0,
         "tickfont": {
          "size": 14
         },
         "tickmode": "linear",
         "title": {
          "font": {
           "size": 18
          },
          "text": "Disease Stage"
         }
        },
        "xaxis2": {
         "anchor": "y2",
         "domain": [
          0,
          1
         ],
         "tickfont": {
          "size": 14
         },
         "title": {
          "font": {
           "size": 18
          }
         }
        },
        "yaxis": {
         "anchor": "x",
         "domain": [
          0.575,
          1
         ],
         "tickfont": {
          "size": 14
         },
         "title": {
          "font": {
           "size": 18
          },
          "text": "Frequency of occurences"
         }
        },
        "yaxis2": {
         "anchor": "x2",
         "domain": [
          0,
          0.425
         ],
         "tickfont": {
          "size": 14
         },
         "title": {
          "font": {
           "size": 18
          }
         }
        }
       }
      },
      "text/html": [
       "<div>                            <div id=\"d2b3d3d4-e275-4ecf-9b6d-deee56f8e403\" class=\"plotly-graph-div\" style=\"height:1200px; width:1000px;\"></div>            <script type=\"text/javascript\">                require([\"plotly\"], function(Plotly) {                    window.PLOTLYENV=window.PLOTLYENV || {};                                    if (document.getElementById(\"d2b3d3d4-e275-4ecf-9b6d-deee56f8e403\")) {                    Plotly.newPlot(                        \"d2b3d3d4-e275-4ecf-9b6d-deee56f8e403\",                        [{\"marker\":{\"color\":\"#4daf4a\"},\"name\":\"Control (n = 681)\",\"width\":[0.04,0.04,0.04,0.04,0.04,0.04,0.04,0.04,0.04,0.04],\"x\":[-0.5,-0.4,-0.3,-0.19999999999999996,-0.09999999999999998,0.0,0.10000000000000009,0.20000000000000007,0.30000000000000004,0.4],\"y\":[0.0,0.0,0.0,0.0,0.0,0.6305555555555555,0.0,0.0,0.0,0.0],\"type\":\"bar\",\"xaxis\":\"x\",\"yaxis\":\"y\"},{\"marker\":{\"color\":\"#377eb8\"},\"name\":\"FTD (n = 399)\",\"width\":[0.04,0.04,0.04,0.04,0.04,0.04,0.04,0.04,0.04,0.04],\"x\":[9.645439912066206e-07,0.09244036987621851,0.1848797752084458,0.27731918054067317,0.36975858587290045,0.4621979912051277,0.5546373965373551,0.6470768018695824,0.7395162072018097,0.8319556125340369],\"y\":[0.013888888888888888,0.013888888888888888,0.03518518518518519,0.046296296296296294,0.06018518518518518,0.04722222222222222,0.058333333333333334,0.046296296296296294,0.032407407407407406,0.01574074074074074],\"type\":\"bar\",\"xaxis\":\"x\",\"yaxis\":\"y\"},{\"fillcolor\":\"#4daf4a\",\"line\":{\"color\":\"#000000\"},\"name\":\"Control\",\"showlegend\":false,\"x\":[0.0,0.0,0.0,0.0,0.0,0.0,0.0,0.0,0.0,0.0,0.0,0.0,0.0,0.0,0.0,0.0,0.0,0.0,0.0,0.0,0.0,0.0,0.0,0.0,0.0,0.0,0.0,0.0,0.0,0.0,0.0,0.0,0.0,0.0,0.0,0.0,0.0,0.0,0.0,0.0,0.0,0.0,0.0,0.0,0.0,0.0,0.0,0.0,0.0,0.0,0.0,0.0,0.0,0.0,0.0,0.0,0.0,0.0,0.0,0.0,0.0,0.0,0.0,0.0,0.0,0.0,0.0,0.0,0.0,0.0,0.0,0.0,0.0,0.0,0.0,0.0,0.0,0.0,0.0,0.0,0.0,0.0,0.0,0.0,0.0,0.0,0.0,0.0,0.0,0.0,0.0,0.0,0.0,0.0,0.0,0.0,0.0,0.0,0.0,0.0,0.0,0.0,0.0,0.0,0.0,0.0,0.0,0.0,0.0,0.0,0.0,0.0,0.0,0.0,0.0,0.0,0.0,0.0,0.0,0.0,0.0,0.0,0.0,0.0,0.0,0.0,0.0,0.0,0.0,0.0,0.0,0.0,0.0,0.0,0.0,0.0,0.0,0.0,0.0,0.0,0.0,0.0,0.0,0.0,0.0,0.0,0.0,0.0,0.0,0.0,0.0,0.0,0.0,0.0,0.0,0.0,0.0,0.0,0.0,0.0,0.0,0.0,0.0,0.0,0.0,0.0,0.0,0.0,0.0,0.0,0.0,0.0,0.0,0.0,0.0,0.0,0.0,0.0,0.0,0.0,0.0,0.0,0.0,0.0,0.0,0.0,0.0,0.0,0.0,0.0,0.0,0.0,0.0,0.0,0.0,0.0,0.0,0.0,0.0,0.0,0.0,0.0,0.0,0.0,0.0,0.0,0.0,0.0,0.0,0.0,0.0,0.0,0.0,0.0,0.0,0.0,0.0,0.0,0.0,0.0,0.0,0.0,0.0,0.0,0.0,0.0,0.0,0.0,0.0,0.0,0.0,0.0,0.0,0.0,0.0,0.0,0.0,0.0,0.0,0.0,0.0,0.0,0.0,0.0,0.0,0.0,0.0,0.0,0.0,0.0,0.0,0.0,0.0,0.0,0.0,0.0,0.0,0.0,0.0,0.0,0.0,0.0,0.0,0.0,0.0,0.0,0.0,0.0,0.0,0.0,0.0,0.0,0.0,0.0,0.0,0.0,0.0,0.0,0.0,0.0,0.0,0.0,0.0,0.0,0.0,0.0,0.0,0.0,0.0,0.0,0.0,0.0,0.0,0.0,0.0,0.0,0.0,0.0,0.0,0.0,0.0,0.0,0.0,0.0,0.0,0.0,0.0,0.0,0.0,0.0,0.0,0.0,0.0,0.0,0.0,0.0,0.0,0.0,0.0,0.0,0.0,0.0,0.0,0.0,0.0,0.0,0.0,0.0,0.0,0.0,0.0,0.0,0.0,0.0,0.0,0.0,0.0,0.0,0.0,0.0,0.0,0.0,0.0,0.0,0.0,0.0,0.0,0.0,0.0,0.0,0.0,0.0,0.0,0.0,0.0,0.0,0.0,0.0,0.0,0.0,0.0,0.0,0.0,0.0,0.0,0.0,0.0,0.0,0.0,0.0,0.0,0.0,0.0,0.0,0.0,0.0,0.0,0.0,0.0,0.0,0.0,0.0,0.0,0.0,0.0,0.0,0.0,0.0,0.0,0.0,0.0,0.0,0.0,0.0,0.0,0.0,0.0,0.0,0.0,0.0,0.0,0.0,0.0,0.0,0.0,0.0,0.0,0.0,0.0,0.0,0.0,0.0,0.0,0.0,0.0,0.0,0.0,0.0,0.0,0.0,0.0,0.0,0.0,0.0,0.0,0.0,0.0,0.0,0.0,0.0,0.0,0.0,0.0,0.0,0.0,0.0,0.0,0.0,0.0,0.0,0.0,0.0,0.0,0.0,0.0,0.0,0.0,0.0,0.0,0.0,0.0,0.0,0.0,0.0,0.0,0.0,0.0,0.0,0.0,0.0,0.0,0.0,0.0,0.0,0.0,0.0,0.0,0.0,0.0,0.0,0.0,0.0,0.0,0.0,0.0,0.0,0.0,0.0,0.0,0.0,0.0,0.0,0.0,0.0,0.0,0.0,0.0,0.0,0.0,0.0,0.0,0.0,0.0,0.0,0.0,0.0,0.0,0.0,0.0,0.0,0.0,0.0,0.0,0.0,0.0,0.0,0.0,0.0,0.0,0.0,0.0,0.0,0.0,0.0,0.0,0.0,0.0,0.0,0.0,0.0,0.0,0.0,0.0,0.0,0.0,0.0,0.0,0.0,0.0,0.0,0.0,0.0,0.0,0.0,0.0,0.0,0.0,0.0,0.0,0.0,0.0,0.0,0.0,0.0,0.0,0.0,0.0,0.0,0.0,0.0,0.0,0.0,0.0,0.0,0.0,0.0,0.0,0.0,0.0,0.0,0.0,0.0,0.0,0.0,0.0,0.0,0.0,0.0,0.0,0.0,0.0,0.0,0.0,0.0,0.0,0.0,0.0,0.0,0.0,0.0,0.0,0.0,0.0,0.0,0.0,0.0,0.0,0.0,0.0,0.0,0.0,0.0,0.0,0.0,0.0,0.0,0.0,0.0,0.0,0.0,0.0,0.0,0.0,0.0,0.0,0.0,0.0,0.0,0.0,0.0,0.0,0.0,0.0,0.0,0.0,0.0,0.0,0.0,0.0,0.0,0.0,0.0,0.0,0.0,0.0,0.0,0.0,0.0,0.0,0.0,0.0,0.0,0.0,0.0,0.0,0.0,0.0,0.0,0.0,0.0,0.0,0.0,0.0,0.0,0.0,0.0,0.0,0.0,0.0,0.0,0.0,0.0,0.0,0.0,0.0,0.0,0.0,0.0,0.0,0.0,0.0,0.0,0.0,0.0,0.0,0.0,0.0,0.0,0.0,0.0,0.0,0.0,0.0,0.0,0.0,0.0,0.0,0.0,0.0,0.0,0.0],\"type\":\"box\",\"xaxis\":\"x2\",\"yaxis\":\"y2\"},{\"fillcolor\":\"#377eb8\",\"line\":{\"color\":\"#000000\"},\"name\":\"FTD\",\"showlegend\":false,\"x\":[0.6449685657785498,0.6590619603873156,0.6319436420219753,0.8634197046981563,0.6437849097615216,0.8449854419226479,0.6666270474081025,0.6489529825568414,0.420366025247966,0.5693724916028124,0.712554459551869,0.26264319009880077,0.7153592519543716,0.8540999650283891,0.4877008204761825,0.31537106183612,0.4536457127413268,0.41540390168555136,0.43270497032342714,0.40747314999386064,0.836810752581152,0.9122396704889625,0.6889522819031294,0.5742612750704278,0.3116848258211178,0.5664796913469416,0.6100029706469662,0.7964134882924317,0.2772689089376184,0.7260574846062734,0.3854436903138692,0.3739769182584946,0.4213226511450717,0.8178593513911204,0.7590364120418589,0.21708225937703846,0.2062164528642152,0.4650903289459059,0.5268586987305922,0.8579378909336371,0.7077006386249364,0.7996779030818512,0.03494355090897148,0.568625757174977,0.41773677634851536,0.5891533442064718,0.7843827421760664,0.32243665610362493,0.45184738078807823,0.3878259644087224,0.28957068040173534,0.787651002111678,0.5149666275205809,0.6917477748901232,0.28849813534923846,0.4052696222925299,0.5666558055144478,0.7980528683738982,0.5116675176067327,0.7283984869049175,0.7847095685999108,0.686138125393673,0.7196023071620539,0.4162775289575352,0.227984318344684,0.5264446951215576,0.41766832349721816,0.6507216349907464,0.5640521658407726,0.43662104113939815,0.6046010245560383,0.6422231188105595,0.4911166893276341,0.5780099618750802,0.7125687250109267,0.7720331218017269,0.1528513916435123,0.3460869745853882,0.32389593165355707,0.5734838213004053,0.6209636423545791,0.503741213812019,0.2857162588575298,0.8410076239089161,0.6532806018630285,0.7312517971019362,0.7975298345012848,0.8453276572068976,0.39633009738328945,0.8691648078713313,0.32703743920484557,0.6933904540558843,0.5037008190679723,0.742984324907454,0.4550481871709296,0.38579183106776627,0.6485639040683673,0.5479205372051514,0.7637777145311039,0.49206194047961094,0.35769824079032575,0.42042706224496096,0.5640264546203178,0.4669376347453882,0.5023245220946969,0.5792593291298732,0.7555319129953824,0.276048364880175,0.39530840674083706,0.8455240131336502,0.2081216338186276,0.5819026544949434,0.015356835431437961,0.7732867019475635,0.7042480068034442,0.6756753989784365,0.240951289742843,0.8504268577331056,0.7343573355086033,0.26827789558880916,0.349042135931469,0.27444223626763237,0.3082243349044816,0.26143075182703596,0.16912072106695164,0.40969596290972293,0.39225989121549615,0.2460716556521648,0.48825238509489316,0.6243363500261567,0.6120006072672507,0.7698393461520763,0.9243950178662643,0.7529008232996627,0.584067947351682,0.24728804828312226,0.4543121536254664,0.31328982092400653,0.6067503550631238,0.5624440769012096,0.17540477367633875,0.29947327607460505,0.7168675271101195,0.3816006037087142,0.7310249241102608,0.1533419315159797,0.414448849129135,0.2973409205472481,0.3553172121756581,0.4889102729683709,0.5896236208244102,0.5488408382026368,0.8109499239035818,0.38909697094043616,0.6177291092139223,0.8225074622725096,0.38995638611314126,0.6544992019801095,0.30606389955449737,0.5264482907248726,0.37898442843242064,0.7309370034026865,0.22395651747334655,0.32028647364765084,0.154382975749539,0.0010638553585313622,0.34507756095136227,0.185625836776455,0.5885015029163597,0.2097925768685861,0.30367895191898914,0.2893965233733927,0.2830425973417201,0.47549540046326577,0.5038621727264806,0.5509195647271008,0.0034603785153154696,0.7758446943554008,0.4356366551029238,0.41893763483935,0.4248179655556595,0.5166405580513523,0.15427697692493247,0.053586019441816964,0.5593526537638358,0.5455810344273107,0.5566570939538357,0.378070476187631,0.4626669065979543,0.6476330124570769,0.46861406966011354,0.6996673728548127,0.4266583604300756,0.3967104874202596,0.17631809505616147,0.6941329015238903,0.23446290890823218,0.31979926593850394,0.3721532092485653,0.6735617859161397,0.3488866297526655,0.5883529248869932,0.4841486980007536,0.3064102191987229,0.4953851013074865,0.40567904274388167,0.39018915100484214,0.40028010387007323,0.0006510648742398578,0.6464817428987035,0.5735489946569162,0.3204584985008362,0.4071157316502128,0.0802509908470654,0.22965244086356967,0.3085845605327039,0.7047002056380383,0.0740764427188843,0.6200084494439504,0.0327060762941335,0.45814853968417185,0.7329821029968914,0.43456869467902254,0.6269930641168914,0.6201017292433637,0.4197920522555377,0.3153547491564159,0.5724918211012329,0.5514449638873674,0.7191953565524656,0.09777566194161155,0.28750782138910397,0.33740332052802724,0.5961962111027421,0.02362775832353396,0.818448922832928,0.3821474238926237,0.5268618602920703,0.24270372092684878,0.3482009605325013,0.8535897533749884,0.250638677607398,0.1784710606364103,0.5630411727018525,0.5585988536931212,0.2437248135091405,0.2613430129458397,0.6380700103409311,0.002563896722970596,0.23505089062111378,0.6081866590479926,0.5085991627229302,0.5139808400313134,0.5725217333868817,0.2236957672325537,0.6838504607652581,0.3994335410892514,0.41475968749589986,0.271725160038854,0.7468415243662394,0.5561496638976606,0.4485257449911155,0.19551986330091872,0.5183907822568252,0.3415913244149741,0.5219768478391638,0.5134667485818277,0.32306946388836943,0.7331250374852966,0.8478699824930601,0.48313476780944237,0.4888307719291594,0.3829087283546902,0.2313040142562877,0.3341594138340101,0.058782743495306634,0.3918249040974415,0.6749311890463289,0.7953879143252951,0.5157334219365866,0.28942004018637896,0.6425505097219021,0.6666378834472253,0.5561330596147992,0.7480596464616889,0.4232204961638767,0.34824293836193243,0.6188010127966703,0.5945288720085526,0.7028006965146667,0.733782490416505,0.462803747016133,0.6214766208812403,0.4056601209534097,0.16232861930254597,0.7133265983284383,0.4146638500275731,0.4415841734273702,0.48570839049088177,0.24484578570209586,0.6885927700984713,0.41380509483027644,0.46884027965576286,0.798385752759362,0.3295421558679705,0.8681885925616301,0.2834412580162565,0.010286534687781505,0.6096877126574536,0.5753008182905008,0.41482546119374175,0.3150718819970336,0.33788922968682633,0.22725595435968327,0.4565532960558135,0.7865426895519154,0.4784128274178238,0.6981565871047632,0.16133929887999296,9.645439912066206e-07,0.3597539551805661,0.4290721475059719,0.6460583876341712,0.8009812881510117,0.5185655896730513,0.43273297604845756,0.5237002785182999,0.7401711317557577,0.5649190982429143,0.5498496942797699,0.457187828232134,0.21831222271088063,0.5017404461332311,0.6797102648419362,0.48984670036425787,0.5575827240777276,0.16851452375936896,0.6168062151423274,0.48871712077620144,0.24118908998559063,0.2121590756536322,0.32720096839175833,0.7107044271140269,0.7355935943064797,0.5281980808568895,0.5038556287855591,0.5932901496959141,0.28901321508233085,0.2298668139893755,0.3852329909739148,0.6473258616235956,0.6930267593744844,0.25264318807728264,0.8385985992358183,0.27799215456591864,0.378578178991851,0.4572270476722647,0.8134743329944275,0.8438631509159249,0.7876929642663162,0.7095331194313574,0.3655594810094029,0.44426177280660245,0.8042218834014172,0.45614374786293405,0.38582875041505477,0.1788480606463827,0.49695827478953736,0.2680359848700071,0.43417439739991537,0.24603535825630526,0.6742834601890298,0.3307588556529122,0.6787290037594085,0.5609163289642172,0.35190866275720145,0.6739739879288925,0.5686409415952417,0.560158278192539,0.3360271781410292,0.29010557355423483,0.7878345309472141,0.5012006638952474,0.6227094605670972,0.7668611625525575,0.5858735946150816,0.1815774931095309,0.0024461811746643016,0.27406224407877183,0.6444580039073916,0.5861251205014746,0.8318223206223806,0.5842062551425956,0.208729296481669,0.7924015952667713,0.5203260213495929,0.339977526316517,0.7515263398435127,0.14266676018256147],\"type\":\"box\",\"xaxis\":\"x2\",\"yaxis\":\"y2\"}],                        {\"template\":{\"data\":{\"histogram2dcontour\":[{\"type\":\"histogram2dcontour\",\"colorbar\":{\"outlinewidth\":0,\"ticks\":\"\"},\"colorscale\":[[0.0,\"#0d0887\"],[0.1111111111111111,\"#46039f\"],[0.2222222222222222,\"#7201a8\"],[0.3333333333333333,\"#9c179e\"],[0.4444444444444444,\"#bd3786\"],[0.5555555555555556,\"#d8576b\"],[0.6666666666666666,\"#ed7953\"],[0.7777777777777778,\"#fb9f3a\"],[0.8888888888888888,\"#fdca26\"],[1.0,\"#f0f921\"]]}],\"choropleth\":[{\"type\":\"choropleth\",\"colorbar\":{\"outlinewidth\":0,\"ticks\":\"\"}}],\"histogram2d\":[{\"type\":\"histogram2d\",\"colorbar\":{\"outlinewidth\":0,\"ticks\":\"\"},\"colorscale\":[[0.0,\"#0d0887\"],[0.1111111111111111,\"#46039f\"],[0.2222222222222222,\"#7201a8\"],[0.3333333333333333,\"#9c179e\"],[0.4444444444444444,\"#bd3786\"],[0.5555555555555556,\"#d8576b\"],[0.6666666666666666,\"#ed7953\"],[0.7777777777777778,\"#fb9f3a\"],[0.8888888888888888,\"#fdca26\"],[1.0,\"#f0f921\"]]}],\"heatmap\":[{\"type\":\"heatmap\",\"colorbar\":{\"outlinewidth\":0,\"ticks\":\"\"},\"colorscale\":[[0.0,\"#0d0887\"],[0.1111111111111111,\"#46039f\"],[0.2222222222222222,\"#7201a8\"],[0.3333333333333333,\"#9c179e\"],[0.4444444444444444,\"#bd3786\"],[0.5555555555555556,\"#d8576b\"],[0.6666666666666666,\"#ed7953\"],[0.7777777777777778,\"#fb9f3a\"],[0.8888888888888888,\"#fdca26\"],[1.0,\"#f0f921\"]]}],\"heatmapgl\":[{\"type\":\"heatmapgl\",\"colorbar\":{\"outlinewidth\":0,\"ticks\":\"\"},\"colorscale\":[[0.0,\"#0d0887\"],[0.1111111111111111,\"#46039f\"],[0.2222222222222222,\"#7201a8\"],[0.3333333333333333,\"#9c179e\"],[0.4444444444444444,\"#bd3786\"],[0.5555555555555556,\"#d8576b\"],[0.6666666666666666,\"#ed7953\"],[0.7777777777777778,\"#fb9f3a\"],[0.8888888888888888,\"#fdca26\"],[1.0,\"#f0f921\"]]}],\"contourcarpet\":[{\"type\":\"contourcarpet\",\"colorbar\":{\"outlinewidth\":0,\"ticks\":\"\"}}],\"contour\":[{\"type\":\"contour\",\"colorbar\":{\"outlinewidth\":0,\"ticks\":\"\"},\"colorscale\":[[0.0,\"#0d0887\"],[0.1111111111111111,\"#46039f\"],[0.2222222222222222,\"#7201a8\"],[0.3333333333333333,\"#9c179e\"],[0.4444444444444444,\"#bd3786\"],[0.5555555555555556,\"#d8576b\"],[0.6666666666666666,\"#ed7953\"],[0.7777777777777778,\"#fb9f3a\"],[0.8888888888888888,\"#fdca26\"],[1.0,\"#f0f921\"]]}],\"surface\":[{\"type\":\"surface\",\"colorbar\":{\"outlinewidth\":0,\"ticks\":\"\"},\"colorscale\":[[0.0,\"#0d0887\"],[0.1111111111111111,\"#46039f\"],[0.2222222222222222,\"#7201a8\"],[0.3333333333333333,\"#9c179e\"],[0.4444444444444444,\"#bd3786\"],[0.5555555555555556,\"#d8576b\"],[0.6666666666666666,\"#ed7953\"],[0.7777777777777778,\"#fb9f3a\"],[0.8888888888888888,\"#fdca26\"],[1.0,\"#f0f921\"]]}],\"mesh3d\":[{\"type\":\"mesh3d\",\"colorbar\":{\"outlinewidth\":0,\"ticks\":\"\"}}],\"scatter\":[{\"fillpattern\":{\"fillmode\":\"overlay\",\"size\":10,\"solidity\":0.2},\"type\":\"scatter\"}],\"parcoords\":[{\"type\":\"parcoords\",\"line\":{\"colorbar\":{\"outlinewidth\":0,\"ticks\":\"\"}}}],\"scatterpolargl\":[{\"type\":\"scatterpolargl\",\"marker\":{\"colorbar\":{\"outlinewidth\":0,\"ticks\":\"\"}}}],\"bar\":[{\"error_x\":{\"color\":\"#2a3f5f\"},\"error_y\":{\"color\":\"#2a3f5f\"},\"marker\":{\"line\":{\"color\":\"#E5ECF6\",\"width\":0.5},\"pattern\":{\"fillmode\":\"overlay\",\"size\":10,\"solidity\":0.2}},\"type\":\"bar\"}],\"scattergeo\":[{\"type\":\"scattergeo\",\"marker\":{\"colorbar\":{\"outlinewidth\":0,\"ticks\":\"\"}}}],\"scatterpolar\":[{\"type\":\"scatterpolar\",\"marker\":{\"colorbar\":{\"outlinewidth\":0,\"ticks\":\"\"}}}],\"histogram\":[{\"marker\":{\"pattern\":{\"fillmode\":\"overlay\",\"size\":10,\"solidity\":0.2}},\"type\":\"histogram\"}],\"scattergl\":[{\"type\":\"scattergl\",\"marker\":{\"colorbar\":{\"outlinewidth\":0,\"ticks\":\"\"}}}],\"scatter3d\":[{\"type\":\"scatter3d\",\"line\":{\"colorbar\":{\"outlinewidth\":0,\"ticks\":\"\"}},\"marker\":{\"colorbar\":{\"outlinewidth\":0,\"ticks\":\"\"}}}],\"scattermapbox\":[{\"type\":\"scattermapbox\",\"marker\":{\"colorbar\":{\"outlinewidth\":0,\"ticks\":\"\"}}}],\"scatterternary\":[{\"type\":\"scatterternary\",\"marker\":{\"colorbar\":{\"outlinewidth\":0,\"ticks\":\"\"}}}],\"scattercarpet\":[{\"type\":\"scattercarpet\",\"marker\":{\"colorbar\":{\"outlinewidth\":0,\"ticks\":\"\"}}}],\"carpet\":[{\"aaxis\":{\"endlinecolor\":\"#2a3f5f\",\"gridcolor\":\"white\",\"linecolor\":\"white\",\"minorgridcolor\":\"white\",\"startlinecolor\":\"#2a3f5f\"},\"baxis\":{\"endlinecolor\":\"#2a3f5f\",\"gridcolor\":\"white\",\"linecolor\":\"white\",\"minorgridcolor\":\"white\",\"startlinecolor\":\"#2a3f5f\"},\"type\":\"carpet\"}],\"table\":[{\"cells\":{\"fill\":{\"color\":\"#EBF0F8\"},\"line\":{\"color\":\"white\"}},\"header\":{\"fill\":{\"color\":\"#C8D4E3\"},\"line\":{\"color\":\"white\"}},\"type\":\"table\"}],\"barpolar\":[{\"marker\":{\"line\":{\"color\":\"#E5ECF6\",\"width\":0.5},\"pattern\":{\"fillmode\":\"overlay\",\"size\":10,\"solidity\":0.2}},\"type\":\"barpolar\"}],\"pie\":[{\"automargin\":true,\"type\":\"pie\"}]},\"layout\":{\"autotypenumbers\":\"strict\",\"colorway\":[\"#636efa\",\"#EF553B\",\"#00cc96\",\"#ab63fa\",\"#FFA15A\",\"#19d3f3\",\"#FF6692\",\"#B6E880\",\"#FF97FF\",\"#FECB52\"],\"font\":{\"color\":\"#2a3f5f\"},\"hovermode\":\"closest\",\"hoverlabel\":{\"align\":\"left\"},\"paper_bgcolor\":\"white\",\"plot_bgcolor\":\"#E5ECF6\",\"polar\":{\"bgcolor\":\"#E5ECF6\",\"angularaxis\":{\"gridcolor\":\"white\",\"linecolor\":\"white\",\"ticks\":\"\"},\"radialaxis\":{\"gridcolor\":\"white\",\"linecolor\":\"white\",\"ticks\":\"\"}},\"ternary\":{\"bgcolor\":\"#E5ECF6\",\"aaxis\":{\"gridcolor\":\"white\",\"linecolor\":\"white\",\"ticks\":\"\"},\"baxis\":{\"gridcolor\":\"white\",\"linecolor\":\"white\",\"ticks\":\"\"},\"caxis\":{\"gridcolor\":\"white\",\"linecolor\":\"white\",\"ticks\":\"\"}},\"coloraxis\":{\"colorbar\":{\"outlinewidth\":0,\"ticks\":\"\"}},\"colorscale\":{\"sequential\":[[0.0,\"#0d0887\"],[0.1111111111111111,\"#46039f\"],[0.2222222222222222,\"#7201a8\"],[0.3333333333333333,\"#9c179e\"],[0.4444444444444444,\"#bd3786\"],[0.5555555555555556,\"#d8576b\"],[0.6666666666666666,\"#ed7953\"],[0.7777777777777778,\"#fb9f3a\"],[0.8888888888888888,\"#fdca26\"],[1.0,\"#f0f921\"]],\"sequentialminus\":[[0.0,\"#0d0887\"],[0.1111111111111111,\"#46039f\"],[0.2222222222222222,\"#7201a8\"],[0.3333333333333333,\"#9c179e\"],[0.4444444444444444,\"#bd3786\"],[0.5555555555555556,\"#d8576b\"],[0.6666666666666666,\"#ed7953\"],[0.7777777777777778,\"#fb9f3a\"],[0.8888888888888888,\"#fdca26\"],[1.0,\"#f0f921\"]],\"diverging\":[[0,\"#8e0152\"],[0.1,\"#c51b7d\"],[0.2,\"#de77ae\"],[0.3,\"#f1b6da\"],[0.4,\"#fde0ef\"],[0.5,\"#f7f7f7\"],[0.6,\"#e6f5d0\"],[0.7,\"#b8e186\"],[0.8,\"#7fbc41\"],[0.9,\"#4d9221\"],[1,\"#276419\"]]},\"xaxis\":{\"gridcolor\":\"white\",\"linecolor\":\"white\",\"ticks\":\"\",\"title\":{\"standoff\":15},\"zerolinecolor\":\"white\",\"automargin\":true,\"zerolinewidth\":2},\"yaxis\":{\"gridcolor\":\"white\",\"linecolor\":\"white\",\"ticks\":\"\",\"title\":{\"standoff\":15},\"zerolinecolor\":\"white\",\"automargin\":true,\"zerolinewidth\":2},\"scene\":{\"xaxis\":{\"backgroundcolor\":\"#E5ECF6\",\"gridcolor\":\"white\",\"linecolor\":\"white\",\"showbackground\":true,\"ticks\":\"\",\"zerolinecolor\":\"white\",\"gridwidth\":2},\"yaxis\":{\"backgroundcolor\":\"#E5ECF6\",\"gridcolor\":\"white\",\"linecolor\":\"white\",\"showbackground\":true,\"ticks\":\"\",\"zerolinecolor\":\"white\",\"gridwidth\":2},\"zaxis\":{\"backgroundcolor\":\"#E5ECF6\",\"gridcolor\":\"white\",\"linecolor\":\"white\",\"showbackground\":true,\"ticks\":\"\",\"zerolinecolor\":\"white\",\"gridwidth\":2}},\"shapedefaults\":{\"line\":{\"color\":\"#2a3f5f\"}},\"annotationdefaults\":{\"arrowcolor\":\"#2a3f5f\",\"arrowhead\":0,\"arrowwidth\":1},\"geo\":{\"bgcolor\":\"white\",\"landcolor\":\"#E5ECF6\",\"subunitcolor\":\"white\",\"showland\":true,\"showlakes\":true,\"lakecolor\":\"white\"},\"title\":{\"x\":0.05},\"mapbox\":{\"style\":\"light\"}}},\"xaxis\":{\"anchor\":\"y\",\"domain\":[0.0,1.0],\"title\":{\"text\":\"Disease Stage\",\"font\":{\"size\":18}},\"tickmode\":\"linear\",\"tick0\":0.0,\"dtick\":0.1,\"range\":[-0.05,1.0],\"tickfont\":{\"size\":14}},\"yaxis\":{\"anchor\":\"x\",\"domain\":[0.575,1.0],\"title\":{\"text\":\"Frequency of occurences\",\"font\":{\"size\":18}},\"tickfont\":{\"size\":14}},\"xaxis2\":{\"anchor\":\"y2\",\"domain\":[0.0,1.0],\"title\":{\"font\":{\"size\":18}},\"tickfont\":{\"size\":14}},\"yaxis2\":{\"anchor\":\"x2\",\"domain\":[0.0,0.425],\"title\":{\"font\":{\"size\":18}},\"tickfont\":{\"size\":14}},\"title\":{\"text\":\"Patient Staging\",\"font\":{\"size\":34},\"x\":0.5},\"legend\":{\"font\":{\"size\":16}},\"barmode\":\"group\",\"autosize\":false,\"width\":1000,\"height\":1200,\"hovermode\":\"x\"},                        {\"responsive\": true}                    ).then(function(){\n",
       "                            \n",
       "var gd = document.getElementById('d2b3d3d4-e275-4ecf-9b6d-deee56f8e403');\n",
       "var x = new MutationObserver(function (mutations, observer) {{\n",
       "        var display = window.getComputedStyle(gd).display;\n",
       "        if (!display || display === 'none') {{\n",
       "            console.log([gd, 'removed!']);\n",
       "            Plotly.purge(gd);\n",
       "            observer.disconnect();\n",
       "        }}\n",
       "}});\n",
       "\n",
       "// Listen for the removal of the full notebook cells\n",
       "var notebookContainer = gd.closest('#notebook-container');\n",
       "if (notebookContainer) {{\n",
       "    x.observe(notebookContainer, {childList: true});\n",
       "}}\n",
       "\n",
       "// Listen for the clearing of the current output cell\n",
       "var outputEl = gd.closest('.output');\n",
       "if (outputEl) {{\n",
       "    x.observe(outputEl, {childList: true});\n",
       "}}\n",
       "\n",
       "                        })                };                });            </script>        </div>"
      ]
     },
     "metadata": {},
     "output_type": "display_data"
    }
   ],
   "source": [
    "fig = staging(S=S,\n",
    "                      diagnosis=diagnosis, \n",
    "                      color_list = color_list,\n",
    "                      num_bins=10, \n",
    "                      bin_width=0.04)\n",
    "fig"
   ]
  },
  {
   "cell_type": "code",
   "execution_count": null,
   "id": "ad97a195",
   "metadata": {},
   "outputs": [],
   "source": []
  }
 ],
 "metadata": {
  "kernelspec": {
   "display_name": "Python 3 (ipykernel)",
   "language": "python",
   "name": "python3"
  },
  "language_info": {
   "codemirror_mode": {
    "name": "ipython",
    "version": 3
   },
   "file_extension": ".py",
   "mimetype": "text/x-python",
   "name": "python",
   "nbconvert_exporter": "python",
   "pygments_lexer": "ipython3",
   "version": "3.9.12"
  }
 },
 "nbformat": 4,
 "nbformat_minor": 5
}
