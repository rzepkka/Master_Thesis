{
 "cells": [
  {
   "cell_type": "code",
   "execution_count": 16,
   "id": "0a8b53eb",
   "metadata": {},
   "outputs": [],
   "source": [
    "from matplotlib import pyplot as plt \n",
    "import numpy as np \n",
    "import pandas as pd \n",
    "import plotly.express as px\n",
    "import plotly.io as pio\n",
    "import plotly.graph_objs as go\n",
    "import plotly.offline as pyo\n",
    "import pickle\n",
    "\n",
    "from collections import Counter\n",
    "\n",
    "import plotly.graph_objects as go\n",
    "import plotly.express as px\n",
    "from plotly.subplots import make_subplots\n",
    "\n",
    "from matplotlib import rc"
   ]
  },
  {
   "cell_type": "markdown",
   "id": "7591cd71",
   "metadata": {},
   "source": [
    "### Load pickle"
   ]
  },
  {
   "cell_type": "code",
   "execution_count": 60,
   "id": "dd12f891",
   "metadata": {},
   "outputs": [],
   "source": [
    "# NEW FILE\n",
    "read_input = open('data/EDADS_subtype_timelines_agecorrected_opt.pickle','rb')\n",
    "load_inputs = pickle.load(read_input)\n",
    "read_input.close()\n",
    "\n",
    "T, S, Sboot = load_inputs\n",
    "\n",
    "diagnosis = np.load('data/diagnosis.npy', allow_pickle=True)"
   ]
  },
  {
   "cell_type": "markdown",
   "id": "b2a2a0f6",
   "metadata": {},
   "source": [
    "- T --> timeline (timeline object)\n",
    "\n",
    "- S --> subjects (dict)"
   ]
  },
  {
   "cell_type": "code",
   "execution_count": 61,
   "id": "78ee57b6",
   "metadata": {},
   "outputs": [
    {
     "data": {
      "text/plain": [
       "2236"
      ]
     },
     "execution_count": 61,
     "metadata": {},
     "output_type": "execute_result"
    }
   ],
   "source": [
    "len(S['staging'])"
   ]
  },
  {
   "cell_type": "code",
   "execution_count": 62,
   "id": "260d2d5b",
   "metadata": {},
   "outputs": [
    {
     "data": {
      "text/plain": [
       "array(['AD', 'AD', 'MCI', ..., 'AD', 'SCD', 'MCI'], dtype=object)"
      ]
     },
     "execution_count": 62,
     "metadata": {},
     "output_type": "execute_result"
    }
   ],
   "source": [
    "diagnosis"
   ]
  },
  {
   "cell_type": "code",
   "execution_count": 63,
   "id": "b60180ec",
   "metadata": {},
   "outputs": [
    {
     "data": {
      "text/plain": [
       "{'AD', 'CN', 'MCI', 'SCD'}"
      ]
     },
     "execution_count": 63,
     "metadata": {},
     "output_type": "execute_result"
    }
   ],
   "source": [
    "set(diagnosis)"
   ]
  },
  {
   "cell_type": "code",
   "execution_count": 64,
   "id": "59a95aac",
   "metadata": {},
   "outputs": [
    {
     "data": {
      "text/plain": [
       "{'AD': 1054, 'MCI': 322, 'CN': 676, 'SCD': 184}"
      ]
     },
     "execution_count": 64,
     "metadata": {},
     "output_type": "execute_result"
    }
   ],
   "source": [
    "counter = dict(Counter(diagnosis))\n",
    "counter"
   ]
  },
  {
   "cell_type": "markdown",
   "id": "2d443559",
   "metadata": {},
   "source": [
    "### Convert Nans to 0.0"
   ]
  },
  {
   "cell_type": "code",
   "execution_count": 65,
   "id": "96eec35f",
   "metadata": {},
   "outputs": [],
   "source": [
    "staging = [np.float64(0.0) if np.isnan(stage) else stage for stage in staging]"
   ]
  },
  {
   "cell_type": "markdown",
   "id": "3fc58717",
   "metadata": {},
   "source": [
    "### Get labels"
   ]
  },
  {
   "cell_type": "code",
   "execution_count": 66,
   "id": "c8c12446",
   "metadata": {},
   "outputs": [
    {
     "data": {
      "text/plain": [
       "['CN', 'AD', 'SCD', 'MCI']"
      ]
     },
     "execution_count": 66,
     "metadata": {},
     "output_type": "execute_result"
    }
   ],
   "source": [
    "labels = list(set(diagnosis))\n",
    "labels"
   ]
  },
  {
   "cell_type": "code",
   "execution_count": 67,
   "id": "ad6ce9a9",
   "metadata": {},
   "outputs": [
    {
     "data": {
      "text/plain": [
       "'#4daf4a'"
      ]
     },
     "execution_count": 67,
     "metadata": {},
     "output_type": "execute_result"
    }
   ],
   "source": [
    "color_list = ['#4daf4a','#377eb8','#e41a1c', '#ffff00']"
   ]
  },
  {
   "cell_type": "markdown",
   "id": "28c44e9f",
   "metadata": {},
   "source": [
    "## Patient staging function"
   ]
  },
  {
   "cell_type": "code",
   "execution_count": 80,
   "id": "90b4afb1",
   "metadata": {},
   "outputs": [],
   "source": [
    "def patient_staging(S, diagnosis, color_list=['#000000'], num_bins=10, bin_width=0.02):\n",
    "    \"\"\"\n",
    "    Creates a barplot\n",
    "    :param S: dictionary, Snowphlake output\n",
    "    :param diagnosis: np.array or list; with diagnosis labels corresponding to records in S\n",
    "    :param color_list: list with color hex values\n",
    "    :param num_bins: int, how many bins should be displayed\n",
    "    :param bin_width: int\n",
    "    :return: plotly go Bar figure\n",
    "    \"\"\"  \n",
    "    \n",
    "    # Convert NaNs to 0.0\n",
    "    staging = np.array([np.float64(0.0) if np.isnan(stage) else stage for stage in S['staging']])\n",
    "#     staging = S['staging']\n",
    "   \n",
    "    # Count number of each subtype occurences\n",
    "    counter = dict(Counter(diagnosis))\n",
    "        \n",
    "    # Get labels\n",
    "    labels = list(set(diagnosis))\n",
    "    \n",
    "    # Get indexes\n",
    "    diagnosis = np.array(diagnosis)\n",
    "    staging = np.array(staging)\n",
    "    \n",
    "    # Get indexes for each diagnostic label\n",
    "    idx_list = []\n",
    "    for l in labels:\n",
    "        idx = np.where(diagnosis==l)\n",
    "        idx = idx[0]\n",
    "        idx_list.append(idx)\n",
    "\n",
    "    # Bar settings\n",
    "    num_bins = num_bins\n",
    "    bin_width = np.repeat(bin_width, num_bins)\n",
    "          \n",
    "    color_list = color_list\n",
    "        \n",
    "    count=-1    \n",
    "    num_bins = num_bins\n",
    "    bar_width = np.repeat(0.02, num_bins)\n",
    "    counter = dict(Counter(diagnosis))\n",
    "\n",
    "    fig = go.Figure()\n",
    "    \n",
    "    for count,idx in enumerate(idx_list):\n",
    "        freq,binc=np.histogram(staging[idx],bins=num_bins)\n",
    "        freq = (1.*freq)/len(staging)\n",
    "\n",
    "        label = labels[count]\n",
    "\n",
    "        fig.add_trace(go.Bar(\n",
    "                    x=binc[:-1],\n",
    "                    y=freq,\n",
    "                    name=f'{label} (n = {counter[label]})',\n",
    "                    width=bin_width,\n",
    "                    marker_color=color_list[count]\n",
    "            )) \n",
    "\n",
    "    fig.update_layout(\n",
    "        title=\"Patient Staging\",\n",
    "        title_font_size=34,\n",
    "        title_x=0.5,\n",
    "        xaxis_title=\"Disease Stage\",\n",
    "        yaxis_title=\"Frequency of occurences\",\n",
    "        xaxis = dict(\n",
    "            tickmode = 'linear',\n",
    "            tick0 = 0.0,\n",
    "            dtick = 0.1\n",
    "        ),\n",
    "        barmode='group',\n",
    "        legend_font_size=16,\n",
    "        legend=dict(\n",
    "            yanchor=\"top\",\n",
    "            y=0.95,\n",
    "            xanchor=\"right\",\n",
    "            x=0.95),\n",
    "        autosize = False,\n",
    "        width=1000,\n",
    "        height=800\n",
    "    )\n",
    "    \n",
    "    fig.update_xaxes(range=[-0.05, 1.0])\n",
    "    \n",
    "    fig.update_yaxes(title_font_size = 18, \n",
    "                    tickfont_size=14)\n",
    "    \n",
    "    fig.update_xaxes(title_font_size = 18, \n",
    "                    tickfont_size = 14)\n",
    "\n",
    "    return fig"
   ]
  },
  {
   "cell_type": "code",
   "execution_count": 81,
   "id": "8476bf6e",
   "metadata": {},
   "outputs": [],
   "source": [
    "# FOR TESTING\n",
    "# diagnosis = np.array(['Control' if np.isnan(subtype) else \"FTD\" for subtype in S['subtypes']])\n",
    "\n",
    "num_bins = 10\n",
    "bin_width = 0.02\n",
    "color_list = ['#4daf4a','#377eb8','#e41a1c', '#ffff00']\n"
   ]
  },
  {
   "cell_type": "code",
   "execution_count": 82,
   "id": "c3c94ce1",
   "metadata": {},
   "outputs": [
    {
     "data": {
      "application/vnd.plotly.v1+json": {
       "config": {
        "plotlyServerURL": "https://plot.ly"
       },
       "data": [
        {
         "marker": {
          "color": "#4daf4a"
         },
         "name": "CN (n = 676)",
         "type": "bar",
         "width": [
          0.04,
          0.04,
          0.04,
          0.04,
          0.04,
          0.04,
          0.04,
          0.04,
          0.04,
          0.04
         ],
         "x": [
          -0.5,
          -0.4,
          -0.3,
          -0.19999999999999996,
          -0.09999999999999998,
          0,
          0.10000000000000009,
          0.20000000000000007,
          0.30000000000000004,
          0.4
         ],
         "y": [
          0,
          0,
          0,
          0,
          0,
          0.3023255813953488,
          0,
          0,
          0,
          0
         ]
        },
        {
         "marker": {
          "color": "#377eb8"
         },
         "name": "AD (n = 1054)",
         "type": "bar",
         "width": [
          0.04,
          0.04,
          0.04,
          0.04,
          0.04,
          0.04,
          0.04,
          0.04,
          0.04,
          0.04
         ],
         "x": [
          0,
          0.08820152139902757,
          0.17640304279805513,
          0.26460456419708267,
          0.35280608559611026,
          0.44100760699513786,
          0.5292091283941653,
          0.6174106497931929,
          0.7056121711922205,
          0.7938136925912481
         ],
         "y": [
          0.07826475849731664,
          0.01520572450805009,
          0.027728085867620753,
          0.03488372093023256,
          0.06082289803220036,
          0.08273703041144902,
          0.07513416815742398,
          0.0518783542039356,
          0.017889087656529516,
          0.026833631484794274
         ]
        },
        {
         "marker": {
          "color": "#e41a1c"
         },
         "name": "SCD (n = 184)",
         "type": "bar",
         "width": [
          0.04,
          0.04,
          0.04,
          0.04,
          0.04,
          0.04,
          0.04,
          0.04,
          0.04,
          0.04
         ],
         "x": [
          0,
          0.058446396017086163,
          0.11689279203417233,
          0.17533918805125848,
          0.23378558406834465,
          0.29223198008543083,
          0.35067837610251695,
          0.40912477211960313,
          0.4675711681366893,
          0.5260175641537754
         ],
         "y": [
          0.02728085867620751,
          0.0035778175313059034,
          0.005813953488372093,
          0.009391771019677997,
          0.010286225402504472,
          0.008944543828264758,
          0.007155635062611807,
          0.004472271914132379,
          0.0022361359570661895,
          0.0031305903398926656
         ]
        },
        {
         "marker": {
          "color": "#ffff00"
         },
         "name": "MCI (n = 322)",
         "type": "bar",
         "width": [
          0.04,
          0.04,
          0.04,
          0.04,
          0.04,
          0.04,
          0.04,
          0.04,
          0.04,
          0.04
         ],
         "x": [
          0,
          0.08418995465716755,
          0.1683799093143351,
          0.25256986397150266,
          0.3367598186286702,
          0.42094977328583777,
          0.5051397279430053,
          0.5893296826001728,
          0.6735196372573404,
          0.757709591914508
         ],
         "y": [
          0.02996422182468694,
          0.006261180679785331,
          0.01699463327370304,
          0.025044722719141325,
          0.020125223613595707,
          0.02101967799642218,
          0.014311270125223614,
          0.007602862254025045,
          0.0022361359570661895,
          0.0004472271914132379
         ]
        }
       ],
       "layout": {
        "autosize": false,
        "barmode": "group",
        "height": 800,
        "legend": {
         "font": {
          "size": 16
         },
         "x": 0.95,
         "xanchor": "right",
         "y": 0.95,
         "yanchor": "top"
        },
        "template": {
         "data": {
          "bar": [
           {
            "error_x": {
             "color": "#2a3f5f"
            },
            "error_y": {
             "color": "#2a3f5f"
            },
            "marker": {
             "line": {
              "color": "#E5ECF6",
              "width": 0.5
             },
             "pattern": {
              "fillmode": "overlay",
              "size": 10,
              "solidity": 0.2
             }
            },
            "type": "bar"
           }
          ],
          "barpolar": [
           {
            "marker": {
             "line": {
              "color": "#E5ECF6",
              "width": 0.5
             },
             "pattern": {
              "fillmode": "overlay",
              "size": 10,
              "solidity": 0.2
             }
            },
            "type": "barpolar"
           }
          ],
          "carpet": [
           {
            "aaxis": {
             "endlinecolor": "#2a3f5f",
             "gridcolor": "white",
             "linecolor": "white",
             "minorgridcolor": "white",
             "startlinecolor": "#2a3f5f"
            },
            "baxis": {
             "endlinecolor": "#2a3f5f",
             "gridcolor": "white",
             "linecolor": "white",
             "minorgridcolor": "white",
             "startlinecolor": "#2a3f5f"
            },
            "type": "carpet"
           }
          ],
          "choropleth": [
           {
            "colorbar": {
             "outlinewidth": 0,
             "ticks": ""
            },
            "type": "choropleth"
           }
          ],
          "contour": [
           {
            "colorbar": {
             "outlinewidth": 0,
             "ticks": ""
            },
            "colorscale": [
             [
              0,
              "#0d0887"
             ],
             [
              0.1111111111111111,
              "#46039f"
             ],
             [
              0.2222222222222222,
              "#7201a8"
             ],
             [
              0.3333333333333333,
              "#9c179e"
             ],
             [
              0.4444444444444444,
              "#bd3786"
             ],
             [
              0.5555555555555556,
              "#d8576b"
             ],
             [
              0.6666666666666666,
              "#ed7953"
             ],
             [
              0.7777777777777778,
              "#fb9f3a"
             ],
             [
              0.8888888888888888,
              "#fdca26"
             ],
             [
              1,
              "#f0f921"
             ]
            ],
            "type": "contour"
           }
          ],
          "contourcarpet": [
           {
            "colorbar": {
             "outlinewidth": 0,
             "ticks": ""
            },
            "type": "contourcarpet"
           }
          ],
          "heatmap": [
           {
            "colorbar": {
             "outlinewidth": 0,
             "ticks": ""
            },
            "colorscale": [
             [
              0,
              "#0d0887"
             ],
             [
              0.1111111111111111,
              "#46039f"
             ],
             [
              0.2222222222222222,
              "#7201a8"
             ],
             [
              0.3333333333333333,
              "#9c179e"
             ],
             [
              0.4444444444444444,
              "#bd3786"
             ],
             [
              0.5555555555555556,
              "#d8576b"
             ],
             [
              0.6666666666666666,
              "#ed7953"
             ],
             [
              0.7777777777777778,
              "#fb9f3a"
             ],
             [
              0.8888888888888888,
              "#fdca26"
             ],
             [
              1,
              "#f0f921"
             ]
            ],
            "type": "heatmap"
           }
          ],
          "heatmapgl": [
           {
            "colorbar": {
             "outlinewidth": 0,
             "ticks": ""
            },
            "colorscale": [
             [
              0,
              "#0d0887"
             ],
             [
              0.1111111111111111,
              "#46039f"
             ],
             [
              0.2222222222222222,
              "#7201a8"
             ],
             [
              0.3333333333333333,
              "#9c179e"
             ],
             [
              0.4444444444444444,
              "#bd3786"
             ],
             [
              0.5555555555555556,
              "#d8576b"
             ],
             [
              0.6666666666666666,
              "#ed7953"
             ],
             [
              0.7777777777777778,
              "#fb9f3a"
             ],
             [
              0.8888888888888888,
              "#fdca26"
             ],
             [
              1,
              "#f0f921"
             ]
            ],
            "type": "heatmapgl"
           }
          ],
          "histogram": [
           {
            "marker": {
             "pattern": {
              "fillmode": "overlay",
              "size": 10,
              "solidity": 0.2
             }
            },
            "type": "histogram"
           }
          ],
          "histogram2d": [
           {
            "colorbar": {
             "outlinewidth": 0,
             "ticks": ""
            },
            "colorscale": [
             [
              0,
              "#0d0887"
             ],
             [
              0.1111111111111111,
              "#46039f"
             ],
             [
              0.2222222222222222,
              "#7201a8"
             ],
             [
              0.3333333333333333,
              "#9c179e"
             ],
             [
              0.4444444444444444,
              "#bd3786"
             ],
             [
              0.5555555555555556,
              "#d8576b"
             ],
             [
              0.6666666666666666,
              "#ed7953"
             ],
             [
              0.7777777777777778,
              "#fb9f3a"
             ],
             [
              0.8888888888888888,
              "#fdca26"
             ],
             [
              1,
              "#f0f921"
             ]
            ],
            "type": "histogram2d"
           }
          ],
          "histogram2dcontour": [
           {
            "colorbar": {
             "outlinewidth": 0,
             "ticks": ""
            },
            "colorscale": [
             [
              0,
              "#0d0887"
             ],
             [
              0.1111111111111111,
              "#46039f"
             ],
             [
              0.2222222222222222,
              "#7201a8"
             ],
             [
              0.3333333333333333,
              "#9c179e"
             ],
             [
              0.4444444444444444,
              "#bd3786"
             ],
             [
              0.5555555555555556,
              "#d8576b"
             ],
             [
              0.6666666666666666,
              "#ed7953"
             ],
             [
              0.7777777777777778,
              "#fb9f3a"
             ],
             [
              0.8888888888888888,
              "#fdca26"
             ],
             [
              1,
              "#f0f921"
             ]
            ],
            "type": "histogram2dcontour"
           }
          ],
          "mesh3d": [
           {
            "colorbar": {
             "outlinewidth": 0,
             "ticks": ""
            },
            "type": "mesh3d"
           }
          ],
          "parcoords": [
           {
            "line": {
             "colorbar": {
              "outlinewidth": 0,
              "ticks": ""
             }
            },
            "type": "parcoords"
           }
          ],
          "pie": [
           {
            "automargin": true,
            "type": "pie"
           }
          ],
          "scatter": [
           {
            "fillpattern": {
             "fillmode": "overlay",
             "size": 10,
             "solidity": 0.2
            },
            "type": "scatter"
           }
          ],
          "scatter3d": [
           {
            "line": {
             "colorbar": {
              "outlinewidth": 0,
              "ticks": ""
             }
            },
            "marker": {
             "colorbar": {
              "outlinewidth": 0,
              "ticks": ""
             }
            },
            "type": "scatter3d"
           }
          ],
          "scattercarpet": [
           {
            "marker": {
             "colorbar": {
              "outlinewidth": 0,
              "ticks": ""
             }
            },
            "type": "scattercarpet"
           }
          ],
          "scattergeo": [
           {
            "marker": {
             "colorbar": {
              "outlinewidth": 0,
              "ticks": ""
             }
            },
            "type": "scattergeo"
           }
          ],
          "scattergl": [
           {
            "marker": {
             "colorbar": {
              "outlinewidth": 0,
              "ticks": ""
             }
            },
            "type": "scattergl"
           }
          ],
          "scattermapbox": [
           {
            "marker": {
             "colorbar": {
              "outlinewidth": 0,
              "ticks": ""
             }
            },
            "type": "scattermapbox"
           }
          ],
          "scatterpolar": [
           {
            "marker": {
             "colorbar": {
              "outlinewidth": 0,
              "ticks": ""
             }
            },
            "type": "scatterpolar"
           }
          ],
          "scatterpolargl": [
           {
            "marker": {
             "colorbar": {
              "outlinewidth": 0,
              "ticks": ""
             }
            },
            "type": "scatterpolargl"
           }
          ],
          "scatterternary": [
           {
            "marker": {
             "colorbar": {
              "outlinewidth": 0,
              "ticks": ""
             }
            },
            "type": "scatterternary"
           }
          ],
          "surface": [
           {
            "colorbar": {
             "outlinewidth": 0,
             "ticks": ""
            },
            "colorscale": [
             [
              0,
              "#0d0887"
             ],
             [
              0.1111111111111111,
              "#46039f"
             ],
             [
              0.2222222222222222,
              "#7201a8"
             ],
             [
              0.3333333333333333,
              "#9c179e"
             ],
             [
              0.4444444444444444,
              "#bd3786"
             ],
             [
              0.5555555555555556,
              "#d8576b"
             ],
             [
              0.6666666666666666,
              "#ed7953"
             ],
             [
              0.7777777777777778,
              "#fb9f3a"
             ],
             [
              0.8888888888888888,
              "#fdca26"
             ],
             [
              1,
              "#f0f921"
             ]
            ],
            "type": "surface"
           }
          ],
          "table": [
           {
            "cells": {
             "fill": {
              "color": "#EBF0F8"
             },
             "line": {
              "color": "white"
             }
            },
            "header": {
             "fill": {
              "color": "#C8D4E3"
             },
             "line": {
              "color": "white"
             }
            },
            "type": "table"
           }
          ]
         },
         "layout": {
          "annotationdefaults": {
           "arrowcolor": "#2a3f5f",
           "arrowhead": 0,
           "arrowwidth": 1
          },
          "autotypenumbers": "strict",
          "coloraxis": {
           "colorbar": {
            "outlinewidth": 0,
            "ticks": ""
           }
          },
          "colorscale": {
           "diverging": [
            [
             0,
             "#8e0152"
            ],
            [
             0.1,
             "#c51b7d"
            ],
            [
             0.2,
             "#de77ae"
            ],
            [
             0.3,
             "#f1b6da"
            ],
            [
             0.4,
             "#fde0ef"
            ],
            [
             0.5,
             "#f7f7f7"
            ],
            [
             0.6,
             "#e6f5d0"
            ],
            [
             0.7,
             "#b8e186"
            ],
            [
             0.8,
             "#7fbc41"
            ],
            [
             0.9,
             "#4d9221"
            ],
            [
             1,
             "#276419"
            ]
           ],
           "sequential": [
            [
             0,
             "#0d0887"
            ],
            [
             0.1111111111111111,
             "#46039f"
            ],
            [
             0.2222222222222222,
             "#7201a8"
            ],
            [
             0.3333333333333333,
             "#9c179e"
            ],
            [
             0.4444444444444444,
             "#bd3786"
            ],
            [
             0.5555555555555556,
             "#d8576b"
            ],
            [
             0.6666666666666666,
             "#ed7953"
            ],
            [
             0.7777777777777778,
             "#fb9f3a"
            ],
            [
             0.8888888888888888,
             "#fdca26"
            ],
            [
             1,
             "#f0f921"
            ]
           ],
           "sequentialminus": [
            [
             0,
             "#0d0887"
            ],
            [
             0.1111111111111111,
             "#46039f"
            ],
            [
             0.2222222222222222,
             "#7201a8"
            ],
            [
             0.3333333333333333,
             "#9c179e"
            ],
            [
             0.4444444444444444,
             "#bd3786"
            ],
            [
             0.5555555555555556,
             "#d8576b"
            ],
            [
             0.6666666666666666,
             "#ed7953"
            ],
            [
             0.7777777777777778,
             "#fb9f3a"
            ],
            [
             0.8888888888888888,
             "#fdca26"
            ],
            [
             1,
             "#f0f921"
            ]
           ]
          },
          "colorway": [
           "#636efa",
           "#EF553B",
           "#00cc96",
           "#ab63fa",
           "#FFA15A",
           "#19d3f3",
           "#FF6692",
           "#B6E880",
           "#FF97FF",
           "#FECB52"
          ],
          "font": {
           "color": "#2a3f5f"
          },
          "geo": {
           "bgcolor": "white",
           "lakecolor": "white",
           "landcolor": "#E5ECF6",
           "showlakes": true,
           "showland": true,
           "subunitcolor": "white"
          },
          "hoverlabel": {
           "align": "left"
          },
          "hovermode": "closest",
          "mapbox": {
           "style": "light"
          },
          "paper_bgcolor": "white",
          "plot_bgcolor": "#E5ECF6",
          "polar": {
           "angularaxis": {
            "gridcolor": "white",
            "linecolor": "white",
            "ticks": ""
           },
           "bgcolor": "#E5ECF6",
           "radialaxis": {
            "gridcolor": "white",
            "linecolor": "white",
            "ticks": ""
           }
          },
          "scene": {
           "xaxis": {
            "backgroundcolor": "#E5ECF6",
            "gridcolor": "white",
            "gridwidth": 2,
            "linecolor": "white",
            "showbackground": true,
            "ticks": "",
            "zerolinecolor": "white"
           },
           "yaxis": {
            "backgroundcolor": "#E5ECF6",
            "gridcolor": "white",
            "gridwidth": 2,
            "linecolor": "white",
            "showbackground": true,
            "ticks": "",
            "zerolinecolor": "white"
           },
           "zaxis": {
            "backgroundcolor": "#E5ECF6",
            "gridcolor": "white",
            "gridwidth": 2,
            "linecolor": "white",
            "showbackground": true,
            "ticks": "",
            "zerolinecolor": "white"
           }
          },
          "shapedefaults": {
           "line": {
            "color": "#2a3f5f"
           }
          },
          "ternary": {
           "aaxis": {
            "gridcolor": "white",
            "linecolor": "white",
            "ticks": ""
           },
           "baxis": {
            "gridcolor": "white",
            "linecolor": "white",
            "ticks": ""
           },
           "bgcolor": "#E5ECF6",
           "caxis": {
            "gridcolor": "white",
            "linecolor": "white",
            "ticks": ""
           }
          },
          "title": {
           "x": 0.05
          },
          "xaxis": {
           "automargin": true,
           "gridcolor": "white",
           "linecolor": "white",
           "ticks": "",
           "title": {
            "standoff": 15
           },
           "zerolinecolor": "white",
           "zerolinewidth": 2
          },
          "yaxis": {
           "automargin": true,
           "gridcolor": "white",
           "linecolor": "white",
           "ticks": "",
           "title": {
            "standoff": 15
           },
           "zerolinecolor": "white",
           "zerolinewidth": 2
          }
         }
        },
        "title": {
         "font": {
          "size": 34
         },
         "text": "Patient Staging",
         "x": 0.5
        },
        "width": 1000,
        "xaxis": {
         "dtick": 0.1,
         "range": [
          -0.05,
          1
         ],
         "tick0": 0,
         "tickfont": {
          "size": 14
         },
         "tickmode": "linear",
         "title": {
          "font": {
           "size": 18
          },
          "text": "Disease Stage"
         }
        },
        "yaxis": {
         "tickfont": {
          "size": 14
         },
         "title": {
          "font": {
           "size": 18
          },
          "text": "Frequency of occurences"
         }
        }
       }
      },
      "text/html": [
       "<div>                            <div id=\"516a78bf-c8f3-4fba-a032-b7598e5f53c2\" class=\"plotly-graph-div\" style=\"height:800px; width:1000px;\"></div>            <script type=\"text/javascript\">                require([\"plotly\"], function(Plotly) {                    window.PLOTLYENV=window.PLOTLYENV || {};                                    if (document.getElementById(\"516a78bf-c8f3-4fba-a032-b7598e5f53c2\")) {                    Plotly.newPlot(                        \"516a78bf-c8f3-4fba-a032-b7598e5f53c2\",                        [{\"marker\":{\"color\":\"#4daf4a\"},\"name\":\"CN (n = 676)\",\"width\":[0.04,0.04,0.04,0.04,0.04,0.04,0.04,0.04,0.04,0.04],\"x\":[-0.5,-0.4,-0.3,-0.19999999999999996,-0.09999999999999998,0.0,0.10000000000000009,0.20000000000000007,0.30000000000000004,0.4],\"y\":[0.0,0.0,0.0,0.0,0.0,0.3023255813953488,0.0,0.0,0.0,0.0],\"type\":\"bar\"},{\"marker\":{\"color\":\"#377eb8\"},\"name\":\"AD (n = 1054)\",\"width\":[0.04,0.04,0.04,0.04,0.04,0.04,0.04,0.04,0.04,0.04],\"x\":[0.0,0.08820152139902757,0.17640304279805513,0.26460456419708267,0.35280608559611026,0.44100760699513786,0.5292091283941653,0.6174106497931929,0.7056121711922205,0.7938136925912481],\"y\":[0.07826475849731664,0.01520572450805009,0.027728085867620753,0.03488372093023256,0.06082289803220036,0.08273703041144902,0.07513416815742398,0.0518783542039356,0.017889087656529516,0.026833631484794274],\"type\":\"bar\"},{\"marker\":{\"color\":\"#e41a1c\"},\"name\":\"SCD (n = 184)\",\"width\":[0.04,0.04,0.04,0.04,0.04,0.04,0.04,0.04,0.04,0.04],\"x\":[0.0,0.058446396017086163,0.11689279203417233,0.17533918805125848,0.23378558406834465,0.29223198008543083,0.35067837610251695,0.40912477211960313,0.4675711681366893,0.5260175641537754],\"y\":[0.02728085867620751,0.0035778175313059034,0.005813953488372093,0.009391771019677997,0.010286225402504472,0.008944543828264758,0.007155635062611807,0.004472271914132379,0.0022361359570661895,0.0031305903398926656],\"type\":\"bar\"},{\"marker\":{\"color\":\"#ffff00\"},\"name\":\"MCI (n = 322)\",\"width\":[0.04,0.04,0.04,0.04,0.04,0.04,0.04,0.04,0.04,0.04],\"x\":[0.0,0.08418995465716755,0.1683799093143351,0.25256986397150266,0.3367598186286702,0.42094977328583777,0.5051397279430053,0.5893296826001728,0.6735196372573404,0.757709591914508],\"y\":[0.02996422182468694,0.006261180679785331,0.01699463327370304,0.025044722719141325,0.020125223613595707,0.02101967799642218,0.014311270125223614,0.007602862254025045,0.0022361359570661895,0.0004472271914132379],\"type\":\"bar\"}],                        {\"template\":{\"data\":{\"histogram2dcontour\":[{\"type\":\"histogram2dcontour\",\"colorbar\":{\"outlinewidth\":0,\"ticks\":\"\"},\"colorscale\":[[0.0,\"#0d0887\"],[0.1111111111111111,\"#46039f\"],[0.2222222222222222,\"#7201a8\"],[0.3333333333333333,\"#9c179e\"],[0.4444444444444444,\"#bd3786\"],[0.5555555555555556,\"#d8576b\"],[0.6666666666666666,\"#ed7953\"],[0.7777777777777778,\"#fb9f3a\"],[0.8888888888888888,\"#fdca26\"],[1.0,\"#f0f921\"]]}],\"choropleth\":[{\"type\":\"choropleth\",\"colorbar\":{\"outlinewidth\":0,\"ticks\":\"\"}}],\"histogram2d\":[{\"type\":\"histogram2d\",\"colorbar\":{\"outlinewidth\":0,\"ticks\":\"\"},\"colorscale\":[[0.0,\"#0d0887\"],[0.1111111111111111,\"#46039f\"],[0.2222222222222222,\"#7201a8\"],[0.3333333333333333,\"#9c179e\"],[0.4444444444444444,\"#bd3786\"],[0.5555555555555556,\"#d8576b\"],[0.6666666666666666,\"#ed7953\"],[0.7777777777777778,\"#fb9f3a\"],[0.8888888888888888,\"#fdca26\"],[1.0,\"#f0f921\"]]}],\"heatmap\":[{\"type\":\"heatmap\",\"colorbar\":{\"outlinewidth\":0,\"ticks\":\"\"},\"colorscale\":[[0.0,\"#0d0887\"],[0.1111111111111111,\"#46039f\"],[0.2222222222222222,\"#7201a8\"],[0.3333333333333333,\"#9c179e\"],[0.4444444444444444,\"#bd3786\"],[0.5555555555555556,\"#d8576b\"],[0.6666666666666666,\"#ed7953\"],[0.7777777777777778,\"#fb9f3a\"],[0.8888888888888888,\"#fdca26\"],[1.0,\"#f0f921\"]]}],\"heatmapgl\":[{\"type\":\"heatmapgl\",\"colorbar\":{\"outlinewidth\":0,\"ticks\":\"\"},\"colorscale\":[[0.0,\"#0d0887\"],[0.1111111111111111,\"#46039f\"],[0.2222222222222222,\"#7201a8\"],[0.3333333333333333,\"#9c179e\"],[0.4444444444444444,\"#bd3786\"],[0.5555555555555556,\"#d8576b\"],[0.6666666666666666,\"#ed7953\"],[0.7777777777777778,\"#fb9f3a\"],[0.8888888888888888,\"#fdca26\"],[1.0,\"#f0f921\"]]}],\"contourcarpet\":[{\"type\":\"contourcarpet\",\"colorbar\":{\"outlinewidth\":0,\"ticks\":\"\"}}],\"contour\":[{\"type\":\"contour\",\"colorbar\":{\"outlinewidth\":0,\"ticks\":\"\"},\"colorscale\":[[0.0,\"#0d0887\"],[0.1111111111111111,\"#46039f\"],[0.2222222222222222,\"#7201a8\"],[0.3333333333333333,\"#9c179e\"],[0.4444444444444444,\"#bd3786\"],[0.5555555555555556,\"#d8576b\"],[0.6666666666666666,\"#ed7953\"],[0.7777777777777778,\"#fb9f3a\"],[0.8888888888888888,\"#fdca26\"],[1.0,\"#f0f921\"]]}],\"surface\":[{\"type\":\"surface\",\"colorbar\":{\"outlinewidth\":0,\"ticks\":\"\"},\"colorscale\":[[0.0,\"#0d0887\"],[0.1111111111111111,\"#46039f\"],[0.2222222222222222,\"#7201a8\"],[0.3333333333333333,\"#9c179e\"],[0.4444444444444444,\"#bd3786\"],[0.5555555555555556,\"#d8576b\"],[0.6666666666666666,\"#ed7953\"],[0.7777777777777778,\"#fb9f3a\"],[0.8888888888888888,\"#fdca26\"],[1.0,\"#f0f921\"]]}],\"mesh3d\":[{\"type\":\"mesh3d\",\"colorbar\":{\"outlinewidth\":0,\"ticks\":\"\"}}],\"scatter\":[{\"fillpattern\":{\"fillmode\":\"overlay\",\"size\":10,\"solidity\":0.2},\"type\":\"scatter\"}],\"parcoords\":[{\"type\":\"parcoords\",\"line\":{\"colorbar\":{\"outlinewidth\":0,\"ticks\":\"\"}}}],\"scatterpolargl\":[{\"type\":\"scatterpolargl\",\"marker\":{\"colorbar\":{\"outlinewidth\":0,\"ticks\":\"\"}}}],\"bar\":[{\"error_x\":{\"color\":\"#2a3f5f\"},\"error_y\":{\"color\":\"#2a3f5f\"},\"marker\":{\"line\":{\"color\":\"#E5ECF6\",\"width\":0.5},\"pattern\":{\"fillmode\":\"overlay\",\"size\":10,\"solidity\":0.2}},\"type\":\"bar\"}],\"scattergeo\":[{\"type\":\"scattergeo\",\"marker\":{\"colorbar\":{\"outlinewidth\":0,\"ticks\":\"\"}}}],\"scatterpolar\":[{\"type\":\"scatterpolar\",\"marker\":{\"colorbar\":{\"outlinewidth\":0,\"ticks\":\"\"}}}],\"histogram\":[{\"marker\":{\"pattern\":{\"fillmode\":\"overlay\",\"size\":10,\"solidity\":0.2}},\"type\":\"histogram\"}],\"scattergl\":[{\"type\":\"scattergl\",\"marker\":{\"colorbar\":{\"outlinewidth\":0,\"ticks\":\"\"}}}],\"scatter3d\":[{\"type\":\"scatter3d\",\"line\":{\"colorbar\":{\"outlinewidth\":0,\"ticks\":\"\"}},\"marker\":{\"colorbar\":{\"outlinewidth\":0,\"ticks\":\"\"}}}],\"scattermapbox\":[{\"type\":\"scattermapbox\",\"marker\":{\"colorbar\":{\"outlinewidth\":0,\"ticks\":\"\"}}}],\"scatterternary\":[{\"type\":\"scatterternary\",\"marker\":{\"colorbar\":{\"outlinewidth\":0,\"ticks\":\"\"}}}],\"scattercarpet\":[{\"type\":\"scattercarpet\",\"marker\":{\"colorbar\":{\"outlinewidth\":0,\"ticks\":\"\"}}}],\"carpet\":[{\"aaxis\":{\"endlinecolor\":\"#2a3f5f\",\"gridcolor\":\"white\",\"linecolor\":\"white\",\"minorgridcolor\":\"white\",\"startlinecolor\":\"#2a3f5f\"},\"baxis\":{\"endlinecolor\":\"#2a3f5f\",\"gridcolor\":\"white\",\"linecolor\":\"white\",\"minorgridcolor\":\"white\",\"startlinecolor\":\"#2a3f5f\"},\"type\":\"carpet\"}],\"table\":[{\"cells\":{\"fill\":{\"color\":\"#EBF0F8\"},\"line\":{\"color\":\"white\"}},\"header\":{\"fill\":{\"color\":\"#C8D4E3\"},\"line\":{\"color\":\"white\"}},\"type\":\"table\"}],\"barpolar\":[{\"marker\":{\"line\":{\"color\":\"#E5ECF6\",\"width\":0.5},\"pattern\":{\"fillmode\":\"overlay\",\"size\":10,\"solidity\":0.2}},\"type\":\"barpolar\"}],\"pie\":[{\"automargin\":true,\"type\":\"pie\"}]},\"layout\":{\"autotypenumbers\":\"strict\",\"colorway\":[\"#636efa\",\"#EF553B\",\"#00cc96\",\"#ab63fa\",\"#FFA15A\",\"#19d3f3\",\"#FF6692\",\"#B6E880\",\"#FF97FF\",\"#FECB52\"],\"font\":{\"color\":\"#2a3f5f\"},\"hovermode\":\"closest\",\"hoverlabel\":{\"align\":\"left\"},\"paper_bgcolor\":\"white\",\"plot_bgcolor\":\"#E5ECF6\",\"polar\":{\"bgcolor\":\"#E5ECF6\",\"angularaxis\":{\"gridcolor\":\"white\",\"linecolor\":\"white\",\"ticks\":\"\"},\"radialaxis\":{\"gridcolor\":\"white\",\"linecolor\":\"white\",\"ticks\":\"\"}},\"ternary\":{\"bgcolor\":\"#E5ECF6\",\"aaxis\":{\"gridcolor\":\"white\",\"linecolor\":\"white\",\"ticks\":\"\"},\"baxis\":{\"gridcolor\":\"white\",\"linecolor\":\"white\",\"ticks\":\"\"},\"caxis\":{\"gridcolor\":\"white\",\"linecolor\":\"white\",\"ticks\":\"\"}},\"coloraxis\":{\"colorbar\":{\"outlinewidth\":0,\"ticks\":\"\"}},\"colorscale\":{\"sequential\":[[0.0,\"#0d0887\"],[0.1111111111111111,\"#46039f\"],[0.2222222222222222,\"#7201a8\"],[0.3333333333333333,\"#9c179e\"],[0.4444444444444444,\"#bd3786\"],[0.5555555555555556,\"#d8576b\"],[0.6666666666666666,\"#ed7953\"],[0.7777777777777778,\"#fb9f3a\"],[0.8888888888888888,\"#fdca26\"],[1.0,\"#f0f921\"]],\"sequentialminus\":[[0.0,\"#0d0887\"],[0.1111111111111111,\"#46039f\"],[0.2222222222222222,\"#7201a8\"],[0.3333333333333333,\"#9c179e\"],[0.4444444444444444,\"#bd3786\"],[0.5555555555555556,\"#d8576b\"],[0.6666666666666666,\"#ed7953\"],[0.7777777777777778,\"#fb9f3a\"],[0.8888888888888888,\"#fdca26\"],[1.0,\"#f0f921\"]],\"diverging\":[[0,\"#8e0152\"],[0.1,\"#c51b7d\"],[0.2,\"#de77ae\"],[0.3,\"#f1b6da\"],[0.4,\"#fde0ef\"],[0.5,\"#f7f7f7\"],[0.6,\"#e6f5d0\"],[0.7,\"#b8e186\"],[0.8,\"#7fbc41\"],[0.9,\"#4d9221\"],[1,\"#276419\"]]},\"xaxis\":{\"gridcolor\":\"white\",\"linecolor\":\"white\",\"ticks\":\"\",\"title\":{\"standoff\":15},\"zerolinecolor\":\"white\",\"automargin\":true,\"zerolinewidth\":2},\"yaxis\":{\"gridcolor\":\"white\",\"linecolor\":\"white\",\"ticks\":\"\",\"title\":{\"standoff\":15},\"zerolinecolor\":\"white\",\"automargin\":true,\"zerolinewidth\":2},\"scene\":{\"xaxis\":{\"backgroundcolor\":\"#E5ECF6\",\"gridcolor\":\"white\",\"linecolor\":\"white\",\"showbackground\":true,\"ticks\":\"\",\"zerolinecolor\":\"white\",\"gridwidth\":2},\"yaxis\":{\"backgroundcolor\":\"#E5ECF6\",\"gridcolor\":\"white\",\"linecolor\":\"white\",\"showbackground\":true,\"ticks\":\"\",\"zerolinecolor\":\"white\",\"gridwidth\":2},\"zaxis\":{\"backgroundcolor\":\"#E5ECF6\",\"gridcolor\":\"white\",\"linecolor\":\"white\",\"showbackground\":true,\"ticks\":\"\",\"zerolinecolor\":\"white\",\"gridwidth\":2}},\"shapedefaults\":{\"line\":{\"color\":\"#2a3f5f\"}},\"annotationdefaults\":{\"arrowcolor\":\"#2a3f5f\",\"arrowhead\":0,\"arrowwidth\":1},\"geo\":{\"bgcolor\":\"white\",\"landcolor\":\"#E5ECF6\",\"subunitcolor\":\"white\",\"showland\":true,\"showlakes\":true,\"lakecolor\":\"white\"},\"title\":{\"x\":0.05},\"mapbox\":{\"style\":\"light\"}}},\"title\":{\"text\":\"Patient Staging\",\"font\":{\"size\":34},\"x\":0.5},\"xaxis\":{\"title\":{\"text\":\"Disease Stage\",\"font\":{\"size\":18}},\"tickmode\":\"linear\",\"tick0\":0.0,\"dtick\":0.1,\"range\":[-0.05,1.0],\"tickfont\":{\"size\":14}},\"legend\":{\"font\":{\"size\":16},\"yanchor\":\"top\",\"y\":0.95,\"xanchor\":\"right\",\"x\":0.95},\"yaxis\":{\"title\":{\"text\":\"Frequency of occurences\",\"font\":{\"size\":18}},\"tickfont\":{\"size\":14}},\"barmode\":\"group\",\"autosize\":false,\"width\":1000,\"height\":800},                        {\"responsive\": true}                    ).then(function(){\n",
       "                            \n",
       "var gd = document.getElementById('516a78bf-c8f3-4fba-a032-b7598e5f53c2');\n",
       "var x = new MutationObserver(function (mutations, observer) {{\n",
       "        var display = window.getComputedStyle(gd).display;\n",
       "        if (!display || display === 'none') {{\n",
       "            console.log([gd, 'removed!']);\n",
       "            Plotly.purge(gd);\n",
       "            observer.disconnect();\n",
       "        }}\n",
       "}});\n",
       "\n",
       "// Listen for the removal of the full notebook cells\n",
       "var notebookContainer = gd.closest('#notebook-container');\n",
       "if (notebookContainer) {{\n",
       "    x.observe(notebookContainer, {childList: true});\n",
       "}}\n",
       "\n",
       "// Listen for the clearing of the current output cell\n",
       "var outputEl = gd.closest('.output');\n",
       "if (outputEl) {{\n",
       "    x.observe(outputEl, {childList: true});\n",
       "}}\n",
       "\n",
       "                        })                };                });            </script>        </div>"
      ]
     },
     "metadata": {},
     "output_type": "display_data"
    }
   ],
   "source": [
    "fig = patient_staging(S=S,\n",
    "                      diagnosis=diagnosis, \n",
    "                      color_list = color_list,\n",
    "                      num_bins=10, \n",
    "                      bin_width=0.04)\n",
    "fig"
   ]
  },
  {
   "cell_type": "markdown",
   "id": "7cdb2693",
   "metadata": {},
   "source": [
    "## Staging Boxplots function"
   ]
  },
  {
   "cell_type": "code",
   "execution_count": 89,
   "id": "6c797076",
   "metadata": {},
   "outputs": [],
   "source": [
    "def staging_boxes(S, diagnosis, color_list='#000000'):\n",
    "    \"\"\"\n",
    "    Creates a boxplot\n",
    "    :param S: dictionary, Snowphlake output\n",
    "    :param diagnosis: np.array or list; with diagnosis labels corresponding to records in S\n",
    "    :param color_list: list with color hex values\n",
    "    :return: plotly go Box figure\n",
    "    \"\"\"\n",
    "    \n",
    "    # Convert NaNs to 0.0\n",
    "    staging = np.array([np.float64(0.0) if np.isnan(stage) else stage for stage in S['staging']])\n",
    "   \n",
    "    # Count number of each subtype occurences\n",
    "    counter = dict(Counter(diagnosis))\n",
    "        \n",
    "    # Get labels\n",
    "    labels = list(set(diagnosis))\n",
    "    \n",
    "    # Get indexes\n",
    "    diagnosis = np.array(diagnosis)\n",
    "    staging = np.array(staging)\n",
    "    \n",
    "    # Get indexes for each diagnostic label\n",
    "    idx_list = []\n",
    "    for l in labels:\n",
    "        idx = np.where(diagnosis==l)\n",
    "        idx = idx[0]\n",
    "        idx_list.append(idx)\n",
    "        \n",
    "    \n",
    "    fig = go.Figure()\n",
    "\n",
    "    for count, idx in enumerate(idx_list):\n",
    "        fig.add_trace(go.Box(x=staging[idx], name=labels[count],\n",
    "                             fillcolor=color_list[count],\n",
    "                            line_color='#000000'))\n",
    "\n",
    "\n",
    "    fig.update_xaxes(range=[-0.05, 1.0])\n",
    "\n",
    "    # ADD BOXPOINTS\n",
    "#     fig.update_traces(boxpoints='all', jitter=0)\n",
    "\n",
    "    fig.update_layout(\n",
    "            title=\"Staging - Boxplots\",\n",
    "            title_font_size=34,\n",
    "            title_x=0.5,\n",
    "            xaxis_title=\"Disease Stage\",\n",
    "            yaxis_title=\"Diagnosis\",\n",
    "            xaxis = dict(\n",
    "                tickmode = 'linear',\n",
    "                tick0 = 0.0,\n",
    "                dtick = 0.1\n",
    "            ),\n",
    "            legend_font_size=16,\n",
    "            legend=dict(\n",
    "                yanchor=\"top\",\n",
    "                y=0.97,\n",
    "                xanchor=\"right\",\n",
    "                x=0.97),\n",
    "            autosize = False,\n",
    "            width=1000,\n",
    "            height=600\n",
    "        )\n",
    "    \n",
    "    fig.update_yaxes(title_font_size = 18, \n",
    "                    tickfont_size=14)\n",
    "    \n",
    "    fig.update_xaxes(title_font_size = 18, \n",
    "                    tickfont_size = 14)\n",
    "\n",
    "    return fig"
   ]
  },
  {
   "cell_type": "code",
   "execution_count": 90,
   "id": "0e3c029c",
   "metadata": {},
   "outputs": [],
   "source": [
    "# FOR TESTING\n",
    "# diagnosis = np.array(['Control' if np.isnan(subtype) else \"FTD\" for subtype in S['subtypes']])\n",
    "color_list = ['#4daf4a','#377eb8','#e41a1c', '#ffff00']"
   ]
  },
  {
   "cell_type": "code",
   "execution_count": 91,
   "id": "c96b2cd0",
   "metadata": {},
   "outputs": [
    {
     "data": {
      "application/vnd.plotly.v1+json": {
       "config": {
        "plotlyServerURL": "https://plot.ly"
       },
       "data": [
        {
         "fillcolor": "#4daf4a",
         "line": {
          "color": "#000000"
         },
         "name": "CN",
         "type": "box",
         "x": [
          0,
          0,
          0,
          0,
          0,
          0,
          0,
          0,
          0,
          0,
          0,
          0,
          0,
          0,
          0,
          0,
          0,
          0,
          0,
          0,
          0,
          0,
          0,
          0,
          0,
          0,
          0,
          0,
          0,
          0,
          0,
          0,
          0,
          0,
          0,
          0,
          0,
          0,
          0,
          0,
          0,
          0,
          0,
          0,
          0,
          0,
          0,
          0,
          0,
          0,
          0,
          0,
          0,
          0,
          0,
          0,
          0,
          0,
          0,
          0,
          0,
          0,
          0,
          0,
          0,
          0,
          0,
          0,
          0,
          0,
          0,
          0,
          0,
          0,
          0,
          0,
          0,
          0,
          0,
          0,
          0,
          0,
          0,
          0,
          0,
          0,
          0,
          0,
          0,
          0,
          0,
          0,
          0,
          0,
          0,
          0,
          0,
          0,
          0,
          0,
          0,
          0,
          0,
          0,
          0,
          0,
          0,
          0,
          0,
          0,
          0,
          0,
          0,
          0,
          0,
          0,
          0,
          0,
          0,
          0,
          0,
          0,
          0,
          0,
          0,
          0,
          0,
          0,
          0,
          0,
          0,
          0,
          0,
          0,
          0,
          0,
          0,
          0,
          0,
          0,
          0,
          0,
          0,
          0,
          0,
          0,
          0,
          0,
          0,
          0,
          0,
          0,
          0,
          0,
          0,
          0,
          0,
          0,
          0,
          0,
          0,
          0,
          0,
          0,
          0,
          0,
          0,
          0,
          0,
          0,
          0,
          0,
          0,
          0,
          0,
          0,
          0,
          0,
          0,
          0,
          0,
          0,
          0,
          0,
          0,
          0,
          0,
          0,
          0,
          0,
          0,
          0,
          0,
          0,
          0,
          0,
          0,
          0,
          0,
          0,
          0,
          0,
          0,
          0,
          0,
          0,
          0,
          0,
          0,
          0,
          0,
          0,
          0,
          0,
          0,
          0,
          0,
          0,
          0,
          0,
          0,
          0,
          0,
          0,
          0,
          0,
          0,
          0,
          0,
          0,
          0,
          0,
          0,
          0,
          0,
          0,
          0,
          0,
          0,
          0,
          0,
          0,
          0,
          0,
          0,
          0,
          0,
          0,
          0,
          0,
          0,
          0,
          0,
          0,
          0,
          0,
          0,
          0,
          0,
          0,
          0,
          0,
          0,
          0,
          0,
          0,
          0,
          0,
          0,
          0,
          0,
          0,
          0,
          0,
          0,
          0,
          0,
          0,
          0,
          0,
          0,
          0,
          0,
          0,
          0,
          0,
          0,
          0,
          0,
          0,
          0,
          0,
          0,
          0,
          0,
          0,
          0,
          0,
          0,
          0,
          0,
          0,
          0,
          0,
          0,
          0,
          0,
          0,
          0,
          0,
          0,
          0,
          0,
          0,
          0,
          0,
          0,
          0,
          0,
          0,
          0,
          0,
          0,
          0,
          0,
          0,
          0,
          0,
          0,
          0,
          0,
          0,
          0,
          0,
          0,
          0,
          0,
          0,
          0,
          0,
          0,
          0,
          0,
          0,
          0,
          0,
          0,
          0,
          0,
          0,
          0,
          0,
          0,
          0,
          0,
          0,
          0,
          0,
          0,
          0,
          0,
          0,
          0,
          0,
          0,
          0,
          0,
          0,
          0,
          0,
          0,
          0,
          0,
          0,
          0,
          0,
          0,
          0,
          0,
          0,
          0,
          0,
          0,
          0,
          0,
          0,
          0,
          0,
          0,
          0,
          0,
          0,
          0,
          0,
          0,
          0,
          0,
          0,
          0,
          0,
          0,
          0,
          0,
          0,
          0,
          0,
          0,
          0,
          0,
          0,
          0,
          0,
          0,
          0,
          0,
          0,
          0,
          0,
          0,
          0,
          0,
          0,
          0,
          0,
          0,
          0,
          0,
          0,
          0,
          0,
          0,
          0,
          0,
          0,
          0,
          0,
          0,
          0,
          0,
          0,
          0,
          0,
          0,
          0,
          0,
          0,
          0,
          0,
          0,
          0,
          0,
          0,
          0,
          0,
          0,
          0,
          0,
          0,
          0,
          0,
          0,
          0,
          0,
          0,
          0,
          0,
          0,
          0,
          0,
          0,
          0,
          0,
          0,
          0,
          0,
          0,
          0,
          0,
          0,
          0,
          0,
          0,
          0,
          0,
          0,
          0,
          0,
          0,
          0,
          0,
          0,
          0,
          0,
          0,
          0,
          0,
          0,
          0,
          0,
          0,
          0,
          0,
          0,
          0,
          0,
          0,
          0,
          0,
          0,
          0,
          0,
          0,
          0,
          0,
          0,
          0,
          0,
          0,
          0,
          0,
          0,
          0,
          0,
          0,
          0,
          0,
          0,
          0,
          0,
          0,
          0,
          0,
          0,
          0,
          0,
          0,
          0,
          0,
          0,
          0,
          0,
          0,
          0,
          0,
          0,
          0,
          0,
          0,
          0,
          0,
          0,
          0,
          0,
          0,
          0,
          0,
          0,
          0,
          0,
          0,
          0,
          0,
          0,
          0,
          0,
          0,
          0,
          0,
          0,
          0,
          0,
          0,
          0,
          0,
          0,
          0,
          0,
          0,
          0,
          0,
          0,
          0,
          0,
          0,
          0,
          0,
          0,
          0,
          0,
          0,
          0,
          0,
          0,
          0,
          0,
          0,
          0,
          0,
          0,
          0,
          0,
          0,
          0,
          0,
          0,
          0,
          0,
          0,
          0,
          0,
          0,
          0,
          0,
          0,
          0,
          0,
          0,
          0,
          0,
          0,
          0,
          0,
          0,
          0,
          0,
          0,
          0,
          0,
          0,
          0,
          0,
          0,
          0,
          0,
          0,
          0,
          0,
          0,
          0,
          0,
          0,
          0,
          0,
          0,
          0,
          0,
          0,
          0,
          0,
          0,
          0,
          0,
          0,
          0,
          0,
          0,
          0,
          0,
          0,
          0,
          0,
          0,
          0,
          0,
          0,
          0,
          0,
          0,
          0,
          0,
          0,
          0,
          0,
          0,
          0,
          0
         ]
        },
        {
         "fillcolor": "#377eb8",
         "line": {
          "color": "#000000"
         },
         "name": "AD",
         "type": "box",
         "x": [
          0.7386489976529469,
          0.5873724128626128,
          0.25568787136303184,
          0.6338081643613838,
          0.47036337766208186,
          0.6199101439388304,
          0.8191748726918087,
          0.611284953718582,
          0,
          0.38417398443140083,
          0.40822142184504895,
          0.7078728364877516,
          0,
          0.2448714731150353,
          0,
          0.18241488655813964,
          0.6640705048856747,
          0.3042325752589658,
          0,
          0.7065514559547237,
          0.5946815770201388,
          0.7438658380324007,
          0.7400485897244483,
          0.43855986200214697,
          0.5192475007781415,
          0.8707848236716731,
          0.40015463869707263,
          0.6679483880708207,
          0,
          0.4023911969246167,
          0.23443977647478542,
          0.6286015936806412,
          0.32751977486471207,
          0,
          0.4941431463051152,
          0.618736750561759,
          0.3264439553653352,
          0.560003144525327,
          0.4482909353175579,
          0.31729130242140985,
          0.4500658573221114,
          0.433612094828572,
          0.6317442022865113,
          0.7407008326557145,
          0,
          0.756233893311582,
          0,
          0.6128485604759524,
          0.25458723642731174,
          0.3813520200805411,
          0.6453951135613677,
          0.6282036345221197,
          0.3302057045670442,
          0,
          0.5430558004962271,
          0,
          0.560487934135647,
          0,
          0,
          0.671001698340107,
          0.5187527521077615,
          0.5975643717969908,
          0.7465547408181226,
          0.4372983417402487,
          0.22723056504803196,
          0.6773022388098111,
          0.6608827594749904,
          0.8071441461509359,
          0.5377050388811174,
          0.49941333091949147,
          0,
          0.31645389913775845,
          0,
          0.2190691708927517,
          0.6020658829788063,
          0,
          0.8795048970940971,
          0,
          0.23882601925028862,
          0,
          0.5621319486583494,
          0.29292506670943114,
          0.41091315158605823,
          0,
          0.5712623556605974,
          0.5865198493824071,
          0.43787146503007135,
          0.6751033578587251,
          0.2742116968324442,
          0.8735611700784294,
          0,
          0.6232608237533995,
          0.6882695437314963,
          0.6205114230961016,
          0.56329393700968,
          0.4696949413994904,
          0.7433819031926422,
          0,
          0.2378285537876805,
          0.2967248411995644,
          0,
          0.5221329618823541,
          0.4375671384471383,
          0.6070787807935223,
          0.2171270693146634,
          0,
          0.6893692858187971,
          0.6509338213395902,
          0.5078874814079659,
          0,
          0.7225900961875382,
          0.711645260623467,
          0,
          0.6708558515183528,
          0.48619673581069095,
          0.631588957853038,
          0.7316810931506698,
          0.5980781181069781,
          0.7834884116311714,
          0.8779777819117023,
          0.6226820771172737,
          0.87428373056715,
          0,
          0.631978809521715,
          0.25803808089673164,
          0.08550886326055661,
          0.40360689957412654,
          0,
          0.6044701814580632,
          0,
          0.6832521213653197,
          0.5198242397569746,
          0.7013202045166288,
          0.2901985408049968,
          0,
          0.6884049011999904,
          0.6674289405142321,
          0.8435308803285914,
          0.65694656655065,
          0.5848806998276446,
          0,
          0.8523294348056432,
          0.7184753100395567,
          0.8609215636740485,
          0,
          0.4417222772574374,
          0.21542486697925736,
          0.13984044464236908,
          0.8739575839139895,
          0.4702877447280425,
          0,
          0.33407421977928103,
          0.25316825421487743,
          0.3051892604445864,
          0.5241989712591827,
          0.497371290250574,
          0,
          0,
          0.39931874053116845,
          0.5790777004841283,
          0.45116881758591737,
          0.662206247780107,
          0.3300833585348899,
          0.4676467617487904,
          0.8816613958975865,
          0.47774797469144825,
          0.1362788112754417,
          0.2862428028285976,
          0.29424194259224745,
          0.4273307053398036,
          0.43994235133927845,
          0.4135715885936119,
          0.4775609532174899,
          0.4879561155243679,
          0.42064467486728035,
          0.36338078014997904,
          0.6295413177299827,
          0.13098840660388356,
          0.8770815299673859,
          0.6692224697966929,
          0.6624637982145263,
          0.39795561120465955,
          0,
          0.5558522558063108,
          0.8251009371016783,
          0.2686203503687679,
          0.5814170580865481,
          0.4517130312387436,
          0.881962902615977,
          0.5127086932416173,
          0.4512954733165515,
          0.4431436600050508,
          0.6372564194311493,
          0.5080117039761661,
          0.3900521700785321,
          0.6665563866205001,
          0.715216040658043,
          0.8612156025269736,
          0.6650543114692675,
          0.4285209870877993,
          0.558401327093002,
          0.549740565137854,
          0.6591715350904852,
          0.43620620749466643,
          0.4916627859410525,
          0.5511908052361985,
          0.27058633253872655,
          0,
          0.7490602127872111,
          0.515748519379358,
          0.2437272053450893,
          0.7042200749898817,
          0.7024432400821587,
          0,
          0.5606251210235598,
          0.48622013388179236,
          0.4276338471316313,
          0.5580092691935848,
          0.37176546569051305,
          0.25580058648328496,
          0.07471604852759567,
          0.6416543005092468,
          0.4695857392988976,
          0.3333431388715207,
          0.5795432530437915,
          0.6151542441909349,
          0.4479137996901448,
          0.44318769584704876,
          0,
          0.47468994310036833,
          0.8761833147505694,
          0.44785628680413425,
          0.5110000404177101,
          0.48735040961568116,
          0.09744031552055434,
          0.37894714897453635,
          0.6031558425846502,
          0.615501238311582,
          0.1454045345981064,
          0.370120705772461,
          0.8759799548416476,
          0,
          0.7423466248819575,
          0.50569229064651,
          0.8180480430721886,
          0,
          0.39460328898467073,
          0.42359651253822167,
          0.07568413131008646,
          0.060310060233027714,
          0.5661195931844162,
          0.6364710442604483,
          0,
          0,
          0,
          0.8126216226134606,
          0.03519077044080977,
          0.8266105178678493,
          0.4343000593001201,
          0,
          0.445051207757887,
          0.38913711692665176,
          0.6144852925066597,
          0.6894432395139721,
          0.04751579074971316,
          0.5319437867919765,
          0.5224304436346866,
          0.748160393029869,
          0,
          0,
          0.43890909644895076,
          0.5040132266892878,
          0.4428971619366471,
          0.43572112210031727,
          0.582534012108723,
          0.4680078093366415,
          0.3580414737088686,
          0.14648318746919725,
          0.6632597418977682,
          0.6148150691479567,
          0,
          0.35722736485941087,
          0.1584130948838331,
          0.536828730736642,
          0,
          0.41858223691755553,
          0.5623697671715836,
          0.6493633959464815,
          0.22757279077416007,
          0.2485688538217083,
          0.3201346653298677,
          0.7249559850859029,
          0.523402862120167,
          0.6101051783217151,
          0.48930396491309214,
          0.5354232218524057,
          0.6814412295267576,
          0,
          0,
          0.36289779911870307,
          0.3914618339887907,
          0.748548623992727,
          0.6070205032108674,
          0.40946161198297415,
          0.36083581460429015,
          0.08115760137230733,
          0.2553397637666169,
          0.8794883737064214,
          0.6634327720704305,
          0.4027209536318826,
          0.8252005002519546,
          0.5116067668129445,
          0.319673051172516,
          0.38787116481989703,
          0.6998670782258739,
          0,
          0.6038350044847767,
          0.18517238723689244,
          0.5187289804299229,
          0.8816657428020437,
          0.2831164763626045,
          0,
          0.4567639851007117,
          0.32973470983600955,
          0.6473992059020506,
          0.37218022863216554,
          0.2955180556564543,
          0.04980866648706842,
          0.40686341725960556,
          0.5953173128954631,
          0.5486796384544276,
          0,
          0.3171805249159074,
          0.4175749180557052,
          0.5470276171489207,
          0.7311975588459091,
          0.5990969173795908,
          0.4360232646784231,
          0.451589425731427,
          0.2198735679835692,
          0.5680855111326254,
          0.48938045998531554,
          0.5478774655372519,
          0.5001129791627688,
          0,
          0.5892395278404436,
          0.4980259024924858,
          0.5573396708428939,
          0.16103179259555017,
          0,
          0.505471397526582,
          0.10086866942861634,
          0.5361071457083149,
          0.4846788205789249,
          0.5827070598710069,
          0.5293047333641985,
          0.08567196737602109,
          0,
          0.5668138472635849,
          0.6054056173576483,
          0.34304792902217457,
          0.6715859126890144,
          0.25439346402577695,
          0.49333165141087,
          0.4581238894382526,
          0.6414248265021295,
          0.5350732402270045,
          0,
          0.3666645516605318,
          0.6027403909640192,
          0.5475807708783866,
          0,
          0,
          0.466888828003248,
          0.3649957676270613,
          0.5903210927505191,
          0.6863098037685575,
          0.4985402139440338,
          0.5369478360798693,
          0.6820488883421731,
          0.5372848068510924,
          0.4908955006955372,
          0.6273777638871824,
          0.47276449879283594,
          0.5979535904021324,
          0.27225306802224974,
          0.5680850969865008,
          0.38033196107151834,
          0.40611670873409045,
          0.09299581197268027,
          0.5851406566975014,
          0.6423133212207143,
          0.6102930607225612,
          0.4453991694058461,
          0.6306469184813525,
          0.7030249804418045,
          0.5710420117260361,
          0,
          0.5495147085332232,
          0.4502551560367062,
          0.44253367429058843,
          0.3667468590382573,
          0.6435227312005524,
          0.4072678746507427,
          0.3031841848501608,
          0,
          0.5228983480810769,
          0.5878478135818743,
          0.40421762775567593,
          0.725526512791437,
          0,
          0.702384631046404,
          0.43973744277938615,
          0,
          0.3140131564843849,
          0,
          0.31868692436301554,
          0.38380975323807554,
          0.1312729708878008,
          0.6681968991612495,
          0.6572108838609951,
          0.17037618664256254,
          0.44775204053642464,
          0.595608761122357,
          0.4102535221041024,
          0.6500445246714984,
          0.3601556769869883,
          0.1448566878802528,
          0,
          0,
          0.1593424294424859,
          0.6476261550483292,
          0.5972575799911188,
          0.40949575507439223,
          0.42474644053053895,
          0,
          0.15861061485933492,
          0.03446740409846716,
          0.12340011454816485,
          0.5327310079473145,
          0.23049821510147306,
          0.39236160040189305,
          0.49941973979145743,
          0.7437549580629675,
          0.07563912177045638,
          0.6041134410480473,
          0.3785436252674762,
          0.2818700401008201,
          0,
          0.5205603930884789,
          0.49477329533459324,
          0,
          0.1690069991391367,
          0.29088036257581606,
          0.7173627225885887,
          0.7213743914557444,
          0.6305742160637832,
          0.6347619563514683,
          0.305097027852938,
          0,
          0,
          0.45116609636744165,
          0.16628170865466035,
          0.21095420056246725,
          0.5657786728857117,
          0.8064325395570315,
          0,
          0.6286430276930038,
          0.5687429033971312,
          0.5475443228245365,
          0.6125945093360834,
          0.5006715793148447,
          0.46282323879707576,
          0.5621002347123547,
          0.8659781864043257,
          0.3633242234208444,
          0.5310890756514004,
          0.6914303793194737,
          0.420292159682063,
          0.23688687690948582,
          0,
          0.8608882645016478,
          0,
          0.009410209365421545,
          0.6044644658574766,
          0.4647495053700106,
          0.7041209304039171,
          0.4836595537123004,
          0.5304011897176384,
          0,
          0.47943328863142914,
          0.3248385894620932,
          0.09955185570425368,
          0.5461000266199413,
          0.40559143274290993,
          0.15907786844123278,
          0.8797298132989941,
          0.45971200105926574,
          0.09480771952193741,
          0,
          0.826736962668457,
          0,
          0.2782515303284202,
          0.4052606006434114,
          0,
          0.043512194518384034,
          0.32920608658882716,
          0.5890991040543995,
          0.3624181304835488,
          0.854428050167379,
          0.5150764238523575,
          0.3855528539602615,
          0.47015687575977533,
          0.297240487973155,
          0,
          0.41173707282448785,
          0.4984941742955594,
          0.5011380830811115,
          0.7533150992785825,
          0.26941977915926907,
          0.5918410093023181,
          0.1497902435669171,
          0.2078128616044823,
          0.5023915450762872,
          0.6735194340714648,
          0.6190013157188544,
          0.546190193025941,
          0.610561178928211,
          0,
          0.6815873391100747,
          0.621883893862544,
          0,
          0,
          0.6891341082199165,
          0.3621913230419059,
          0.4270193567673758,
          0,
          0.29499033176299816,
          0.2673091889904101,
          0.30232811415624433,
          0.6082490270686761,
          0,
          0.373934302535136,
          0.8590990388961406,
          0.4640205358954276,
          0.010351698236600464,
          0.4833907962183408,
          0.4711112173814352,
          0.2425391729605802,
          0.4046136144933994,
          0.8795345221632572,
          0.324241108474646,
          0.6298361268604113,
          0.32504890499571487,
          0,
          0.4251552261471203,
          0,
          0.3622312301707479,
          0.4200322711871053,
          0.4452617171235849,
          0.5951320975713127,
          0.5397084720901314,
          0.5117141540994861,
          0.2579342775063199,
          0.5484418646324779,
          0,
          0.49006561356266476,
          0.6416391170671066,
          0.5580323203899844,
          0.23570322908930605,
          0.8498819710219674,
          0.44304237152401904,
          0,
          0,
          0.402437939186407,
          0.43297696441832223,
          0.46852360536854387,
          0.5416664127922958,
          0.7172104784070302,
          0.7478727995876658,
          0.4316596636835576,
          0.07411895431181346,
          0.4706665204467188,
          0.23114002270724654,
          0.583497566193233,
          0.41297407461576713,
          0.6870458394469288,
          0.4132435137662565,
          0,
          0.6572306454697929,
          0.10928158031557587,
          0.31962117031651677,
          0.6370627665575929,
          0.37891480226527147,
          0.46279540031385885,
          0.5053662980952212,
          0.5954245600503625,
          0.5314686013610723,
          0.5265649766221231,
          0.6030757383628612,
          0.8766474074442145,
          0.2892443461099717,
          0,
          0,
          0,
          0.5626239589259234,
          0.8584740697370921,
          0.6866942828049202,
          0.6785596284671809,
          0.7141441831924746,
          0,
          0.5373724239781378,
          0.5866941783946804,
          0.346613499723448,
          0.43459181196231433,
          0.6119665692271713,
          0.25277518227455936,
          0.746236272456124,
          0.5990756992291473,
          0.46710979470693453,
          0.3788724882090693,
          0.869776611456023,
          0.21074736385248397,
          0.47776909583643723,
          0,
          0.704308703061526,
          0.4415381010772897,
          0.7728504165599066,
          0.2560385070115287,
          0.761151800818824,
          0.5003941137742007,
          0.30836304159053685,
          0,
          0.808171854931705,
          0.3368264323013325,
          0.5412664359790463,
          0.7061355161466747,
          0.272101535124153,
          0.4976601650158096,
          0.6130350385543502,
          0.6212876304564785,
          0.5241384267628229,
          0.10574081054470215,
          0.06328194401927727,
          0.4695790902864258,
          0.6126937339838567,
          0.5734619599706778,
          0.5897339011224482,
          0,
          0,
          0.18757660710580612,
          0.4187354423002233,
          0.44160079745642583,
          0.49892556183179937,
          0.3296584395217353,
          0.6254856635639611,
          0.87924778627514,
          0.22723461107646317,
          0,
          0.6838694086305697,
          0,
          0.37138832958894696,
          0.5469297740264143,
          0.6163237205350647,
          0,
          0.5897852217851,
          0.4582391096587171,
          0,
          0,
          0.33118144756898443,
          0.42642679290405633,
          0.3949421917024998,
          0,
          0.5603565975111433,
          0,
          0,
          0.6011418773256535,
          0.458729012910626,
          0.41132921312922416,
          0.6996937943462334,
          0.49415190771310674,
          0,
          0,
          0.7982549282316114,
          0.4359251084084763,
          0.33852740836255596,
          0.5469458272122266,
          0,
          0.8750887543384447,
          0.5502490608340879,
          0.5636523849460828,
          0.2807465138765886,
          0.44116697826968815,
          0.19323427101922072,
          0.5621869991144405,
          0.3259348772943426,
          0.37738343235735344,
          0.8734862432727886,
          0.720216310532685,
          0.2597502260662567,
          0.5545575729564581,
          0.5345502994421126,
          0.5876585714876749,
          0.4880697452755286,
          0.5300907647563465,
          0.6798271079198719,
          0,
          0,
          0.4878031150208785,
          0,
          0.5852148291325038,
          0.6055665516573377,
          0.33696458151212555,
          0.42066590454141484,
          0.6794235925745984,
          0,
          0.3744190854837416,
          0.7215014998602272,
          0.81888658252676,
          0.39207030260986986,
          0.4251173243453728,
          0.8743838611796555,
          0,
          0.6563195905247327,
          0.19676367331311745,
          0.23810397741020758,
          0.4905771130542742,
          0.7065221428545398,
          0.55579423069095,
          0.28810060330192866,
          0.586442971303036,
          0.7034508187851127,
          0.29148071582990653,
          0.3161863018363717,
          0.38189235940767907,
          0,
          0.4627010631080444,
          0.14896794900497753,
          0.8238522024457275,
          0.20400648733976295,
          0.24410947285494466,
          0.581060491843529,
          0.4667550775397153,
          0.5161677735755095,
          0.3219523648889367,
          0.5568962298046382,
          0.49931283070944377,
          0.48637195835464964,
          0,
          0.6425399396066876,
          0,
          0.37981799874168143,
          0.22950002944300746,
          0.8618725600980671,
          0.12488392035794205,
          0.7531999412100508,
          0.4828568189351637,
          0.5735418247315466,
          0.20215338888878043,
          0.5086268752014584,
          0.4168785154211026,
          0.5753924757634011,
          0.8307754705615218,
          0.4848673732793919,
          0.5001634558468019,
          0.45877651960524046,
          0.5823642720859491,
          0.5297528701247353,
          0.5571234864172917,
          0,
          0.8714101630816706,
          0,
          0.8820152139902756,
          0,
          0.33776455519344567,
          0.44316701660703894,
          0.3464715909693504,
          0.6867408840611776,
          0.2773664313573308,
          0.8753138216339872,
          0,
          0.2604117750197198,
          0.3988188447411292,
          0.6558582779961747,
          0,
          0.46046119502178684,
          0.8763779865600619,
          0.2814517147864284,
          0.6231883718104556,
          0.6117483644482337,
          0.443568172500927,
          0.08515526540148294,
          0.5389414613471065,
          0.4291630573140528,
          0.31043116084554084,
          0.3651362013119719,
          0.8527479947695156,
          0.2837716007545412,
          0,
          0.39125146873574973,
          0.45646276039991307,
          0.458167340822881,
          0.44179398921110574,
          0.49063247929695236,
          0.3671223490775174,
          0,
          0.5788515013307053,
          0.6025535924011953,
          0.8815646023040214,
          0.5557930547114589,
          0.6510471567627967,
          0.4032720517465938,
          0.23282858091153316,
          0.4169080610776079,
          0.8594847905386707,
          0.28285552951243953,
          0.4835735160923037,
          0.3365633725772468,
          0.25341684478174886,
          0.8426331973876374,
          0.5122128148530952,
          0.22787483090204516,
          0.4639332114330111,
          0.4460842334563678,
          0,
          0.5812813585640965,
          0.47255283248072094,
          0.37965368846576814,
          0.22968399675849935,
          0,
          0,
          0,
          0.5421752499428387,
          0,
          0.15163492567147907,
          0.5414109908953714,
          0.18520955956318771,
          0,
          0.8782321683343641,
          0.1867020826153144,
          0.5071467175736875,
          0,
          0.5260727650151846,
          0.16036382305294827,
          0.581228930788841,
          0.5138658589199782,
          0.41516646534363594,
          0.680987335418537,
          0.7211608891122476,
          0.2240048617119117,
          0.5491781081686657,
          0.1392310025827443,
          0.5855899297781146,
          0.4706185186131054,
          0,
          0.459857326905226,
          0,
          0,
          0,
          0.4737632701393282,
          0,
          0.5619286379307963,
          0.567558434541785,
          0.4556408757437658,
          0.5917600966006002,
          0,
          0.09226029731982208,
          0.5665241817167109,
          0.43105695902018226,
          0.5430431275217481,
          0.6701138660145063,
          0.4282735850094213,
          0.6477561209416701,
          0.41182321462552557,
          0.46820975530573944,
          0.631567969445721,
          0.3594041747317879,
          0.7029847622587333,
          0,
          0.581084450541156,
          0.8547303424908885,
          0.2312371355262033,
          0.48699787623504304,
          0.2404641593151274,
          0.4588301404576265,
          0.3190519755391823,
          0.41594235652149214,
          0.43695055872159977,
          0.13539529644529386,
          0,
          0.6465903865998338,
          0.6957105390079963,
          0.4651756475585447,
          0.457301684528718,
          0.46742082585681294,
          0.5356898405291388,
          0.46029155239261593,
          0.5568623253064134,
          0.4507644200417476,
          0.5085532278809181,
          0.4575705343217856,
          0.424288954245012,
          0.43539120399109194,
          0,
          0.34355044179282135,
          0.513726610494211,
          0.25267489361351414,
          0.22028450265544217,
          0.6805326400521873,
          0.5492147961021134,
          0.34855817435106534,
          0,
          0.2015114153682143,
          0.2622807462523602,
          0.5080414363409639,
          0.554487379419117,
          0,
          0,
          0.6935657791324837,
          0,
          0.8693489581526582,
          0.63465950560336,
          0.4879221430002614,
          0.26721190274001505,
          0.45565446037502416,
          0.6238855688446585,
          0,
          0.5526674773530764,
          0.8391077684896949,
          0.4340607882885431,
          0.46496593196126607,
          0.47163962450868385,
          0.4252106029951587,
          0.38840468369480374,
          0.561119013199799,
          0.2553883213868792,
          0.6482666860587769,
          0.4436576331956357,
          0,
          0.22960241727864755,
          0.16587356789089172,
          0.45886059385308675,
          0.4441885469999021,
          0.8359737209187241,
          0.3285644913694499,
          0.2966425294919272,
          0.5009791261202495,
          0.478465319124681,
          0.3307656069397051,
          0.27137071211235664,
          0.4928121042612842,
          0.5874228131878529,
          0.5778431026446619,
          0.3286832270314261,
          0.5973248224033202,
          0.20043545948450514,
          0.5868296968400941,
          0.485315147113339,
          0,
          0.6340460637223068,
          0.4967930003042151,
          0.30576135243202734,
          0.4479722462994981,
          0.40992997999630454,
          0.6942865994596404,
          0.2503684651738201,
          0.16966443026496006,
          0.4468902244375004,
          0.7077569719937937,
          0.5063592931815818,
          0.605529885469644,
          0.5862954828046456,
          0,
          0.6430777362686763,
          0.5151645278197118,
          0.4970103367810493,
          0.43923385517713454,
          0.5655066259529271,
          0.3934133827475549,
          0.5985122155102486,
          0.3712078306690878,
          0,
          0.6619713642935348,
          0.5761741570642387,
          0.4953783178633362,
          0.2044341640236997,
          0.36482172590987627,
          0.6490256926235534,
          0.4041793373698846,
          0.6359594862911138,
          0.6435052460504598,
          0.49576443514072965,
          0.19006368818426064,
          0.6183873396872082,
          0.36295802863264104,
          0.5442655214389532,
          0.6081457781990219,
          0.6430138821743452,
          0.8816910603115121,
          0.4511315876045597,
          0.5023494702933187,
          0.49134651847143773,
          0.4317579914831798,
          0.3594841174388166,
          0.5495145887419591,
          0.45795165872640403,
          0.4905543798126802,
          0.6658058160682444,
          0.44970230608562495,
          0.49083146107807724,
          0.35982161906254106,
          0.484642980738352,
          0,
          0.36191621493891696,
          0.45854623560645175,
          0.47782172292433744,
          0.517483467207185,
          0,
          0.40269146935098027,
          0.5859110419603876,
          0.4153961510956223,
          0.6818375235253998,
          0,
          0.7554510668765689,
          0.5807830285508663,
          0.4228120458676046,
          0.40817188307744934,
          0.3992929841214935,
          0,
          0.6919594963284732,
          0.3644326667824036,
          0.5702142024654065,
          0.5811355065762376,
          0.6992387883129131,
          0.1012365073798441,
          0.527823443621044,
          0,
          0.073227024127434,
          0.38000726611235447,
          0,
          0.46241239565550396,
          0.5476698020777492,
          0.41465186197736414,
          0.5042251744268503,
          0.4781880922376728,
          0.5088747617651602,
          0,
          0,
          0.34988082189339675,
          0,
          0.47452341051557234,
          0.41172834601843217,
          0.5101568300844349,
          0.2882229289186538
         ]
        },
        {
         "fillcolor": "#e41a1c",
         "line": {
          "color": "#000000"
         },
         "name": "SCD",
         "type": "box",
         "x": [
          0.21588756028458359,
          0,
          0,
          0.5110034622309679,
          0.2945098002926482,
          0.1394745976195409,
          0.3259102559924497,
          0,
          0.40284324057298265,
          0.3751744249146149,
          0.2538060377103728,
          0.5459304519773277,
          0,
          0,
          0,
          0.21017886456530072,
          0.4022873537303499,
          0,
          0,
          0,
          0.24988425697700076,
          0,
          0.11035674102843392,
          0.4450999603748049,
          0.13007112918511166,
          0,
          0,
          0.24985763731777935,
          0.26801203737379886,
          0.17239656311337934,
          0.3044329500517129,
          0,
          0.23864370709815683,
          0,
          0.19480463523051184,
          0,
          0.4553367498752054,
          0.20580542677798405,
          0.30089200403572686,
          0.08056072021549117,
          0.11533200725285789,
          0,
          0.4386104613802668,
          0.22045757318774237,
          0.3564315028032807,
          0.2558050236924038,
          0,
          0.34212037371058823,
          0,
          0.20262914095252282,
          0.19813112279745557,
          0.29574816368004503,
          0.05654428628483606,
          0.563961648478087,
          0.41047559093465746,
          0.2997161025860537,
          0.4027518626773043,
          0.15540288117319523,
          0.24380663734559058,
          0,
          0.36111360039141743,
          0.3809991427683019,
          0.5030230665110126,
          0.12703637929493622,
          0.26493438431941474,
          0.3216304857835195,
          0.42790822586305854,
          0,
          0.46386034828485306,
          0.24231962623540934,
          0.23145117149614494,
          0.24633943791566937,
          0.28600738329741865,
          0.33743839471624076,
          0.22318053160085083,
          0,
          0.18639116019713753,
          0.5210005525543405,
          0.23045578838419656,
          0.2064516090916695,
          0.5783262130319549,
          0,
          0,
          0,
          0,
          0.31624014880445556,
          0,
          0,
          0.3020569637684287,
          0.3697708311644498,
          0.3265256941914774,
          0,
          0,
          0.5156725328255104,
          0.21661707119494325,
          0.48591720956799933,
          0,
          0.12481862497120665,
          0.23454452788685057,
          0,
          0.11643272114927328,
          0.4374450966010861,
          0,
          0.3559270405239131,
          0,
          0.38383875720063865,
          0,
          0.35609356429473527,
          0,
          0.29167079754555375,
          0.234831056742085,
          0,
          0.27148158952531004,
          0.30678840576192357,
          0.18007456802622349,
          0,
          0,
          0,
          0.33223757766547507,
          0.2052565005687373,
          0,
          0.548484548866388,
          0.4125579554022508,
          0.5443248957362029,
          0.2932334690085011,
          0,
          0.23568476673784505,
          0.09371083150731262,
          0.19088693243862645,
          0.16381609844443748,
          0,
          0.38030795259724964,
          0.5844639601708617,
          0.31080880158324425,
          0.24159519850625416,
          0.24028493159734904,
          0,
          0.23327450467278657,
          0,
          0.1537992596428176,
          0.07418080109107095,
          0.1455409914369178,
          0.36652277568158936,
          0.24919702862065451,
          0.37571450341171125,
          0.12468557443252261,
          0.10124914902396147,
          0.31694467000977694,
          0.2092676237266299,
          0,
          0.28910504152003436,
          0.1394752455606661,
          0.45282495634034686,
          0,
          0,
          0,
          0,
          0,
          0.28111506149110893,
          0.2777017525544174,
          0.29964916520718526,
          0.34089645186125667,
          0,
          0.21111016005740887,
          0,
          0,
          0.3083190504828871,
          0,
          0.16501385427387447,
          0,
          0.1954831635696052,
          0,
          0.5667300042797474,
          0.4441904117161147,
          0.09556317267777016,
          0,
          0.2771493173975121,
          0.40488626516978027,
          0,
          0.3826411900850668,
          0,
          0.2220366611617587,
          0,
          0.14120679261087732
         ]
        },
        {
         "fillcolor": "#ffff00",
         "line": {
          "color": "#000000"
         },
         "name": "MCI",
         "type": "box",
         "x": [
          0.4016144704615638,
          0,
          0.47094382148170627,
          0.6094080139663824,
          0.6306115387166957,
          0.5804322883121321,
          0,
          0.6417062470532401,
          0.2639841574870426,
          0.5066814368844752,
          0.5778538978777427,
          0.5703487987409769,
          0.2645412394802898,
          0.6651919351365092,
          0,
          0.4868666468540985,
          0.7237561321619842,
          0,
          0,
          0,
          0.5761447022227152,
          0,
          0.24742055003520189,
          0.561277953135905,
          0.30980308756884883,
          0,
          0,
          0,
          0,
          0,
          0,
          0.8418995465716755,
          0.5671883675493243,
          0.15393858286987452,
          0.4469620501426976,
          0.2644873550148365,
          0.655660606611683,
          0.25671426427154026,
          0.32446324657905823,
          0.5864732955918243,
          0.3487201716963725,
          0.31548436957611037,
          0.362132023893637,
          0.25993263379591836,
          0.26668740286093884,
          0,
          0.34963070409345404,
          0,
          0.39183094971867877,
          0.2601404200562096,
          0.39469796431185633,
          0.5223083953188193,
          0.23027513332422886,
          0.21775442340697743,
          0,
          0.27827835700250786,
          0.24131615908039544,
          0.2357908767430901,
          0.42288394344780633,
          0.4190405445881989,
          0.35615897298042265,
          0,
          0.31342539729761515,
          0.12929395088065204,
          0.4201964363912107,
          0,
          0,
          0.4265602245577909,
          0.3981328113945564,
          0.23009593422998553,
          0.5706803319516551,
          0.30027791162123696,
          0.29204381842832944,
          0,
          0.5487141493319041,
          0,
          0,
          0.3450165752254206,
          0.41525132037424517,
          0.22185033304125137,
          0.31249740820992933,
          0.31940138653280864,
          0.4630128063869947,
          0.07550517740434348,
          0.1407595731706156,
          0.26370961157322714,
          0.18005955063900927,
          0.09783796812163496,
          0.6877580652742893,
          0.09913108973153696,
          0,
          0.3406606402468663,
          0.26653514043551624,
          0.40828590609893345,
          0.1917345655376529,
          0,
          0.28383057356060176,
          0,
          0.2971016130272843,
          0.4736213179215407,
          0,
          0.414365385361869,
          0.22318798815895047,
          0,
          0.2742657466232703,
          0.3546480229088425,
          0,
          0,
          0.26052230672705295,
          0.5383001221643233,
          0.6428583096045833,
          0,
          0,
          0.3816255997850678,
          0.4651532167978166,
          0.6835473387399861,
          0.27197427949268965,
          0.2620416037469879,
          0.21799703771357795,
          0,
          0.5124532302098197,
          0,
          0,
          0.5972827878139657,
          0.5079752386897869,
          0.4148590312684751,
          0.22343081376229212,
          0.38167875907305326,
          0.19296422584040823,
          0.2742205804574956,
          0.46490888359259963,
          0.2670538650382226,
          0.22544375230632668,
          0.25707289019829593,
          0.48480971390411515,
          0,
          0.17770682635918222,
          0.42113499354870604,
          0.47793292754699557,
          0.2534660225602258,
          0.3002687631852305,
          0.31452739109040984,
          0.5325298619067794,
          0.31781768854688813,
          0.407770302623209,
          0.4952725098214363,
          0,
          0.339198753907528,
          0.19586431127658763,
          0.289398472408346,
          0.29470235369571973,
          0.24290345321705148,
          0.23306918532542592,
          0.3801728190819925,
          0.3518688893519888,
          0.5372990426163424,
          0.316376104074075,
          0.4732976607855882,
          0.738939255529358,
          0,
          0,
          0.46670675518393123,
          0.44713922931040806,
          0,
          0.6385742705935427,
          0.1475496677717489,
          0,
          0,
          0,
          0,
          0.43609316508160606,
          0.24214398245395635,
          0,
          0.4887885470421725,
          0.6192604319818986,
          0.15182843214638933,
          0.4035114249972882,
          0.2975997673651445,
          0.18641522249230483,
          0.44131762959906745,
          0.4689728225335267,
          0.23935833559364955,
          0.4386240395594136,
          0.36501077081218686,
          0.21870668932218335,
          0.2364314276779626,
          0.5745859626460905,
          0.38907382707790883,
          0.3265117592076259,
          0.4076359036725637,
          0,
          0.3889547458164875,
          0.34184718791025165,
          0.44215298750106347,
          0.40557288873926356,
          0,
          0.5734936271905711,
          0.5257919368040342,
          0.66055913655751,
          0.41247886955787616,
          0.5355806462205495,
          0.4333625402452322,
          0.4676039149141461,
          0.5789715282558355,
          0.32264021687193467,
          0.2678205420909965,
          0.4868628239130177,
          0.40563771897984324,
          0.4243555006089837,
          0.1533956225716844,
          0.5351470752027906,
          0.17490195138096992,
          0.49707040561470206,
          0.29418841861366657,
          0,
          0,
          0.5175439551555436,
          0.4130157105024366,
          0.32277272666374257,
          0.02953436094428077,
          0.21983760812777497,
          0.48434261998368944,
          0.3678673977594607,
          0.261130903854598,
          0.6226850836964609,
          0.6232872441067472,
          0.3623273443598688,
          0.20556256129741074,
          0.16418683178827265,
          0.3353899720852347,
          0,
          0.5607889408633283,
          0.4935005464168116,
          0.028459976978052016,
          0.30581351603498086,
          0.540284036522702,
          0.47210316415233106,
          0.2922763912959304,
          0.18040365483604676,
          0.381370355790043,
          0.27689586833299623,
          0.48373590230492874,
          0.5128997304709844,
          0.355769775777606,
          0.5454598957849246,
          0.5780516884734542,
          0.5565618630281334,
          0.24539810156340067,
          0,
          0.2780827748668472,
          0.28350673806962884,
          0.3697350044655409,
          0.4166490972472089,
          0.5687653104804054,
          0.42309417878487504,
          0.39612662672904375,
          0.19276800214352932,
          0.13273658805168123,
          0.46729109544695246,
          0.6113814884840778,
          0.30634013945693994,
          0.06683807487897221,
          0.48444037821931857,
          0.4582047722353792,
          0.44202836293564657,
          0.46843104037928646,
          0.6308225756164908,
          0.4938631643445938,
          0,
          0.49921827607069713,
          0.33019469200980267,
          0,
          0.16236309988178496,
          0,
          0.2124310965428318,
          0.4623447564132362,
          0.15920694287441448,
          0.48070039977417134,
          0.5165567563091044,
          0.28326947922696405,
          0.2603038852388253,
          0.6372436788705095,
          0,
          0.7168147878105589,
          0,
          0,
          0.44252762516943794,
          0.476372342822049,
          0,
          0.24251818447578932,
          0.17750044186244388,
          0.644535676858369,
          0.17799135521455584,
          0.39136723134520834,
          0.5014803991351634,
          0.21326869706636256,
          0,
          0.25887098555487537,
          0.25168918450067,
          0.18426953090013648,
          0,
          0.48201365333137886,
          0.3259269828933511,
          0,
          0.39730670442904653,
          0.2442823572318361,
          0,
          0.11978147925064817,
          0.40916003033255827,
          0,
          0.14452041605629434,
          0.27635186203097656,
          0.37265645286063803,
          0,
          0.32369796695083136,
          0.5034934407632655,
          0.2773658335208267,
          0.559893571344023,
          0.4610610294752842,
          0.36236663671793135,
          0.6601456296213284,
          0.24743925255463217
         ]
        }
       ],
       "layout": {
        "autosize": false,
        "height": 600,
        "legend": {
         "font": {
          "size": 16
         },
         "x": 0.97,
         "xanchor": "right",
         "y": 0.97,
         "yanchor": "top"
        },
        "template": {
         "data": {
          "bar": [
           {
            "error_x": {
             "color": "#2a3f5f"
            },
            "error_y": {
             "color": "#2a3f5f"
            },
            "marker": {
             "line": {
              "color": "#E5ECF6",
              "width": 0.5
             },
             "pattern": {
              "fillmode": "overlay",
              "size": 10,
              "solidity": 0.2
             }
            },
            "type": "bar"
           }
          ],
          "barpolar": [
           {
            "marker": {
             "line": {
              "color": "#E5ECF6",
              "width": 0.5
             },
             "pattern": {
              "fillmode": "overlay",
              "size": 10,
              "solidity": 0.2
             }
            },
            "type": "barpolar"
           }
          ],
          "carpet": [
           {
            "aaxis": {
             "endlinecolor": "#2a3f5f",
             "gridcolor": "white",
             "linecolor": "white",
             "minorgridcolor": "white",
             "startlinecolor": "#2a3f5f"
            },
            "baxis": {
             "endlinecolor": "#2a3f5f",
             "gridcolor": "white",
             "linecolor": "white",
             "minorgridcolor": "white",
             "startlinecolor": "#2a3f5f"
            },
            "type": "carpet"
           }
          ],
          "choropleth": [
           {
            "colorbar": {
             "outlinewidth": 0,
             "ticks": ""
            },
            "type": "choropleth"
           }
          ],
          "contour": [
           {
            "colorbar": {
             "outlinewidth": 0,
             "ticks": ""
            },
            "colorscale": [
             [
              0,
              "#0d0887"
             ],
             [
              0.1111111111111111,
              "#46039f"
             ],
             [
              0.2222222222222222,
              "#7201a8"
             ],
             [
              0.3333333333333333,
              "#9c179e"
             ],
             [
              0.4444444444444444,
              "#bd3786"
             ],
             [
              0.5555555555555556,
              "#d8576b"
             ],
             [
              0.6666666666666666,
              "#ed7953"
             ],
             [
              0.7777777777777778,
              "#fb9f3a"
             ],
             [
              0.8888888888888888,
              "#fdca26"
             ],
             [
              1,
              "#f0f921"
             ]
            ],
            "type": "contour"
           }
          ],
          "contourcarpet": [
           {
            "colorbar": {
             "outlinewidth": 0,
             "ticks": ""
            },
            "type": "contourcarpet"
           }
          ],
          "heatmap": [
           {
            "colorbar": {
             "outlinewidth": 0,
             "ticks": ""
            },
            "colorscale": [
             [
              0,
              "#0d0887"
             ],
             [
              0.1111111111111111,
              "#46039f"
             ],
             [
              0.2222222222222222,
              "#7201a8"
             ],
             [
              0.3333333333333333,
              "#9c179e"
             ],
             [
              0.4444444444444444,
              "#bd3786"
             ],
             [
              0.5555555555555556,
              "#d8576b"
             ],
             [
              0.6666666666666666,
              "#ed7953"
             ],
             [
              0.7777777777777778,
              "#fb9f3a"
             ],
             [
              0.8888888888888888,
              "#fdca26"
             ],
             [
              1,
              "#f0f921"
             ]
            ],
            "type": "heatmap"
           }
          ],
          "heatmapgl": [
           {
            "colorbar": {
             "outlinewidth": 0,
             "ticks": ""
            },
            "colorscale": [
             [
              0,
              "#0d0887"
             ],
             [
              0.1111111111111111,
              "#46039f"
             ],
             [
              0.2222222222222222,
              "#7201a8"
             ],
             [
              0.3333333333333333,
              "#9c179e"
             ],
             [
              0.4444444444444444,
              "#bd3786"
             ],
             [
              0.5555555555555556,
              "#d8576b"
             ],
             [
              0.6666666666666666,
              "#ed7953"
             ],
             [
              0.7777777777777778,
              "#fb9f3a"
             ],
             [
              0.8888888888888888,
              "#fdca26"
             ],
             [
              1,
              "#f0f921"
             ]
            ],
            "type": "heatmapgl"
           }
          ],
          "histogram": [
           {
            "marker": {
             "pattern": {
              "fillmode": "overlay",
              "size": 10,
              "solidity": 0.2
             }
            },
            "type": "histogram"
           }
          ],
          "histogram2d": [
           {
            "colorbar": {
             "outlinewidth": 0,
             "ticks": ""
            },
            "colorscale": [
             [
              0,
              "#0d0887"
             ],
             [
              0.1111111111111111,
              "#46039f"
             ],
             [
              0.2222222222222222,
              "#7201a8"
             ],
             [
              0.3333333333333333,
              "#9c179e"
             ],
             [
              0.4444444444444444,
              "#bd3786"
             ],
             [
              0.5555555555555556,
              "#d8576b"
             ],
             [
              0.6666666666666666,
              "#ed7953"
             ],
             [
              0.7777777777777778,
              "#fb9f3a"
             ],
             [
              0.8888888888888888,
              "#fdca26"
             ],
             [
              1,
              "#f0f921"
             ]
            ],
            "type": "histogram2d"
           }
          ],
          "histogram2dcontour": [
           {
            "colorbar": {
             "outlinewidth": 0,
             "ticks": ""
            },
            "colorscale": [
             [
              0,
              "#0d0887"
             ],
             [
              0.1111111111111111,
              "#46039f"
             ],
             [
              0.2222222222222222,
              "#7201a8"
             ],
             [
              0.3333333333333333,
              "#9c179e"
             ],
             [
              0.4444444444444444,
              "#bd3786"
             ],
             [
              0.5555555555555556,
              "#d8576b"
             ],
             [
              0.6666666666666666,
              "#ed7953"
             ],
             [
              0.7777777777777778,
              "#fb9f3a"
             ],
             [
              0.8888888888888888,
              "#fdca26"
             ],
             [
              1,
              "#f0f921"
             ]
            ],
            "type": "histogram2dcontour"
           }
          ],
          "mesh3d": [
           {
            "colorbar": {
             "outlinewidth": 0,
             "ticks": ""
            },
            "type": "mesh3d"
           }
          ],
          "parcoords": [
           {
            "line": {
             "colorbar": {
              "outlinewidth": 0,
              "ticks": ""
             }
            },
            "type": "parcoords"
           }
          ],
          "pie": [
           {
            "automargin": true,
            "type": "pie"
           }
          ],
          "scatter": [
           {
            "fillpattern": {
             "fillmode": "overlay",
             "size": 10,
             "solidity": 0.2
            },
            "type": "scatter"
           }
          ],
          "scatter3d": [
           {
            "line": {
             "colorbar": {
              "outlinewidth": 0,
              "ticks": ""
             }
            },
            "marker": {
             "colorbar": {
              "outlinewidth": 0,
              "ticks": ""
             }
            },
            "type": "scatter3d"
           }
          ],
          "scattercarpet": [
           {
            "marker": {
             "colorbar": {
              "outlinewidth": 0,
              "ticks": ""
             }
            },
            "type": "scattercarpet"
           }
          ],
          "scattergeo": [
           {
            "marker": {
             "colorbar": {
              "outlinewidth": 0,
              "ticks": ""
             }
            },
            "type": "scattergeo"
           }
          ],
          "scattergl": [
           {
            "marker": {
             "colorbar": {
              "outlinewidth": 0,
              "ticks": ""
             }
            },
            "type": "scattergl"
           }
          ],
          "scattermapbox": [
           {
            "marker": {
             "colorbar": {
              "outlinewidth": 0,
              "ticks": ""
             }
            },
            "type": "scattermapbox"
           }
          ],
          "scatterpolar": [
           {
            "marker": {
             "colorbar": {
              "outlinewidth": 0,
              "ticks": ""
             }
            },
            "type": "scatterpolar"
           }
          ],
          "scatterpolargl": [
           {
            "marker": {
             "colorbar": {
              "outlinewidth": 0,
              "ticks": ""
             }
            },
            "type": "scatterpolargl"
           }
          ],
          "scatterternary": [
           {
            "marker": {
             "colorbar": {
              "outlinewidth": 0,
              "ticks": ""
             }
            },
            "type": "scatterternary"
           }
          ],
          "surface": [
           {
            "colorbar": {
             "outlinewidth": 0,
             "ticks": ""
            },
            "colorscale": [
             [
              0,
              "#0d0887"
             ],
             [
              0.1111111111111111,
              "#46039f"
             ],
             [
              0.2222222222222222,
              "#7201a8"
             ],
             [
              0.3333333333333333,
              "#9c179e"
             ],
             [
              0.4444444444444444,
              "#bd3786"
             ],
             [
              0.5555555555555556,
              "#d8576b"
             ],
             [
              0.6666666666666666,
              "#ed7953"
             ],
             [
              0.7777777777777778,
              "#fb9f3a"
             ],
             [
              0.8888888888888888,
              "#fdca26"
             ],
             [
              1,
              "#f0f921"
             ]
            ],
            "type": "surface"
           }
          ],
          "table": [
           {
            "cells": {
             "fill": {
              "color": "#EBF0F8"
             },
             "line": {
              "color": "white"
             }
            },
            "header": {
             "fill": {
              "color": "#C8D4E3"
             },
             "line": {
              "color": "white"
             }
            },
            "type": "table"
           }
          ]
         },
         "layout": {
          "annotationdefaults": {
           "arrowcolor": "#2a3f5f",
           "arrowhead": 0,
           "arrowwidth": 1
          },
          "autotypenumbers": "strict",
          "coloraxis": {
           "colorbar": {
            "outlinewidth": 0,
            "ticks": ""
           }
          },
          "colorscale": {
           "diverging": [
            [
             0,
             "#8e0152"
            ],
            [
             0.1,
             "#c51b7d"
            ],
            [
             0.2,
             "#de77ae"
            ],
            [
             0.3,
             "#f1b6da"
            ],
            [
             0.4,
             "#fde0ef"
            ],
            [
             0.5,
             "#f7f7f7"
            ],
            [
             0.6,
             "#e6f5d0"
            ],
            [
             0.7,
             "#b8e186"
            ],
            [
             0.8,
             "#7fbc41"
            ],
            [
             0.9,
             "#4d9221"
            ],
            [
             1,
             "#276419"
            ]
           ],
           "sequential": [
            [
             0,
             "#0d0887"
            ],
            [
             0.1111111111111111,
             "#46039f"
            ],
            [
             0.2222222222222222,
             "#7201a8"
            ],
            [
             0.3333333333333333,
             "#9c179e"
            ],
            [
             0.4444444444444444,
             "#bd3786"
            ],
            [
             0.5555555555555556,
             "#d8576b"
            ],
            [
             0.6666666666666666,
             "#ed7953"
            ],
            [
             0.7777777777777778,
             "#fb9f3a"
            ],
            [
             0.8888888888888888,
             "#fdca26"
            ],
            [
             1,
             "#f0f921"
            ]
           ],
           "sequentialminus": [
            [
             0,
             "#0d0887"
            ],
            [
             0.1111111111111111,
             "#46039f"
            ],
            [
             0.2222222222222222,
             "#7201a8"
            ],
            [
             0.3333333333333333,
             "#9c179e"
            ],
            [
             0.4444444444444444,
             "#bd3786"
            ],
            [
             0.5555555555555556,
             "#d8576b"
            ],
            [
             0.6666666666666666,
             "#ed7953"
            ],
            [
             0.7777777777777778,
             "#fb9f3a"
            ],
            [
             0.8888888888888888,
             "#fdca26"
            ],
            [
             1,
             "#f0f921"
            ]
           ]
          },
          "colorway": [
           "#636efa",
           "#EF553B",
           "#00cc96",
           "#ab63fa",
           "#FFA15A",
           "#19d3f3",
           "#FF6692",
           "#B6E880",
           "#FF97FF",
           "#FECB52"
          ],
          "font": {
           "color": "#2a3f5f"
          },
          "geo": {
           "bgcolor": "white",
           "lakecolor": "white",
           "landcolor": "#E5ECF6",
           "showlakes": true,
           "showland": true,
           "subunitcolor": "white"
          },
          "hoverlabel": {
           "align": "left"
          },
          "hovermode": "closest",
          "mapbox": {
           "style": "light"
          },
          "paper_bgcolor": "white",
          "plot_bgcolor": "#E5ECF6",
          "polar": {
           "angularaxis": {
            "gridcolor": "white",
            "linecolor": "white",
            "ticks": ""
           },
           "bgcolor": "#E5ECF6",
           "radialaxis": {
            "gridcolor": "white",
            "linecolor": "white",
            "ticks": ""
           }
          },
          "scene": {
           "xaxis": {
            "backgroundcolor": "#E5ECF6",
            "gridcolor": "white",
            "gridwidth": 2,
            "linecolor": "white",
            "showbackground": true,
            "ticks": "",
            "zerolinecolor": "white"
           },
           "yaxis": {
            "backgroundcolor": "#E5ECF6",
            "gridcolor": "white",
            "gridwidth": 2,
            "linecolor": "white",
            "showbackground": true,
            "ticks": "",
            "zerolinecolor": "white"
           },
           "zaxis": {
            "backgroundcolor": "#E5ECF6",
            "gridcolor": "white",
            "gridwidth": 2,
            "linecolor": "white",
            "showbackground": true,
            "ticks": "",
            "zerolinecolor": "white"
           }
          },
          "shapedefaults": {
           "line": {
            "color": "#2a3f5f"
           }
          },
          "ternary": {
           "aaxis": {
            "gridcolor": "white",
            "linecolor": "white",
            "ticks": ""
           },
           "baxis": {
            "gridcolor": "white",
            "linecolor": "white",
            "ticks": ""
           },
           "bgcolor": "#E5ECF6",
           "caxis": {
            "gridcolor": "white",
            "linecolor": "white",
            "ticks": ""
           }
          },
          "title": {
           "x": 0.05
          },
          "xaxis": {
           "automargin": true,
           "gridcolor": "white",
           "linecolor": "white",
           "ticks": "",
           "title": {
            "standoff": 15
           },
           "zerolinecolor": "white",
           "zerolinewidth": 2
          },
          "yaxis": {
           "automargin": true,
           "gridcolor": "white",
           "linecolor": "white",
           "ticks": "",
           "title": {
            "standoff": 15
           },
           "zerolinecolor": "white",
           "zerolinewidth": 2
          }
         }
        },
        "title": {
         "font": {
          "size": 34
         },
         "text": "Staging - Boxplots",
         "x": 0.5
        },
        "width": 1000,
        "xaxis": {
         "dtick": 0.1,
         "range": [
          -0.05,
          1
         ],
         "tick0": 0,
         "tickfont": {
          "size": 14
         },
         "tickmode": "linear",
         "title": {
          "font": {
           "size": 18
          },
          "text": "Disease Stage"
         }
        },
        "yaxis": {
         "tickfont": {
          "size": 14
         },
         "title": {
          "font": {
           "size": 18
          },
          "text": "Diagnosis"
         }
        }
       }
      },
      "text/html": [
       "<div>                            <div id=\"294c33f5-839d-4576-8b4d-dd0095ec3d18\" class=\"plotly-graph-div\" style=\"height:600px; width:1000px;\"></div>            <script type=\"text/javascript\">                require([\"plotly\"], function(Plotly) {                    window.PLOTLYENV=window.PLOTLYENV || {};                                    if (document.getElementById(\"294c33f5-839d-4576-8b4d-dd0095ec3d18\")) {                    Plotly.newPlot(                        \"294c33f5-839d-4576-8b4d-dd0095ec3d18\",                        [{\"fillcolor\":\"#4daf4a\",\"line\":{\"color\":\"#000000\"},\"name\":\"CN\",\"x\":[0.0,0.0,0.0,0.0,0.0,0.0,0.0,0.0,0.0,0.0,0.0,0.0,0.0,0.0,0.0,0.0,0.0,0.0,0.0,0.0,0.0,0.0,0.0,0.0,0.0,0.0,0.0,0.0,0.0,0.0,0.0,0.0,0.0,0.0,0.0,0.0,0.0,0.0,0.0,0.0,0.0,0.0,0.0,0.0,0.0,0.0,0.0,0.0,0.0,0.0,0.0,0.0,0.0,0.0,0.0,0.0,0.0,0.0,0.0,0.0,0.0,0.0,0.0,0.0,0.0,0.0,0.0,0.0,0.0,0.0,0.0,0.0,0.0,0.0,0.0,0.0,0.0,0.0,0.0,0.0,0.0,0.0,0.0,0.0,0.0,0.0,0.0,0.0,0.0,0.0,0.0,0.0,0.0,0.0,0.0,0.0,0.0,0.0,0.0,0.0,0.0,0.0,0.0,0.0,0.0,0.0,0.0,0.0,0.0,0.0,0.0,0.0,0.0,0.0,0.0,0.0,0.0,0.0,0.0,0.0,0.0,0.0,0.0,0.0,0.0,0.0,0.0,0.0,0.0,0.0,0.0,0.0,0.0,0.0,0.0,0.0,0.0,0.0,0.0,0.0,0.0,0.0,0.0,0.0,0.0,0.0,0.0,0.0,0.0,0.0,0.0,0.0,0.0,0.0,0.0,0.0,0.0,0.0,0.0,0.0,0.0,0.0,0.0,0.0,0.0,0.0,0.0,0.0,0.0,0.0,0.0,0.0,0.0,0.0,0.0,0.0,0.0,0.0,0.0,0.0,0.0,0.0,0.0,0.0,0.0,0.0,0.0,0.0,0.0,0.0,0.0,0.0,0.0,0.0,0.0,0.0,0.0,0.0,0.0,0.0,0.0,0.0,0.0,0.0,0.0,0.0,0.0,0.0,0.0,0.0,0.0,0.0,0.0,0.0,0.0,0.0,0.0,0.0,0.0,0.0,0.0,0.0,0.0,0.0,0.0,0.0,0.0,0.0,0.0,0.0,0.0,0.0,0.0,0.0,0.0,0.0,0.0,0.0,0.0,0.0,0.0,0.0,0.0,0.0,0.0,0.0,0.0,0.0,0.0,0.0,0.0,0.0,0.0,0.0,0.0,0.0,0.0,0.0,0.0,0.0,0.0,0.0,0.0,0.0,0.0,0.0,0.0,0.0,0.0,0.0,0.0,0.0,0.0,0.0,0.0,0.0,0.0,0.0,0.0,0.0,0.0,0.0,0.0,0.0,0.0,0.0,0.0,0.0,0.0,0.0,0.0,0.0,0.0,0.0,0.0,0.0,0.0,0.0,0.0,0.0,0.0,0.0,0.0,0.0,0.0,0.0,0.0,0.0,0.0,0.0,0.0,0.0,0.0,0.0,0.0,0.0,0.0,0.0,0.0,0.0,0.0,0.0,0.0,0.0,0.0,0.0,0.0,0.0,0.0,0.0,0.0,0.0,0.0,0.0,0.0,0.0,0.0,0.0,0.0,0.0,0.0,0.0,0.0,0.0,0.0,0.0,0.0,0.0,0.0,0.0,0.0,0.0,0.0,0.0,0.0,0.0,0.0,0.0,0.0,0.0,0.0,0.0,0.0,0.0,0.0,0.0,0.0,0.0,0.0,0.0,0.0,0.0,0.0,0.0,0.0,0.0,0.0,0.0,0.0,0.0,0.0,0.0,0.0,0.0,0.0,0.0,0.0,0.0,0.0,0.0,0.0,0.0,0.0,0.0,0.0,0.0,0.0,0.0,0.0,0.0,0.0,0.0,0.0,0.0,0.0,0.0,0.0,0.0,0.0,0.0,0.0,0.0,0.0,0.0,0.0,0.0,0.0,0.0,0.0,0.0,0.0,0.0,0.0,0.0,0.0,0.0,0.0,0.0,0.0,0.0,0.0,0.0,0.0,0.0,0.0,0.0,0.0,0.0,0.0,0.0,0.0,0.0,0.0,0.0,0.0,0.0,0.0,0.0,0.0,0.0,0.0,0.0,0.0,0.0,0.0,0.0,0.0,0.0,0.0,0.0,0.0,0.0,0.0,0.0,0.0,0.0,0.0,0.0,0.0,0.0,0.0,0.0,0.0,0.0,0.0,0.0,0.0,0.0,0.0,0.0,0.0,0.0,0.0,0.0,0.0,0.0,0.0,0.0,0.0,0.0,0.0,0.0,0.0,0.0,0.0,0.0,0.0,0.0,0.0,0.0,0.0,0.0,0.0,0.0,0.0,0.0,0.0,0.0,0.0,0.0,0.0,0.0,0.0,0.0,0.0,0.0,0.0,0.0,0.0,0.0,0.0,0.0,0.0,0.0,0.0,0.0,0.0,0.0,0.0,0.0,0.0,0.0,0.0,0.0,0.0,0.0,0.0,0.0,0.0,0.0,0.0,0.0,0.0,0.0,0.0,0.0,0.0,0.0,0.0,0.0,0.0,0.0,0.0,0.0,0.0,0.0,0.0,0.0,0.0,0.0,0.0,0.0,0.0,0.0,0.0,0.0,0.0,0.0,0.0,0.0,0.0,0.0,0.0,0.0,0.0,0.0,0.0,0.0,0.0,0.0,0.0,0.0,0.0,0.0,0.0,0.0,0.0,0.0,0.0,0.0,0.0,0.0,0.0,0.0,0.0,0.0,0.0,0.0,0.0,0.0,0.0,0.0,0.0,0.0,0.0,0.0,0.0,0.0,0.0,0.0,0.0,0.0,0.0,0.0,0.0,0.0,0.0,0.0,0.0,0.0,0.0,0.0,0.0,0.0,0.0,0.0,0.0,0.0,0.0,0.0,0.0,0.0,0.0,0.0,0.0,0.0,0.0,0.0,0.0,0.0,0.0,0.0,0.0,0.0,0.0,0.0,0.0,0.0,0.0,0.0,0.0,0.0,0.0,0.0,0.0,0.0,0.0,0.0,0.0,0.0,0.0,0.0,0.0,0.0,0.0,0.0,0.0,0.0,0.0,0.0,0.0,0.0,0.0,0.0,0.0,0.0],\"type\":\"box\"},{\"fillcolor\":\"#377eb8\",\"line\":{\"color\":\"#000000\"},\"name\":\"AD\",\"x\":[0.7386489976529469,0.5873724128626128,0.25568787136303184,0.6338081643613838,0.47036337766208186,0.6199101439388304,0.8191748726918087,0.611284953718582,0.0,0.38417398443140083,0.40822142184504895,0.7078728364877516,0.0,0.2448714731150353,0.0,0.18241488655813964,0.6640705048856747,0.3042325752589658,0.0,0.7065514559547237,0.5946815770201388,0.7438658380324007,0.7400485897244483,0.43855986200214697,0.5192475007781415,0.8707848236716731,0.40015463869707263,0.6679483880708207,0.0,0.4023911969246167,0.23443977647478542,0.6286015936806412,0.32751977486471207,0.0,0.4941431463051152,0.618736750561759,0.3264439553653352,0.560003144525327,0.4482909353175579,0.31729130242140985,0.4500658573221114,0.433612094828572,0.6317442022865113,0.7407008326557145,0.0,0.756233893311582,0.0,0.6128485604759524,0.25458723642731174,0.3813520200805411,0.6453951135613677,0.6282036345221197,0.3302057045670442,0.0,0.5430558004962271,0.0,0.560487934135647,0.0,0.0,0.671001698340107,0.5187527521077615,0.5975643717969908,0.7465547408181226,0.4372983417402487,0.22723056504803196,0.6773022388098111,0.6608827594749904,0.8071441461509359,0.5377050388811174,0.49941333091949147,0.0,0.31645389913775845,0.0,0.2190691708927517,0.6020658829788063,0.0,0.8795048970940971,0.0,0.23882601925028862,0.0,0.5621319486583494,0.29292506670943114,0.41091315158605823,0.0,0.5712623556605974,0.5865198493824071,0.43787146503007135,0.6751033578587251,0.2742116968324442,0.8735611700784294,0.0,0.6232608237533995,0.6882695437314963,0.6205114230961016,0.56329393700968,0.4696949413994904,0.7433819031926422,0.0,0.2378285537876805,0.2967248411995644,0.0,0.5221329618823541,0.4375671384471383,0.6070787807935223,0.2171270693146634,0.0,0.6893692858187971,0.6509338213395902,0.5078874814079659,0.0,0.7225900961875382,0.711645260623467,0.0,0.6708558515183528,0.48619673581069095,0.631588957853038,0.7316810931506698,0.5980781181069781,0.7834884116311714,0.8779777819117023,0.6226820771172737,0.87428373056715,0.0,0.631978809521715,0.25803808089673164,0.08550886326055661,0.40360689957412654,0.0,0.6044701814580632,0.0,0.6832521213653197,0.5198242397569746,0.7013202045166288,0.2901985408049968,0.0,0.6884049011999904,0.6674289405142321,0.8435308803285914,0.65694656655065,0.5848806998276446,0.0,0.8523294348056432,0.7184753100395567,0.8609215636740485,0.0,0.4417222772574374,0.21542486697925736,0.13984044464236908,0.8739575839139895,0.4702877447280425,0.0,0.33407421977928103,0.25316825421487743,0.3051892604445864,0.5241989712591827,0.497371290250574,0.0,0.0,0.39931874053116845,0.5790777004841283,0.45116881758591737,0.662206247780107,0.3300833585348899,0.4676467617487904,0.8816613958975865,0.47774797469144825,0.1362788112754417,0.2862428028285976,0.29424194259224745,0.4273307053398036,0.43994235133927845,0.4135715885936119,0.4775609532174899,0.4879561155243679,0.42064467486728035,0.36338078014997904,0.6295413177299827,0.13098840660388356,0.8770815299673859,0.6692224697966929,0.6624637982145263,0.39795561120465955,0.0,0.5558522558063108,0.8251009371016783,0.2686203503687679,0.5814170580865481,0.4517130312387436,0.881962902615977,0.5127086932416173,0.4512954733165515,0.4431436600050508,0.6372564194311493,0.5080117039761661,0.3900521700785321,0.6665563866205001,0.715216040658043,0.8612156025269736,0.6650543114692675,0.4285209870877993,0.558401327093002,0.549740565137854,0.6591715350904852,0.43620620749466643,0.4916627859410525,0.5511908052361985,0.27058633253872655,0.0,0.7490602127872111,0.515748519379358,0.2437272053450893,0.7042200749898817,0.7024432400821587,0.0,0.5606251210235598,0.48622013388179236,0.4276338471316313,0.5580092691935848,0.37176546569051305,0.25580058648328496,0.07471604852759567,0.6416543005092468,0.4695857392988976,0.3333431388715207,0.5795432530437915,0.6151542441909349,0.4479137996901448,0.44318769584704876,0.0,0.47468994310036833,0.8761833147505694,0.44785628680413425,0.5110000404177101,0.48735040961568116,0.09744031552055434,0.37894714897453635,0.6031558425846502,0.615501238311582,0.1454045345981064,0.370120705772461,0.8759799548416476,0.0,0.7423466248819575,0.50569229064651,0.8180480430721886,0.0,0.39460328898467073,0.42359651253822167,0.07568413131008646,0.060310060233027714,0.5661195931844162,0.6364710442604483,0.0,0.0,0.0,0.8126216226134606,0.03519077044080977,0.8266105178678493,0.4343000593001201,0.0,0.445051207757887,0.38913711692665176,0.6144852925066597,0.6894432395139721,0.04751579074971316,0.5319437867919765,0.5224304436346866,0.748160393029869,0.0,0.0,0.43890909644895076,0.5040132266892878,0.4428971619366471,0.43572112210031727,0.582534012108723,0.4680078093366415,0.3580414737088686,0.14648318746919725,0.6632597418977682,0.6148150691479567,0.0,0.35722736485941087,0.1584130948838331,0.536828730736642,0.0,0.41858223691755553,0.5623697671715836,0.6493633959464815,0.22757279077416007,0.2485688538217083,0.3201346653298677,0.7249559850859029,0.523402862120167,0.6101051783217151,0.48930396491309214,0.5354232218524057,0.6814412295267576,0.0,0.0,0.36289779911870307,0.3914618339887907,0.748548623992727,0.6070205032108674,0.40946161198297415,0.36083581460429015,0.08115760137230733,0.2553397637666169,0.8794883737064214,0.6634327720704305,0.4027209536318826,0.8252005002519546,0.5116067668129445,0.319673051172516,0.38787116481989703,0.6998670782258739,0.0,0.6038350044847767,0.18517238723689244,0.5187289804299229,0.8816657428020437,0.2831164763626045,0.0,0.4567639851007117,0.32973470983600955,0.6473992059020506,0.37218022863216554,0.2955180556564543,0.04980866648706842,0.40686341725960556,0.5953173128954631,0.5486796384544276,0.0,0.3171805249159074,0.4175749180557052,0.5470276171489207,0.7311975588459091,0.5990969173795908,0.4360232646784231,0.451589425731427,0.2198735679835692,0.5680855111326254,0.48938045998531554,0.5478774655372519,0.5001129791627688,0.0,0.5892395278404436,0.4980259024924858,0.5573396708428939,0.16103179259555017,0.0,0.505471397526582,0.10086866942861634,0.5361071457083149,0.4846788205789249,0.5827070598710069,0.5293047333641985,0.08567196737602109,0.0,0.5668138472635849,0.6054056173576483,0.34304792902217457,0.6715859126890144,0.25439346402577695,0.49333165141087,0.4581238894382526,0.6414248265021295,0.5350732402270045,0.0,0.3666645516605318,0.6027403909640192,0.5475807708783866,0.0,0.0,0.466888828003248,0.3649957676270613,0.5903210927505191,0.6863098037685575,0.4985402139440338,0.5369478360798693,0.6820488883421731,0.5372848068510924,0.4908955006955372,0.6273777638871824,0.47276449879283594,0.5979535904021324,0.27225306802224974,0.5680850969865008,0.38033196107151834,0.40611670873409045,0.09299581197268027,0.5851406566975014,0.6423133212207143,0.6102930607225612,0.4453991694058461,0.6306469184813525,0.7030249804418045,0.5710420117260361,0.0,0.5495147085332232,0.4502551560367062,0.44253367429058843,0.3667468590382573,0.6435227312005524,0.4072678746507427,0.3031841848501608,0.0,0.5228983480810769,0.5878478135818743,0.40421762775567593,0.725526512791437,0.0,0.702384631046404,0.43973744277938615,0.0,0.3140131564843849,0.0,0.31868692436301554,0.38380975323807554,0.1312729708878008,0.6681968991612495,0.6572108838609951,0.17037618664256254,0.44775204053642464,0.595608761122357,0.4102535221041024,0.6500445246714984,0.3601556769869883,0.1448566878802528,0.0,0.0,0.1593424294424859,0.6476261550483292,0.5972575799911188,0.40949575507439223,0.42474644053053895,0.0,0.15861061485933492,0.03446740409846716,0.12340011454816485,0.5327310079473145,0.23049821510147306,0.39236160040189305,0.49941973979145743,0.7437549580629675,0.07563912177045638,0.6041134410480473,0.3785436252674762,0.2818700401008201,0.0,0.5205603930884789,0.49477329533459324,0.0,0.1690069991391367,0.29088036257581606,0.7173627225885887,0.7213743914557444,0.6305742160637832,0.6347619563514683,0.305097027852938,0.0,0.0,0.45116609636744165,0.16628170865466035,0.21095420056246725,0.5657786728857117,0.8064325395570315,0.0,0.6286430276930038,0.5687429033971312,0.5475443228245365,0.6125945093360834,0.5006715793148447,0.46282323879707576,0.5621002347123547,0.8659781864043257,0.3633242234208444,0.5310890756514004,0.6914303793194737,0.420292159682063,0.23688687690948582,0.0,0.8608882645016478,0.0,0.009410209365421545,0.6044644658574766,0.4647495053700106,0.7041209304039171,0.4836595537123004,0.5304011897176384,0.0,0.47943328863142914,0.3248385894620932,0.09955185570425368,0.5461000266199413,0.40559143274290993,0.15907786844123278,0.8797298132989941,0.45971200105926574,0.09480771952193741,0.0,0.826736962668457,0.0,0.2782515303284202,0.4052606006434114,0.0,0.043512194518384034,0.32920608658882716,0.5890991040543995,0.3624181304835488,0.854428050167379,0.5150764238523575,0.3855528539602615,0.47015687575977533,0.297240487973155,0.0,0.41173707282448785,0.4984941742955594,0.5011380830811115,0.7533150992785825,0.26941977915926907,0.5918410093023181,0.1497902435669171,0.2078128616044823,0.5023915450762872,0.6735194340714648,0.6190013157188544,0.546190193025941,0.610561178928211,0.0,0.6815873391100747,0.621883893862544,0.0,0.0,0.6891341082199165,0.3621913230419059,0.4270193567673758,0.0,0.29499033176299816,0.2673091889904101,0.30232811415624433,0.6082490270686761,0.0,0.373934302535136,0.8590990388961406,0.4640205358954276,0.010351698236600464,0.4833907962183408,0.4711112173814352,0.2425391729605802,0.4046136144933994,0.8795345221632572,0.324241108474646,0.6298361268604113,0.32504890499571487,0.0,0.4251552261471203,0.0,0.3622312301707479,0.4200322711871053,0.4452617171235849,0.5951320975713127,0.5397084720901314,0.5117141540994861,0.2579342775063199,0.5484418646324779,0.0,0.49006561356266476,0.6416391170671066,0.5580323203899844,0.23570322908930605,0.8498819710219674,0.44304237152401904,0.0,0.0,0.402437939186407,0.43297696441832223,0.46852360536854387,0.5416664127922958,0.7172104784070302,0.7478727995876658,0.4316596636835576,0.07411895431181346,0.4706665204467188,0.23114002270724654,0.583497566193233,0.41297407461576713,0.6870458394469288,0.4132435137662565,0.0,0.6572306454697929,0.10928158031557587,0.31962117031651677,0.6370627665575929,0.37891480226527147,0.46279540031385885,0.5053662980952212,0.5954245600503625,0.5314686013610723,0.5265649766221231,0.6030757383628612,0.8766474074442145,0.2892443461099717,0.0,0.0,0.0,0.5626239589259234,0.8584740697370921,0.6866942828049202,0.6785596284671809,0.7141441831924746,0.0,0.5373724239781378,0.5866941783946804,0.346613499723448,0.43459181196231433,0.6119665692271713,0.25277518227455936,0.746236272456124,0.5990756992291473,0.46710979470693453,0.3788724882090693,0.869776611456023,0.21074736385248397,0.47776909583643723,0.0,0.704308703061526,0.4415381010772897,0.7728504165599066,0.2560385070115287,0.761151800818824,0.5003941137742007,0.30836304159053685,0.0,0.808171854931705,0.3368264323013325,0.5412664359790463,0.7061355161466747,0.272101535124153,0.4976601650158096,0.6130350385543502,0.6212876304564785,0.5241384267628229,0.10574081054470215,0.06328194401927727,0.4695790902864258,0.6126937339838567,0.5734619599706778,0.5897339011224482,0.0,0.0,0.18757660710580612,0.4187354423002233,0.44160079745642583,0.49892556183179937,0.3296584395217353,0.6254856635639611,0.87924778627514,0.22723461107646317,0.0,0.6838694086305697,0.0,0.37138832958894696,0.5469297740264143,0.6163237205350647,0.0,0.5897852217851,0.4582391096587171,0.0,0.0,0.33118144756898443,0.42642679290405633,0.3949421917024998,0.0,0.5603565975111433,0.0,0.0,0.6011418773256535,0.458729012910626,0.41132921312922416,0.6996937943462334,0.49415190771310674,0.0,0.0,0.7982549282316114,0.4359251084084763,0.33852740836255596,0.5469458272122266,0.0,0.8750887543384447,0.5502490608340879,0.5636523849460828,0.2807465138765886,0.44116697826968815,0.19323427101922072,0.5621869991144405,0.3259348772943426,0.37738343235735344,0.8734862432727886,0.720216310532685,0.2597502260662567,0.5545575729564581,0.5345502994421126,0.5876585714876749,0.4880697452755286,0.5300907647563465,0.6798271079198719,0.0,0.0,0.4878031150208785,0.0,0.5852148291325038,0.6055665516573377,0.33696458151212555,0.42066590454141484,0.6794235925745984,0.0,0.3744190854837416,0.7215014998602272,0.81888658252676,0.39207030260986986,0.4251173243453728,0.8743838611796555,0.0,0.6563195905247327,0.19676367331311745,0.23810397741020758,0.4905771130542742,0.7065221428545398,0.55579423069095,0.28810060330192866,0.586442971303036,0.7034508187851127,0.29148071582990653,0.3161863018363717,0.38189235940767907,0.0,0.4627010631080444,0.14896794900497753,0.8238522024457275,0.20400648733976295,0.24410947285494466,0.581060491843529,0.4667550775397153,0.5161677735755095,0.3219523648889367,0.5568962298046382,0.49931283070944377,0.48637195835464964,0.0,0.6425399396066876,0.0,0.37981799874168143,0.22950002944300746,0.8618725600980671,0.12488392035794205,0.7531999412100508,0.4828568189351637,0.5735418247315466,0.20215338888878043,0.5086268752014584,0.4168785154211026,0.5753924757634011,0.8307754705615218,0.4848673732793919,0.5001634558468019,0.45877651960524046,0.5823642720859491,0.5297528701247353,0.5571234864172917,0.0,0.8714101630816706,0.0,0.8820152139902756,0.0,0.33776455519344567,0.44316701660703894,0.3464715909693504,0.6867408840611776,0.2773664313573308,0.8753138216339872,0.0,0.2604117750197198,0.3988188447411292,0.6558582779961747,0.0,0.46046119502178684,0.8763779865600619,0.2814517147864284,0.6231883718104556,0.6117483644482337,0.443568172500927,0.08515526540148294,0.5389414613471065,0.4291630573140528,0.31043116084554084,0.3651362013119719,0.8527479947695156,0.2837716007545412,0.0,0.39125146873574973,0.45646276039991307,0.458167340822881,0.44179398921110574,0.49063247929695236,0.3671223490775174,0.0,0.5788515013307053,0.6025535924011953,0.8815646023040214,0.5557930547114589,0.6510471567627967,0.4032720517465938,0.23282858091153316,0.4169080610776079,0.8594847905386707,0.28285552951243953,0.4835735160923037,0.3365633725772468,0.25341684478174886,0.8426331973876374,0.5122128148530952,0.22787483090204516,0.4639332114330111,0.4460842334563678,0.0,0.5812813585640965,0.47255283248072094,0.37965368846576814,0.22968399675849935,0.0,0.0,0.0,0.5421752499428387,0.0,0.15163492567147907,0.5414109908953714,0.18520955956318771,0.0,0.8782321683343641,0.1867020826153144,0.5071467175736875,0.0,0.5260727650151846,0.16036382305294827,0.581228930788841,0.5138658589199782,0.41516646534363594,0.680987335418537,0.7211608891122476,0.2240048617119117,0.5491781081686657,0.1392310025827443,0.5855899297781146,0.4706185186131054,0.0,0.459857326905226,0.0,0.0,0.0,0.4737632701393282,0.0,0.5619286379307963,0.567558434541785,0.4556408757437658,0.5917600966006002,0.0,0.09226029731982208,0.5665241817167109,0.43105695902018226,0.5430431275217481,0.6701138660145063,0.4282735850094213,0.6477561209416701,0.41182321462552557,0.46820975530573944,0.631567969445721,0.3594041747317879,0.7029847622587333,0.0,0.581084450541156,0.8547303424908885,0.2312371355262033,0.48699787623504304,0.2404641593151274,0.4588301404576265,0.3190519755391823,0.41594235652149214,0.43695055872159977,0.13539529644529386,0.0,0.6465903865998338,0.6957105390079963,0.4651756475585447,0.457301684528718,0.46742082585681294,0.5356898405291388,0.46029155239261593,0.5568623253064134,0.4507644200417476,0.5085532278809181,0.4575705343217856,0.424288954245012,0.43539120399109194,0.0,0.34355044179282135,0.513726610494211,0.25267489361351414,0.22028450265544217,0.6805326400521873,0.5492147961021134,0.34855817435106534,0.0,0.2015114153682143,0.2622807462523602,0.5080414363409639,0.554487379419117,0.0,0.0,0.6935657791324837,0.0,0.8693489581526582,0.63465950560336,0.4879221430002614,0.26721190274001505,0.45565446037502416,0.6238855688446585,0.0,0.5526674773530764,0.8391077684896949,0.4340607882885431,0.46496593196126607,0.47163962450868385,0.4252106029951587,0.38840468369480374,0.561119013199799,0.2553883213868792,0.6482666860587769,0.4436576331956357,0.0,0.22960241727864755,0.16587356789089172,0.45886059385308675,0.4441885469999021,0.8359737209187241,0.3285644913694499,0.2966425294919272,0.5009791261202495,0.478465319124681,0.3307656069397051,0.27137071211235664,0.4928121042612842,0.5874228131878529,0.5778431026446619,0.3286832270314261,0.5973248224033202,0.20043545948450514,0.5868296968400941,0.485315147113339,0.0,0.6340460637223068,0.4967930003042151,0.30576135243202734,0.4479722462994981,0.40992997999630454,0.6942865994596404,0.2503684651738201,0.16966443026496006,0.4468902244375004,0.7077569719937937,0.5063592931815818,0.605529885469644,0.5862954828046456,0.0,0.6430777362686763,0.5151645278197118,0.4970103367810493,0.43923385517713454,0.5655066259529271,0.3934133827475549,0.5985122155102486,0.3712078306690878,0.0,0.6619713642935348,0.5761741570642387,0.4953783178633362,0.2044341640236997,0.36482172590987627,0.6490256926235534,0.4041793373698846,0.6359594862911138,0.6435052460504598,0.49576443514072965,0.19006368818426064,0.6183873396872082,0.36295802863264104,0.5442655214389532,0.6081457781990219,0.6430138821743452,0.8816910603115121,0.4511315876045597,0.5023494702933187,0.49134651847143773,0.4317579914831798,0.3594841174388166,0.5495145887419591,0.45795165872640403,0.4905543798126802,0.6658058160682444,0.44970230608562495,0.49083146107807724,0.35982161906254106,0.484642980738352,0.0,0.36191621493891696,0.45854623560645175,0.47782172292433744,0.517483467207185,0.0,0.40269146935098027,0.5859110419603876,0.4153961510956223,0.6818375235253998,0.0,0.7554510668765689,0.5807830285508663,0.4228120458676046,0.40817188307744934,0.3992929841214935,0.0,0.6919594963284732,0.3644326667824036,0.5702142024654065,0.5811355065762376,0.6992387883129131,0.1012365073798441,0.527823443621044,0.0,0.073227024127434,0.38000726611235447,0.0,0.46241239565550396,0.5476698020777492,0.41465186197736414,0.5042251744268503,0.4781880922376728,0.5088747617651602,0.0,0.0,0.34988082189339675,0.0,0.47452341051557234,0.41172834601843217,0.5101568300844349,0.2882229289186538],\"type\":\"box\"},{\"fillcolor\":\"#e41a1c\",\"line\":{\"color\":\"#000000\"},\"name\":\"SCD\",\"x\":[0.21588756028458359,0.0,0.0,0.5110034622309679,0.2945098002926482,0.1394745976195409,0.3259102559924497,0.0,0.40284324057298265,0.3751744249146149,0.2538060377103728,0.5459304519773277,0.0,0.0,0.0,0.21017886456530072,0.4022873537303499,0.0,0.0,0.0,0.24988425697700076,0.0,0.11035674102843392,0.4450999603748049,0.13007112918511166,0.0,0.0,0.24985763731777935,0.26801203737379886,0.17239656311337934,0.3044329500517129,0.0,0.23864370709815683,0.0,0.19480463523051184,0.0,0.4553367498752054,0.20580542677798405,0.30089200403572686,0.08056072021549117,0.11533200725285789,0.0,0.4386104613802668,0.22045757318774237,0.3564315028032807,0.2558050236924038,0.0,0.34212037371058823,0.0,0.20262914095252282,0.19813112279745557,0.29574816368004503,0.05654428628483606,0.563961648478087,0.41047559093465746,0.2997161025860537,0.4027518626773043,0.15540288117319523,0.24380663734559058,0.0,0.36111360039141743,0.3809991427683019,0.5030230665110126,0.12703637929493622,0.26493438431941474,0.3216304857835195,0.42790822586305854,0.0,0.46386034828485306,0.24231962623540934,0.23145117149614494,0.24633943791566937,0.28600738329741865,0.33743839471624076,0.22318053160085083,0.0,0.18639116019713753,0.5210005525543405,0.23045578838419656,0.2064516090916695,0.5783262130319549,0.0,0.0,0.0,0.0,0.31624014880445556,0.0,0.0,0.3020569637684287,0.3697708311644498,0.3265256941914774,0.0,0.0,0.5156725328255104,0.21661707119494325,0.48591720956799933,0.0,0.12481862497120665,0.23454452788685057,0.0,0.11643272114927328,0.4374450966010861,0.0,0.3559270405239131,0.0,0.38383875720063865,0.0,0.35609356429473527,0.0,0.29167079754555375,0.234831056742085,0.0,0.27148158952531004,0.30678840576192357,0.18007456802622349,0.0,0.0,0.0,0.33223757766547507,0.2052565005687373,0.0,0.548484548866388,0.4125579554022508,0.5443248957362029,0.2932334690085011,0.0,0.23568476673784505,0.09371083150731262,0.19088693243862645,0.16381609844443748,0.0,0.38030795259724964,0.5844639601708617,0.31080880158324425,0.24159519850625416,0.24028493159734904,0.0,0.23327450467278657,0.0,0.1537992596428176,0.07418080109107095,0.1455409914369178,0.36652277568158936,0.24919702862065451,0.37571450341171125,0.12468557443252261,0.10124914902396147,0.31694467000977694,0.2092676237266299,0.0,0.28910504152003436,0.1394752455606661,0.45282495634034686,0.0,0.0,0.0,0.0,0.0,0.28111506149110893,0.2777017525544174,0.29964916520718526,0.34089645186125667,0.0,0.21111016005740887,0.0,0.0,0.3083190504828871,0.0,0.16501385427387447,0.0,0.1954831635696052,0.0,0.5667300042797474,0.4441904117161147,0.09556317267777016,0.0,0.2771493173975121,0.40488626516978027,0.0,0.3826411900850668,0.0,0.2220366611617587,0.0,0.14120679261087732],\"type\":\"box\"},{\"fillcolor\":\"#ffff00\",\"line\":{\"color\":\"#000000\"},\"name\":\"MCI\",\"x\":[0.4016144704615638,0.0,0.47094382148170627,0.6094080139663824,0.6306115387166957,0.5804322883121321,0.0,0.6417062470532401,0.2639841574870426,0.5066814368844752,0.5778538978777427,0.5703487987409769,0.2645412394802898,0.6651919351365092,0.0,0.4868666468540985,0.7237561321619842,0.0,0.0,0.0,0.5761447022227152,0.0,0.24742055003520189,0.561277953135905,0.30980308756884883,0.0,0.0,0.0,0.0,0.0,0.0,0.8418995465716755,0.5671883675493243,0.15393858286987452,0.4469620501426976,0.2644873550148365,0.655660606611683,0.25671426427154026,0.32446324657905823,0.5864732955918243,0.3487201716963725,0.31548436957611037,0.362132023893637,0.25993263379591836,0.26668740286093884,0.0,0.34963070409345404,0.0,0.39183094971867877,0.2601404200562096,0.39469796431185633,0.5223083953188193,0.23027513332422886,0.21775442340697743,0.0,0.27827835700250786,0.24131615908039544,0.2357908767430901,0.42288394344780633,0.4190405445881989,0.35615897298042265,0.0,0.31342539729761515,0.12929395088065204,0.4201964363912107,0.0,0.0,0.4265602245577909,0.3981328113945564,0.23009593422998553,0.5706803319516551,0.30027791162123696,0.29204381842832944,0.0,0.5487141493319041,0.0,0.0,0.3450165752254206,0.41525132037424517,0.22185033304125137,0.31249740820992933,0.31940138653280864,0.4630128063869947,0.07550517740434348,0.1407595731706156,0.26370961157322714,0.18005955063900927,0.09783796812163496,0.6877580652742893,0.09913108973153696,0.0,0.3406606402468663,0.26653514043551624,0.40828590609893345,0.1917345655376529,0.0,0.28383057356060176,0.0,0.2971016130272843,0.4736213179215407,0.0,0.414365385361869,0.22318798815895047,0.0,0.2742657466232703,0.3546480229088425,0.0,0.0,0.26052230672705295,0.5383001221643233,0.6428583096045833,0.0,0.0,0.3816255997850678,0.4651532167978166,0.6835473387399861,0.27197427949268965,0.2620416037469879,0.21799703771357795,0.0,0.5124532302098197,0.0,0.0,0.5972827878139657,0.5079752386897869,0.4148590312684751,0.22343081376229212,0.38167875907305326,0.19296422584040823,0.2742205804574956,0.46490888359259963,0.2670538650382226,0.22544375230632668,0.25707289019829593,0.48480971390411515,0.0,0.17770682635918222,0.42113499354870604,0.47793292754699557,0.2534660225602258,0.3002687631852305,0.31452739109040984,0.5325298619067794,0.31781768854688813,0.407770302623209,0.4952725098214363,0.0,0.339198753907528,0.19586431127658763,0.289398472408346,0.29470235369571973,0.24290345321705148,0.23306918532542592,0.3801728190819925,0.3518688893519888,0.5372990426163424,0.316376104074075,0.4732976607855882,0.738939255529358,0.0,0.0,0.46670675518393123,0.44713922931040806,0.0,0.6385742705935427,0.1475496677717489,0.0,0.0,0.0,0.0,0.43609316508160606,0.24214398245395635,0.0,0.4887885470421725,0.6192604319818986,0.15182843214638933,0.4035114249972882,0.2975997673651445,0.18641522249230483,0.44131762959906745,0.4689728225335267,0.23935833559364955,0.4386240395594136,0.36501077081218686,0.21870668932218335,0.2364314276779626,0.5745859626460905,0.38907382707790883,0.3265117592076259,0.4076359036725637,0.0,0.3889547458164875,0.34184718791025165,0.44215298750106347,0.40557288873926356,0.0,0.5734936271905711,0.5257919368040342,0.66055913655751,0.41247886955787616,0.5355806462205495,0.4333625402452322,0.4676039149141461,0.5789715282558355,0.32264021687193467,0.2678205420909965,0.4868628239130177,0.40563771897984324,0.4243555006089837,0.1533956225716844,0.5351470752027906,0.17490195138096992,0.49707040561470206,0.29418841861366657,0.0,0.0,0.5175439551555436,0.4130157105024366,0.32277272666374257,0.02953436094428077,0.21983760812777497,0.48434261998368944,0.3678673977594607,0.261130903854598,0.6226850836964609,0.6232872441067472,0.3623273443598688,0.20556256129741074,0.16418683178827265,0.3353899720852347,0.0,0.5607889408633283,0.4935005464168116,0.028459976978052016,0.30581351603498086,0.540284036522702,0.47210316415233106,0.2922763912959304,0.18040365483604676,0.381370355790043,0.27689586833299623,0.48373590230492874,0.5128997304709844,0.355769775777606,0.5454598957849246,0.5780516884734542,0.5565618630281334,0.24539810156340067,0.0,0.2780827748668472,0.28350673806962884,0.3697350044655409,0.4166490972472089,0.5687653104804054,0.42309417878487504,0.39612662672904375,0.19276800214352932,0.13273658805168123,0.46729109544695246,0.6113814884840778,0.30634013945693994,0.06683807487897221,0.48444037821931857,0.4582047722353792,0.44202836293564657,0.46843104037928646,0.6308225756164908,0.4938631643445938,0.0,0.49921827607069713,0.33019469200980267,0.0,0.16236309988178496,0.0,0.2124310965428318,0.4623447564132362,0.15920694287441448,0.48070039977417134,0.5165567563091044,0.28326947922696405,0.2603038852388253,0.6372436788705095,0.0,0.7168147878105589,0.0,0.0,0.44252762516943794,0.476372342822049,0.0,0.24251818447578932,0.17750044186244388,0.644535676858369,0.17799135521455584,0.39136723134520834,0.5014803991351634,0.21326869706636256,0.0,0.25887098555487537,0.25168918450067,0.18426953090013648,0.0,0.48201365333137886,0.3259269828933511,0.0,0.39730670442904653,0.2442823572318361,0.0,0.11978147925064817,0.40916003033255827,0.0,0.14452041605629434,0.27635186203097656,0.37265645286063803,0.0,0.32369796695083136,0.5034934407632655,0.2773658335208267,0.559893571344023,0.4610610294752842,0.36236663671793135,0.6601456296213284,0.24743925255463217],\"type\":\"box\"}],                        {\"template\":{\"data\":{\"histogram2dcontour\":[{\"type\":\"histogram2dcontour\",\"colorbar\":{\"outlinewidth\":0,\"ticks\":\"\"},\"colorscale\":[[0.0,\"#0d0887\"],[0.1111111111111111,\"#46039f\"],[0.2222222222222222,\"#7201a8\"],[0.3333333333333333,\"#9c179e\"],[0.4444444444444444,\"#bd3786\"],[0.5555555555555556,\"#d8576b\"],[0.6666666666666666,\"#ed7953\"],[0.7777777777777778,\"#fb9f3a\"],[0.8888888888888888,\"#fdca26\"],[1.0,\"#f0f921\"]]}],\"choropleth\":[{\"type\":\"choropleth\",\"colorbar\":{\"outlinewidth\":0,\"ticks\":\"\"}}],\"histogram2d\":[{\"type\":\"histogram2d\",\"colorbar\":{\"outlinewidth\":0,\"ticks\":\"\"},\"colorscale\":[[0.0,\"#0d0887\"],[0.1111111111111111,\"#46039f\"],[0.2222222222222222,\"#7201a8\"],[0.3333333333333333,\"#9c179e\"],[0.4444444444444444,\"#bd3786\"],[0.5555555555555556,\"#d8576b\"],[0.6666666666666666,\"#ed7953\"],[0.7777777777777778,\"#fb9f3a\"],[0.8888888888888888,\"#fdca26\"],[1.0,\"#f0f921\"]]}],\"heatmap\":[{\"type\":\"heatmap\",\"colorbar\":{\"outlinewidth\":0,\"ticks\":\"\"},\"colorscale\":[[0.0,\"#0d0887\"],[0.1111111111111111,\"#46039f\"],[0.2222222222222222,\"#7201a8\"],[0.3333333333333333,\"#9c179e\"],[0.4444444444444444,\"#bd3786\"],[0.5555555555555556,\"#d8576b\"],[0.6666666666666666,\"#ed7953\"],[0.7777777777777778,\"#fb9f3a\"],[0.8888888888888888,\"#fdca26\"],[1.0,\"#f0f921\"]]}],\"heatmapgl\":[{\"type\":\"heatmapgl\",\"colorbar\":{\"outlinewidth\":0,\"ticks\":\"\"},\"colorscale\":[[0.0,\"#0d0887\"],[0.1111111111111111,\"#46039f\"],[0.2222222222222222,\"#7201a8\"],[0.3333333333333333,\"#9c179e\"],[0.4444444444444444,\"#bd3786\"],[0.5555555555555556,\"#d8576b\"],[0.6666666666666666,\"#ed7953\"],[0.7777777777777778,\"#fb9f3a\"],[0.8888888888888888,\"#fdca26\"],[1.0,\"#f0f921\"]]}],\"contourcarpet\":[{\"type\":\"contourcarpet\",\"colorbar\":{\"outlinewidth\":0,\"ticks\":\"\"}}],\"contour\":[{\"type\":\"contour\",\"colorbar\":{\"outlinewidth\":0,\"ticks\":\"\"},\"colorscale\":[[0.0,\"#0d0887\"],[0.1111111111111111,\"#46039f\"],[0.2222222222222222,\"#7201a8\"],[0.3333333333333333,\"#9c179e\"],[0.4444444444444444,\"#bd3786\"],[0.5555555555555556,\"#d8576b\"],[0.6666666666666666,\"#ed7953\"],[0.7777777777777778,\"#fb9f3a\"],[0.8888888888888888,\"#fdca26\"],[1.0,\"#f0f921\"]]}],\"surface\":[{\"type\":\"surface\",\"colorbar\":{\"outlinewidth\":0,\"ticks\":\"\"},\"colorscale\":[[0.0,\"#0d0887\"],[0.1111111111111111,\"#46039f\"],[0.2222222222222222,\"#7201a8\"],[0.3333333333333333,\"#9c179e\"],[0.4444444444444444,\"#bd3786\"],[0.5555555555555556,\"#d8576b\"],[0.6666666666666666,\"#ed7953\"],[0.7777777777777778,\"#fb9f3a\"],[0.8888888888888888,\"#fdca26\"],[1.0,\"#f0f921\"]]}],\"mesh3d\":[{\"type\":\"mesh3d\",\"colorbar\":{\"outlinewidth\":0,\"ticks\":\"\"}}],\"scatter\":[{\"fillpattern\":{\"fillmode\":\"overlay\",\"size\":10,\"solidity\":0.2},\"type\":\"scatter\"}],\"parcoords\":[{\"type\":\"parcoords\",\"line\":{\"colorbar\":{\"outlinewidth\":0,\"ticks\":\"\"}}}],\"scatterpolargl\":[{\"type\":\"scatterpolargl\",\"marker\":{\"colorbar\":{\"outlinewidth\":0,\"ticks\":\"\"}}}],\"bar\":[{\"error_x\":{\"color\":\"#2a3f5f\"},\"error_y\":{\"color\":\"#2a3f5f\"},\"marker\":{\"line\":{\"color\":\"#E5ECF6\",\"width\":0.5},\"pattern\":{\"fillmode\":\"overlay\",\"size\":10,\"solidity\":0.2}},\"type\":\"bar\"}],\"scattergeo\":[{\"type\":\"scattergeo\",\"marker\":{\"colorbar\":{\"outlinewidth\":0,\"ticks\":\"\"}}}],\"scatterpolar\":[{\"type\":\"scatterpolar\",\"marker\":{\"colorbar\":{\"outlinewidth\":0,\"ticks\":\"\"}}}],\"histogram\":[{\"marker\":{\"pattern\":{\"fillmode\":\"overlay\",\"size\":10,\"solidity\":0.2}},\"type\":\"histogram\"}],\"scattergl\":[{\"type\":\"scattergl\",\"marker\":{\"colorbar\":{\"outlinewidth\":0,\"ticks\":\"\"}}}],\"scatter3d\":[{\"type\":\"scatter3d\",\"line\":{\"colorbar\":{\"outlinewidth\":0,\"ticks\":\"\"}},\"marker\":{\"colorbar\":{\"outlinewidth\":0,\"ticks\":\"\"}}}],\"scattermapbox\":[{\"type\":\"scattermapbox\",\"marker\":{\"colorbar\":{\"outlinewidth\":0,\"ticks\":\"\"}}}],\"scatterternary\":[{\"type\":\"scatterternary\",\"marker\":{\"colorbar\":{\"outlinewidth\":0,\"ticks\":\"\"}}}],\"scattercarpet\":[{\"type\":\"scattercarpet\",\"marker\":{\"colorbar\":{\"outlinewidth\":0,\"ticks\":\"\"}}}],\"carpet\":[{\"aaxis\":{\"endlinecolor\":\"#2a3f5f\",\"gridcolor\":\"white\",\"linecolor\":\"white\",\"minorgridcolor\":\"white\",\"startlinecolor\":\"#2a3f5f\"},\"baxis\":{\"endlinecolor\":\"#2a3f5f\",\"gridcolor\":\"white\",\"linecolor\":\"white\",\"minorgridcolor\":\"white\",\"startlinecolor\":\"#2a3f5f\"},\"type\":\"carpet\"}],\"table\":[{\"cells\":{\"fill\":{\"color\":\"#EBF0F8\"},\"line\":{\"color\":\"white\"}},\"header\":{\"fill\":{\"color\":\"#C8D4E3\"},\"line\":{\"color\":\"white\"}},\"type\":\"table\"}],\"barpolar\":[{\"marker\":{\"line\":{\"color\":\"#E5ECF6\",\"width\":0.5},\"pattern\":{\"fillmode\":\"overlay\",\"size\":10,\"solidity\":0.2}},\"type\":\"barpolar\"}],\"pie\":[{\"automargin\":true,\"type\":\"pie\"}]},\"layout\":{\"autotypenumbers\":\"strict\",\"colorway\":[\"#636efa\",\"#EF553B\",\"#00cc96\",\"#ab63fa\",\"#FFA15A\",\"#19d3f3\",\"#FF6692\",\"#B6E880\",\"#FF97FF\",\"#FECB52\"],\"font\":{\"color\":\"#2a3f5f\"},\"hovermode\":\"closest\",\"hoverlabel\":{\"align\":\"left\"},\"paper_bgcolor\":\"white\",\"plot_bgcolor\":\"#E5ECF6\",\"polar\":{\"bgcolor\":\"#E5ECF6\",\"angularaxis\":{\"gridcolor\":\"white\",\"linecolor\":\"white\",\"ticks\":\"\"},\"radialaxis\":{\"gridcolor\":\"white\",\"linecolor\":\"white\",\"ticks\":\"\"}},\"ternary\":{\"bgcolor\":\"#E5ECF6\",\"aaxis\":{\"gridcolor\":\"white\",\"linecolor\":\"white\",\"ticks\":\"\"},\"baxis\":{\"gridcolor\":\"white\",\"linecolor\":\"white\",\"ticks\":\"\"},\"caxis\":{\"gridcolor\":\"white\",\"linecolor\":\"white\",\"ticks\":\"\"}},\"coloraxis\":{\"colorbar\":{\"outlinewidth\":0,\"ticks\":\"\"}},\"colorscale\":{\"sequential\":[[0.0,\"#0d0887\"],[0.1111111111111111,\"#46039f\"],[0.2222222222222222,\"#7201a8\"],[0.3333333333333333,\"#9c179e\"],[0.4444444444444444,\"#bd3786\"],[0.5555555555555556,\"#d8576b\"],[0.6666666666666666,\"#ed7953\"],[0.7777777777777778,\"#fb9f3a\"],[0.8888888888888888,\"#fdca26\"],[1.0,\"#f0f921\"]],\"sequentialminus\":[[0.0,\"#0d0887\"],[0.1111111111111111,\"#46039f\"],[0.2222222222222222,\"#7201a8\"],[0.3333333333333333,\"#9c179e\"],[0.4444444444444444,\"#bd3786\"],[0.5555555555555556,\"#d8576b\"],[0.6666666666666666,\"#ed7953\"],[0.7777777777777778,\"#fb9f3a\"],[0.8888888888888888,\"#fdca26\"],[1.0,\"#f0f921\"]],\"diverging\":[[0,\"#8e0152\"],[0.1,\"#c51b7d\"],[0.2,\"#de77ae\"],[0.3,\"#f1b6da\"],[0.4,\"#fde0ef\"],[0.5,\"#f7f7f7\"],[0.6,\"#e6f5d0\"],[0.7,\"#b8e186\"],[0.8,\"#7fbc41\"],[0.9,\"#4d9221\"],[1,\"#276419\"]]},\"xaxis\":{\"gridcolor\":\"white\",\"linecolor\":\"white\",\"ticks\":\"\",\"title\":{\"standoff\":15},\"zerolinecolor\":\"white\",\"automargin\":true,\"zerolinewidth\":2},\"yaxis\":{\"gridcolor\":\"white\",\"linecolor\":\"white\",\"ticks\":\"\",\"title\":{\"standoff\":15},\"zerolinecolor\":\"white\",\"automargin\":true,\"zerolinewidth\":2},\"scene\":{\"xaxis\":{\"backgroundcolor\":\"#E5ECF6\",\"gridcolor\":\"white\",\"linecolor\":\"white\",\"showbackground\":true,\"ticks\":\"\",\"zerolinecolor\":\"white\",\"gridwidth\":2},\"yaxis\":{\"backgroundcolor\":\"#E5ECF6\",\"gridcolor\":\"white\",\"linecolor\":\"white\",\"showbackground\":true,\"ticks\":\"\",\"zerolinecolor\":\"white\",\"gridwidth\":2},\"zaxis\":{\"backgroundcolor\":\"#E5ECF6\",\"gridcolor\":\"white\",\"linecolor\":\"white\",\"showbackground\":true,\"ticks\":\"\",\"zerolinecolor\":\"white\",\"gridwidth\":2}},\"shapedefaults\":{\"line\":{\"color\":\"#2a3f5f\"}},\"annotationdefaults\":{\"arrowcolor\":\"#2a3f5f\",\"arrowhead\":0,\"arrowwidth\":1},\"geo\":{\"bgcolor\":\"white\",\"landcolor\":\"#E5ECF6\",\"subunitcolor\":\"white\",\"showland\":true,\"showlakes\":true,\"lakecolor\":\"white\"},\"title\":{\"x\":0.05},\"mapbox\":{\"style\":\"light\"}}},\"xaxis\":{\"range\":[-0.05,1.0],\"title\":{\"text\":\"Disease Stage\",\"font\":{\"size\":18}},\"tickmode\":\"linear\",\"tick0\":0.0,\"dtick\":0.1,\"tickfont\":{\"size\":14}},\"title\":{\"text\":\"Staging - Boxplots\",\"font\":{\"size\":34},\"x\":0.5},\"legend\":{\"font\":{\"size\":16},\"yanchor\":\"top\",\"y\":0.97,\"xanchor\":\"right\",\"x\":0.97},\"yaxis\":{\"title\":{\"text\":\"Diagnosis\",\"font\":{\"size\":18}},\"tickfont\":{\"size\":14}},\"autosize\":false,\"width\":1000,\"height\":600},                        {\"responsive\": true}                    ).then(function(){\n",
       "                            \n",
       "var gd = document.getElementById('294c33f5-839d-4576-8b4d-dd0095ec3d18');\n",
       "var x = new MutationObserver(function (mutations, observer) {{\n",
       "        var display = window.getComputedStyle(gd).display;\n",
       "        if (!display || display === 'none') {{\n",
       "            console.log([gd, 'removed!']);\n",
       "            Plotly.purge(gd);\n",
       "            observer.disconnect();\n",
       "        }}\n",
       "}});\n",
       "\n",
       "// Listen for the removal of the full notebook cells\n",
       "var notebookContainer = gd.closest('#notebook-container');\n",
       "if (notebookContainer) {{\n",
       "    x.observe(notebookContainer, {childList: true});\n",
       "}}\n",
       "\n",
       "// Listen for the clearing of the current output cell\n",
       "var outputEl = gd.closest('.output');\n",
       "if (outputEl) {{\n",
       "    x.observe(outputEl, {childList: true});\n",
       "}}\n",
       "\n",
       "                        })                };                });            </script>        </div>"
      ]
     },
     "metadata": {},
     "output_type": "display_data"
    }
   ],
   "source": [
    "fig = staging_boxes(S=S,\n",
    "                    diagnosis=diagnosis,\n",
    "                    color_list=color_list)\n",
    "fig"
   ]
  },
  {
   "cell_type": "code",
   "execution_count": null,
   "id": "f9ae7b30",
   "metadata": {},
   "outputs": [],
   "source": [
    "s"
   ]
  },
  {
   "cell_type": "code",
   "execution_count": null,
   "id": "a4126699",
   "metadata": {},
   "outputs": [],
   "source": []
  },
  {
   "cell_type": "markdown",
   "id": "7c3fc650",
   "metadata": {},
   "source": [
    "# DOUBLE FUNCTION"
   ]
  },
  {
   "cell_type": "code",
   "execution_count": 420,
   "id": "0cb89a63",
   "metadata": {},
   "outputs": [],
   "source": [
    "def staging(S, diagnosis, color_list=['#000000'], num_bins=10, bin_width=0.02):\n",
    "    \"\"\"\n",
    "    Creates a barplot\n",
    "    :param S: dictionary, Snowphlake output\n",
    "    :param diagnosis: np.array or list with diagnosis labels corresponding to records in S\n",
    "    :param color_list: list with color hex values (optional)\n",
    "    :param num_bins: int, how many bins should be displayed (optional, defaults to 10)\n",
    "    :param bin_width: int, desired width of the bars on the plot (optional, defaults to 0.02)\n",
    "    :return: plotly go Bar figure\n",
    "    \"\"\"   \n",
    "    \n",
    "    # Convert NaNs to 0.0\n",
    "    staging = np.array([np.float64(0.0) if np.isnan(stage) else stage for stage in S['staging']])\n",
    "   \n",
    "    # Count number of each subtype occurences\n",
    "    counter = dict(Counter(diagnosis))\n",
    "        \n",
    "    # Get labels\n",
    "    labels = list(set(diagnosis))\n",
    "#     labels = labels[::-1]\n",
    "    \n",
    "    # Convers lists to np.arrays\n",
    "    diagnosis = np.array(diagnosis)\n",
    "    staging = np.array(staging)\n",
    "    \n",
    "    # Get indexes for each diagnostic label\n",
    "    idx_list = []\n",
    "    for l in labels:\n",
    "        idx = np.where(diagnosis==l)\n",
    "        idx = idx[0]\n",
    "        idx_list.append(idx)\n",
    "\n",
    "    # Assign bar settings\n",
    "    bin_width = np.repeat(bin_width, num_bins)        \n",
    "    if color_list == ['#000000']:\n",
    "        color_list = ['#4daf4a','#377eb8','#e41a1c', '#ffff00']\n",
    "            \n",
    "    # Create subplots\n",
    "    fig = make_subplots(rows=2, cols=1)\n",
    "    \n",
    "    for count, idx in enumerate(idx_list):\n",
    "                freq,binc=np.histogram(staging[idx],bins=num_bins)\n",
    "                freq = (1.*freq)/len(staging)\n",
    "                label = labels[count]\n",
    "\n",
    "                fig.add_trace(go.Bar(\n",
    "                            x=binc,\n",
    "                            y=freq,\n",
    "                            name=f'{label} (n = {counter[label]})',\n",
    "                            width=bin_width,\n",
    "                            marker_color=color_list[count]\n",
    "                ),row=1, col=1) \n",
    "\n",
    "    fig.update_layout(\n",
    "        title=\"Patient Staging\",\n",
    "        title_font_size=34,\n",
    "        title_x=0.5,\n",
    "        xaxis_title=\"Disease Stage\",\n",
    "        yaxis_title=\"Frequency of occurences\",\n",
    "        xaxis = dict(\n",
    "            tickmode = 'linear',\n",
    "            tick0 = 0.0,\n",
    "            dtick = 0.1\n",
    "        ),\n",
    "        barmode='group',\n",
    "        legend_font_size=16,\n",
    "        autosize = False,\n",
    "        width=1000,\n",
    "        height=1200\n",
    "    )\n",
    "    \n",
    "    # ADD BOXES BELOW\n",
    "        \n",
    "    for count, idx in enumerate(idx_list):\n",
    "        fig.add_trace(go.Box(x=staging[idx], \n",
    "                             name=labels[count],\n",
    "                             fillcolor=color_list[count],\n",
    "                            line_color='#000000',\n",
    "                            showlegend=False),\n",
    "                      row=2,col=1)    \n",
    "        \n",
    "    #STYLE THE PLOT\n",
    "    fig.update_layout(hovermode=\"closest\")\n",
    "    \n",
    "    fig.update_xaxes(range=[-0.05, 1.0],row=1, col=1)\n",
    "    \n",
    "    fig.update_yaxes(title_font_size = 18, \n",
    "                    tickfont_size=14)\n",
    "    \n",
    "    fig.update_xaxes(title_font_size = 18, \n",
    "                    tickfont_size = 14)\n",
    "\n",
    "    return fig"
   ]
  },
  {
   "cell_type": "code",
   "execution_count": 421,
   "id": "03832927",
   "metadata": {},
   "outputs": [
    {
     "data": {
      "application/vnd.plotly.v1+json": {
       "config": {
        "plotlyServerURL": "https://plot.ly"
       },
       "data": [
        {
         "marker": {
          "color": "#4daf4a"
         },
         "name": "Control (n = 681)",
         "type": "bar",
         "width": [
          0.04,
          0.04,
          0.04,
          0.04,
          0.04,
          0.04,
          0.04,
          0.04,
          0.04,
          0.04
         ],
         "x": [
          -0.5,
          -0.4,
          -0.3,
          -0.19999999999999996,
          -0.09999999999999998,
          0,
          0.10000000000000009,
          0.20000000000000007,
          0.30000000000000004,
          0.4,
          0.5
         ],
         "xaxis": "x",
         "y": [
          0,
          0,
          0,
          0,
          0,
          0.6305555555555555,
          0,
          0,
          0,
          0
         ],
         "yaxis": "y"
        },
        {
         "marker": {
          "color": "#377eb8"
         },
         "name": "FTD (n = 399)",
         "type": "bar",
         "width": [
          0.04,
          0.04,
          0.04,
          0.04,
          0.04,
          0.04,
          0.04,
          0.04,
          0.04,
          0.04
         ],
         "x": [
          9.645439912066206e-07,
          0.09244036987621851,
          0.1848797752084458,
          0.27731918054067317,
          0.36975858587290045,
          0.4621979912051277,
          0.5546373965373551,
          0.6470768018695824,
          0.7395162072018097,
          0.8319556125340369,
          0.9243950178662643
         ],
         "xaxis": "x",
         "y": [
          0.013888888888888888,
          0.013888888888888888,
          0.03518518518518519,
          0.046296296296296294,
          0.06018518518518518,
          0.04722222222222222,
          0.058333333333333334,
          0.046296296296296294,
          0.032407407407407406,
          0.01574074074074074
         ],
         "yaxis": "y"
        },
        {
         "fillcolor": "#4daf4a",
         "line": {
          "color": "#000000"
         },
         "name": "Control",
         "showlegend": false,
         "type": "box",
         "x": [
          0,
          0,
          0,
          0,
          0,
          0,
          0,
          0,
          0,
          0,
          0,
          0,
          0,
          0,
          0,
          0,
          0,
          0,
          0,
          0,
          0,
          0,
          0,
          0,
          0,
          0,
          0,
          0,
          0,
          0,
          0,
          0,
          0,
          0,
          0,
          0,
          0,
          0,
          0,
          0,
          0,
          0,
          0,
          0,
          0,
          0,
          0,
          0,
          0,
          0,
          0,
          0,
          0,
          0,
          0,
          0,
          0,
          0,
          0,
          0,
          0,
          0,
          0,
          0,
          0,
          0,
          0,
          0,
          0,
          0,
          0,
          0,
          0,
          0,
          0,
          0,
          0,
          0,
          0,
          0,
          0,
          0,
          0,
          0,
          0,
          0,
          0,
          0,
          0,
          0,
          0,
          0,
          0,
          0,
          0,
          0,
          0,
          0,
          0,
          0,
          0,
          0,
          0,
          0,
          0,
          0,
          0,
          0,
          0,
          0,
          0,
          0,
          0,
          0,
          0,
          0,
          0,
          0,
          0,
          0,
          0,
          0,
          0,
          0,
          0,
          0,
          0,
          0,
          0,
          0,
          0,
          0,
          0,
          0,
          0,
          0,
          0,
          0,
          0,
          0,
          0,
          0,
          0,
          0,
          0,
          0,
          0,
          0,
          0,
          0,
          0,
          0,
          0,
          0,
          0,
          0,
          0,
          0,
          0,
          0,
          0,
          0,
          0,
          0,
          0,
          0,
          0,
          0,
          0,
          0,
          0,
          0,
          0,
          0,
          0,
          0,
          0,
          0,
          0,
          0,
          0,
          0,
          0,
          0,
          0,
          0,
          0,
          0,
          0,
          0,
          0,
          0,
          0,
          0,
          0,
          0,
          0,
          0,
          0,
          0,
          0,
          0,
          0,
          0,
          0,
          0,
          0,
          0,
          0,
          0,
          0,
          0,
          0,
          0,
          0,
          0,
          0,
          0,
          0,
          0,
          0,
          0,
          0,
          0,
          0,
          0,
          0,
          0,
          0,
          0,
          0,
          0,
          0,
          0,
          0,
          0,
          0,
          0,
          0,
          0,
          0,
          0,
          0,
          0,
          0,
          0,
          0,
          0,
          0,
          0,
          0,
          0,
          0,
          0,
          0,
          0,
          0,
          0,
          0,
          0,
          0,
          0,
          0,
          0,
          0,
          0,
          0,
          0,
          0,
          0,
          0,
          0,
          0,
          0,
          0,
          0,
          0,
          0,
          0,
          0,
          0,
          0,
          0,
          0,
          0,
          0,
          0,
          0,
          0,
          0,
          0,
          0,
          0,
          0,
          0,
          0,
          0,
          0,
          0,
          0,
          0,
          0,
          0,
          0,
          0,
          0,
          0,
          0,
          0,
          0,
          0,
          0,
          0,
          0,
          0,
          0,
          0,
          0,
          0,
          0,
          0,
          0,
          0,
          0,
          0,
          0,
          0,
          0,
          0,
          0,
          0,
          0,
          0,
          0,
          0,
          0,
          0,
          0,
          0,
          0,
          0,
          0,
          0,
          0,
          0,
          0,
          0,
          0,
          0,
          0,
          0,
          0,
          0,
          0,
          0,
          0,
          0,
          0,
          0,
          0,
          0,
          0,
          0,
          0,
          0,
          0,
          0,
          0,
          0,
          0,
          0,
          0,
          0,
          0,
          0,
          0,
          0,
          0,
          0,
          0,
          0,
          0,
          0,
          0,
          0,
          0,
          0,
          0,
          0,
          0,
          0,
          0,
          0,
          0,
          0,
          0,
          0,
          0,
          0,
          0,
          0,
          0,
          0,
          0,
          0,
          0,
          0,
          0,
          0,
          0,
          0,
          0,
          0,
          0,
          0,
          0,
          0,
          0,
          0,
          0,
          0,
          0,
          0,
          0,
          0,
          0,
          0,
          0,
          0,
          0,
          0,
          0,
          0,
          0,
          0,
          0,
          0,
          0,
          0,
          0,
          0,
          0,
          0,
          0,
          0,
          0,
          0,
          0,
          0,
          0,
          0,
          0,
          0,
          0,
          0,
          0,
          0,
          0,
          0,
          0,
          0,
          0,
          0,
          0,
          0,
          0,
          0,
          0,
          0,
          0,
          0,
          0,
          0,
          0,
          0,
          0,
          0,
          0,
          0,
          0,
          0,
          0,
          0,
          0,
          0,
          0,
          0,
          0,
          0,
          0,
          0,
          0,
          0,
          0,
          0,
          0,
          0,
          0,
          0,
          0,
          0,
          0,
          0,
          0,
          0,
          0,
          0,
          0,
          0,
          0,
          0,
          0,
          0,
          0,
          0,
          0,
          0,
          0,
          0,
          0,
          0,
          0,
          0,
          0,
          0,
          0,
          0,
          0,
          0,
          0,
          0,
          0,
          0,
          0,
          0,
          0,
          0,
          0,
          0,
          0,
          0,
          0,
          0,
          0,
          0,
          0,
          0,
          0,
          0,
          0,
          0,
          0,
          0,
          0,
          0,
          0,
          0,
          0,
          0,
          0,
          0,
          0,
          0,
          0,
          0,
          0,
          0,
          0,
          0,
          0,
          0,
          0,
          0,
          0,
          0,
          0,
          0,
          0,
          0,
          0,
          0,
          0,
          0,
          0,
          0,
          0,
          0,
          0,
          0,
          0,
          0,
          0,
          0,
          0,
          0,
          0,
          0,
          0,
          0,
          0,
          0,
          0,
          0,
          0,
          0,
          0,
          0,
          0,
          0,
          0,
          0,
          0,
          0,
          0,
          0,
          0,
          0,
          0,
          0,
          0,
          0,
          0,
          0,
          0,
          0,
          0,
          0,
          0,
          0,
          0,
          0,
          0,
          0,
          0,
          0,
          0,
          0,
          0,
          0,
          0,
          0,
          0,
          0,
          0,
          0,
          0,
          0,
          0,
          0,
          0,
          0,
          0,
          0,
          0,
          0,
          0,
          0,
          0,
          0,
          0,
          0,
          0,
          0,
          0,
          0,
          0,
          0,
          0,
          0,
          0,
          0,
          0,
          0,
          0,
          0,
          0,
          0,
          0,
          0,
          0,
          0
         ],
         "xaxis": "x2",
         "yaxis": "y2"
        },
        {
         "fillcolor": "#377eb8",
         "line": {
          "color": "#000000"
         },
         "name": "FTD",
         "showlegend": false,
         "type": "box",
         "x": [
          0.6449685657785498,
          0.6590619603873156,
          0.6319436420219753,
          0.8634197046981563,
          0.6437849097615216,
          0.8449854419226479,
          0.6666270474081025,
          0.6489529825568414,
          0.420366025247966,
          0.5693724916028124,
          0.712554459551869,
          0.26264319009880077,
          0.7153592519543716,
          0.8540999650283891,
          0.4877008204761825,
          0.31537106183612,
          0.4536457127413268,
          0.41540390168555136,
          0.43270497032342714,
          0.40747314999386064,
          0.836810752581152,
          0.9122396704889625,
          0.6889522819031294,
          0.5742612750704278,
          0.3116848258211178,
          0.5664796913469416,
          0.6100029706469662,
          0.7964134882924317,
          0.2772689089376184,
          0.7260574846062734,
          0.3854436903138692,
          0.3739769182584946,
          0.4213226511450717,
          0.8178593513911204,
          0.7590364120418589,
          0.21708225937703846,
          0.2062164528642152,
          0.4650903289459059,
          0.5268586987305922,
          0.8579378909336371,
          0.7077006386249364,
          0.7996779030818512,
          0.03494355090897148,
          0.568625757174977,
          0.41773677634851536,
          0.5891533442064718,
          0.7843827421760664,
          0.32243665610362493,
          0.45184738078807823,
          0.3878259644087224,
          0.28957068040173534,
          0.787651002111678,
          0.5149666275205809,
          0.6917477748901232,
          0.28849813534923846,
          0.4052696222925299,
          0.5666558055144478,
          0.7980528683738982,
          0.5116675176067327,
          0.7283984869049175,
          0.7847095685999108,
          0.686138125393673,
          0.7196023071620539,
          0.4162775289575352,
          0.227984318344684,
          0.5264446951215576,
          0.41766832349721816,
          0.6507216349907464,
          0.5640521658407726,
          0.43662104113939815,
          0.6046010245560383,
          0.6422231188105595,
          0.4911166893276341,
          0.5780099618750802,
          0.7125687250109267,
          0.7720331218017269,
          0.1528513916435123,
          0.3460869745853882,
          0.32389593165355707,
          0.5734838213004053,
          0.6209636423545791,
          0.503741213812019,
          0.2857162588575298,
          0.8410076239089161,
          0.6532806018630285,
          0.7312517971019362,
          0.7975298345012848,
          0.8453276572068976,
          0.39633009738328945,
          0.8691648078713313,
          0.32703743920484557,
          0.6933904540558843,
          0.5037008190679723,
          0.742984324907454,
          0.4550481871709296,
          0.38579183106776627,
          0.6485639040683673,
          0.5479205372051514,
          0.7637777145311039,
          0.49206194047961094,
          0.35769824079032575,
          0.42042706224496096,
          0.5640264546203178,
          0.4669376347453882,
          0.5023245220946969,
          0.5792593291298732,
          0.7555319129953824,
          0.276048364880175,
          0.39530840674083706,
          0.8455240131336502,
          0.2081216338186276,
          0.5819026544949434,
          0.015356835431437961,
          0.7732867019475635,
          0.7042480068034442,
          0.6756753989784365,
          0.240951289742843,
          0.8504268577331056,
          0.7343573355086033,
          0.26827789558880916,
          0.349042135931469,
          0.27444223626763237,
          0.3082243349044816,
          0.26143075182703596,
          0.16912072106695164,
          0.40969596290972293,
          0.39225989121549615,
          0.2460716556521648,
          0.48825238509489316,
          0.6243363500261567,
          0.6120006072672507,
          0.7698393461520763,
          0.9243950178662643,
          0.7529008232996627,
          0.584067947351682,
          0.24728804828312226,
          0.4543121536254664,
          0.31328982092400653,
          0.6067503550631238,
          0.5624440769012096,
          0.17540477367633875,
          0.29947327607460505,
          0.7168675271101195,
          0.3816006037087142,
          0.7310249241102608,
          0.1533419315159797,
          0.414448849129135,
          0.2973409205472481,
          0.3553172121756581,
          0.4889102729683709,
          0.5896236208244102,
          0.5488408382026368,
          0.8109499239035818,
          0.38909697094043616,
          0.6177291092139223,
          0.8225074622725096,
          0.38995638611314126,
          0.6544992019801095,
          0.30606389955449737,
          0.5264482907248726,
          0.37898442843242064,
          0.7309370034026865,
          0.22395651747334655,
          0.32028647364765084,
          0.154382975749539,
          0.0010638553585313622,
          0.34507756095136227,
          0.185625836776455,
          0.5885015029163597,
          0.2097925768685861,
          0.30367895191898914,
          0.2893965233733927,
          0.2830425973417201,
          0.47549540046326577,
          0.5038621727264806,
          0.5509195647271008,
          0.0034603785153154696,
          0.7758446943554008,
          0.4356366551029238,
          0.41893763483935,
          0.4248179655556595,
          0.5166405580513523,
          0.15427697692493247,
          0.053586019441816964,
          0.5593526537638358,
          0.5455810344273107,
          0.5566570939538357,
          0.378070476187631,
          0.4626669065979543,
          0.6476330124570769,
          0.46861406966011354,
          0.6996673728548127,
          0.4266583604300756,
          0.3967104874202596,
          0.17631809505616147,
          0.6941329015238903,
          0.23446290890823218,
          0.31979926593850394,
          0.3721532092485653,
          0.6735617859161397,
          0.3488866297526655,
          0.5883529248869932,
          0.4841486980007536,
          0.3064102191987229,
          0.4953851013074865,
          0.40567904274388167,
          0.39018915100484214,
          0.40028010387007323,
          0.0006510648742398578,
          0.6464817428987035,
          0.5735489946569162,
          0.3204584985008362,
          0.4071157316502128,
          0.0802509908470654,
          0.22965244086356967,
          0.3085845605327039,
          0.7047002056380383,
          0.0740764427188843,
          0.6200084494439504,
          0.0327060762941335,
          0.45814853968417185,
          0.7329821029968914,
          0.43456869467902254,
          0.6269930641168914,
          0.6201017292433637,
          0.4197920522555377,
          0.3153547491564159,
          0.5724918211012329,
          0.5514449638873674,
          0.7191953565524656,
          0.09777566194161155,
          0.28750782138910397,
          0.33740332052802724,
          0.5961962111027421,
          0.02362775832353396,
          0.818448922832928,
          0.3821474238926237,
          0.5268618602920703,
          0.24270372092684878,
          0.3482009605325013,
          0.8535897533749884,
          0.250638677607398,
          0.1784710606364103,
          0.5630411727018525,
          0.5585988536931212,
          0.2437248135091405,
          0.2613430129458397,
          0.6380700103409311,
          0.002563896722970596,
          0.23505089062111378,
          0.6081866590479926,
          0.5085991627229302,
          0.5139808400313134,
          0.5725217333868817,
          0.2236957672325537,
          0.6838504607652581,
          0.3994335410892514,
          0.41475968749589986,
          0.271725160038854,
          0.7468415243662394,
          0.5561496638976606,
          0.4485257449911155,
          0.19551986330091872,
          0.5183907822568252,
          0.3415913244149741,
          0.5219768478391638,
          0.5134667485818277,
          0.32306946388836943,
          0.7331250374852966,
          0.8478699824930601,
          0.48313476780944237,
          0.4888307719291594,
          0.3829087283546902,
          0.2313040142562877,
          0.3341594138340101,
          0.058782743495306634,
          0.3918249040974415,
          0.6749311890463289,
          0.7953879143252951,
          0.5157334219365866,
          0.28942004018637896,
          0.6425505097219021,
          0.6666378834472253,
          0.5561330596147992,
          0.7480596464616889,
          0.4232204961638767,
          0.34824293836193243,
          0.6188010127966703,
          0.5945288720085526,
          0.7028006965146667,
          0.733782490416505,
          0.462803747016133,
          0.6214766208812403,
          0.4056601209534097,
          0.16232861930254597,
          0.7133265983284383,
          0.4146638500275731,
          0.4415841734273702,
          0.48570839049088177,
          0.24484578570209586,
          0.6885927700984713,
          0.41380509483027644,
          0.46884027965576286,
          0.798385752759362,
          0.3295421558679705,
          0.8681885925616301,
          0.2834412580162565,
          0.010286534687781505,
          0.6096877126574536,
          0.5753008182905008,
          0.41482546119374175,
          0.3150718819970336,
          0.33788922968682633,
          0.22725595435968327,
          0.4565532960558135,
          0.7865426895519154,
          0.4784128274178238,
          0.6981565871047632,
          0.16133929887999296,
          9.645439912066206e-07,
          0.3597539551805661,
          0.4290721475059719,
          0.6460583876341712,
          0.8009812881510117,
          0.5185655896730513,
          0.43273297604845756,
          0.5237002785182999,
          0.7401711317557577,
          0.5649190982429143,
          0.5498496942797699,
          0.457187828232134,
          0.21831222271088063,
          0.5017404461332311,
          0.6797102648419362,
          0.48984670036425787,
          0.5575827240777276,
          0.16851452375936896,
          0.6168062151423274,
          0.48871712077620144,
          0.24118908998559063,
          0.2121590756536322,
          0.32720096839175833,
          0.7107044271140269,
          0.7355935943064797,
          0.5281980808568895,
          0.5038556287855591,
          0.5932901496959141,
          0.28901321508233085,
          0.2298668139893755,
          0.3852329909739148,
          0.6473258616235956,
          0.6930267593744844,
          0.25264318807728264,
          0.8385985992358183,
          0.27799215456591864,
          0.378578178991851,
          0.4572270476722647,
          0.8134743329944275,
          0.8438631509159249,
          0.7876929642663162,
          0.7095331194313574,
          0.3655594810094029,
          0.44426177280660245,
          0.8042218834014172,
          0.45614374786293405,
          0.38582875041505477,
          0.1788480606463827,
          0.49695827478953736,
          0.2680359848700071,
          0.43417439739991537,
          0.24603535825630526,
          0.6742834601890298,
          0.3307588556529122,
          0.6787290037594085,
          0.5609163289642172,
          0.35190866275720145,
          0.6739739879288925,
          0.5686409415952417,
          0.560158278192539,
          0.3360271781410292,
          0.29010557355423483,
          0.7878345309472141,
          0.5012006638952474,
          0.6227094605670972,
          0.7668611625525575,
          0.5858735946150816,
          0.1815774931095309,
          0.0024461811746643016,
          0.27406224407877183,
          0.6444580039073916,
          0.5861251205014746,
          0.8318223206223806,
          0.5842062551425956,
          0.208729296481669,
          0.7924015952667713,
          0.5203260213495929,
          0.339977526316517,
          0.7515263398435127,
          0.14266676018256147
         ],
         "xaxis": "x2",
         "yaxis": "y2"
        }
       ],
       "layout": {
        "autosize": false,
        "barmode": "group",
        "height": 1200,
        "hovermode": "closest",
        "legend": {
         "font": {
          "size": 16
         }
        },
        "template": {
         "data": {
          "bar": [
           {
            "error_x": {
             "color": "#2a3f5f"
            },
            "error_y": {
             "color": "#2a3f5f"
            },
            "marker": {
             "line": {
              "color": "#E5ECF6",
              "width": 0.5
             },
             "pattern": {
              "fillmode": "overlay",
              "size": 10,
              "solidity": 0.2
             }
            },
            "type": "bar"
           }
          ],
          "barpolar": [
           {
            "marker": {
             "line": {
              "color": "#E5ECF6",
              "width": 0.5
             },
             "pattern": {
              "fillmode": "overlay",
              "size": 10,
              "solidity": 0.2
             }
            },
            "type": "barpolar"
           }
          ],
          "carpet": [
           {
            "aaxis": {
             "endlinecolor": "#2a3f5f",
             "gridcolor": "white",
             "linecolor": "white",
             "minorgridcolor": "white",
             "startlinecolor": "#2a3f5f"
            },
            "baxis": {
             "endlinecolor": "#2a3f5f",
             "gridcolor": "white",
             "linecolor": "white",
             "minorgridcolor": "white",
             "startlinecolor": "#2a3f5f"
            },
            "type": "carpet"
           }
          ],
          "choropleth": [
           {
            "colorbar": {
             "outlinewidth": 0,
             "ticks": ""
            },
            "type": "choropleth"
           }
          ],
          "contour": [
           {
            "colorbar": {
             "outlinewidth": 0,
             "ticks": ""
            },
            "colorscale": [
             [
              0,
              "#0d0887"
             ],
             [
              0.1111111111111111,
              "#46039f"
             ],
             [
              0.2222222222222222,
              "#7201a8"
             ],
             [
              0.3333333333333333,
              "#9c179e"
             ],
             [
              0.4444444444444444,
              "#bd3786"
             ],
             [
              0.5555555555555556,
              "#d8576b"
             ],
             [
              0.6666666666666666,
              "#ed7953"
             ],
             [
              0.7777777777777778,
              "#fb9f3a"
             ],
             [
              0.8888888888888888,
              "#fdca26"
             ],
             [
              1,
              "#f0f921"
             ]
            ],
            "type": "contour"
           }
          ],
          "contourcarpet": [
           {
            "colorbar": {
             "outlinewidth": 0,
             "ticks": ""
            },
            "type": "contourcarpet"
           }
          ],
          "heatmap": [
           {
            "colorbar": {
             "outlinewidth": 0,
             "ticks": ""
            },
            "colorscale": [
             [
              0,
              "#0d0887"
             ],
             [
              0.1111111111111111,
              "#46039f"
             ],
             [
              0.2222222222222222,
              "#7201a8"
             ],
             [
              0.3333333333333333,
              "#9c179e"
             ],
             [
              0.4444444444444444,
              "#bd3786"
             ],
             [
              0.5555555555555556,
              "#d8576b"
             ],
             [
              0.6666666666666666,
              "#ed7953"
             ],
             [
              0.7777777777777778,
              "#fb9f3a"
             ],
             [
              0.8888888888888888,
              "#fdca26"
             ],
             [
              1,
              "#f0f921"
             ]
            ],
            "type": "heatmap"
           }
          ],
          "heatmapgl": [
           {
            "colorbar": {
             "outlinewidth": 0,
             "ticks": ""
            },
            "colorscale": [
             [
              0,
              "#0d0887"
             ],
             [
              0.1111111111111111,
              "#46039f"
             ],
             [
              0.2222222222222222,
              "#7201a8"
             ],
             [
              0.3333333333333333,
              "#9c179e"
             ],
             [
              0.4444444444444444,
              "#bd3786"
             ],
             [
              0.5555555555555556,
              "#d8576b"
             ],
             [
              0.6666666666666666,
              "#ed7953"
             ],
             [
              0.7777777777777778,
              "#fb9f3a"
             ],
             [
              0.8888888888888888,
              "#fdca26"
             ],
             [
              1,
              "#f0f921"
             ]
            ],
            "type": "heatmapgl"
           }
          ],
          "histogram": [
           {
            "marker": {
             "pattern": {
              "fillmode": "overlay",
              "size": 10,
              "solidity": 0.2
             }
            },
            "type": "histogram"
           }
          ],
          "histogram2d": [
           {
            "colorbar": {
             "outlinewidth": 0,
             "ticks": ""
            },
            "colorscale": [
             [
              0,
              "#0d0887"
             ],
             [
              0.1111111111111111,
              "#46039f"
             ],
             [
              0.2222222222222222,
              "#7201a8"
             ],
             [
              0.3333333333333333,
              "#9c179e"
             ],
             [
              0.4444444444444444,
              "#bd3786"
             ],
             [
              0.5555555555555556,
              "#d8576b"
             ],
             [
              0.6666666666666666,
              "#ed7953"
             ],
             [
              0.7777777777777778,
              "#fb9f3a"
             ],
             [
              0.8888888888888888,
              "#fdca26"
             ],
             [
              1,
              "#f0f921"
             ]
            ],
            "type": "histogram2d"
           }
          ],
          "histogram2dcontour": [
           {
            "colorbar": {
             "outlinewidth": 0,
             "ticks": ""
            },
            "colorscale": [
             [
              0,
              "#0d0887"
             ],
             [
              0.1111111111111111,
              "#46039f"
             ],
             [
              0.2222222222222222,
              "#7201a8"
             ],
             [
              0.3333333333333333,
              "#9c179e"
             ],
             [
              0.4444444444444444,
              "#bd3786"
             ],
             [
              0.5555555555555556,
              "#d8576b"
             ],
             [
              0.6666666666666666,
              "#ed7953"
             ],
             [
              0.7777777777777778,
              "#fb9f3a"
             ],
             [
              0.8888888888888888,
              "#fdca26"
             ],
             [
              1,
              "#f0f921"
             ]
            ],
            "type": "histogram2dcontour"
           }
          ],
          "mesh3d": [
           {
            "colorbar": {
             "outlinewidth": 0,
             "ticks": ""
            },
            "type": "mesh3d"
           }
          ],
          "parcoords": [
           {
            "line": {
             "colorbar": {
              "outlinewidth": 0,
              "ticks": ""
             }
            },
            "type": "parcoords"
           }
          ],
          "pie": [
           {
            "automargin": true,
            "type": "pie"
           }
          ],
          "scatter": [
           {
            "fillpattern": {
             "fillmode": "overlay",
             "size": 10,
             "solidity": 0.2
            },
            "type": "scatter"
           }
          ],
          "scatter3d": [
           {
            "line": {
             "colorbar": {
              "outlinewidth": 0,
              "ticks": ""
             }
            },
            "marker": {
             "colorbar": {
              "outlinewidth": 0,
              "ticks": ""
             }
            },
            "type": "scatter3d"
           }
          ],
          "scattercarpet": [
           {
            "marker": {
             "colorbar": {
              "outlinewidth": 0,
              "ticks": ""
             }
            },
            "type": "scattercarpet"
           }
          ],
          "scattergeo": [
           {
            "marker": {
             "colorbar": {
              "outlinewidth": 0,
              "ticks": ""
             }
            },
            "type": "scattergeo"
           }
          ],
          "scattergl": [
           {
            "marker": {
             "colorbar": {
              "outlinewidth": 0,
              "ticks": ""
             }
            },
            "type": "scattergl"
           }
          ],
          "scattermapbox": [
           {
            "marker": {
             "colorbar": {
              "outlinewidth": 0,
              "ticks": ""
             }
            },
            "type": "scattermapbox"
           }
          ],
          "scatterpolar": [
           {
            "marker": {
             "colorbar": {
              "outlinewidth": 0,
              "ticks": ""
             }
            },
            "type": "scatterpolar"
           }
          ],
          "scatterpolargl": [
           {
            "marker": {
             "colorbar": {
              "outlinewidth": 0,
              "ticks": ""
             }
            },
            "type": "scatterpolargl"
           }
          ],
          "scatterternary": [
           {
            "marker": {
             "colorbar": {
              "outlinewidth": 0,
              "ticks": ""
             }
            },
            "type": "scatterternary"
           }
          ],
          "surface": [
           {
            "colorbar": {
             "outlinewidth": 0,
             "ticks": ""
            },
            "colorscale": [
             [
              0,
              "#0d0887"
             ],
             [
              0.1111111111111111,
              "#46039f"
             ],
             [
              0.2222222222222222,
              "#7201a8"
             ],
             [
              0.3333333333333333,
              "#9c179e"
             ],
             [
              0.4444444444444444,
              "#bd3786"
             ],
             [
              0.5555555555555556,
              "#d8576b"
             ],
             [
              0.6666666666666666,
              "#ed7953"
             ],
             [
              0.7777777777777778,
              "#fb9f3a"
             ],
             [
              0.8888888888888888,
              "#fdca26"
             ],
             [
              1,
              "#f0f921"
             ]
            ],
            "type": "surface"
           }
          ],
          "table": [
           {
            "cells": {
             "fill": {
              "color": "#EBF0F8"
             },
             "line": {
              "color": "white"
             }
            },
            "header": {
             "fill": {
              "color": "#C8D4E3"
             },
             "line": {
              "color": "white"
             }
            },
            "type": "table"
           }
          ]
         },
         "layout": {
          "annotationdefaults": {
           "arrowcolor": "#2a3f5f",
           "arrowhead": 0,
           "arrowwidth": 1
          },
          "autotypenumbers": "strict",
          "coloraxis": {
           "colorbar": {
            "outlinewidth": 0,
            "ticks": ""
           }
          },
          "colorscale": {
           "diverging": [
            [
             0,
             "#8e0152"
            ],
            [
             0.1,
             "#c51b7d"
            ],
            [
             0.2,
             "#de77ae"
            ],
            [
             0.3,
             "#f1b6da"
            ],
            [
             0.4,
             "#fde0ef"
            ],
            [
             0.5,
             "#f7f7f7"
            ],
            [
             0.6,
             "#e6f5d0"
            ],
            [
             0.7,
             "#b8e186"
            ],
            [
             0.8,
             "#7fbc41"
            ],
            [
             0.9,
             "#4d9221"
            ],
            [
             1,
             "#276419"
            ]
           ],
           "sequential": [
            [
             0,
             "#0d0887"
            ],
            [
             0.1111111111111111,
             "#46039f"
            ],
            [
             0.2222222222222222,
             "#7201a8"
            ],
            [
             0.3333333333333333,
             "#9c179e"
            ],
            [
             0.4444444444444444,
             "#bd3786"
            ],
            [
             0.5555555555555556,
             "#d8576b"
            ],
            [
             0.6666666666666666,
             "#ed7953"
            ],
            [
             0.7777777777777778,
             "#fb9f3a"
            ],
            [
             0.8888888888888888,
             "#fdca26"
            ],
            [
             1,
             "#f0f921"
            ]
           ],
           "sequentialminus": [
            [
             0,
             "#0d0887"
            ],
            [
             0.1111111111111111,
             "#46039f"
            ],
            [
             0.2222222222222222,
             "#7201a8"
            ],
            [
             0.3333333333333333,
             "#9c179e"
            ],
            [
             0.4444444444444444,
             "#bd3786"
            ],
            [
             0.5555555555555556,
             "#d8576b"
            ],
            [
             0.6666666666666666,
             "#ed7953"
            ],
            [
             0.7777777777777778,
             "#fb9f3a"
            ],
            [
             0.8888888888888888,
             "#fdca26"
            ],
            [
             1,
             "#f0f921"
            ]
           ]
          },
          "colorway": [
           "#636efa",
           "#EF553B",
           "#00cc96",
           "#ab63fa",
           "#FFA15A",
           "#19d3f3",
           "#FF6692",
           "#B6E880",
           "#FF97FF",
           "#FECB52"
          ],
          "font": {
           "color": "#2a3f5f"
          },
          "geo": {
           "bgcolor": "white",
           "lakecolor": "white",
           "landcolor": "#E5ECF6",
           "showlakes": true,
           "showland": true,
           "subunitcolor": "white"
          },
          "hoverlabel": {
           "align": "left"
          },
          "hovermode": "closest",
          "mapbox": {
           "style": "light"
          },
          "paper_bgcolor": "white",
          "plot_bgcolor": "#E5ECF6",
          "polar": {
           "angularaxis": {
            "gridcolor": "white",
            "linecolor": "white",
            "ticks": ""
           },
           "bgcolor": "#E5ECF6",
           "radialaxis": {
            "gridcolor": "white",
            "linecolor": "white",
            "ticks": ""
           }
          },
          "scene": {
           "xaxis": {
            "backgroundcolor": "#E5ECF6",
            "gridcolor": "white",
            "gridwidth": 2,
            "linecolor": "white",
            "showbackground": true,
            "ticks": "",
            "zerolinecolor": "white"
           },
           "yaxis": {
            "backgroundcolor": "#E5ECF6",
            "gridcolor": "white",
            "gridwidth": 2,
            "linecolor": "white",
            "showbackground": true,
            "ticks": "",
            "zerolinecolor": "white"
           },
           "zaxis": {
            "backgroundcolor": "#E5ECF6",
            "gridcolor": "white",
            "gridwidth": 2,
            "linecolor": "white",
            "showbackground": true,
            "ticks": "",
            "zerolinecolor": "white"
           }
          },
          "shapedefaults": {
           "line": {
            "color": "#2a3f5f"
           }
          },
          "ternary": {
           "aaxis": {
            "gridcolor": "white",
            "linecolor": "white",
            "ticks": ""
           },
           "baxis": {
            "gridcolor": "white",
            "linecolor": "white",
            "ticks": ""
           },
           "bgcolor": "#E5ECF6",
           "caxis": {
            "gridcolor": "white",
            "linecolor": "white",
            "ticks": ""
           }
          },
          "title": {
           "x": 0.05
          },
          "xaxis": {
           "automargin": true,
           "gridcolor": "white",
           "linecolor": "white",
           "ticks": "",
           "title": {
            "standoff": 15
           },
           "zerolinecolor": "white",
           "zerolinewidth": 2
          },
          "yaxis": {
           "automargin": true,
           "gridcolor": "white",
           "linecolor": "white",
           "ticks": "",
           "title": {
            "standoff": 15
           },
           "zerolinecolor": "white",
           "zerolinewidth": 2
          }
         }
        },
        "title": {
         "font": {
          "size": 34
         },
         "text": "Patient Staging",
         "x": 0.5
        },
        "width": 1000,
        "xaxis": {
         "anchor": "y",
         "domain": [
          0,
          1
         ],
         "dtick": 0.1,
         "range": [
          -0.05,
          1
         ],
         "tick0": 0,
         "tickfont": {
          "size": 14
         },
         "tickmode": "linear",
         "title": {
          "font": {
           "size": 18
          },
          "text": "Disease Stage"
         }
        },
        "xaxis2": {
         "anchor": "y2",
         "domain": [
          0,
          1
         ],
         "tickfont": {
          "size": 14
         },
         "title": {
          "font": {
           "size": 18
          }
         }
        },
        "yaxis": {
         "anchor": "x",
         "domain": [
          0.575,
          1
         ],
         "tickfont": {
          "size": 14
         },
         "title": {
          "font": {
           "size": 18
          },
          "text": "Frequency of occurences"
         }
        },
        "yaxis2": {
         "anchor": "x2",
         "domain": [
          0,
          0.425
         ],
         "tickfont": {
          "size": 14
         },
         "title": {
          "font": {
           "size": 18
          }
         }
        }
       }
      },
      "text/html": [
       "<div>                            <div id=\"51645411-9057-4140-9caf-8e96d56ba3f4\" class=\"plotly-graph-div\" style=\"height:1200px; width:1000px;\"></div>            <script type=\"text/javascript\">                require([\"plotly\"], function(Plotly) {                    window.PLOTLYENV=window.PLOTLYENV || {};                                    if (document.getElementById(\"51645411-9057-4140-9caf-8e96d56ba3f4\")) {                    Plotly.newPlot(                        \"51645411-9057-4140-9caf-8e96d56ba3f4\",                        [{\"marker\":{\"color\":\"#4daf4a\"},\"name\":\"Control (n = 681)\",\"width\":[0.04,0.04,0.04,0.04,0.04,0.04,0.04,0.04,0.04,0.04],\"x\":[-0.5,-0.4,-0.3,-0.19999999999999996,-0.09999999999999998,0.0,0.10000000000000009,0.20000000000000007,0.30000000000000004,0.4,0.5],\"y\":[0.0,0.0,0.0,0.0,0.0,0.6305555555555555,0.0,0.0,0.0,0.0],\"type\":\"bar\",\"xaxis\":\"x\",\"yaxis\":\"y\"},{\"marker\":{\"color\":\"#377eb8\"},\"name\":\"FTD (n = 399)\",\"width\":[0.04,0.04,0.04,0.04,0.04,0.04,0.04,0.04,0.04,0.04],\"x\":[9.645439912066206e-07,0.09244036987621851,0.1848797752084458,0.27731918054067317,0.36975858587290045,0.4621979912051277,0.5546373965373551,0.6470768018695824,0.7395162072018097,0.8319556125340369,0.9243950178662643],\"y\":[0.013888888888888888,0.013888888888888888,0.03518518518518519,0.046296296296296294,0.06018518518518518,0.04722222222222222,0.058333333333333334,0.046296296296296294,0.032407407407407406,0.01574074074074074],\"type\":\"bar\",\"xaxis\":\"x\",\"yaxis\":\"y\"},{\"fillcolor\":\"#4daf4a\",\"line\":{\"color\":\"#000000\"},\"name\":\"Control\",\"showlegend\":false,\"x\":[0.0,0.0,0.0,0.0,0.0,0.0,0.0,0.0,0.0,0.0,0.0,0.0,0.0,0.0,0.0,0.0,0.0,0.0,0.0,0.0,0.0,0.0,0.0,0.0,0.0,0.0,0.0,0.0,0.0,0.0,0.0,0.0,0.0,0.0,0.0,0.0,0.0,0.0,0.0,0.0,0.0,0.0,0.0,0.0,0.0,0.0,0.0,0.0,0.0,0.0,0.0,0.0,0.0,0.0,0.0,0.0,0.0,0.0,0.0,0.0,0.0,0.0,0.0,0.0,0.0,0.0,0.0,0.0,0.0,0.0,0.0,0.0,0.0,0.0,0.0,0.0,0.0,0.0,0.0,0.0,0.0,0.0,0.0,0.0,0.0,0.0,0.0,0.0,0.0,0.0,0.0,0.0,0.0,0.0,0.0,0.0,0.0,0.0,0.0,0.0,0.0,0.0,0.0,0.0,0.0,0.0,0.0,0.0,0.0,0.0,0.0,0.0,0.0,0.0,0.0,0.0,0.0,0.0,0.0,0.0,0.0,0.0,0.0,0.0,0.0,0.0,0.0,0.0,0.0,0.0,0.0,0.0,0.0,0.0,0.0,0.0,0.0,0.0,0.0,0.0,0.0,0.0,0.0,0.0,0.0,0.0,0.0,0.0,0.0,0.0,0.0,0.0,0.0,0.0,0.0,0.0,0.0,0.0,0.0,0.0,0.0,0.0,0.0,0.0,0.0,0.0,0.0,0.0,0.0,0.0,0.0,0.0,0.0,0.0,0.0,0.0,0.0,0.0,0.0,0.0,0.0,0.0,0.0,0.0,0.0,0.0,0.0,0.0,0.0,0.0,0.0,0.0,0.0,0.0,0.0,0.0,0.0,0.0,0.0,0.0,0.0,0.0,0.0,0.0,0.0,0.0,0.0,0.0,0.0,0.0,0.0,0.0,0.0,0.0,0.0,0.0,0.0,0.0,0.0,0.0,0.0,0.0,0.0,0.0,0.0,0.0,0.0,0.0,0.0,0.0,0.0,0.0,0.0,0.0,0.0,0.0,0.0,0.0,0.0,0.0,0.0,0.0,0.0,0.0,0.0,0.0,0.0,0.0,0.0,0.0,0.0,0.0,0.0,0.0,0.0,0.0,0.0,0.0,0.0,0.0,0.0,0.0,0.0,0.0,0.0,0.0,0.0,0.0,0.0,0.0,0.0,0.0,0.0,0.0,0.0,0.0,0.0,0.0,0.0,0.0,0.0,0.0,0.0,0.0,0.0,0.0,0.0,0.0,0.0,0.0,0.0,0.0,0.0,0.0,0.0,0.0,0.0,0.0,0.0,0.0,0.0,0.0,0.0,0.0,0.0,0.0,0.0,0.0,0.0,0.0,0.0,0.0,0.0,0.0,0.0,0.0,0.0,0.0,0.0,0.0,0.0,0.0,0.0,0.0,0.0,0.0,0.0,0.0,0.0,0.0,0.0,0.0,0.0,0.0,0.0,0.0,0.0,0.0,0.0,0.0,0.0,0.0,0.0,0.0,0.0,0.0,0.0,0.0,0.0,0.0,0.0,0.0,0.0,0.0,0.0,0.0,0.0,0.0,0.0,0.0,0.0,0.0,0.0,0.0,0.0,0.0,0.0,0.0,0.0,0.0,0.0,0.0,0.0,0.0,0.0,0.0,0.0,0.0,0.0,0.0,0.0,0.0,0.0,0.0,0.0,0.0,0.0,0.0,0.0,0.0,0.0,0.0,0.0,0.0,0.0,0.0,0.0,0.0,0.0,0.0,0.0,0.0,0.0,0.0,0.0,0.0,0.0,0.0,0.0,0.0,0.0,0.0,0.0,0.0,0.0,0.0,0.0,0.0,0.0,0.0,0.0,0.0,0.0,0.0,0.0,0.0,0.0,0.0,0.0,0.0,0.0,0.0,0.0,0.0,0.0,0.0,0.0,0.0,0.0,0.0,0.0,0.0,0.0,0.0,0.0,0.0,0.0,0.0,0.0,0.0,0.0,0.0,0.0,0.0,0.0,0.0,0.0,0.0,0.0,0.0,0.0,0.0,0.0,0.0,0.0,0.0,0.0,0.0,0.0,0.0,0.0,0.0,0.0,0.0,0.0,0.0,0.0,0.0,0.0,0.0,0.0,0.0,0.0,0.0,0.0,0.0,0.0,0.0,0.0,0.0,0.0,0.0,0.0,0.0,0.0,0.0,0.0,0.0,0.0,0.0,0.0,0.0,0.0,0.0,0.0,0.0,0.0,0.0,0.0,0.0,0.0,0.0,0.0,0.0,0.0,0.0,0.0,0.0,0.0,0.0,0.0,0.0,0.0,0.0,0.0,0.0,0.0,0.0,0.0,0.0,0.0,0.0,0.0,0.0,0.0,0.0,0.0,0.0,0.0,0.0,0.0,0.0,0.0,0.0,0.0,0.0,0.0,0.0,0.0,0.0,0.0,0.0,0.0,0.0,0.0,0.0,0.0,0.0,0.0,0.0,0.0,0.0,0.0,0.0,0.0,0.0,0.0,0.0,0.0,0.0,0.0,0.0,0.0,0.0,0.0,0.0,0.0,0.0,0.0,0.0,0.0,0.0,0.0,0.0,0.0,0.0,0.0,0.0,0.0,0.0,0.0,0.0,0.0,0.0,0.0,0.0,0.0,0.0,0.0,0.0,0.0,0.0,0.0,0.0,0.0,0.0,0.0,0.0,0.0,0.0,0.0,0.0,0.0,0.0,0.0,0.0,0.0,0.0,0.0,0.0,0.0,0.0,0.0,0.0,0.0,0.0,0.0,0.0,0.0,0.0,0.0,0.0,0.0,0.0,0.0,0.0,0.0,0.0,0.0,0.0,0.0,0.0,0.0,0.0,0.0,0.0,0.0,0.0,0.0,0.0,0.0,0.0,0.0,0.0,0.0,0.0,0.0,0.0,0.0,0.0,0.0,0.0,0.0,0.0,0.0,0.0,0.0,0.0,0.0,0.0,0.0,0.0,0.0,0.0,0.0,0.0,0.0,0.0,0.0,0.0,0.0],\"type\":\"box\",\"xaxis\":\"x2\",\"yaxis\":\"y2\"},{\"fillcolor\":\"#377eb8\",\"line\":{\"color\":\"#000000\"},\"name\":\"FTD\",\"showlegend\":false,\"x\":[0.6449685657785498,0.6590619603873156,0.6319436420219753,0.8634197046981563,0.6437849097615216,0.8449854419226479,0.6666270474081025,0.6489529825568414,0.420366025247966,0.5693724916028124,0.712554459551869,0.26264319009880077,0.7153592519543716,0.8540999650283891,0.4877008204761825,0.31537106183612,0.4536457127413268,0.41540390168555136,0.43270497032342714,0.40747314999386064,0.836810752581152,0.9122396704889625,0.6889522819031294,0.5742612750704278,0.3116848258211178,0.5664796913469416,0.6100029706469662,0.7964134882924317,0.2772689089376184,0.7260574846062734,0.3854436903138692,0.3739769182584946,0.4213226511450717,0.8178593513911204,0.7590364120418589,0.21708225937703846,0.2062164528642152,0.4650903289459059,0.5268586987305922,0.8579378909336371,0.7077006386249364,0.7996779030818512,0.03494355090897148,0.568625757174977,0.41773677634851536,0.5891533442064718,0.7843827421760664,0.32243665610362493,0.45184738078807823,0.3878259644087224,0.28957068040173534,0.787651002111678,0.5149666275205809,0.6917477748901232,0.28849813534923846,0.4052696222925299,0.5666558055144478,0.7980528683738982,0.5116675176067327,0.7283984869049175,0.7847095685999108,0.686138125393673,0.7196023071620539,0.4162775289575352,0.227984318344684,0.5264446951215576,0.41766832349721816,0.6507216349907464,0.5640521658407726,0.43662104113939815,0.6046010245560383,0.6422231188105595,0.4911166893276341,0.5780099618750802,0.7125687250109267,0.7720331218017269,0.1528513916435123,0.3460869745853882,0.32389593165355707,0.5734838213004053,0.6209636423545791,0.503741213812019,0.2857162588575298,0.8410076239089161,0.6532806018630285,0.7312517971019362,0.7975298345012848,0.8453276572068976,0.39633009738328945,0.8691648078713313,0.32703743920484557,0.6933904540558843,0.5037008190679723,0.742984324907454,0.4550481871709296,0.38579183106776627,0.6485639040683673,0.5479205372051514,0.7637777145311039,0.49206194047961094,0.35769824079032575,0.42042706224496096,0.5640264546203178,0.4669376347453882,0.5023245220946969,0.5792593291298732,0.7555319129953824,0.276048364880175,0.39530840674083706,0.8455240131336502,0.2081216338186276,0.5819026544949434,0.015356835431437961,0.7732867019475635,0.7042480068034442,0.6756753989784365,0.240951289742843,0.8504268577331056,0.7343573355086033,0.26827789558880916,0.349042135931469,0.27444223626763237,0.3082243349044816,0.26143075182703596,0.16912072106695164,0.40969596290972293,0.39225989121549615,0.2460716556521648,0.48825238509489316,0.6243363500261567,0.6120006072672507,0.7698393461520763,0.9243950178662643,0.7529008232996627,0.584067947351682,0.24728804828312226,0.4543121536254664,0.31328982092400653,0.6067503550631238,0.5624440769012096,0.17540477367633875,0.29947327607460505,0.7168675271101195,0.3816006037087142,0.7310249241102608,0.1533419315159797,0.414448849129135,0.2973409205472481,0.3553172121756581,0.4889102729683709,0.5896236208244102,0.5488408382026368,0.8109499239035818,0.38909697094043616,0.6177291092139223,0.8225074622725096,0.38995638611314126,0.6544992019801095,0.30606389955449737,0.5264482907248726,0.37898442843242064,0.7309370034026865,0.22395651747334655,0.32028647364765084,0.154382975749539,0.0010638553585313622,0.34507756095136227,0.185625836776455,0.5885015029163597,0.2097925768685861,0.30367895191898914,0.2893965233733927,0.2830425973417201,0.47549540046326577,0.5038621727264806,0.5509195647271008,0.0034603785153154696,0.7758446943554008,0.4356366551029238,0.41893763483935,0.4248179655556595,0.5166405580513523,0.15427697692493247,0.053586019441816964,0.5593526537638358,0.5455810344273107,0.5566570939538357,0.378070476187631,0.4626669065979543,0.6476330124570769,0.46861406966011354,0.6996673728548127,0.4266583604300756,0.3967104874202596,0.17631809505616147,0.6941329015238903,0.23446290890823218,0.31979926593850394,0.3721532092485653,0.6735617859161397,0.3488866297526655,0.5883529248869932,0.4841486980007536,0.3064102191987229,0.4953851013074865,0.40567904274388167,0.39018915100484214,0.40028010387007323,0.0006510648742398578,0.6464817428987035,0.5735489946569162,0.3204584985008362,0.4071157316502128,0.0802509908470654,0.22965244086356967,0.3085845605327039,0.7047002056380383,0.0740764427188843,0.6200084494439504,0.0327060762941335,0.45814853968417185,0.7329821029968914,0.43456869467902254,0.6269930641168914,0.6201017292433637,0.4197920522555377,0.3153547491564159,0.5724918211012329,0.5514449638873674,0.7191953565524656,0.09777566194161155,0.28750782138910397,0.33740332052802724,0.5961962111027421,0.02362775832353396,0.818448922832928,0.3821474238926237,0.5268618602920703,0.24270372092684878,0.3482009605325013,0.8535897533749884,0.250638677607398,0.1784710606364103,0.5630411727018525,0.5585988536931212,0.2437248135091405,0.2613430129458397,0.6380700103409311,0.002563896722970596,0.23505089062111378,0.6081866590479926,0.5085991627229302,0.5139808400313134,0.5725217333868817,0.2236957672325537,0.6838504607652581,0.3994335410892514,0.41475968749589986,0.271725160038854,0.7468415243662394,0.5561496638976606,0.4485257449911155,0.19551986330091872,0.5183907822568252,0.3415913244149741,0.5219768478391638,0.5134667485818277,0.32306946388836943,0.7331250374852966,0.8478699824930601,0.48313476780944237,0.4888307719291594,0.3829087283546902,0.2313040142562877,0.3341594138340101,0.058782743495306634,0.3918249040974415,0.6749311890463289,0.7953879143252951,0.5157334219365866,0.28942004018637896,0.6425505097219021,0.6666378834472253,0.5561330596147992,0.7480596464616889,0.4232204961638767,0.34824293836193243,0.6188010127966703,0.5945288720085526,0.7028006965146667,0.733782490416505,0.462803747016133,0.6214766208812403,0.4056601209534097,0.16232861930254597,0.7133265983284383,0.4146638500275731,0.4415841734273702,0.48570839049088177,0.24484578570209586,0.6885927700984713,0.41380509483027644,0.46884027965576286,0.798385752759362,0.3295421558679705,0.8681885925616301,0.2834412580162565,0.010286534687781505,0.6096877126574536,0.5753008182905008,0.41482546119374175,0.3150718819970336,0.33788922968682633,0.22725595435968327,0.4565532960558135,0.7865426895519154,0.4784128274178238,0.6981565871047632,0.16133929887999296,9.645439912066206e-07,0.3597539551805661,0.4290721475059719,0.6460583876341712,0.8009812881510117,0.5185655896730513,0.43273297604845756,0.5237002785182999,0.7401711317557577,0.5649190982429143,0.5498496942797699,0.457187828232134,0.21831222271088063,0.5017404461332311,0.6797102648419362,0.48984670036425787,0.5575827240777276,0.16851452375936896,0.6168062151423274,0.48871712077620144,0.24118908998559063,0.2121590756536322,0.32720096839175833,0.7107044271140269,0.7355935943064797,0.5281980808568895,0.5038556287855591,0.5932901496959141,0.28901321508233085,0.2298668139893755,0.3852329909739148,0.6473258616235956,0.6930267593744844,0.25264318807728264,0.8385985992358183,0.27799215456591864,0.378578178991851,0.4572270476722647,0.8134743329944275,0.8438631509159249,0.7876929642663162,0.7095331194313574,0.3655594810094029,0.44426177280660245,0.8042218834014172,0.45614374786293405,0.38582875041505477,0.1788480606463827,0.49695827478953736,0.2680359848700071,0.43417439739991537,0.24603535825630526,0.6742834601890298,0.3307588556529122,0.6787290037594085,0.5609163289642172,0.35190866275720145,0.6739739879288925,0.5686409415952417,0.560158278192539,0.3360271781410292,0.29010557355423483,0.7878345309472141,0.5012006638952474,0.6227094605670972,0.7668611625525575,0.5858735946150816,0.1815774931095309,0.0024461811746643016,0.27406224407877183,0.6444580039073916,0.5861251205014746,0.8318223206223806,0.5842062551425956,0.208729296481669,0.7924015952667713,0.5203260213495929,0.339977526316517,0.7515263398435127,0.14266676018256147],\"type\":\"box\",\"xaxis\":\"x2\",\"yaxis\":\"y2\"}],                        {\"template\":{\"data\":{\"histogram2dcontour\":[{\"type\":\"histogram2dcontour\",\"colorbar\":{\"outlinewidth\":0,\"ticks\":\"\"},\"colorscale\":[[0.0,\"#0d0887\"],[0.1111111111111111,\"#46039f\"],[0.2222222222222222,\"#7201a8\"],[0.3333333333333333,\"#9c179e\"],[0.4444444444444444,\"#bd3786\"],[0.5555555555555556,\"#d8576b\"],[0.6666666666666666,\"#ed7953\"],[0.7777777777777778,\"#fb9f3a\"],[0.8888888888888888,\"#fdca26\"],[1.0,\"#f0f921\"]]}],\"choropleth\":[{\"type\":\"choropleth\",\"colorbar\":{\"outlinewidth\":0,\"ticks\":\"\"}}],\"histogram2d\":[{\"type\":\"histogram2d\",\"colorbar\":{\"outlinewidth\":0,\"ticks\":\"\"},\"colorscale\":[[0.0,\"#0d0887\"],[0.1111111111111111,\"#46039f\"],[0.2222222222222222,\"#7201a8\"],[0.3333333333333333,\"#9c179e\"],[0.4444444444444444,\"#bd3786\"],[0.5555555555555556,\"#d8576b\"],[0.6666666666666666,\"#ed7953\"],[0.7777777777777778,\"#fb9f3a\"],[0.8888888888888888,\"#fdca26\"],[1.0,\"#f0f921\"]]}],\"heatmap\":[{\"type\":\"heatmap\",\"colorbar\":{\"outlinewidth\":0,\"ticks\":\"\"},\"colorscale\":[[0.0,\"#0d0887\"],[0.1111111111111111,\"#46039f\"],[0.2222222222222222,\"#7201a8\"],[0.3333333333333333,\"#9c179e\"],[0.4444444444444444,\"#bd3786\"],[0.5555555555555556,\"#d8576b\"],[0.6666666666666666,\"#ed7953\"],[0.7777777777777778,\"#fb9f3a\"],[0.8888888888888888,\"#fdca26\"],[1.0,\"#f0f921\"]]}],\"heatmapgl\":[{\"type\":\"heatmapgl\",\"colorbar\":{\"outlinewidth\":0,\"ticks\":\"\"},\"colorscale\":[[0.0,\"#0d0887\"],[0.1111111111111111,\"#46039f\"],[0.2222222222222222,\"#7201a8\"],[0.3333333333333333,\"#9c179e\"],[0.4444444444444444,\"#bd3786\"],[0.5555555555555556,\"#d8576b\"],[0.6666666666666666,\"#ed7953\"],[0.7777777777777778,\"#fb9f3a\"],[0.8888888888888888,\"#fdca26\"],[1.0,\"#f0f921\"]]}],\"contourcarpet\":[{\"type\":\"contourcarpet\",\"colorbar\":{\"outlinewidth\":0,\"ticks\":\"\"}}],\"contour\":[{\"type\":\"contour\",\"colorbar\":{\"outlinewidth\":0,\"ticks\":\"\"},\"colorscale\":[[0.0,\"#0d0887\"],[0.1111111111111111,\"#46039f\"],[0.2222222222222222,\"#7201a8\"],[0.3333333333333333,\"#9c179e\"],[0.4444444444444444,\"#bd3786\"],[0.5555555555555556,\"#d8576b\"],[0.6666666666666666,\"#ed7953\"],[0.7777777777777778,\"#fb9f3a\"],[0.8888888888888888,\"#fdca26\"],[1.0,\"#f0f921\"]]}],\"surface\":[{\"type\":\"surface\",\"colorbar\":{\"outlinewidth\":0,\"ticks\":\"\"},\"colorscale\":[[0.0,\"#0d0887\"],[0.1111111111111111,\"#46039f\"],[0.2222222222222222,\"#7201a8\"],[0.3333333333333333,\"#9c179e\"],[0.4444444444444444,\"#bd3786\"],[0.5555555555555556,\"#d8576b\"],[0.6666666666666666,\"#ed7953\"],[0.7777777777777778,\"#fb9f3a\"],[0.8888888888888888,\"#fdca26\"],[1.0,\"#f0f921\"]]}],\"mesh3d\":[{\"type\":\"mesh3d\",\"colorbar\":{\"outlinewidth\":0,\"ticks\":\"\"}}],\"scatter\":[{\"fillpattern\":{\"fillmode\":\"overlay\",\"size\":10,\"solidity\":0.2},\"type\":\"scatter\"}],\"parcoords\":[{\"type\":\"parcoords\",\"line\":{\"colorbar\":{\"outlinewidth\":0,\"ticks\":\"\"}}}],\"scatterpolargl\":[{\"type\":\"scatterpolargl\",\"marker\":{\"colorbar\":{\"outlinewidth\":0,\"ticks\":\"\"}}}],\"bar\":[{\"error_x\":{\"color\":\"#2a3f5f\"},\"error_y\":{\"color\":\"#2a3f5f\"},\"marker\":{\"line\":{\"color\":\"#E5ECF6\",\"width\":0.5},\"pattern\":{\"fillmode\":\"overlay\",\"size\":10,\"solidity\":0.2}},\"type\":\"bar\"}],\"scattergeo\":[{\"type\":\"scattergeo\",\"marker\":{\"colorbar\":{\"outlinewidth\":0,\"ticks\":\"\"}}}],\"scatterpolar\":[{\"type\":\"scatterpolar\",\"marker\":{\"colorbar\":{\"outlinewidth\":0,\"ticks\":\"\"}}}],\"histogram\":[{\"marker\":{\"pattern\":{\"fillmode\":\"overlay\",\"size\":10,\"solidity\":0.2}},\"type\":\"histogram\"}],\"scattergl\":[{\"type\":\"scattergl\",\"marker\":{\"colorbar\":{\"outlinewidth\":0,\"ticks\":\"\"}}}],\"scatter3d\":[{\"type\":\"scatter3d\",\"line\":{\"colorbar\":{\"outlinewidth\":0,\"ticks\":\"\"}},\"marker\":{\"colorbar\":{\"outlinewidth\":0,\"ticks\":\"\"}}}],\"scattermapbox\":[{\"type\":\"scattermapbox\",\"marker\":{\"colorbar\":{\"outlinewidth\":0,\"ticks\":\"\"}}}],\"scatterternary\":[{\"type\":\"scatterternary\",\"marker\":{\"colorbar\":{\"outlinewidth\":0,\"ticks\":\"\"}}}],\"scattercarpet\":[{\"type\":\"scattercarpet\",\"marker\":{\"colorbar\":{\"outlinewidth\":0,\"ticks\":\"\"}}}],\"carpet\":[{\"aaxis\":{\"endlinecolor\":\"#2a3f5f\",\"gridcolor\":\"white\",\"linecolor\":\"white\",\"minorgridcolor\":\"white\",\"startlinecolor\":\"#2a3f5f\"},\"baxis\":{\"endlinecolor\":\"#2a3f5f\",\"gridcolor\":\"white\",\"linecolor\":\"white\",\"minorgridcolor\":\"white\",\"startlinecolor\":\"#2a3f5f\"},\"type\":\"carpet\"}],\"table\":[{\"cells\":{\"fill\":{\"color\":\"#EBF0F8\"},\"line\":{\"color\":\"white\"}},\"header\":{\"fill\":{\"color\":\"#C8D4E3\"},\"line\":{\"color\":\"white\"}},\"type\":\"table\"}],\"barpolar\":[{\"marker\":{\"line\":{\"color\":\"#E5ECF6\",\"width\":0.5},\"pattern\":{\"fillmode\":\"overlay\",\"size\":10,\"solidity\":0.2}},\"type\":\"barpolar\"}],\"pie\":[{\"automargin\":true,\"type\":\"pie\"}]},\"layout\":{\"autotypenumbers\":\"strict\",\"colorway\":[\"#636efa\",\"#EF553B\",\"#00cc96\",\"#ab63fa\",\"#FFA15A\",\"#19d3f3\",\"#FF6692\",\"#B6E880\",\"#FF97FF\",\"#FECB52\"],\"font\":{\"color\":\"#2a3f5f\"},\"hovermode\":\"closest\",\"hoverlabel\":{\"align\":\"left\"},\"paper_bgcolor\":\"white\",\"plot_bgcolor\":\"#E5ECF6\",\"polar\":{\"bgcolor\":\"#E5ECF6\",\"angularaxis\":{\"gridcolor\":\"white\",\"linecolor\":\"white\",\"ticks\":\"\"},\"radialaxis\":{\"gridcolor\":\"white\",\"linecolor\":\"white\",\"ticks\":\"\"}},\"ternary\":{\"bgcolor\":\"#E5ECF6\",\"aaxis\":{\"gridcolor\":\"white\",\"linecolor\":\"white\",\"ticks\":\"\"},\"baxis\":{\"gridcolor\":\"white\",\"linecolor\":\"white\",\"ticks\":\"\"},\"caxis\":{\"gridcolor\":\"white\",\"linecolor\":\"white\",\"ticks\":\"\"}},\"coloraxis\":{\"colorbar\":{\"outlinewidth\":0,\"ticks\":\"\"}},\"colorscale\":{\"sequential\":[[0.0,\"#0d0887\"],[0.1111111111111111,\"#46039f\"],[0.2222222222222222,\"#7201a8\"],[0.3333333333333333,\"#9c179e\"],[0.4444444444444444,\"#bd3786\"],[0.5555555555555556,\"#d8576b\"],[0.6666666666666666,\"#ed7953\"],[0.7777777777777778,\"#fb9f3a\"],[0.8888888888888888,\"#fdca26\"],[1.0,\"#f0f921\"]],\"sequentialminus\":[[0.0,\"#0d0887\"],[0.1111111111111111,\"#46039f\"],[0.2222222222222222,\"#7201a8\"],[0.3333333333333333,\"#9c179e\"],[0.4444444444444444,\"#bd3786\"],[0.5555555555555556,\"#d8576b\"],[0.6666666666666666,\"#ed7953\"],[0.7777777777777778,\"#fb9f3a\"],[0.8888888888888888,\"#fdca26\"],[1.0,\"#f0f921\"]],\"diverging\":[[0,\"#8e0152\"],[0.1,\"#c51b7d\"],[0.2,\"#de77ae\"],[0.3,\"#f1b6da\"],[0.4,\"#fde0ef\"],[0.5,\"#f7f7f7\"],[0.6,\"#e6f5d0\"],[0.7,\"#b8e186\"],[0.8,\"#7fbc41\"],[0.9,\"#4d9221\"],[1,\"#276419\"]]},\"xaxis\":{\"gridcolor\":\"white\",\"linecolor\":\"white\",\"ticks\":\"\",\"title\":{\"standoff\":15},\"zerolinecolor\":\"white\",\"automargin\":true,\"zerolinewidth\":2},\"yaxis\":{\"gridcolor\":\"white\",\"linecolor\":\"white\",\"ticks\":\"\",\"title\":{\"standoff\":15},\"zerolinecolor\":\"white\",\"automargin\":true,\"zerolinewidth\":2},\"scene\":{\"xaxis\":{\"backgroundcolor\":\"#E5ECF6\",\"gridcolor\":\"white\",\"linecolor\":\"white\",\"showbackground\":true,\"ticks\":\"\",\"zerolinecolor\":\"white\",\"gridwidth\":2},\"yaxis\":{\"backgroundcolor\":\"#E5ECF6\",\"gridcolor\":\"white\",\"linecolor\":\"white\",\"showbackground\":true,\"ticks\":\"\",\"zerolinecolor\":\"white\",\"gridwidth\":2},\"zaxis\":{\"backgroundcolor\":\"#E5ECF6\",\"gridcolor\":\"white\",\"linecolor\":\"white\",\"showbackground\":true,\"ticks\":\"\",\"zerolinecolor\":\"white\",\"gridwidth\":2}},\"shapedefaults\":{\"line\":{\"color\":\"#2a3f5f\"}},\"annotationdefaults\":{\"arrowcolor\":\"#2a3f5f\",\"arrowhead\":0,\"arrowwidth\":1},\"geo\":{\"bgcolor\":\"white\",\"landcolor\":\"#E5ECF6\",\"subunitcolor\":\"white\",\"showland\":true,\"showlakes\":true,\"lakecolor\":\"white\"},\"title\":{\"x\":0.05},\"mapbox\":{\"style\":\"light\"}}},\"xaxis\":{\"anchor\":\"y\",\"domain\":[0.0,1.0],\"title\":{\"text\":\"Disease Stage\",\"font\":{\"size\":18}},\"tickmode\":\"linear\",\"tick0\":0.0,\"dtick\":0.1,\"range\":[-0.05,1.0],\"tickfont\":{\"size\":14}},\"yaxis\":{\"anchor\":\"x\",\"domain\":[0.575,1.0],\"title\":{\"text\":\"Frequency of occurences\",\"font\":{\"size\":18}},\"tickfont\":{\"size\":14}},\"xaxis2\":{\"anchor\":\"y2\",\"domain\":[0.0,1.0],\"title\":{\"font\":{\"size\":18}},\"tickfont\":{\"size\":14}},\"yaxis2\":{\"anchor\":\"x2\",\"domain\":[0.0,0.425],\"title\":{\"font\":{\"size\":18}},\"tickfont\":{\"size\":14}},\"title\":{\"text\":\"Patient Staging\",\"font\":{\"size\":34},\"x\":0.5},\"legend\":{\"font\":{\"size\":16}},\"barmode\":\"group\",\"autosize\":false,\"width\":1000,\"height\":1200,\"hovermode\":\"closest\"},                        {\"responsive\": true}                    ).then(function(){\n",
       "                            \n",
       "var gd = document.getElementById('51645411-9057-4140-9caf-8e96d56ba3f4');\n",
       "var x = new MutationObserver(function (mutations, observer) {{\n",
       "        var display = window.getComputedStyle(gd).display;\n",
       "        if (!display || display === 'none') {{\n",
       "            console.log([gd, 'removed!']);\n",
       "            Plotly.purge(gd);\n",
       "            observer.disconnect();\n",
       "        }}\n",
       "}});\n",
       "\n",
       "// Listen for the removal of the full notebook cells\n",
       "var notebookContainer = gd.closest('#notebook-container');\n",
       "if (notebookContainer) {{\n",
       "    x.observe(notebookContainer, {childList: true});\n",
       "}}\n",
       "\n",
       "// Listen for the clearing of the current output cell\n",
       "var outputEl = gd.closest('.output');\n",
       "if (outputEl) {{\n",
       "    x.observe(outputEl, {childList: true});\n",
       "}}\n",
       "\n",
       "                        })                };                });            </script>        </div>"
      ]
     },
     "metadata": {},
     "output_type": "display_data"
    }
   ],
   "source": [
    "fig = staging(S=S,\n",
    "                      diagnosis=diagnosis, \n",
    "                      color_list = color_list,\n",
    "#                       num_bins=10, \n",
    "                      bin_width=0.04)\n",
    "fig"
   ]
  },
  {
   "cell_type": "code",
   "execution_count": null,
   "id": "559dc97a",
   "metadata": {},
   "outputs": [],
   "source": []
  }
 ],
 "metadata": {
  "kernelspec": {
   "display_name": "Python 3 (ipykernel)",
   "language": "python",
   "name": "python3"
  },
  "language_info": {
   "codemirror_mode": {
    "name": "ipython",
    "version": 3
   },
   "file_extension": ".py",
   "mimetype": "text/x-python",
   "name": "python",
   "nbconvert_exporter": "python",
   "pygments_lexer": "ipython3",
   "version": "3.9.12"
  }
 },
 "nbformat": 4,
 "nbformat_minor": 5
}
