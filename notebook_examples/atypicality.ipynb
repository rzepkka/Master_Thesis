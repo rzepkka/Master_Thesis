{
 "cells": [
  {
   "cell_type": "code",
   "execution_count": 1,
   "id": "0a8b53eb",
   "metadata": {},
   "outputs": [],
   "source": [
    "from matplotlib import pyplot as plt \n",
    "import numpy as np \n",
    "import pandas as pd \n",
    "import plotly.express as px\n",
    "import plotly.io as pio\n",
    "import plotly.graph_objs as go\n",
    "import plotly.offline as pyo\n",
    "import pickle\n",
    "\n",
    "from collections import Counter\n",
    "\n",
    "import plotly.graph_objects as go\n",
    "import plotly.express as px\n",
    "from plotly.subplots import make_subplots\n",
    "\n",
    "from matplotlib import rc"
   ]
  },
  {
   "cell_type": "markdown",
   "id": "7591cd71",
   "metadata": {},
   "source": [
    "### Load pickle"
   ]
  },
  {
   "cell_type": "code",
   "execution_count": 2,
   "id": "98760d6b",
   "metadata": {},
   "outputs": [
    {
     "name": "stderr",
     "output_type": "stream",
     "text": [
      "/Users/macos/opt/anaconda3/envs/umc/lib/python3.9/site-packages/sklearn/base.py:329: UserWarning:\n",
      "\n",
      "Trying to unpickle estimator MinCovDet from version 0.24.1 when using version 1.0.2. This might lead to breaking code or invalid results. Use at your own risk. For more info please refer to:\n",
      "https://scikit-learn.org/stable/modules/model_persistence.html#security-maintainability-limitations\n",
      "\n"
     ]
    }
   ],
   "source": [
    "# NEW FILE\n",
    "read_input = open('data/EDADS_subtype_timelines_agecorrected_opt.pickle','rb')\n",
    "load_inputs = pickle.load(read_input)\n",
    "read_input.close()\n",
    "\n",
    "T, S, Sboot = load_inputs\n",
    "\n",
    "diagnosis = np.load('data/diagnosis.npy', allow_pickle=True)"
   ]
  },
  {
   "cell_type": "markdown",
   "id": "b2a2a0f6",
   "metadata": {},
   "source": [
    "- T --> timeline (timeline object)\n",
    "\n",
    "- S --> subjects (dict)"
   ]
  },
  {
   "cell_type": "markdown",
   "id": "4c7cd56c",
   "metadata": {},
   "source": [
    "#### Number of occurences"
   ]
  },
  {
   "cell_type": "code",
   "execution_count": 17,
   "id": "d72e8cd3",
   "metadata": {},
   "outputs": [
    {
     "data": {
      "text/plain": [
       "{'AD': 1054, 'MCI': 322, 'SCD': 184}"
      ]
     },
     "execution_count": 17,
     "metadata": {},
     "output_type": "execute_result"
    }
   ],
   "source": [
    "counter = dict(Counter(diagnosis[diagnosis!='CN']))\n",
    "counter"
   ]
  },
  {
   "cell_type": "markdown",
   "id": "b1a73673",
   "metadata": {},
   "source": [
    "#### Ignore controls"
   ]
  },
  {
   "cell_type": "code",
   "execution_count": 16,
   "id": "a458831d",
   "metadata": {},
   "outputs": [
    {
     "data": {
      "text/plain": [
       "['AD', 'MCI', 'SCD']"
      ]
     },
     "execution_count": 16,
     "metadata": {},
     "output_type": "execute_result"
    }
   ],
   "source": [
    "labels = list(set(diagnosis[diagnosis!='CN']))\n",
    "labels.sort()\n",
    "labels"
   ]
  },
  {
   "cell_type": "markdown",
   "id": "28c44e9f",
   "metadata": {},
   "source": [
    "## Atypicality function"
   ]
  },
  {
   "cell_type": "code",
   "execution_count": 3,
   "id": "ecf0d0e4",
   "metadata": {},
   "outputs": [],
   "source": [
    "def atypicality(S, diagnosis, color_list=['#000000'], num_bins=10, bin_width=0.02, width=1200, height=900, \n",
    "                        fontsize=[34,18,14,22], opacity=0.8):\n",
    "    \"\"\"\n",
    "    Creates a barplot\n",
    "    :param S: subtyping dictionary, subtypes for each patient individually\n",
    "    :param diagnosis: np.array or list; with diagnosis labels corresponding to records in S\n",
    "    :param color_list: list with color hex values (optional)\n",
    "    :param num_bins: int, how many bins should be displayed\n",
    "    :param bin_width: int (optional)\n",
    "    :param width: int (optional)\n",
    "    :param height: int (optional)\n",
    "    :param fontsize: a list of 4 ints, corresponding to [font_title, font_axes, font_ticks, font_legend] respectively (optional)\n",
    "    :param opacity: float (optional)\n",
    "\n",
    "    :return: plotly go Bar figure\n",
    "    \"\"\"  \n",
    "    \n",
    "    # Convert NaNs to 0.0\n",
    "    atypical = np.array([np.float64(0.0) if np.isnan(x) else x for x in S['atypicality']])\n",
    "   \n",
    "    # Count number of each subtype occurences\n",
    "    counter = dict(Counter(diagnosis))\n",
    "        \n",
    "    # Get labels\n",
    "    # labels = list(set(diagnosis))\n",
    "    labels = list(set(diagnosis[diagnosis!='CN']))\n",
    "    labels.sort()\n",
    "\n",
    "    # Get indexes\n",
    "    diagnosis = np.array(diagnosis)\n",
    "    atypical = np.array(atypical)\n",
    "    \n",
    "    # Get indexes for each diagnostic label\n",
    "    idx_list = []\n",
    "    for l in labels:\n",
    "        if l!='CN':\n",
    "            idx = np.where(diagnosis==l)\n",
    "            idx = idx[0]\n",
    "            idx_list.append(idx)\n",
    "\n",
    "    # Bar settings\n",
    "    num_bins = num_bins\n",
    "    bin_width = np.repeat(bin_width, num_bins)\n",
    "          \n",
    "    color_list = color_list\n",
    "        \n",
    "    bar_width = np.repeat(0.02, num_bins)\n",
    "    counter = dict(Counter(diagnosis[diagnosis!='CN']))\n",
    "\n",
    "    fig = go.Figure()\n",
    "    \n",
    "    for count, idx in enumerate(idx_list):\n",
    "        freq,binc=np.histogram(atypical[idx],bins=num_bins)\n",
    "        freq = (1.*freq)/len(atypical)\n",
    "        \n",
    "        label = labels[count]\n",
    "\n",
    "        fig.add_trace(go.Bar(\n",
    "                    x=binc[:-1],\n",
    "                    y=freq,\n",
    "                    name=f'{label} (n = {counter[label]})',\n",
    "                    width=bin_width,\n",
    "                    marker_color=color_list[count],\n",
    "                    opacity=opacity\n",
    "        )) \n",
    "\n",
    "    # Style the graph\n",
    "    font_title, font_axes, font_ticks, font_legend = fontsize\n",
    "                \n",
    "    fig.update_layout(\n",
    "        title=\"Atypicality\",\n",
    "        title_font_size=font_title,\n",
    "        title_x=0.5,\n",
    "        xaxis_title=\"Value\",\n",
    "        yaxis_title=\"Frequency of occurences\",\n",
    "        xaxis = dict(\n",
    "            tickmode = 'linear',\n",
    "            tick0 = 0.0,\n",
    "            dtick = 2\n",
    "        ),\n",
    "        barmode='group',\n",
    "        legend_font_size=font_legend,\n",
    "        legend=dict(\n",
    "            yanchor=\"top\",\n",
    "            y=0.95,\n",
    "            xanchor=\"right\",\n",
    "            x=0.95),\n",
    "        autosize = False,\n",
    "        width=width,\n",
    "        height=height\n",
    "    )\n",
    "    \n",
    "    fig.update_xaxes(range=[np.min(atypical)-1.5, np.max(atypical)])\n",
    "    \n",
    "    fig.update_yaxes(title_font_size = font_axes, \n",
    "                    tickfont_size=font_ticks)\n",
    "    \n",
    "    fig.update_xaxes(title_font_size = font_axes, \n",
    "                    tickfont_size = font_ticks)\n",
    "\n",
    "    return fig"
   ]
  },
  {
   "cell_type": "code",
   "execution_count": 4,
   "id": "8476bf6e",
   "metadata": {},
   "outputs": [],
   "source": [
    "# FOR TESTING\n",
    "num_bins = 10\n",
    "bin_width = 0.02\n",
    "color_list = ['#4daf4a','#377eb8','#e41a1c', '#ffff00']"
   ]
  },
  {
   "cell_type": "code",
   "execution_count": 8,
   "id": "c3c94ce1",
   "metadata": {},
   "outputs": [
    {
     "data": {
      "application/vnd.plotly.v1+json": {
       "config": {
        "plotlyServerURL": "https://plot.ly"
       },
       "data": [
        {
         "marker": {
          "color": "#4daf4a"
         },
         "name": "AD (n = 1054)",
         "opacity": 0.8,
         "type": "bar",
         "width": [
          1.2,
          1.2,
          1.2,
          1.2,
          1.2,
          1.2,
          1.2,
          1.2,
          1.2,
          1.2,
          1.2,
          1.2,
          1.2,
          1.2,
          1.2,
          1.2,
          1.2,
          1.2,
          1.2,
          1.2
         ],
         "x": [
          0,
          3.724248875352015,
          7.44849775070403,
          11.172746626056046,
          14.89699550140806,
          18.621244376760075,
          22.345493252112092,
          26.069742127464107,
          29.79399100281612,
          33.51823987816814,
          37.24248875352015,
          40.96673762887217,
          44.690986504224185,
          48.415235379576195,
          52.13948425492821,
          55.863733130280224,
          59.58798200563224,
          63.31223088098426,
          67.03647975633628,
          70.76072863168828
         ],
         "y": [
          0.11985688729874776,
          0.14937388193202147,
          0.08452593917710197,
          0.03756708407871199,
          0.00849731663685152,
          0.005366726296958855,
          0.00849731663685152,
          0.009838998211091235,
          0.014311270125223614,
          0.009838998211091235,
          0.008050089445438283,
          0.009391771019677997,
          0.0022361359570661895,
          0.0026833631484794273,
          0.0008944543828264759,
          0,
          0,
          0,
          0,
          0.0004472271914132379
         ]
        },
        {
         "marker": {
          "color": "#377eb8"
         },
         "name": "MCI (n = 322)",
         "opacity": 0.8,
         "type": "bar",
         "width": [
          1.2,
          1.2,
          1.2,
          1.2,
          1.2,
          1.2,
          1.2,
          1.2,
          1.2,
          1.2,
          1.2,
          1.2,
          1.2,
          1.2,
          1.2,
          1.2,
          1.2,
          1.2,
          1.2,
          1.2
         ],
         "x": [
          0,
          2.825908602675548,
          5.651817205351096,
          8.477725808026644,
          11.303634410702193,
          14.129543013377742,
          16.95545161605329,
          19.78136021872884,
          22.607268821404386,
          25.433177424079933,
          28.259086026755483,
          31.08499462943103,
          33.91090323210658,
          36.736811834782124,
          39.56272043745768,
          42.388629040133225,
          45.21453764280877,
          48.04044624548432,
          50.866354848159865,
          53.69226345083542
         ],
         "y": [
          0.03175313059033989,
          0.02728085867620751,
          0.03443649373881932,
          0.022808586762075134,
          0.010286225402504472,
          0.006708407871198569,
          0.0035778175313059034,
          0.0022361359570661895,
          0.0008944543828264759,
          0.0004472271914132379,
          0.0013416815742397137,
          0.0004472271914132379,
          0.0004472271914132379,
          0,
          0,
          0,
          0.0004472271914132379,
          0.0004472271914132379,
          0,
          0.0004472271914132379
         ]
        },
        {
         "marker": {
          "color": "#e41a1c"
         },
         "name": "SCD (n = 184)",
         "opacity": 0.8,
         "type": "bar",
         "width": [
          1.2,
          1.2,
          1.2,
          1.2,
          1.2,
          1.2,
          1.2,
          1.2,
          1.2,
          1.2,
          1.2,
          1.2,
          1.2,
          1.2,
          1.2,
          1.2,
          1.2,
          1.2,
          1.2,
          1.2
         ],
         "x": [
          0,
          1.680674183541433,
          3.361348367082866,
          5.042022550624299,
          6.722696734165732,
          8.403370917707164,
          10.084045101248599,
          11.764719284790031,
          13.445393468331464,
          15.126067651872896,
          16.80674183541433,
          18.487416018955763,
          20.168090202497197,
          21.848764386038628,
          23.529438569580062,
          25.210112753121493,
          26.890786936662927,
          28.57146112020436,
          30.252135303745792,
          31.932809487287226
         ],
         "y": [
          0.026833631484794274,
          0.0004472271914132379,
          0.004472271914132379,
          0.005813953488372093,
          0.009391771019677997,
          0.008050089445438283,
          0.008050089445438283,
          0.006708407871198569,
          0.0026833631484794273,
          0.0022361359570661895,
          0.0022361359570661895,
          0.0026833631484794273,
          0,
          0.0004472271914132379,
          0.0004472271914132379,
          0.0004472271914132379,
          0,
          0,
          0,
          0.0013416815742397137
         ]
        }
       ],
       "layout": {
        "autosize": false,
        "barmode": "group",
        "height": 800,
        "legend": {
         "font": {
          "size": 22
         },
         "x": 0.95,
         "xanchor": "right",
         "y": 0.95,
         "yanchor": "top"
        },
        "template": {
         "data": {
          "bar": [
           {
            "error_x": {
             "color": "#2a3f5f"
            },
            "error_y": {
             "color": "#2a3f5f"
            },
            "marker": {
             "line": {
              "color": "#E5ECF6",
              "width": 0.5
             },
             "pattern": {
              "fillmode": "overlay",
              "size": 10,
              "solidity": 0.2
             }
            },
            "type": "bar"
           }
          ],
          "barpolar": [
           {
            "marker": {
             "line": {
              "color": "#E5ECF6",
              "width": 0.5
             },
             "pattern": {
              "fillmode": "overlay",
              "size": 10,
              "solidity": 0.2
             }
            },
            "type": "barpolar"
           }
          ],
          "carpet": [
           {
            "aaxis": {
             "endlinecolor": "#2a3f5f",
             "gridcolor": "white",
             "linecolor": "white",
             "minorgridcolor": "white",
             "startlinecolor": "#2a3f5f"
            },
            "baxis": {
             "endlinecolor": "#2a3f5f",
             "gridcolor": "white",
             "linecolor": "white",
             "minorgridcolor": "white",
             "startlinecolor": "#2a3f5f"
            },
            "type": "carpet"
           }
          ],
          "choropleth": [
           {
            "colorbar": {
             "outlinewidth": 0,
             "ticks": ""
            },
            "type": "choropleth"
           }
          ],
          "contour": [
           {
            "colorbar": {
             "outlinewidth": 0,
             "ticks": ""
            },
            "colorscale": [
             [
              0,
              "#0d0887"
             ],
             [
              0.1111111111111111,
              "#46039f"
             ],
             [
              0.2222222222222222,
              "#7201a8"
             ],
             [
              0.3333333333333333,
              "#9c179e"
             ],
             [
              0.4444444444444444,
              "#bd3786"
             ],
             [
              0.5555555555555556,
              "#d8576b"
             ],
             [
              0.6666666666666666,
              "#ed7953"
             ],
             [
              0.7777777777777778,
              "#fb9f3a"
             ],
             [
              0.8888888888888888,
              "#fdca26"
             ],
             [
              1,
              "#f0f921"
             ]
            ],
            "type": "contour"
           }
          ],
          "contourcarpet": [
           {
            "colorbar": {
             "outlinewidth": 0,
             "ticks": ""
            },
            "type": "contourcarpet"
           }
          ],
          "heatmap": [
           {
            "colorbar": {
             "outlinewidth": 0,
             "ticks": ""
            },
            "colorscale": [
             [
              0,
              "#0d0887"
             ],
             [
              0.1111111111111111,
              "#46039f"
             ],
             [
              0.2222222222222222,
              "#7201a8"
             ],
             [
              0.3333333333333333,
              "#9c179e"
             ],
             [
              0.4444444444444444,
              "#bd3786"
             ],
             [
              0.5555555555555556,
              "#d8576b"
             ],
             [
              0.6666666666666666,
              "#ed7953"
             ],
             [
              0.7777777777777778,
              "#fb9f3a"
             ],
             [
              0.8888888888888888,
              "#fdca26"
             ],
             [
              1,
              "#f0f921"
             ]
            ],
            "type": "heatmap"
           }
          ],
          "heatmapgl": [
           {
            "colorbar": {
             "outlinewidth": 0,
             "ticks": ""
            },
            "colorscale": [
             [
              0,
              "#0d0887"
             ],
             [
              0.1111111111111111,
              "#46039f"
             ],
             [
              0.2222222222222222,
              "#7201a8"
             ],
             [
              0.3333333333333333,
              "#9c179e"
             ],
             [
              0.4444444444444444,
              "#bd3786"
             ],
             [
              0.5555555555555556,
              "#d8576b"
             ],
             [
              0.6666666666666666,
              "#ed7953"
             ],
             [
              0.7777777777777778,
              "#fb9f3a"
             ],
             [
              0.8888888888888888,
              "#fdca26"
             ],
             [
              1,
              "#f0f921"
             ]
            ],
            "type": "heatmapgl"
           }
          ],
          "histogram": [
           {
            "marker": {
             "pattern": {
              "fillmode": "overlay",
              "size": 10,
              "solidity": 0.2
             }
            },
            "type": "histogram"
           }
          ],
          "histogram2d": [
           {
            "colorbar": {
             "outlinewidth": 0,
             "ticks": ""
            },
            "colorscale": [
             [
              0,
              "#0d0887"
             ],
             [
              0.1111111111111111,
              "#46039f"
             ],
             [
              0.2222222222222222,
              "#7201a8"
             ],
             [
              0.3333333333333333,
              "#9c179e"
             ],
             [
              0.4444444444444444,
              "#bd3786"
             ],
             [
              0.5555555555555556,
              "#d8576b"
             ],
             [
              0.6666666666666666,
              "#ed7953"
             ],
             [
              0.7777777777777778,
              "#fb9f3a"
             ],
             [
              0.8888888888888888,
              "#fdca26"
             ],
             [
              1,
              "#f0f921"
             ]
            ],
            "type": "histogram2d"
           }
          ],
          "histogram2dcontour": [
           {
            "colorbar": {
             "outlinewidth": 0,
             "ticks": ""
            },
            "colorscale": [
             [
              0,
              "#0d0887"
             ],
             [
              0.1111111111111111,
              "#46039f"
             ],
             [
              0.2222222222222222,
              "#7201a8"
             ],
             [
              0.3333333333333333,
              "#9c179e"
             ],
             [
              0.4444444444444444,
              "#bd3786"
             ],
             [
              0.5555555555555556,
              "#d8576b"
             ],
             [
              0.6666666666666666,
              "#ed7953"
             ],
             [
              0.7777777777777778,
              "#fb9f3a"
             ],
             [
              0.8888888888888888,
              "#fdca26"
             ],
             [
              1,
              "#f0f921"
             ]
            ],
            "type": "histogram2dcontour"
           }
          ],
          "mesh3d": [
           {
            "colorbar": {
             "outlinewidth": 0,
             "ticks": ""
            },
            "type": "mesh3d"
           }
          ],
          "parcoords": [
           {
            "line": {
             "colorbar": {
              "outlinewidth": 0,
              "ticks": ""
             }
            },
            "type": "parcoords"
           }
          ],
          "pie": [
           {
            "automargin": true,
            "type": "pie"
           }
          ],
          "scatter": [
           {
            "fillpattern": {
             "fillmode": "overlay",
             "size": 10,
             "solidity": 0.2
            },
            "type": "scatter"
           }
          ],
          "scatter3d": [
           {
            "line": {
             "colorbar": {
              "outlinewidth": 0,
              "ticks": ""
             }
            },
            "marker": {
             "colorbar": {
              "outlinewidth": 0,
              "ticks": ""
             }
            },
            "type": "scatter3d"
           }
          ],
          "scattercarpet": [
           {
            "marker": {
             "colorbar": {
              "outlinewidth": 0,
              "ticks": ""
             }
            },
            "type": "scattercarpet"
           }
          ],
          "scattergeo": [
           {
            "marker": {
             "colorbar": {
              "outlinewidth": 0,
              "ticks": ""
             }
            },
            "type": "scattergeo"
           }
          ],
          "scattergl": [
           {
            "marker": {
             "colorbar": {
              "outlinewidth": 0,
              "ticks": ""
             }
            },
            "type": "scattergl"
           }
          ],
          "scattermapbox": [
           {
            "marker": {
             "colorbar": {
              "outlinewidth": 0,
              "ticks": ""
             }
            },
            "type": "scattermapbox"
           }
          ],
          "scatterpolar": [
           {
            "marker": {
             "colorbar": {
              "outlinewidth": 0,
              "ticks": ""
             }
            },
            "type": "scatterpolar"
           }
          ],
          "scatterpolargl": [
           {
            "marker": {
             "colorbar": {
              "outlinewidth": 0,
              "ticks": ""
             }
            },
            "type": "scatterpolargl"
           }
          ],
          "scatterternary": [
           {
            "marker": {
             "colorbar": {
              "outlinewidth": 0,
              "ticks": ""
             }
            },
            "type": "scatterternary"
           }
          ],
          "surface": [
           {
            "colorbar": {
             "outlinewidth": 0,
             "ticks": ""
            },
            "colorscale": [
             [
              0,
              "#0d0887"
             ],
             [
              0.1111111111111111,
              "#46039f"
             ],
             [
              0.2222222222222222,
              "#7201a8"
             ],
             [
              0.3333333333333333,
              "#9c179e"
             ],
             [
              0.4444444444444444,
              "#bd3786"
             ],
             [
              0.5555555555555556,
              "#d8576b"
             ],
             [
              0.6666666666666666,
              "#ed7953"
             ],
             [
              0.7777777777777778,
              "#fb9f3a"
             ],
             [
              0.8888888888888888,
              "#fdca26"
             ],
             [
              1,
              "#f0f921"
             ]
            ],
            "type": "surface"
           }
          ],
          "table": [
           {
            "cells": {
             "fill": {
              "color": "#EBF0F8"
             },
             "line": {
              "color": "white"
             }
            },
            "header": {
             "fill": {
              "color": "#C8D4E3"
             },
             "line": {
              "color": "white"
             }
            },
            "type": "table"
           }
          ]
         },
         "layout": {
          "annotationdefaults": {
           "arrowcolor": "#2a3f5f",
           "arrowhead": 0,
           "arrowwidth": 1
          },
          "autotypenumbers": "strict",
          "coloraxis": {
           "colorbar": {
            "outlinewidth": 0,
            "ticks": ""
           }
          },
          "colorscale": {
           "diverging": [
            [
             0,
             "#8e0152"
            ],
            [
             0.1,
             "#c51b7d"
            ],
            [
             0.2,
             "#de77ae"
            ],
            [
             0.3,
             "#f1b6da"
            ],
            [
             0.4,
             "#fde0ef"
            ],
            [
             0.5,
             "#f7f7f7"
            ],
            [
             0.6,
             "#e6f5d0"
            ],
            [
             0.7,
             "#b8e186"
            ],
            [
             0.8,
             "#7fbc41"
            ],
            [
             0.9,
             "#4d9221"
            ],
            [
             1,
             "#276419"
            ]
           ],
           "sequential": [
            [
             0,
             "#0d0887"
            ],
            [
             0.1111111111111111,
             "#46039f"
            ],
            [
             0.2222222222222222,
             "#7201a8"
            ],
            [
             0.3333333333333333,
             "#9c179e"
            ],
            [
             0.4444444444444444,
             "#bd3786"
            ],
            [
             0.5555555555555556,
             "#d8576b"
            ],
            [
             0.6666666666666666,
             "#ed7953"
            ],
            [
             0.7777777777777778,
             "#fb9f3a"
            ],
            [
             0.8888888888888888,
             "#fdca26"
            ],
            [
             1,
             "#f0f921"
            ]
           ],
           "sequentialminus": [
            [
             0,
             "#0d0887"
            ],
            [
             0.1111111111111111,
             "#46039f"
            ],
            [
             0.2222222222222222,
             "#7201a8"
            ],
            [
             0.3333333333333333,
             "#9c179e"
            ],
            [
             0.4444444444444444,
             "#bd3786"
            ],
            [
             0.5555555555555556,
             "#d8576b"
            ],
            [
             0.6666666666666666,
             "#ed7953"
            ],
            [
             0.7777777777777778,
             "#fb9f3a"
            ],
            [
             0.8888888888888888,
             "#fdca26"
            ],
            [
             1,
             "#f0f921"
            ]
           ]
          },
          "colorway": [
           "#636efa",
           "#EF553B",
           "#00cc96",
           "#ab63fa",
           "#FFA15A",
           "#19d3f3",
           "#FF6692",
           "#B6E880",
           "#FF97FF",
           "#FECB52"
          ],
          "font": {
           "color": "#2a3f5f"
          },
          "geo": {
           "bgcolor": "white",
           "lakecolor": "white",
           "landcolor": "#E5ECF6",
           "showlakes": true,
           "showland": true,
           "subunitcolor": "white"
          },
          "hoverlabel": {
           "align": "left"
          },
          "hovermode": "closest",
          "mapbox": {
           "style": "light"
          },
          "paper_bgcolor": "white",
          "plot_bgcolor": "#E5ECF6",
          "polar": {
           "angularaxis": {
            "gridcolor": "white",
            "linecolor": "white",
            "ticks": ""
           },
           "bgcolor": "#E5ECF6",
           "radialaxis": {
            "gridcolor": "white",
            "linecolor": "white",
            "ticks": ""
           }
          },
          "scene": {
           "xaxis": {
            "backgroundcolor": "#E5ECF6",
            "gridcolor": "white",
            "gridwidth": 2,
            "linecolor": "white",
            "showbackground": true,
            "ticks": "",
            "zerolinecolor": "white"
           },
           "yaxis": {
            "backgroundcolor": "#E5ECF6",
            "gridcolor": "white",
            "gridwidth": 2,
            "linecolor": "white",
            "showbackground": true,
            "ticks": "",
            "zerolinecolor": "white"
           },
           "zaxis": {
            "backgroundcolor": "#E5ECF6",
            "gridcolor": "white",
            "gridwidth": 2,
            "linecolor": "white",
            "showbackground": true,
            "ticks": "",
            "zerolinecolor": "white"
           }
          },
          "shapedefaults": {
           "line": {
            "color": "#2a3f5f"
           }
          },
          "ternary": {
           "aaxis": {
            "gridcolor": "white",
            "linecolor": "white",
            "ticks": ""
           },
           "baxis": {
            "gridcolor": "white",
            "linecolor": "white",
            "ticks": ""
           },
           "bgcolor": "#E5ECF6",
           "caxis": {
            "gridcolor": "white",
            "linecolor": "white",
            "ticks": ""
           }
          },
          "title": {
           "x": 0.05
          },
          "xaxis": {
           "automargin": true,
           "gridcolor": "white",
           "linecolor": "white",
           "ticks": "",
           "title": {
            "standoff": 15
           },
           "zerolinecolor": "white",
           "zerolinewidth": 2
          },
          "yaxis": {
           "automargin": true,
           "gridcolor": "white",
           "linecolor": "white",
           "ticks": "",
           "title": {
            "standoff": 15
           },
           "zerolinecolor": "white",
           "zerolinewidth": 2
          }
         }
        },
        "title": {
         "font": {
          "size": 34
         },
         "text": "Atypicality",
         "x": 0.5
        },
        "width": 900,
        "xaxis": {
         "dtick": 2,
         "range": [
          -1.5,
          74.4849775070403
         ],
         "tick0": 0,
         "tickfont": {
          "size": 14
         },
         "tickmode": "linear",
         "title": {
          "font": {
           "size": 18
          },
          "text": "Value"
         }
        },
        "yaxis": {
         "tickfont": {
          "size": 14
         },
         "title": {
          "font": {
           "size": 18
          },
          "text": "Frequency of occurences"
         }
        }
       }
      },
      "text/html": [
       "<div>                            <div id=\"32550205-02d0-4d29-9527-e1dcbd31f484\" class=\"plotly-graph-div\" style=\"height:800px; width:900px;\"></div>            <script type=\"text/javascript\">                require([\"plotly\"], function(Plotly) {                    window.PLOTLYENV=window.PLOTLYENV || {};                                    if (document.getElementById(\"32550205-02d0-4d29-9527-e1dcbd31f484\")) {                    Plotly.newPlot(                        \"32550205-02d0-4d29-9527-e1dcbd31f484\",                        [{\"marker\":{\"color\":\"#4daf4a\"},\"name\":\"AD (n = 1054)\",\"opacity\":0.8,\"width\":[1.2,1.2,1.2,1.2,1.2,1.2,1.2,1.2,1.2,1.2,1.2,1.2,1.2,1.2,1.2,1.2,1.2,1.2,1.2,1.2],\"x\":[0.0,3.724248875352015,7.44849775070403,11.172746626056046,14.89699550140806,18.621244376760075,22.345493252112092,26.069742127464107,29.79399100281612,33.51823987816814,37.24248875352015,40.96673762887217,44.690986504224185,48.415235379576195,52.13948425492821,55.863733130280224,59.58798200563224,63.31223088098426,67.03647975633628,70.76072863168828],\"y\":[0.11985688729874776,0.14937388193202147,0.08452593917710197,0.03756708407871199,0.00849731663685152,0.005366726296958855,0.00849731663685152,0.009838998211091235,0.014311270125223614,0.009838998211091235,0.008050089445438283,0.009391771019677997,0.0022361359570661895,0.0026833631484794273,0.0008944543828264759,0.0,0.0,0.0,0.0,0.0004472271914132379],\"type\":\"bar\"},{\"marker\":{\"color\":\"#377eb8\"},\"name\":\"MCI (n = 322)\",\"opacity\":0.8,\"width\":[1.2,1.2,1.2,1.2,1.2,1.2,1.2,1.2,1.2,1.2,1.2,1.2,1.2,1.2,1.2,1.2,1.2,1.2,1.2,1.2],\"x\":[0.0,2.825908602675548,5.651817205351096,8.477725808026644,11.303634410702193,14.129543013377742,16.95545161605329,19.78136021872884,22.607268821404386,25.433177424079933,28.259086026755483,31.08499462943103,33.91090323210658,36.736811834782124,39.56272043745768,42.388629040133225,45.21453764280877,48.04044624548432,50.866354848159865,53.69226345083542],\"y\":[0.03175313059033989,0.02728085867620751,0.03443649373881932,0.022808586762075134,0.010286225402504472,0.006708407871198569,0.0035778175313059034,0.0022361359570661895,0.0008944543828264759,0.0004472271914132379,0.0013416815742397137,0.0004472271914132379,0.0004472271914132379,0.0,0.0,0.0,0.0004472271914132379,0.0004472271914132379,0.0,0.0004472271914132379],\"type\":\"bar\"},{\"marker\":{\"color\":\"#e41a1c\"},\"name\":\"SCD (n = 184)\",\"opacity\":0.8,\"width\":[1.2,1.2,1.2,1.2,1.2,1.2,1.2,1.2,1.2,1.2,1.2,1.2,1.2,1.2,1.2,1.2,1.2,1.2,1.2,1.2],\"x\":[0.0,1.680674183541433,3.361348367082866,5.042022550624299,6.722696734165732,8.403370917707164,10.084045101248599,11.764719284790031,13.445393468331464,15.126067651872896,16.80674183541433,18.487416018955763,20.168090202497197,21.848764386038628,23.529438569580062,25.210112753121493,26.890786936662927,28.57146112020436,30.252135303745792,31.932809487287226],\"y\":[0.026833631484794274,0.0004472271914132379,0.004472271914132379,0.005813953488372093,0.009391771019677997,0.008050089445438283,0.008050089445438283,0.006708407871198569,0.0026833631484794273,0.0022361359570661895,0.0022361359570661895,0.0026833631484794273,0.0,0.0004472271914132379,0.0004472271914132379,0.0004472271914132379,0.0,0.0,0.0,0.0013416815742397137],\"type\":\"bar\"}],                        {\"template\":{\"data\":{\"histogram2dcontour\":[{\"type\":\"histogram2dcontour\",\"colorbar\":{\"outlinewidth\":0,\"ticks\":\"\"},\"colorscale\":[[0.0,\"#0d0887\"],[0.1111111111111111,\"#46039f\"],[0.2222222222222222,\"#7201a8\"],[0.3333333333333333,\"#9c179e\"],[0.4444444444444444,\"#bd3786\"],[0.5555555555555556,\"#d8576b\"],[0.6666666666666666,\"#ed7953\"],[0.7777777777777778,\"#fb9f3a\"],[0.8888888888888888,\"#fdca26\"],[1.0,\"#f0f921\"]]}],\"choropleth\":[{\"type\":\"choropleth\",\"colorbar\":{\"outlinewidth\":0,\"ticks\":\"\"}}],\"histogram2d\":[{\"type\":\"histogram2d\",\"colorbar\":{\"outlinewidth\":0,\"ticks\":\"\"},\"colorscale\":[[0.0,\"#0d0887\"],[0.1111111111111111,\"#46039f\"],[0.2222222222222222,\"#7201a8\"],[0.3333333333333333,\"#9c179e\"],[0.4444444444444444,\"#bd3786\"],[0.5555555555555556,\"#d8576b\"],[0.6666666666666666,\"#ed7953\"],[0.7777777777777778,\"#fb9f3a\"],[0.8888888888888888,\"#fdca26\"],[1.0,\"#f0f921\"]]}],\"heatmap\":[{\"type\":\"heatmap\",\"colorbar\":{\"outlinewidth\":0,\"ticks\":\"\"},\"colorscale\":[[0.0,\"#0d0887\"],[0.1111111111111111,\"#46039f\"],[0.2222222222222222,\"#7201a8\"],[0.3333333333333333,\"#9c179e\"],[0.4444444444444444,\"#bd3786\"],[0.5555555555555556,\"#d8576b\"],[0.6666666666666666,\"#ed7953\"],[0.7777777777777778,\"#fb9f3a\"],[0.8888888888888888,\"#fdca26\"],[1.0,\"#f0f921\"]]}],\"heatmapgl\":[{\"type\":\"heatmapgl\",\"colorbar\":{\"outlinewidth\":0,\"ticks\":\"\"},\"colorscale\":[[0.0,\"#0d0887\"],[0.1111111111111111,\"#46039f\"],[0.2222222222222222,\"#7201a8\"],[0.3333333333333333,\"#9c179e\"],[0.4444444444444444,\"#bd3786\"],[0.5555555555555556,\"#d8576b\"],[0.6666666666666666,\"#ed7953\"],[0.7777777777777778,\"#fb9f3a\"],[0.8888888888888888,\"#fdca26\"],[1.0,\"#f0f921\"]]}],\"contourcarpet\":[{\"type\":\"contourcarpet\",\"colorbar\":{\"outlinewidth\":0,\"ticks\":\"\"}}],\"contour\":[{\"type\":\"contour\",\"colorbar\":{\"outlinewidth\":0,\"ticks\":\"\"},\"colorscale\":[[0.0,\"#0d0887\"],[0.1111111111111111,\"#46039f\"],[0.2222222222222222,\"#7201a8\"],[0.3333333333333333,\"#9c179e\"],[0.4444444444444444,\"#bd3786\"],[0.5555555555555556,\"#d8576b\"],[0.6666666666666666,\"#ed7953\"],[0.7777777777777778,\"#fb9f3a\"],[0.8888888888888888,\"#fdca26\"],[1.0,\"#f0f921\"]]}],\"surface\":[{\"type\":\"surface\",\"colorbar\":{\"outlinewidth\":0,\"ticks\":\"\"},\"colorscale\":[[0.0,\"#0d0887\"],[0.1111111111111111,\"#46039f\"],[0.2222222222222222,\"#7201a8\"],[0.3333333333333333,\"#9c179e\"],[0.4444444444444444,\"#bd3786\"],[0.5555555555555556,\"#d8576b\"],[0.6666666666666666,\"#ed7953\"],[0.7777777777777778,\"#fb9f3a\"],[0.8888888888888888,\"#fdca26\"],[1.0,\"#f0f921\"]]}],\"mesh3d\":[{\"type\":\"mesh3d\",\"colorbar\":{\"outlinewidth\":0,\"ticks\":\"\"}}],\"scatter\":[{\"fillpattern\":{\"fillmode\":\"overlay\",\"size\":10,\"solidity\":0.2},\"type\":\"scatter\"}],\"parcoords\":[{\"type\":\"parcoords\",\"line\":{\"colorbar\":{\"outlinewidth\":0,\"ticks\":\"\"}}}],\"scatterpolargl\":[{\"type\":\"scatterpolargl\",\"marker\":{\"colorbar\":{\"outlinewidth\":0,\"ticks\":\"\"}}}],\"bar\":[{\"error_x\":{\"color\":\"#2a3f5f\"},\"error_y\":{\"color\":\"#2a3f5f\"},\"marker\":{\"line\":{\"color\":\"#E5ECF6\",\"width\":0.5},\"pattern\":{\"fillmode\":\"overlay\",\"size\":10,\"solidity\":0.2}},\"type\":\"bar\"}],\"scattergeo\":[{\"type\":\"scattergeo\",\"marker\":{\"colorbar\":{\"outlinewidth\":0,\"ticks\":\"\"}}}],\"scatterpolar\":[{\"type\":\"scatterpolar\",\"marker\":{\"colorbar\":{\"outlinewidth\":0,\"ticks\":\"\"}}}],\"histogram\":[{\"marker\":{\"pattern\":{\"fillmode\":\"overlay\",\"size\":10,\"solidity\":0.2}},\"type\":\"histogram\"}],\"scattergl\":[{\"type\":\"scattergl\",\"marker\":{\"colorbar\":{\"outlinewidth\":0,\"ticks\":\"\"}}}],\"scatter3d\":[{\"type\":\"scatter3d\",\"line\":{\"colorbar\":{\"outlinewidth\":0,\"ticks\":\"\"}},\"marker\":{\"colorbar\":{\"outlinewidth\":0,\"ticks\":\"\"}}}],\"scattermapbox\":[{\"type\":\"scattermapbox\",\"marker\":{\"colorbar\":{\"outlinewidth\":0,\"ticks\":\"\"}}}],\"scatterternary\":[{\"type\":\"scatterternary\",\"marker\":{\"colorbar\":{\"outlinewidth\":0,\"ticks\":\"\"}}}],\"scattercarpet\":[{\"type\":\"scattercarpet\",\"marker\":{\"colorbar\":{\"outlinewidth\":0,\"ticks\":\"\"}}}],\"carpet\":[{\"aaxis\":{\"endlinecolor\":\"#2a3f5f\",\"gridcolor\":\"white\",\"linecolor\":\"white\",\"minorgridcolor\":\"white\",\"startlinecolor\":\"#2a3f5f\"},\"baxis\":{\"endlinecolor\":\"#2a3f5f\",\"gridcolor\":\"white\",\"linecolor\":\"white\",\"minorgridcolor\":\"white\",\"startlinecolor\":\"#2a3f5f\"},\"type\":\"carpet\"}],\"table\":[{\"cells\":{\"fill\":{\"color\":\"#EBF0F8\"},\"line\":{\"color\":\"white\"}},\"header\":{\"fill\":{\"color\":\"#C8D4E3\"},\"line\":{\"color\":\"white\"}},\"type\":\"table\"}],\"barpolar\":[{\"marker\":{\"line\":{\"color\":\"#E5ECF6\",\"width\":0.5},\"pattern\":{\"fillmode\":\"overlay\",\"size\":10,\"solidity\":0.2}},\"type\":\"barpolar\"}],\"pie\":[{\"automargin\":true,\"type\":\"pie\"}]},\"layout\":{\"autotypenumbers\":\"strict\",\"colorway\":[\"#636efa\",\"#EF553B\",\"#00cc96\",\"#ab63fa\",\"#FFA15A\",\"#19d3f3\",\"#FF6692\",\"#B6E880\",\"#FF97FF\",\"#FECB52\"],\"font\":{\"color\":\"#2a3f5f\"},\"hovermode\":\"closest\",\"hoverlabel\":{\"align\":\"left\"},\"paper_bgcolor\":\"white\",\"plot_bgcolor\":\"#E5ECF6\",\"polar\":{\"bgcolor\":\"#E5ECF6\",\"angularaxis\":{\"gridcolor\":\"white\",\"linecolor\":\"white\",\"ticks\":\"\"},\"radialaxis\":{\"gridcolor\":\"white\",\"linecolor\":\"white\",\"ticks\":\"\"}},\"ternary\":{\"bgcolor\":\"#E5ECF6\",\"aaxis\":{\"gridcolor\":\"white\",\"linecolor\":\"white\",\"ticks\":\"\"},\"baxis\":{\"gridcolor\":\"white\",\"linecolor\":\"white\",\"ticks\":\"\"},\"caxis\":{\"gridcolor\":\"white\",\"linecolor\":\"white\",\"ticks\":\"\"}},\"coloraxis\":{\"colorbar\":{\"outlinewidth\":0,\"ticks\":\"\"}},\"colorscale\":{\"sequential\":[[0.0,\"#0d0887\"],[0.1111111111111111,\"#46039f\"],[0.2222222222222222,\"#7201a8\"],[0.3333333333333333,\"#9c179e\"],[0.4444444444444444,\"#bd3786\"],[0.5555555555555556,\"#d8576b\"],[0.6666666666666666,\"#ed7953\"],[0.7777777777777778,\"#fb9f3a\"],[0.8888888888888888,\"#fdca26\"],[1.0,\"#f0f921\"]],\"sequentialminus\":[[0.0,\"#0d0887\"],[0.1111111111111111,\"#46039f\"],[0.2222222222222222,\"#7201a8\"],[0.3333333333333333,\"#9c179e\"],[0.4444444444444444,\"#bd3786\"],[0.5555555555555556,\"#d8576b\"],[0.6666666666666666,\"#ed7953\"],[0.7777777777777778,\"#fb9f3a\"],[0.8888888888888888,\"#fdca26\"],[1.0,\"#f0f921\"]],\"diverging\":[[0,\"#8e0152\"],[0.1,\"#c51b7d\"],[0.2,\"#de77ae\"],[0.3,\"#f1b6da\"],[0.4,\"#fde0ef\"],[0.5,\"#f7f7f7\"],[0.6,\"#e6f5d0\"],[0.7,\"#b8e186\"],[0.8,\"#7fbc41\"],[0.9,\"#4d9221\"],[1,\"#276419\"]]},\"xaxis\":{\"gridcolor\":\"white\",\"linecolor\":\"white\",\"ticks\":\"\",\"title\":{\"standoff\":15},\"zerolinecolor\":\"white\",\"automargin\":true,\"zerolinewidth\":2},\"yaxis\":{\"gridcolor\":\"white\",\"linecolor\":\"white\",\"ticks\":\"\",\"title\":{\"standoff\":15},\"zerolinecolor\":\"white\",\"automargin\":true,\"zerolinewidth\":2},\"scene\":{\"xaxis\":{\"backgroundcolor\":\"#E5ECF6\",\"gridcolor\":\"white\",\"linecolor\":\"white\",\"showbackground\":true,\"ticks\":\"\",\"zerolinecolor\":\"white\",\"gridwidth\":2},\"yaxis\":{\"backgroundcolor\":\"#E5ECF6\",\"gridcolor\":\"white\",\"linecolor\":\"white\",\"showbackground\":true,\"ticks\":\"\",\"zerolinecolor\":\"white\",\"gridwidth\":2},\"zaxis\":{\"backgroundcolor\":\"#E5ECF6\",\"gridcolor\":\"white\",\"linecolor\":\"white\",\"showbackground\":true,\"ticks\":\"\",\"zerolinecolor\":\"white\",\"gridwidth\":2}},\"shapedefaults\":{\"line\":{\"color\":\"#2a3f5f\"}},\"annotationdefaults\":{\"arrowcolor\":\"#2a3f5f\",\"arrowhead\":0,\"arrowwidth\":1},\"geo\":{\"bgcolor\":\"white\",\"landcolor\":\"#E5ECF6\",\"subunitcolor\":\"white\",\"showland\":true,\"showlakes\":true,\"lakecolor\":\"white\"},\"title\":{\"x\":0.05},\"mapbox\":{\"style\":\"light\"}}},\"title\":{\"text\":\"Atypicality\",\"font\":{\"size\":34},\"x\":0.5},\"xaxis\":{\"title\":{\"text\":\"Value\",\"font\":{\"size\":18}},\"tickmode\":\"linear\",\"tick0\":0.0,\"dtick\":2,\"range\":[-1.5,74.4849775070403],\"tickfont\":{\"size\":14}},\"legend\":{\"font\":{\"size\":22},\"yanchor\":\"top\",\"y\":0.95,\"xanchor\":\"right\",\"x\":0.95},\"yaxis\":{\"title\":{\"text\":\"Frequency of occurences\",\"font\":{\"size\":18}},\"tickfont\":{\"size\":14}},\"barmode\":\"group\",\"autosize\":false,\"width\":900,\"height\":800},                        {\"responsive\": true}                    ).then(function(){\n",
       "                            \n",
       "var gd = document.getElementById('32550205-02d0-4d29-9527-e1dcbd31f484');\n",
       "var x = new MutationObserver(function (mutations, observer) {{\n",
       "        var display = window.getComputedStyle(gd).display;\n",
       "        if (!display || display === 'none') {{\n",
       "            console.log([gd, 'removed!']);\n",
       "            Plotly.purge(gd);\n",
       "            observer.disconnect();\n",
       "        }}\n",
       "}});\n",
       "\n",
       "// Listen for the removal of the full notebook cells\n",
       "var notebookContainer = gd.closest('#notebook-container');\n",
       "if (notebookContainer) {{\n",
       "    x.observe(notebookContainer, {childList: true});\n",
       "}}\n",
       "\n",
       "// Listen for the clearing of the current output cell\n",
       "var outputEl = gd.closest('.output');\n",
       "if (outputEl) {{\n",
       "    x.observe(outputEl, {childList: true});\n",
       "}}\n",
       "\n",
       "                        })                };                });            </script>        </div>"
      ]
     },
     "metadata": {},
     "output_type": "display_data"
    }
   ],
   "source": [
    "fig = atypicality(S=S,\n",
    "                  diagnosis=diagnosis, \n",
    "                  color_list = color_list,\n",
    "                  num_bins=20, \n",
    "                  bin_width=1.2,\n",
    "                  width=900,\n",
    "                  height=800)\n",
    "fig"
   ]
  },
  {
   "cell_type": "markdown",
   "id": "7cdb2693",
   "metadata": {},
   "source": [
    "## Staging Boxplots function"
   ]
  },
  {
   "cell_type": "code",
   "execution_count": 9,
   "id": "7fed8d72",
   "metadata": {},
   "outputs": [],
   "source": [
    "def atypicality_boxes(S, diagnosis, color_list='#000000', width=950, height=400, fontsize=[34,18,14,22]):\n",
    "    \"\"\"\n",
    "    Creates a boxplot\n",
    "    :param S: subtyping dictionary, subtypes for each patient individually\n",
    "    :param diagnosis: np.array or list; with diagnosis labels corresponding to records in S\n",
    "    :param color_list: list with color hex values\n",
    "    :param width: int (optional)\n",
    "    :param height: int (optional)\n",
    "    :param fontsize: a list of 4 ints, corresponding to [font_title, font_axes, font_ticks, font_legend] respectively (optional)\n",
    "    :return: plotly go Box figure\n",
    "    \"\"\"\n",
    "    \n",
    "    # Convert NaNs to 0.0\n",
    "    atypical = np.array([np.float64(0.0) if np.isnan(x) else x for x in S['atypicality']])\n",
    "   \n",
    "    # Count number of each subtype occurences\n",
    "    counter = dict(Counter(diagnosis))\n",
    "        \n",
    "    # Get labels\n",
    "    labels = list(set(diagnosis[diagnosis!='CN']))\n",
    "    labels.sort()\n",
    "    \n",
    "    # Get indexes\n",
    "    diagnosis = np.array(diagnosis)\n",
    "    atypical = np.array(atypical)\n",
    "    \n",
    "    # Get indexes for each diagnostic label\n",
    "    idx_list = []\n",
    "    for l in labels:\n",
    "        if l!='CN':\n",
    "            idx = np.where(diagnosis==l)\n",
    "            idx = idx[0]\n",
    "            idx_list.append(idx)\n",
    "        \n",
    "    \n",
    "    fig = go.Figure()\n",
    "\n",
    "    for count, idx in enumerate(idx_list):\n",
    "        fig.add_trace(go.Box(x=atypical[idx], name=labels[count],\n",
    "                             fillcolor=color_list[count],\n",
    "                            line_color='#000000'))\n",
    "\n",
    "    font_title, font_axes, font_ticks, font_legend = fontsize\n",
    "    \n",
    "    fig.update_layout(\n",
    "            # title=\"Atypicality - Boxplots\",\n",
    "            title_font_size=font_title,\n",
    "            title_x=0.5,\n",
    "            xaxis_title=\"Value\",\n",
    "            yaxis_title=\"Diagnosis\",\n",
    "            xaxis = dict(\n",
    "                tickmode = 'linear',\n",
    "                tick0 = 0.0,\n",
    "                dtick = 5\n",
    "            ),\n",
    "            legend_font_size=font_legend,\n",
    "            legend=dict(\n",
    "                yanchor=\"top\",\n",
    "                y=0.97,\n",
    "                xanchor=\"right\",\n",
    "                x=0.97),\n",
    "            showlegend=False,\n",
    "            autosize = False,\n",
    "            width=width,\n",
    "            height=height\n",
    "        )\n",
    "\n",
    "    fig.update_xaxes(range=[np.min(atypical)-1.5, np.max(atypical)])\n",
    "\n",
    "    \n",
    "    fig.update_yaxes(title_font_size = font_axes, \n",
    "                    tickfont_size=font_ticks)\n",
    "    \n",
    "    fig.update_xaxes(title_font_size = font_axes, \n",
    "                    tickfont_size = font_ticks)\n",
    "\n",
    "    return fig"
   ]
  },
  {
   "cell_type": "code",
   "execution_count": 10,
   "id": "0e3c029c",
   "metadata": {},
   "outputs": [],
   "source": [
    "# FOR TESTING\n",
    "color_list = ['#4daf4a','#377eb8','#e41a1c', '#ffff00']"
   ]
  },
  {
   "cell_type": "code",
   "execution_count": 11,
   "id": "c96b2cd0",
   "metadata": {},
   "outputs": [
    {
     "data": {
      "application/vnd.plotly.v1+json": {
       "config": {
        "plotlyServerURL": "https://plot.ly"
       },
       "data": [
        {
         "fillcolor": "#4daf4a",
         "line": {
          "color": "#000000"
         },
         "name": "AD",
         "type": "box",
         "x": [
          7.183855231701182,
          2.6089210253092685,
          7.778113008274092,
          14.757813254065834,
          7.28138064893729,
          4.655495989910733,
          30.915210033450347,
          3.9505851309918536,
          0,
          4.081818186855203,
          9.393016568270859,
          1.52782125965665,
          0,
          2.108240340184419,
          0,
          8.928114561970904,
          4.882665625969593,
          18.026066857572857,
          0,
          7.771865286200101,
          14.548406585918723,
          2.5039820527292513,
          3.2297944699163046,
          3.9289699930059565,
          6.897130408572905,
          31.943208854016238,
          11.707563990490163,
          3.6285905191072745,
          0,
          5.347979703371515,
          7.548129144196389,
          3.9292669666214364,
          33.982637611447146,
          0,
          6.157665186549715,
          4.650256014288342,
          1.8752813637346666,
          5.8695382850309095,
          9.260488529590873,
          35.708317136494024,
          8.82400910501086,
          5.503297428111383,
          4.62233598507118,
          4.153188625516389,
          0,
          3.7365525902966805,
          0,
          3.739089586713751,
          4.047906529273652,
          4.625735599660292,
          8.253245405621438,
          1.5040262299952898,
          5.076379461796294,
          0,
          7.791353376833259,
          0,
          4.430150572351461,
          0,
          0,
          5.129034035179209,
          4.837382762340587,
          30.037776183296838,
          2.711699545785992,
          2.5530200009956308,
          7.063881519627462,
          6.334077853183251,
          7.18725342485511,
          43.06977171401245,
          5.564549161159637,
          4.461266903505948,
          0,
          2.4585561563561487,
          0,
          12.818278863661503,
          4.47589092256844,
          0,
          29.80614781444115,
          0,
          3.7399027919098042,
          0,
          12.380731508634291,
          4.240859202758249,
          8.442875296366816,
          0,
          2.3812818209901416,
          3.537416959432499,
          8.345735600929014,
          4.731783873067066,
          0.7977978884363943,
          29.284397559409722,
          0,
          4.5970263564051175,
          1.743163134658558,
          6.409296065984927,
          6.128506019335649,
          6.199746585152906,
          6.981731514895013,
          0,
          12.626696451409709,
          5.713966042740532,
          0,
          5.548017111284313,
          6.258041915432509,
          3.3679976974553183,
          5.4535450754239365,
          0,
          7.927073200579063,
          5.844849951321473,
          4.554983473794808,
          0,
          5.613217652926124,
          2.5643657672402513,
          0,
          3.2940502379419394,
          5.310296331669638,
          4.135181989292324,
          34.302159695454556,
          3.2997067086457754,
          43.2885467173523,
          34.67279237789381,
          2.022388700360046,
          16.170989200432572,
          0,
          5.979019555064181,
          8.871026822378617,
          19.196823800158242,
          5.4536004862984235,
          0,
          2.926886195495387,
          0,
          1.598337856181225,
          6.5314155878088735,
          4.700980784516502,
          12.459247242860036,
          0,
          7.199595118166181,
          25.68839118799123,
          26.35490832690025,
          1.4594702767774534,
          4.377120617740581,
          0,
          39.1959029828104,
          7.376250963880809,
          32.073348775492775,
          0,
          5.8020997121114135,
          7.903445660784385,
          15.223300390649669,
          36.7536402156494,
          8.635585630470494,
          0,
          10.179314335006366,
          13.378168164619243,
          8.690434494849839,
          5.429599258796609,
          13.323509426037829,
          0,
          0,
          5.857332554610968,
          7.69064805569076,
          8.663228688425235,
          4.213123080221982,
          9.373118784164985,
          10.557904902253227,
          23.442076671759047,
          5.162402564485914,
          44.034972729964906,
          5.428096282231688,
          9.775339099486507,
          34.128593764247526,
          8.842655270095312,
          10.270820379155884,
          4.402888542531928,
          10.288479597261707,
          8.417834208508163,
          5.263817767288824,
          1.8253748561470755,
          27.57918982985127,
          32.03603167066215,
          2.3656415785325087,
          4.74213501873249,
          35.86705565167612,
          0,
          4.276512795003653,
          41.847156895649924,
          2.9592020389229954,
          7.55101643223607,
          5.669207943609951,
          28.418564842496647,
          7.6495710354440964,
          7.2493521120702935,
          6.811986878217203,
          25.303776521305032,
          23.19303740382606,
          5.448721253407808,
          20.108923673783014,
          3.4864349495554876,
          42.16161302534597,
          6.87433382340778,
          8.226779608278214,
          6.141941612782892,
          4.501094593292775,
          6.899379240646724,
          38.91971967225013,
          6.317623165833184,
          5.699687644369704,
          10.292037734519385,
          0,
          3.885691974350258,
          7.221227444441051,
          10.13788443734859,
          2.692346990459562,
          14.244710494158726,
          0,
          41.416724542218155,
          13.466506048230388,
          5.887266728466547,
          4.41274746595905,
          9.907316064674259,
          10.523261052264724,
          40.57467126614615,
          3.339973131468036,
          9.465901127634949,
          11.462764702088549,
          6.167804770601454,
          1.7031322626715686,
          4.889932347134869,
          4.939162754221539,
          0,
          5.285822780431161,
          40.105172618876715,
          6.564113687663059,
          5.1804328529537775,
          14.808389434139093,
          29.281341402088415,
          6.144486499352837,
          4.170276488256799,
          6.275302984640212,
          11.355072077829082,
          7.979245142510497,
          25.368853744601946,
          0,
          3.6250467650128995,
          5.5286885997579684,
          25.568269776361834,
          0,
          9.03961510015514,
          7.79903760741187,
          22.69057121523422,
          30.742176446690095,
          3.990500906035214,
          14.09139803701526,
          0,
          0,
          0,
          55.56272039357072,
          25.351127896257246,
          51.31730862105772,
          7.597196746320601,
          0,
          5.748349098225281,
          14.6265937265535,
          3.7027707013702194,
          1.6931416751395638,
          28.477055341613852,
          9.025476078404225,
          5.826373978113146,
          1.9524723472775671,
          0,
          0,
          9.489128606331562,
          8.986761632125168,
          3.361226257720847,
          3.2917844656048825,
          4.890482623742934,
          7.371718956858621,
          10.063667190252106,
          18.747416245995694,
          2.7729845725141358,
          4.16022771038115,
          0,
          9.319246661691787,
          7.596575585399553,
          4.286011818493415,
          0,
          4.107068553951793,
          3.7175472277246078,
          4.052281789480896,
          3.4395426213464657,
          6.201950265758048,
          1.6334869575698936,
          2.902848489128922,
          6.647804053603923,
          3.5719309803755923,
          10.081210961815868,
          3.9892641444838115,
          7.814426304356857,
          0,
          0,
          18.611703494622613,
          8.402689757604684,
          2.1730870331556873,
          10.761108957473919,
          7.27757667077643,
          43.6503787915686,
          45.5815930534957,
          9.528599233604046,
          30.63460316850915,
          30.086398948995953,
          5.590254192425698,
          18.909293312555864,
          5.461610449497504,
          12.778496400268885,
          5.117621034004893,
          2.4755782811612477,
          0,
          7.756399790769593,
          9.470480880853145,
          6.74039161569767,
          20.542719425887835,
          9.369110001123882,
          0,
          5.566423910603968,
          5.9817987762223,
          3.6693386316499867,
          11.58950332218877,
          8.558975247198438,
          32.80471616625546,
          4.377589694221478,
          5.011748014501895,
          15.553179884512138,
          0,
          33.96182787400217,
          6.523129945447207,
          10.581092906285908,
          6.794294556705014,
          4.334370661104895,
          14.378691607797409,
          4.0275702387673,
          6.72339390559477,
          28.818408796465402,
          4.162372186963575,
          4.70204882451391,
          6.009531759612276,
          0,
          48.62498978090538,
          5.195456933789097,
          4.238311109196911,
          16.421700073812104,
          0,
          6.017866816834489,
          48.73244024026638,
          7.923922304313088,
          7.504159783547013,
          7.43786781410255,
          37.38573715271836,
          32.553962963452626,
          0,
          3.3840638954149624,
          1.7408428972280963,
          7.112315673553719,
          6.385689407959671,
          9.19573398622204,
          3.1508455803133493,
          3.763526812522923,
          6.09048385774314,
          8.271131280536844,
          0,
          31.522261963057048,
          8.43987593342042,
          5.962398567270117,
          0,
          0,
          4.831956088252649,
          1.8002405778614454,
          4.527014344789579,
          7.297230127964275,
          5.824963429231879,
          9.543282936173023,
          32.965578976393324,
          4.299196384753918,
          9.589262423472821,
          5.485432826130781,
          3.3441563342468386,
          7.350699125177556,
          10.99535979610588,
          8.471702567276186,
          7.057607616528787,
          7.865413847059427,
          31.94330284851846,
          4.624770743350016,
          2.334779224390704,
          10.307155756732065,
          6.210499061808624,
          4.769543604777921,
          13.603873396197114,
          8.617841599647756,
          0,
          6.426741807608954,
          8.955291750086072,
          8.15675177966752,
          13.833200661939129,
          1.3379810228740576,
          11.74322755978519,
          10.607234387440755,
          0,
          3.2608534793345485,
          11.979390790104684,
          15.515648573240812,
          44.92731304018471,
          0,
          6.940839724286096,
          13.94685450259197,
          0,
          9.728375001982453,
          0,
          12.007423701873174,
          7.102847980631833,
          9.593980747527832,
          6.741888235326147,
          2.0438230415467586,
          11.243848679702523,
          6.2382862154087455,
          2.7496340781823148,
          4.257661612402155,
          3.6253855154171735,
          2.2215245388925884,
          32.311613523552566,
          0,
          0,
          33.87156256086066,
          3.730047370733843,
          6.799401997378262,
          5.81674950334107,
          5.483684147544271,
          0,
          8.060323369331481,
          52.959542947729595,
          10.70764541285714,
          4.888860822527161,
          7.445115421463046,
          7.559578440845482,
          12.508429007687063,
          2.842864928277666,
          41.9922944929275,
          3.0626552989572837,
          9.04496267106651,
          1.9205964276648662,
          0,
          4.803761415317462,
          5.884866182318097,
          0,
          14.12953940597106,
          5.785153585744713,
          7.020654727827044,
          1.9997761264281988,
          2.159022559840131,
          11.526550025795448,
          7.587341895781288,
          0,
          0,
          10.635824370341433,
          4.4313340592203865,
          14.903844650388432,
          4.175124187064485,
          23.276068604055613,
          0,
          5.250489550004967,
          6.373163084360414,
          9.578040925635625,
          10.452604975157108,
          5.119249934489584,
          3.70664301001411,
          2.1093220266217516,
          41.55007256893655,
          6.269599775716855,
          16.041460792618754,
          4.469071397307304,
          7.366557746505073,
          6.321405254720095,
          0,
          33.14011744795183,
          0,
          31.696959686594983,
          2.673474188759899,
          8.30650773418804,
          6.562280629938671,
          16.435585062188547,
          7.254161070885315,
          0,
          5.256753743212679,
          9.389643883785531,
          35.38656099266125,
          3.7102962293517865,
          11.627803265674872,
          8.260858862333237,
          33.71966873602465,
          5.324870363733138,
          42.358223238042385,
          0,
          43.72194231225282,
          0,
          9.890556813097774,
          12.066826592409209,
          0,
          27.014590655400866,
          7.042517218358924,
          7.476488894346431,
          5.942141572217676,
          42.88779111366019,
          6.896498110885098,
          5.926664782615025,
          6.559665744689437,
          13.113875639797387,
          0,
          13.488972479626193,
          49.31028928606056,
          7.393747566081512,
          23.32344769635117,
          10.039816180886401,
          4.556957959671316,
          25.044248021675827,
          34.51760070830001,
          43.05578291287422,
          9.373863970362757,
          7.810073485573654,
          3.9810821902059867,
          6.073000278438113,
          0,
          7.255401395140645,
          5.0479436651637695,
          0,
          0,
          7.535356510601556,
          7.48158202154779,
          11.253506347304494,
          0,
          39.524949169597846,
          6.242323534684639,
          17.15268933441886,
          5.045114923363194,
          0,
          35.4417396719722,
          49.32069801497807,
          12.300380556145752,
          74.4849775070403,
          4.926859996648166,
          4.461698022690845,
          7.834832133526012,
          5.892040670295411,
          30.011765400605434,
          8.379162681124274,
          2.545630577758314,
          11.789686049526948,
          0,
          3.904793507077404,
          0,
          38.61201839547189,
          14.594478758890045,
          7.458304793974194,
          8.478731804244857,
          9.742404694307448,
          7.399039221427586,
          17.341926618956695,
          5.944705882912397,
          0,
          6.262585380866669,
          3.9636323657459935,
          4.75629092471074,
          5.733671029323331,
          43.29879413659646,
          7.131952792040141,
          0,
          0,
          6.1452752832333575,
          10.221515250953528,
          32.053732514239734,
          9.549778966888931,
          4.664447622177909,
          3.514060461653617,
          7.746330677492989,
          17.364094513680225,
          4.30702677455117,
          9.019056757674209,
          4.319494112192198,
          6.474316286557699,
          31.970216999568887,
          38.59774317206963,
          0,
          4.428042107522645,
          5.550453604974089,
          8.413193386793802,
          2.9589980292879514,
          6.543938069367994,
          14.692037501201739,
          10.145254387898902,
          4.555120751995875,
          4.094294717657737,
          11.229493695370923,
          8.021833684856295,
          30.62815617028051,
          9.235292059578683,
          0,
          0,
          0,
          2.332780538070146,
          33.84934914746191,
          2.4677335729348124,
          2.6705764813180393,
          1.9661646454470014,
          0,
          4.485883479814167,
          8.893375545559639,
          31.959683442265433,
          7.74142158644959,
          5.351423133687294,
          36.954803572429526,
          4.036039929333931,
          6.210817389061626,
          5.920541906957748,
          12.908279068153645,
          18.926254384465505,
          16.171772621668847,
          6.513818821813959,
          0,
          3.2262514244028226,
          5.295703793443876,
          2.9482618690468305,
          9.56442402760796,
          28.184738728855983,
          7.690909199034847,
          8.951611887804118,
          0,
          31.356806514415638,
          10.137434228787065,
          3.417382600303899,
          5.4967036484708025,
          7.124187635131446,
          10.85535441782542,
          3.357587659013631,
          6.41813529290558,
          6.089443252572085,
          37.11162303019969,
          38.888927859531485,
          3.7097529851708484,
          4.163616904975169,
          25.514525813974444,
          29.577625194611024,
          0,
          0,
          11.675553816039868,
          5.91421838970056,
          12.109131609898748,
          8.712077017010998,
          7.5788296807908395,
          7.917065009761438,
          21.68917220651272,
          8.963831145192781,
          0,
          1.896833492496719,
          0,
          9.437379402778184,
          5.362081304925521,
          14.710182238937124,
          0,
          8.989171043056505,
          10.469588387326061,
          0,
          0,
          3.7888193956481224,
          3.7848361651140143,
          3.4199952299516525,
          0,
          8.564021540298228,
          0,
          0,
          3.5031651162653077,
          2.670386935053029,
          5.32471399301448,
          21.068047254367706,
          6.022324026421635,
          0,
          0,
          26.07377405062566,
          8.15307951515487,
          14.883301675521121,
          9.556843547195344,
          0,
          17.22225600307815,
          7.924171998555531,
          28.998583813695134,
          9.933173350562525,
          8.279896316804606,
          12.094698528487937,
          4.874150506712955,
          7.498292216794833,
          3.4799553795121834,
          33.08311328023488,
          2.0635236708367484,
          4.939999347794608,
          8.108128628882527,
          3.9685918745711652,
          4.152014338536258,
          5.718039232006171,
          10.743771690883685,
          33.08926769531178,
          0,
          0,
          7.621171991582061,
          0,
          3.1741956106175886,
          3.980652540244496,
          22.260241706427074,
          4.576397033697665,
          2.8493624928540164,
          0,
          8.602946666739461,
          5.553192978418532,
          34.77731119279365,
          6.013287133035937,
          8.63612492307896,
          38.299724768871215,
          0,
          4.674038920546114,
          42.311952182270495,
          11.65313598647865,
          11.933837768494298,
          11.96530715057031,
          44.121909448416076,
          3.3202586011182955,
          4.692490747261619,
          4.398405144098983,
          25.544029359357012,
          6.470134248940613,
          4.549010596413459,
          0,
          3.6537132756024877,
          6.801921150918742,
          32.68027142753378,
          3.579876901022309,
          4.287901459356474,
          6.9162648790002725,
          14.834786282785705,
          5.933208561356174,
          6.084643750105307,
          4.337731656827437,
          6.323299815402999,
          1.7586822364631312,
          0,
          1.5647982404191891,
          0,
          7.281667994178352,
          36.637593261926,
          45.25296336303996,
          3.6793705168850126,
          28.435445127715745,
          8.47643861823828,
          3.457667762141974,
          8.292075162233639,
          5.372436724569056,
          3.8395352908597853,
          4.818278554026543,
          31.433852482791224,
          2.687055168397949,
          5.00407933961582,
          9.136568122934131,
          6.125313877198902,
          6.016669008468011,
          10.239735619802898,
          0,
          37.86111432447457,
          0,
          29.133086971537416,
          0,
          8.113705716790147,
          5.218894140499618,
          9.783288711666344,
          4.10651811039165,
          13.588958871882975,
          41.826816910780806,
          0,
          7.507824426178638,
          14.08327512106577,
          7.707508012964025,
          0,
          11.213252424466125,
          42.53830934265326,
          26.85826588420222,
          11.206754536441586,
          6.097894086124528,
          7.390170031396223,
          49.405023815915555,
          10.213092280200444,
          5.833763598587548,
          7.882291196102221,
          8.82221098822465,
          28.91346989950122,
          5.945604560107261,
          0,
          7.541084783001433,
          8.861504846219601,
          5.199075768812048,
          12.65162334201117,
          9.280626185375295,
          4.388082755360883,
          0,
          6.698288658010144,
          1.5211750459772921,
          28.139733824246782,
          10.654428293562157,
          7.911418845385096,
          6.984076895450497,
          5.392326537879304,
          5.811393928851558,
          32.60037135281994,
          5.256925061828226,
          4.23856576251002,
          38.80687170087449,
          4.041882130613342,
          28.346832267939234,
          11.677661775577509,
          4.748831729092352,
          12.813268302675356,
          5.152096584117782,
          0,
          8.682672823520267,
          31.093297774213227,
          23.09509635504724,
          11.470712329204963,
          0,
          0,
          0,
          6.861677809505172,
          0,
          9.479700013714984,
          17.491784738538332,
          44.23761231021488,
          0,
          29.040167860862756,
          8.14699184782631,
          11.140359448282881,
          0,
          8.061228586380743,
          10.722707538306455,
          5.854858737472387,
          6.087706824334473,
          6.083003360619376,
          10.599448922940987,
          11.51315758400124,
          45.492980828761915,
          8.40871894525555,
          33.08957272681154,
          6.9852712059689415,
          10.716586010732257,
          0,
          7.666011218070865,
          0,
          0,
          0,
          14.828609856020305,
          0,
          11.064035708575904,
          6.015031719392921,
          10.227598044344294,
          7.554120767698342,
          0,
          31.611053877430994,
          4.455235224536442,
          13.399192118285319,
          11.28398135799102,
          10.238626903595899,
          25.58179993377315,
          3.862003207865309,
          6.889608700737606,
          5.4729410535295,
          4.650066977252923,
          24.168491053898595,
          29.210009753338998,
          0,
          2.8766104754029684,
          20.422919517191932,
          9.582876048340097,
          3.9490565604737577,
          11.50767901310617,
          22.940975000286233,
          4.877064488760984,
          12.12504691497293,
          11.84700724901159,
          7.703103687012119,
          0,
          8.020752485536775,
          7.666914517466079,
          4.918292295636561,
          16.243852393250982,
          10.979982903273406,
          4.450476325983558,
          4.971128328407497,
          6.45224037403416,
          3.9448582108460912,
          6.500580588049064,
          23.138481280189307,
          6.61182976537688,
          12.027997382613547,
          0,
          8.956247797911427,
          5.797131999688831,
          4.721583828634199,
          39.26011781138468,
          2.42116047861406,
          4.663565928122897,
          14.93383241002553,
          0,
          39.349263853714696,
          8.096921726327,
          7.509307578996667,
          2.9897714001502176,
          0,
          0,
          2.5208755118067714,
          0,
          35.8346718986933,
          12.07231433461426,
          6.949311439567896,
          12.239770014719804,
          4.334624869564175,
          2.529312035377369,
          0,
          11.335876432306708,
          33.89259632160642,
          7.468802160841893,
          14.883005989453759,
          7.9543076343801875,
          7.245933977914867,
          5.362734202351524,
          34.456027768425365,
          12.690265975336201,
          2.805508574749024,
          13.989209696690851,
          0,
          13.863523996198529,
          39.72755570916643,
          9.366349396451863,
          12.682635258120353,
          22.713457399309778,
          4.617284672699581,
          10.955199870722021,
          9.933002155882964,
          3.9369024068658036,
          4.81629319262094,
          4.997715613991479,
          8.012428302562665,
          2.922710290907315,
          14.627128845603737,
          6.57992609712617,
          5.925474293812682,
          44.36820314730776,
          7.017671481678357,
          6.652508554481173,
          0,
          5.557388800110546,
          4.903018567573391,
          11.478225406314818,
          11.393133273568706,
          10.29311976803473,
          5.167237815121372,
          11.595319877179726,
          19.60722041205094,
          9.023397149076821,
          5.027171365217671,
          27.558694098143707,
          7.979601893995679,
          6.7055352879407115,
          0,
          7.475847484961893,
          11.987304214239781,
          3.4759762797618166,
          8.31687890576864,
          13.187453876449919,
          14.286133555723081,
          6.338736300305246,
          5.669190080030011,
          0,
          26.450134576082785,
          10.548413321846523,
          5.862435498765588,
          35.97121795857799,
          8.194291749126453,
          11.723093692150533,
          5.68273057658271,
          3.7323264267902694,
          3.4785502330507003,
          4.58116304882033,
          17.28755062037413,
          3.0999137879139314,
          4.21348604131212,
          8.329615521797102,
          4.31421802602774,
          1.8893273330706082,
          48.36235777398802,
          7.248388454512479,
          9.453778090286528,
          3.217719833293616,
          7.088479822082232,
          7.023624633365684,
          4.087879170022041,
          6.776130591990682,
          6.458695580752267,
          11.091605448772336,
          8.065749008878088,
          3.693046814289476,
          3.365162270383692,
          9.353874424866586,
          0,
          12.581846960931985,
          30.46533985806298,
          3.834121842708477,
          4.340336965764987,
          0,
          7.151201783208232,
          7.761320152330523,
          20.225673001797745,
          1.917678384411201,
          0,
          3.558950786965278,
          4.383243766010475,
          5.17818625997672,
          13.271312976061278,
          7.316191790920447,
          0,
          40.12762939360717,
          7.897521753896168,
          8.354000014718007,
          5.670452352001753,
          4.8518134929395815,
          43.57324068021574,
          14.677257061921749,
          0,
          40.84452506088626,
          5.543351969847545,
          0,
          5.937893623123978,
          5.309057933308207,
          7.023659419941848,
          9.537736635538613,
          6.976070659612304,
          7.362420568159333,
          0,
          0,
          4.671779764322252,
          0,
          6.828365150981268,
          39.90432287086749,
          5.305434428923752,
          8.240458177670805
         ]
        },
        {
         "fillcolor": "#377eb8",
         "line": {
          "color": "#000000"
         },
         "name": "MCI",
         "type": "box",
         "x": [
          6.046833666420363,
          0,
          8.178476365392369,
          2.4533505272098877,
          5.164845758294149,
          7.298734378130924,
          0,
          6.600154004843065,
          14.912574745727673,
          5.50579690294822,
          4.356510474604622,
          12.382557738463168,
          2.116772210125599,
          7.742801702540183,
          0,
          9.459487626705853,
          3.3644917290220637,
          0,
          0,
          0,
          35.69758235454226,
          0,
          8.579482122417618,
          3.9918377490928103,
          10.457036798898764,
          0,
          0,
          0,
          0,
          0,
          0,
          21.76728197036324,
          3.6766707217150145,
          11.943365012458521,
          12.069510345638628,
          7.508640286146454,
          7.151305055810806,
          6.6595176663589415,
          6.67598849292081,
          9.17740279298049,
          6.893738000081091,
          6.692453441744894,
          10.536210790926825,
          21.609049633937808,
          12.635088815975863,
          0,
          5.216266591715006,
          0,
          10.638731151491571,
          15.551457325661675,
          11.610093932441385,
          6.562519916752241,
          8.636549206436694,
          7.9446632258301495,
          0,
          10.361599762482005,
          4.870971833852161,
          4.280918395769246,
          3.0704957111838613,
          46.23228055585343,
          12.234453586591512,
          0,
          5.110582734525318,
          19.815194698006486,
          4.168842931302897,
          0,
          0,
          3.745852182717397,
          4.933878320007751,
          16.413154633259854,
          14.694698093737642,
          7.337264647389958,
          17.279548043117494,
          0,
          9.551866234686962,
          0,
          0,
          8.797516875845231,
          5.865430423409344,
          7.363838210117352,
          5.1530936067253,
          6.947217562727417,
          11.882423934926688,
          12.066812883334727,
          10.515468771620757,
          6.824691864648029,
          3.159479516120524,
          4.345794760200007,
          4.146511454478352,
          28.040016838951665,
          0,
          5.2394016736187385,
          14.826106226599178,
          7.689958049630207,
          30.219932257604267,
          0,
          4.43464264103823,
          0,
          5.923431451253415,
          7.549858695201133,
          0,
          16.279578718353243,
          15.12977147726431,
          0,
          6.905819777537416,
          5.616951394911662,
          0,
          0,
          13.633191650385735,
          5.435796483529884,
          4.37753941955663,
          0,
          0,
          4.800840998940426,
          10.634952175752012,
          3.39623842172144,
          15.024245481224257,
          17.343835328970716,
          8.594858480364836,
          0,
          3.696656403392763,
          0,
          0,
          24.02374250952596,
          7.398149434298928,
          15.907151450329234,
          14.055561143081764,
          12.36416650955635,
          2.324245320552998,
          8.0409819758327,
          12.04247575774006,
          9.22169623338463,
          8.810118914482567,
          14.077981992254713,
          15.831049191013888,
          0,
          29.340733512665736,
          7.5511311495095645,
          5.376787612441363,
          19.125202546547612,
          2.908401000735737,
          9.035561752742154,
          4.699363557091705,
          6.846971663192359,
          32.28290926624543,
          9.519080975300609,
          0,
          2.981545968810903,
          11.148936567721721,
          6.861364086596948,
          12.655632801079417,
          13.121200926600253,
          8.809363990466435,
          5.978539679036373,
          9.825321179069865,
          5.711721576377829,
          4.884826493002905,
          5.675588924602822,
          6.736634745077568,
          0,
          0,
          8.195107333118607,
          10.1846044486436,
          0,
          7.583170233685679,
          17.881552329690766,
          0,
          0,
          0,
          0,
          3.4776699275693255,
          6.223445992925582,
          0,
          7.186420019558575,
          10.902419304131513,
          30.73273466840075,
          7.041503190651821,
          6.779854315923044,
          14.0055119546788,
          9.28950642035342,
          3.3631805055664845,
          14.421100498649666,
          19.088012677340288,
          6.59764140759847,
          12.170222167007143,
          4.6050423195162775,
          4.218698910155314,
          5.753742276714882,
          3.949367082871258,
          5.836382799392289,
          0,
          9.749915000067952,
          9.793775754411664,
          9.056725377767572,
          6.683227759025879,
          0,
          6.056021497620013,
          4.448258367325463,
          3.8136251438061612,
          6.195750790284288,
          11.291352317578536,
          10.516720987882975,
          6.342078237765436,
          2.3530194293275346,
          14.715761631239822,
          9.197275613777752,
          8.861555004377726,
          3.2400311629145038,
          5.120968118276344,
          56.518172053510966,
          2.4652275995436237,
          4.434207395932024,
          10.87749995793161,
          3.317369720375282,
          0,
          0,
          5.9051991819604766,
          6.536012708894132,
          10.470931865631174,
          49.511573860508754,
          7.830793844178477,
          12.305376578196382,
          6.474260437177127,
          8.712709515697423,
          4.893492054586292,
          2.1605399994604237,
          7.769656189585782,
          2.852596254433333,
          6.544816241468836,
          5.660980116414484,
          0,
          11.06168668002711,
          6.088746506283983,
          23.55335217246863,
          7.515755166336837,
          2.0824365221633507,
          6.9775557033793945,
          8.633896206545462,
          7.038308502471293,
          3.9654336028351587,
          8.61641413509941,
          11.427425774799717,
          8.294351225282934,
          5.835565329261865,
          5.302605472351838,
          4.373693598331294,
          10.678251712996039,
          7.195479739988561,
          0,
          8.373634496802351,
          13.906443697755327,
          10.44472968101543,
          5.315181743220457,
          11.456123636643635,
          8.202142337058245,
          6.592297102020664,
          8.623071054872192,
          22.26888603434182,
          9.241077709969439,
          7.145096746007981,
          4.5859046583782614,
          19.857179040070335,
          11.117563762200872,
          4.782471082828405,
          4.714042491455159,
          4.435209775526707,
          11.194934732821151,
          6.031286099571073,
          0,
          10.172344741240476,
          15.814720923757937,
          0,
          4.864499481729322,
          0,
          5.613791559081129,
          7.946656795905781,
          9.15769561763875,
          6.091390918257836,
          9.48650597163123,
          3.2775510048856686,
          5.095179519702823,
          12.483144364769435,
          0,
          4.834697580913963,
          0,
          0,
          7.675707320528095,
          9.852130935695525,
          0,
          3.342217008573202,
          7.440045554896537,
          4.935074210070178,
          9.914482472558651,
          6.9792120034185405,
          9.03878631508365,
          17.487892496037148,
          0,
          8.094698028363133,
          7.002846883794533,
          9.677067744264571,
          0,
          6.875985346534398,
          7.351054326996533,
          0,
          8.875278970554792,
          17.09198160093098,
          0,
          17.902778000469237,
          8.852891217324562,
          0,
          12.893390766413347,
          5.767966452526643,
          14.720192363090604,
          0,
          7.914543301880845,
          5.504765444995991,
          16.94795161117397,
          4.685989125814895,
          2.6177300137828725,
          8.407534526822637,
          7.463098657499986,
          7.155721302317708
         ]
        },
        {
         "fillcolor": "#e41a1c",
         "line": {
          "color": "#000000"
         },
         "name": "SCD",
         "type": "box",
         "x": [
          5.621822189927602,
          0,
          0,
          12.211246135884325,
          16.93725241171234,
          11.495815026761427,
          10.301082062258528,
          0,
          3.053386771988446,
          7.133140729152578,
          17.268356054168837,
          7.006464482840384,
          0,
          0,
          0,
          3.830688396201849,
          12.183502848419437,
          0,
          0,
          0,
          18.735270682460186,
          0,
          32.254965756330726,
          6.400608636288236,
          19.634209497946628,
          0,
          0,
          5.837145809485822,
          6.073607859945845,
          22.15859716430231,
          5.259038352411781,
          0,
          11.607433757150067,
          0,
          8.333251134408465,
          0,
          5.002436740237682,
          9.398253631485652,
          7.738024521648719,
          33.61348367082866,
          11.133034768771315,
          0,
          4.565046984202382,
          4.5041492750983725,
          25.75109694758847,
          12.368735272294039,
          0,
          12.879712496042165,
          0,
          16.991515104997926,
          15.886647480775476,
          9.435874787653415,
          6.0138548354021575,
          7.776304176030962,
          10.469418575892377,
          15.4025528097447,
          8.232550511171778,
          12.136028451933683,
          9.142073068030331,
          0,
          4.882398111860672,
          7.639351513998502,
          14.48942066618362,
          33.150394006622726,
          23.53060280904684,
          17.241678028679658,
          7.184869269525096,
          0,
          9.753631464961085,
          13.096066025125848,
          12.635973661232226,
          12.256040322284845,
          12.562727469910692,
          9.560161739378653,
          15.711663659890208,
          0,
          13.232238911266858,
          7.257859014974533,
          6.487065329074066,
          5.96238319107202,
          4.582925319882804,
          0,
          0,
          0,
          0,
          9.257018965910682,
          0,
          0,
          8.144228435389717,
          8.729633861469406,
          14.69615345153397,
          0,
          0,
          5.972392437006055,
          11.77629718237506,
          4.49609254618402,
          0,
          4.998687014079947,
          10.572277943999524,
          0,
          19.04905653343338,
          10.634887738342842,
          0,
          9.665633063518687,
          0,
          9.398314054211358,
          0,
          9.103206008370694,
          0,
          7.01865573543264,
          16.61589500693294,
          0,
          5.764131514458444,
          14.453561193033387,
          7.960611196711594,
          0,
          0,
          0,
          10.819271459251427,
          10.733479769253533,
          0,
          5.443721114841876,
          12.533091799932484,
          3.5105591552921167,
          12.678907771436696,
          0,
          7.513562660888178,
          7.8297098495879425,
          6.859954548164882,
          16.275722234965112,
          0,
          8.74673882754977,
          7.032459235357459,
          10.030934151877247,
          4.3038354810589805,
          10.00404755556302,
          0,
          6.961366780983435,
          0,
          19.232507920864627,
          9.730244598105903,
          7.6269257979454315,
          14.516461743849,
          10.290291725463328,
          19.223147236257045,
          8.675471019663172,
          14.769214457856458,
          10.200900421049322,
          10.468129723848428,
          0,
          6.622057894020525,
          8.72034554774107,
          11.62695460847339,
          0,
          0,
          0,
          0,
          0,
          18.820726117524863,
          11.925580909402333,
          10.09443971425565,
          9.963788363182246,
          0,
          10.884522398486027,
          0,
          0,
          11.410773906611594,
          0,
          18.445141233692347,
          0,
          11.514605141183765,
          0,
          7.6249335244698555,
          5.293286392846305,
          10.926268017987395,
          0,
          12.496865629569779,
          7.460904411008924,
          0,
          8.464117128909379,
          0,
          6.882257301415853,
          0,
          14.633149522055046
         ]
        }
       ],
       "layout": {
        "autosize": false,
        "height": 400,
        "legend": {
         "font": {
          "size": 22
         },
         "x": 0.97,
         "xanchor": "right",
         "y": 0.97,
         "yanchor": "top"
        },
        "showlegend": false,
        "template": {
         "data": {
          "bar": [
           {
            "error_x": {
             "color": "#2a3f5f"
            },
            "error_y": {
             "color": "#2a3f5f"
            },
            "marker": {
             "line": {
              "color": "#E5ECF6",
              "width": 0.5
             },
             "pattern": {
              "fillmode": "overlay",
              "size": 10,
              "solidity": 0.2
             }
            },
            "type": "bar"
           }
          ],
          "barpolar": [
           {
            "marker": {
             "line": {
              "color": "#E5ECF6",
              "width": 0.5
             },
             "pattern": {
              "fillmode": "overlay",
              "size": 10,
              "solidity": 0.2
             }
            },
            "type": "barpolar"
           }
          ],
          "carpet": [
           {
            "aaxis": {
             "endlinecolor": "#2a3f5f",
             "gridcolor": "white",
             "linecolor": "white",
             "minorgridcolor": "white",
             "startlinecolor": "#2a3f5f"
            },
            "baxis": {
             "endlinecolor": "#2a3f5f",
             "gridcolor": "white",
             "linecolor": "white",
             "minorgridcolor": "white",
             "startlinecolor": "#2a3f5f"
            },
            "type": "carpet"
           }
          ],
          "choropleth": [
           {
            "colorbar": {
             "outlinewidth": 0,
             "ticks": ""
            },
            "type": "choropleth"
           }
          ],
          "contour": [
           {
            "colorbar": {
             "outlinewidth": 0,
             "ticks": ""
            },
            "colorscale": [
             [
              0,
              "#0d0887"
             ],
             [
              0.1111111111111111,
              "#46039f"
             ],
             [
              0.2222222222222222,
              "#7201a8"
             ],
             [
              0.3333333333333333,
              "#9c179e"
             ],
             [
              0.4444444444444444,
              "#bd3786"
             ],
             [
              0.5555555555555556,
              "#d8576b"
             ],
             [
              0.6666666666666666,
              "#ed7953"
             ],
             [
              0.7777777777777778,
              "#fb9f3a"
             ],
             [
              0.8888888888888888,
              "#fdca26"
             ],
             [
              1,
              "#f0f921"
             ]
            ],
            "type": "contour"
           }
          ],
          "contourcarpet": [
           {
            "colorbar": {
             "outlinewidth": 0,
             "ticks": ""
            },
            "type": "contourcarpet"
           }
          ],
          "heatmap": [
           {
            "colorbar": {
             "outlinewidth": 0,
             "ticks": ""
            },
            "colorscale": [
             [
              0,
              "#0d0887"
             ],
             [
              0.1111111111111111,
              "#46039f"
             ],
             [
              0.2222222222222222,
              "#7201a8"
             ],
             [
              0.3333333333333333,
              "#9c179e"
             ],
             [
              0.4444444444444444,
              "#bd3786"
             ],
             [
              0.5555555555555556,
              "#d8576b"
             ],
             [
              0.6666666666666666,
              "#ed7953"
             ],
             [
              0.7777777777777778,
              "#fb9f3a"
             ],
             [
              0.8888888888888888,
              "#fdca26"
             ],
             [
              1,
              "#f0f921"
             ]
            ],
            "type": "heatmap"
           }
          ],
          "heatmapgl": [
           {
            "colorbar": {
             "outlinewidth": 0,
             "ticks": ""
            },
            "colorscale": [
             [
              0,
              "#0d0887"
             ],
             [
              0.1111111111111111,
              "#46039f"
             ],
             [
              0.2222222222222222,
              "#7201a8"
             ],
             [
              0.3333333333333333,
              "#9c179e"
             ],
             [
              0.4444444444444444,
              "#bd3786"
             ],
             [
              0.5555555555555556,
              "#d8576b"
             ],
             [
              0.6666666666666666,
              "#ed7953"
             ],
             [
              0.7777777777777778,
              "#fb9f3a"
             ],
             [
              0.8888888888888888,
              "#fdca26"
             ],
             [
              1,
              "#f0f921"
             ]
            ],
            "type": "heatmapgl"
           }
          ],
          "histogram": [
           {
            "marker": {
             "pattern": {
              "fillmode": "overlay",
              "size": 10,
              "solidity": 0.2
             }
            },
            "type": "histogram"
           }
          ],
          "histogram2d": [
           {
            "colorbar": {
             "outlinewidth": 0,
             "ticks": ""
            },
            "colorscale": [
             [
              0,
              "#0d0887"
             ],
             [
              0.1111111111111111,
              "#46039f"
             ],
             [
              0.2222222222222222,
              "#7201a8"
             ],
             [
              0.3333333333333333,
              "#9c179e"
             ],
             [
              0.4444444444444444,
              "#bd3786"
             ],
             [
              0.5555555555555556,
              "#d8576b"
             ],
             [
              0.6666666666666666,
              "#ed7953"
             ],
             [
              0.7777777777777778,
              "#fb9f3a"
             ],
             [
              0.8888888888888888,
              "#fdca26"
             ],
             [
              1,
              "#f0f921"
             ]
            ],
            "type": "histogram2d"
           }
          ],
          "histogram2dcontour": [
           {
            "colorbar": {
             "outlinewidth": 0,
             "ticks": ""
            },
            "colorscale": [
             [
              0,
              "#0d0887"
             ],
             [
              0.1111111111111111,
              "#46039f"
             ],
             [
              0.2222222222222222,
              "#7201a8"
             ],
             [
              0.3333333333333333,
              "#9c179e"
             ],
             [
              0.4444444444444444,
              "#bd3786"
             ],
             [
              0.5555555555555556,
              "#d8576b"
             ],
             [
              0.6666666666666666,
              "#ed7953"
             ],
             [
              0.7777777777777778,
              "#fb9f3a"
             ],
             [
              0.8888888888888888,
              "#fdca26"
             ],
             [
              1,
              "#f0f921"
             ]
            ],
            "type": "histogram2dcontour"
           }
          ],
          "mesh3d": [
           {
            "colorbar": {
             "outlinewidth": 0,
             "ticks": ""
            },
            "type": "mesh3d"
           }
          ],
          "parcoords": [
           {
            "line": {
             "colorbar": {
              "outlinewidth": 0,
              "ticks": ""
             }
            },
            "type": "parcoords"
           }
          ],
          "pie": [
           {
            "automargin": true,
            "type": "pie"
           }
          ],
          "scatter": [
           {
            "fillpattern": {
             "fillmode": "overlay",
             "size": 10,
             "solidity": 0.2
            },
            "type": "scatter"
           }
          ],
          "scatter3d": [
           {
            "line": {
             "colorbar": {
              "outlinewidth": 0,
              "ticks": ""
             }
            },
            "marker": {
             "colorbar": {
              "outlinewidth": 0,
              "ticks": ""
             }
            },
            "type": "scatter3d"
           }
          ],
          "scattercarpet": [
           {
            "marker": {
             "colorbar": {
              "outlinewidth": 0,
              "ticks": ""
             }
            },
            "type": "scattercarpet"
           }
          ],
          "scattergeo": [
           {
            "marker": {
             "colorbar": {
              "outlinewidth": 0,
              "ticks": ""
             }
            },
            "type": "scattergeo"
           }
          ],
          "scattergl": [
           {
            "marker": {
             "colorbar": {
              "outlinewidth": 0,
              "ticks": ""
             }
            },
            "type": "scattergl"
           }
          ],
          "scattermapbox": [
           {
            "marker": {
             "colorbar": {
              "outlinewidth": 0,
              "ticks": ""
             }
            },
            "type": "scattermapbox"
           }
          ],
          "scatterpolar": [
           {
            "marker": {
             "colorbar": {
              "outlinewidth": 0,
              "ticks": ""
             }
            },
            "type": "scatterpolar"
           }
          ],
          "scatterpolargl": [
           {
            "marker": {
             "colorbar": {
              "outlinewidth": 0,
              "ticks": ""
             }
            },
            "type": "scatterpolargl"
           }
          ],
          "scatterternary": [
           {
            "marker": {
             "colorbar": {
              "outlinewidth": 0,
              "ticks": ""
             }
            },
            "type": "scatterternary"
           }
          ],
          "surface": [
           {
            "colorbar": {
             "outlinewidth": 0,
             "ticks": ""
            },
            "colorscale": [
             [
              0,
              "#0d0887"
             ],
             [
              0.1111111111111111,
              "#46039f"
             ],
             [
              0.2222222222222222,
              "#7201a8"
             ],
             [
              0.3333333333333333,
              "#9c179e"
             ],
             [
              0.4444444444444444,
              "#bd3786"
             ],
             [
              0.5555555555555556,
              "#d8576b"
             ],
             [
              0.6666666666666666,
              "#ed7953"
             ],
             [
              0.7777777777777778,
              "#fb9f3a"
             ],
             [
              0.8888888888888888,
              "#fdca26"
             ],
             [
              1,
              "#f0f921"
             ]
            ],
            "type": "surface"
           }
          ],
          "table": [
           {
            "cells": {
             "fill": {
              "color": "#EBF0F8"
             },
             "line": {
              "color": "white"
             }
            },
            "header": {
             "fill": {
              "color": "#C8D4E3"
             },
             "line": {
              "color": "white"
             }
            },
            "type": "table"
           }
          ]
         },
         "layout": {
          "annotationdefaults": {
           "arrowcolor": "#2a3f5f",
           "arrowhead": 0,
           "arrowwidth": 1
          },
          "autotypenumbers": "strict",
          "coloraxis": {
           "colorbar": {
            "outlinewidth": 0,
            "ticks": ""
           }
          },
          "colorscale": {
           "diverging": [
            [
             0,
             "#8e0152"
            ],
            [
             0.1,
             "#c51b7d"
            ],
            [
             0.2,
             "#de77ae"
            ],
            [
             0.3,
             "#f1b6da"
            ],
            [
             0.4,
             "#fde0ef"
            ],
            [
             0.5,
             "#f7f7f7"
            ],
            [
             0.6,
             "#e6f5d0"
            ],
            [
             0.7,
             "#b8e186"
            ],
            [
             0.8,
             "#7fbc41"
            ],
            [
             0.9,
             "#4d9221"
            ],
            [
             1,
             "#276419"
            ]
           ],
           "sequential": [
            [
             0,
             "#0d0887"
            ],
            [
             0.1111111111111111,
             "#46039f"
            ],
            [
             0.2222222222222222,
             "#7201a8"
            ],
            [
             0.3333333333333333,
             "#9c179e"
            ],
            [
             0.4444444444444444,
             "#bd3786"
            ],
            [
             0.5555555555555556,
             "#d8576b"
            ],
            [
             0.6666666666666666,
             "#ed7953"
            ],
            [
             0.7777777777777778,
             "#fb9f3a"
            ],
            [
             0.8888888888888888,
             "#fdca26"
            ],
            [
             1,
             "#f0f921"
            ]
           ],
           "sequentialminus": [
            [
             0,
             "#0d0887"
            ],
            [
             0.1111111111111111,
             "#46039f"
            ],
            [
             0.2222222222222222,
             "#7201a8"
            ],
            [
             0.3333333333333333,
             "#9c179e"
            ],
            [
             0.4444444444444444,
             "#bd3786"
            ],
            [
             0.5555555555555556,
             "#d8576b"
            ],
            [
             0.6666666666666666,
             "#ed7953"
            ],
            [
             0.7777777777777778,
             "#fb9f3a"
            ],
            [
             0.8888888888888888,
             "#fdca26"
            ],
            [
             1,
             "#f0f921"
            ]
           ]
          },
          "colorway": [
           "#636efa",
           "#EF553B",
           "#00cc96",
           "#ab63fa",
           "#FFA15A",
           "#19d3f3",
           "#FF6692",
           "#B6E880",
           "#FF97FF",
           "#FECB52"
          ],
          "font": {
           "color": "#2a3f5f"
          },
          "geo": {
           "bgcolor": "white",
           "lakecolor": "white",
           "landcolor": "#E5ECF6",
           "showlakes": true,
           "showland": true,
           "subunitcolor": "white"
          },
          "hoverlabel": {
           "align": "left"
          },
          "hovermode": "closest",
          "mapbox": {
           "style": "light"
          },
          "paper_bgcolor": "white",
          "plot_bgcolor": "#E5ECF6",
          "polar": {
           "angularaxis": {
            "gridcolor": "white",
            "linecolor": "white",
            "ticks": ""
           },
           "bgcolor": "#E5ECF6",
           "radialaxis": {
            "gridcolor": "white",
            "linecolor": "white",
            "ticks": ""
           }
          },
          "scene": {
           "xaxis": {
            "backgroundcolor": "#E5ECF6",
            "gridcolor": "white",
            "gridwidth": 2,
            "linecolor": "white",
            "showbackground": true,
            "ticks": "",
            "zerolinecolor": "white"
           },
           "yaxis": {
            "backgroundcolor": "#E5ECF6",
            "gridcolor": "white",
            "gridwidth": 2,
            "linecolor": "white",
            "showbackground": true,
            "ticks": "",
            "zerolinecolor": "white"
           },
           "zaxis": {
            "backgroundcolor": "#E5ECF6",
            "gridcolor": "white",
            "gridwidth": 2,
            "linecolor": "white",
            "showbackground": true,
            "ticks": "",
            "zerolinecolor": "white"
           }
          },
          "shapedefaults": {
           "line": {
            "color": "#2a3f5f"
           }
          },
          "ternary": {
           "aaxis": {
            "gridcolor": "white",
            "linecolor": "white",
            "ticks": ""
           },
           "baxis": {
            "gridcolor": "white",
            "linecolor": "white",
            "ticks": ""
           },
           "bgcolor": "#E5ECF6",
           "caxis": {
            "gridcolor": "white",
            "linecolor": "white",
            "ticks": ""
           }
          },
          "title": {
           "x": 0.05
          },
          "xaxis": {
           "automargin": true,
           "gridcolor": "white",
           "linecolor": "white",
           "ticks": "",
           "title": {
            "standoff": 15
           },
           "zerolinecolor": "white",
           "zerolinewidth": 2
          },
          "yaxis": {
           "automargin": true,
           "gridcolor": "white",
           "linecolor": "white",
           "ticks": "",
           "title": {
            "standoff": 15
           },
           "zerolinecolor": "white",
           "zerolinewidth": 2
          }
         }
        },
        "title": {
         "font": {
          "size": 34
         },
         "x": 0.5
        },
        "width": 950,
        "xaxis": {
         "dtick": 5,
         "range": [
          -1.5,
          74.4849775070403
         ],
         "tick0": 0,
         "tickfont": {
          "size": 14
         },
         "tickmode": "linear",
         "title": {
          "font": {
           "size": 18
          },
          "text": "Value"
         }
        },
        "yaxis": {
         "tickfont": {
          "size": 14
         },
         "title": {
          "font": {
           "size": 18
          },
          "text": "Diagnosis"
         }
        }
       }
      },
      "text/html": [
       "<div>                            <div id=\"16d600a0-eb47-408b-8598-7fb4e6f0ffe1\" class=\"plotly-graph-div\" style=\"height:400px; width:950px;\"></div>            <script type=\"text/javascript\">                require([\"plotly\"], function(Plotly) {                    window.PLOTLYENV=window.PLOTLYENV || {};                                    if (document.getElementById(\"16d600a0-eb47-408b-8598-7fb4e6f0ffe1\")) {                    Plotly.newPlot(                        \"16d600a0-eb47-408b-8598-7fb4e6f0ffe1\",                        [{\"fillcolor\":\"#4daf4a\",\"line\":{\"color\":\"#000000\"},\"name\":\"AD\",\"x\":[7.183855231701182,2.6089210253092685,7.778113008274092,14.757813254065834,7.28138064893729,4.655495989910733,30.915210033450347,3.9505851309918536,0.0,4.081818186855203,9.393016568270859,1.52782125965665,0.0,2.108240340184419,0.0,8.928114561970904,4.882665625969593,18.026066857572857,0.0,7.771865286200101,14.548406585918723,2.5039820527292513,3.2297944699163046,3.9289699930059565,6.897130408572905,31.943208854016238,11.707563990490163,3.6285905191072745,0.0,5.347979703371515,7.548129144196389,3.9292669666214364,33.982637611447146,0.0,6.157665186549715,4.650256014288342,1.8752813637346666,5.8695382850309095,9.260488529590873,35.708317136494024,8.82400910501086,5.503297428111383,4.62233598507118,4.153188625516389,0.0,3.7365525902966805,0.0,3.739089586713751,4.047906529273652,4.625735599660292,8.253245405621438,1.5040262299952898,5.076379461796294,0.0,7.791353376833259,0.0,4.430150572351461,0.0,0.0,5.129034035179209,4.837382762340587,30.037776183296838,2.711699545785992,2.5530200009956308,7.063881519627462,6.334077853183251,7.18725342485511,43.06977171401245,5.564549161159637,4.461266903505948,0.0,2.4585561563561487,0.0,12.818278863661503,4.47589092256844,0.0,29.80614781444115,0.0,3.7399027919098042,0.0,12.380731508634291,4.240859202758249,8.442875296366816,0.0,2.3812818209901416,3.537416959432499,8.345735600929014,4.731783873067066,0.7977978884363943,29.284397559409722,0.0,4.5970263564051175,1.743163134658558,6.409296065984927,6.128506019335649,6.199746585152906,6.981731514895013,0.0,12.626696451409709,5.713966042740532,0.0,5.548017111284313,6.258041915432509,3.3679976974553183,5.4535450754239365,0.0,7.927073200579063,5.844849951321473,4.554983473794808,0.0,5.613217652926124,2.5643657672402513,0.0,3.2940502379419394,5.310296331669638,4.135181989292324,34.302159695454556,3.2997067086457754,43.2885467173523,34.67279237789381,2.022388700360046,16.170989200432572,0.0,5.979019555064181,8.871026822378617,19.196823800158242,5.4536004862984235,0.0,2.926886195495387,0.0,1.598337856181225,6.5314155878088735,4.700980784516502,12.459247242860036,0.0,7.199595118166181,25.68839118799123,26.35490832690025,1.4594702767774534,4.377120617740581,0.0,39.1959029828104,7.376250963880809,32.073348775492775,0.0,5.8020997121114135,7.903445660784385,15.223300390649669,36.7536402156494,8.635585630470494,0.0,10.179314335006366,13.378168164619243,8.690434494849839,5.429599258796609,13.323509426037829,0.0,0.0,5.857332554610968,7.69064805569076,8.663228688425235,4.213123080221982,9.373118784164985,10.557904902253227,23.442076671759047,5.162402564485914,44.034972729964906,5.428096282231688,9.775339099486507,34.128593764247526,8.842655270095312,10.270820379155884,4.402888542531928,10.288479597261707,8.417834208508163,5.263817767288824,1.8253748561470755,27.57918982985127,32.03603167066215,2.3656415785325087,4.74213501873249,35.86705565167612,0.0,4.276512795003653,41.847156895649924,2.9592020389229954,7.55101643223607,5.669207943609951,28.418564842496647,7.6495710354440964,7.2493521120702935,6.811986878217203,25.303776521305032,23.19303740382606,5.448721253407808,20.108923673783014,3.4864349495554876,42.16161302534597,6.87433382340778,8.226779608278214,6.141941612782892,4.501094593292775,6.899379240646724,38.91971967225013,6.317623165833184,5.699687644369704,10.292037734519385,0.0,3.885691974350258,7.221227444441051,10.13788443734859,2.692346990459562,14.244710494158726,0.0,41.416724542218155,13.466506048230388,5.887266728466547,4.41274746595905,9.907316064674259,10.523261052264724,40.57467126614615,3.339973131468036,9.465901127634949,11.462764702088549,6.167804770601454,1.7031322626715686,4.889932347134869,4.939162754221539,0.0,5.285822780431161,40.105172618876715,6.564113687663059,5.1804328529537775,14.808389434139093,29.281341402088415,6.144486499352837,4.170276488256799,6.275302984640212,11.355072077829082,7.979245142510497,25.368853744601946,0.0,3.6250467650128995,5.5286885997579684,25.568269776361834,0.0,9.03961510015514,7.79903760741187,22.69057121523422,30.742176446690095,3.990500906035214,14.09139803701526,0.0,0.0,0.0,55.56272039357072,25.351127896257246,51.31730862105772,7.597196746320601,0.0,5.748349098225281,14.6265937265535,3.7027707013702194,1.6931416751395638,28.477055341613852,9.025476078404225,5.826373978113146,1.9524723472775671,0.0,0.0,9.489128606331562,8.986761632125168,3.361226257720847,3.2917844656048825,4.890482623742934,7.371718956858621,10.063667190252106,18.747416245995694,2.7729845725141358,4.16022771038115,0.0,9.319246661691787,7.596575585399553,4.286011818493415,0.0,4.107068553951793,3.7175472277246078,4.052281789480896,3.4395426213464657,6.201950265758048,1.6334869575698936,2.902848489128922,6.647804053603923,3.5719309803755923,10.081210961815868,3.9892641444838115,7.814426304356857,0.0,0.0,18.611703494622613,8.402689757604684,2.1730870331556873,10.761108957473919,7.27757667077643,43.6503787915686,45.5815930534957,9.528599233604046,30.63460316850915,30.086398948995953,5.590254192425698,18.909293312555864,5.461610449497504,12.778496400268885,5.117621034004893,2.4755782811612477,0.0,7.756399790769593,9.470480880853145,6.74039161569767,20.542719425887835,9.369110001123882,0.0,5.566423910603968,5.9817987762223,3.6693386316499867,11.58950332218877,8.558975247198438,32.80471616625546,4.377589694221478,5.011748014501895,15.553179884512138,0.0,33.96182787400217,6.523129945447207,10.581092906285908,6.794294556705014,4.334370661104895,14.378691607797409,4.0275702387673,6.72339390559477,28.818408796465402,4.162372186963575,4.70204882451391,6.009531759612276,0.0,48.62498978090538,5.195456933789097,4.238311109196911,16.421700073812104,0.0,6.017866816834489,48.73244024026638,7.923922304313088,7.504159783547013,7.43786781410255,37.38573715271836,32.553962963452626,0.0,3.3840638954149624,1.7408428972280963,7.112315673553719,6.385689407959671,9.19573398622204,3.1508455803133493,3.763526812522923,6.09048385774314,8.271131280536844,0.0,31.522261963057048,8.43987593342042,5.962398567270117,0.0,0.0,4.831956088252649,1.8002405778614454,4.527014344789579,7.297230127964275,5.824963429231879,9.543282936173023,32.965578976393324,4.299196384753918,9.589262423472821,5.485432826130781,3.3441563342468386,7.350699125177556,10.99535979610588,8.471702567276186,7.057607616528787,7.865413847059427,31.94330284851846,4.624770743350016,2.334779224390704,10.307155756732065,6.210499061808624,4.769543604777921,13.603873396197114,8.617841599647756,0.0,6.426741807608954,8.955291750086072,8.15675177966752,13.833200661939129,1.3379810228740576,11.74322755978519,10.607234387440755,0.0,3.2608534793345485,11.979390790104684,15.515648573240812,44.92731304018471,0.0,6.940839724286096,13.94685450259197,0.0,9.728375001982453,0.0,12.007423701873174,7.102847980631833,9.593980747527832,6.741888235326147,2.0438230415467586,11.243848679702523,6.2382862154087455,2.7496340781823148,4.257661612402155,3.6253855154171735,2.2215245388925884,32.311613523552566,0.0,0.0,33.87156256086066,3.730047370733843,6.799401997378262,5.81674950334107,5.483684147544271,0.0,8.060323369331481,52.959542947729595,10.70764541285714,4.888860822527161,7.445115421463046,7.559578440845482,12.508429007687063,2.842864928277666,41.9922944929275,3.0626552989572837,9.04496267106651,1.9205964276648662,0.0,4.803761415317462,5.884866182318097,0.0,14.12953940597106,5.785153585744713,7.020654727827044,1.9997761264281988,2.159022559840131,11.526550025795448,7.587341895781288,0.0,0.0,10.635824370341433,4.4313340592203865,14.903844650388432,4.175124187064485,23.276068604055613,0.0,5.250489550004967,6.373163084360414,9.578040925635625,10.452604975157108,5.119249934489584,3.70664301001411,2.1093220266217516,41.55007256893655,6.269599775716855,16.041460792618754,4.469071397307304,7.366557746505073,6.321405254720095,0.0,33.14011744795183,0.0,31.696959686594983,2.673474188759899,8.30650773418804,6.562280629938671,16.435585062188547,7.254161070885315,0.0,5.256753743212679,9.389643883785531,35.38656099266125,3.7102962293517865,11.627803265674872,8.260858862333237,33.71966873602465,5.324870363733138,42.358223238042385,0.0,43.72194231225282,0.0,9.890556813097774,12.066826592409209,0.0,27.014590655400866,7.042517218358924,7.476488894346431,5.942141572217676,42.88779111366019,6.896498110885098,5.926664782615025,6.559665744689437,13.113875639797387,0.0,13.488972479626193,49.31028928606056,7.393747566081512,23.32344769635117,10.039816180886401,4.556957959671316,25.044248021675827,34.51760070830001,43.05578291287422,9.373863970362757,7.810073485573654,3.9810821902059867,6.073000278438113,0.0,7.255401395140645,5.0479436651637695,0.0,0.0,7.535356510601556,7.48158202154779,11.253506347304494,0.0,39.524949169597846,6.242323534684639,17.15268933441886,5.045114923363194,0.0,35.4417396719722,49.32069801497807,12.300380556145752,74.4849775070403,4.926859996648166,4.461698022690845,7.834832133526012,5.892040670295411,30.011765400605434,8.379162681124274,2.545630577758314,11.789686049526948,0.0,3.904793507077404,0.0,38.61201839547189,14.594478758890045,7.458304793974194,8.478731804244857,9.742404694307448,7.399039221427586,17.341926618956695,5.944705882912397,0.0,6.262585380866669,3.9636323657459935,4.75629092471074,5.733671029323331,43.29879413659646,7.131952792040141,0.0,0.0,6.1452752832333575,10.221515250953528,32.053732514239734,9.549778966888931,4.664447622177909,3.514060461653617,7.746330677492989,17.364094513680225,4.30702677455117,9.019056757674209,4.319494112192198,6.474316286557699,31.970216999568887,38.59774317206963,0.0,4.428042107522645,5.550453604974089,8.413193386793802,2.9589980292879514,6.543938069367994,14.692037501201739,10.145254387898902,4.555120751995875,4.094294717657737,11.229493695370923,8.021833684856295,30.62815617028051,9.235292059578683,0.0,0.0,0.0,2.332780538070146,33.84934914746191,2.4677335729348124,2.6705764813180393,1.9661646454470014,0.0,4.485883479814167,8.893375545559639,31.959683442265433,7.74142158644959,5.351423133687294,36.954803572429526,4.036039929333931,6.210817389061626,5.920541906957748,12.908279068153645,18.926254384465505,16.171772621668847,6.513818821813959,0.0,3.2262514244028226,5.295703793443876,2.9482618690468305,9.56442402760796,28.184738728855983,7.690909199034847,8.951611887804118,0.0,31.356806514415638,10.137434228787065,3.417382600303899,5.4967036484708025,7.124187635131446,10.85535441782542,3.357587659013631,6.41813529290558,6.089443252572085,37.11162303019969,38.888927859531485,3.7097529851708484,4.163616904975169,25.514525813974444,29.577625194611024,0.0,0.0,11.675553816039868,5.91421838970056,12.109131609898748,8.712077017010998,7.5788296807908395,7.917065009761438,21.68917220651272,8.963831145192781,0.0,1.896833492496719,0.0,9.437379402778184,5.362081304925521,14.710182238937124,0.0,8.989171043056505,10.469588387326061,0.0,0.0,3.7888193956481224,3.7848361651140143,3.4199952299516525,0.0,8.564021540298228,0.0,0.0,3.5031651162653077,2.670386935053029,5.32471399301448,21.068047254367706,6.022324026421635,0.0,0.0,26.07377405062566,8.15307951515487,14.883301675521121,9.556843547195344,0.0,17.22225600307815,7.924171998555531,28.998583813695134,9.933173350562525,8.279896316804606,12.094698528487937,4.874150506712955,7.498292216794833,3.4799553795121834,33.08311328023488,2.0635236708367484,4.939999347794608,8.108128628882527,3.9685918745711652,4.152014338536258,5.718039232006171,10.743771690883685,33.08926769531178,0.0,0.0,7.621171991582061,0.0,3.1741956106175886,3.980652540244496,22.260241706427074,4.576397033697665,2.8493624928540164,0.0,8.602946666739461,5.553192978418532,34.77731119279365,6.013287133035937,8.63612492307896,38.299724768871215,0.0,4.674038920546114,42.311952182270495,11.65313598647865,11.933837768494298,11.96530715057031,44.121909448416076,3.3202586011182955,4.692490747261619,4.398405144098983,25.544029359357012,6.470134248940613,4.549010596413459,0.0,3.6537132756024877,6.801921150918742,32.68027142753378,3.579876901022309,4.287901459356474,6.9162648790002725,14.834786282785705,5.933208561356174,6.084643750105307,4.337731656827437,6.323299815402999,1.7586822364631312,0.0,1.5647982404191891,0.0,7.281667994178352,36.637593261926,45.25296336303996,3.6793705168850126,28.435445127715745,8.47643861823828,3.457667762141974,8.292075162233639,5.372436724569056,3.8395352908597853,4.818278554026543,31.433852482791224,2.687055168397949,5.00407933961582,9.136568122934131,6.125313877198902,6.016669008468011,10.239735619802898,0.0,37.86111432447457,0.0,29.133086971537416,0.0,8.113705716790147,5.218894140499618,9.783288711666344,4.10651811039165,13.588958871882975,41.826816910780806,0.0,7.507824426178638,14.08327512106577,7.707508012964025,0.0,11.213252424466125,42.53830934265326,26.85826588420222,11.206754536441586,6.097894086124528,7.390170031396223,49.405023815915555,10.213092280200444,5.833763598587548,7.882291196102221,8.82221098822465,28.91346989950122,5.945604560107261,0.0,7.541084783001433,8.861504846219601,5.199075768812048,12.65162334201117,9.280626185375295,4.388082755360883,0.0,6.698288658010144,1.5211750459772921,28.139733824246782,10.654428293562157,7.911418845385096,6.984076895450497,5.392326537879304,5.811393928851558,32.60037135281994,5.256925061828226,4.23856576251002,38.80687170087449,4.041882130613342,28.346832267939234,11.677661775577509,4.748831729092352,12.813268302675356,5.152096584117782,0.0,8.682672823520267,31.093297774213227,23.09509635504724,11.470712329204963,0.0,0.0,0.0,6.861677809505172,0.0,9.479700013714984,17.491784738538332,44.23761231021488,0.0,29.040167860862756,8.14699184782631,11.140359448282881,0.0,8.061228586380743,10.722707538306455,5.854858737472387,6.087706824334473,6.083003360619376,10.599448922940987,11.51315758400124,45.492980828761915,8.40871894525555,33.08957272681154,6.9852712059689415,10.716586010732257,0.0,7.666011218070865,0.0,0.0,0.0,14.828609856020305,0.0,11.064035708575904,6.015031719392921,10.227598044344294,7.554120767698342,0.0,31.611053877430994,4.455235224536442,13.399192118285319,11.28398135799102,10.238626903595899,25.58179993377315,3.862003207865309,6.889608700737606,5.4729410535295,4.650066977252923,24.168491053898595,29.210009753338998,0.0,2.8766104754029684,20.422919517191932,9.582876048340097,3.9490565604737577,11.50767901310617,22.940975000286233,4.877064488760984,12.12504691497293,11.84700724901159,7.703103687012119,0.0,8.020752485536775,7.666914517466079,4.918292295636561,16.243852393250982,10.979982903273406,4.450476325983558,4.971128328407497,6.45224037403416,3.9448582108460912,6.500580588049064,23.138481280189307,6.61182976537688,12.027997382613547,0.0,8.956247797911427,5.797131999688831,4.721583828634199,39.26011781138468,2.42116047861406,4.663565928122897,14.93383241002553,0.0,39.349263853714696,8.096921726327,7.509307578996667,2.9897714001502176,0.0,0.0,2.5208755118067714,0.0,35.8346718986933,12.07231433461426,6.949311439567896,12.239770014719804,4.334624869564175,2.529312035377369,0.0,11.335876432306708,33.89259632160642,7.468802160841893,14.883005989453759,7.9543076343801875,7.245933977914867,5.362734202351524,34.456027768425365,12.690265975336201,2.805508574749024,13.989209696690851,0.0,13.863523996198529,39.72755570916643,9.366349396451863,12.682635258120353,22.713457399309778,4.617284672699581,10.955199870722021,9.933002155882964,3.9369024068658036,4.81629319262094,4.997715613991479,8.012428302562665,2.922710290907315,14.627128845603737,6.57992609712617,5.925474293812682,44.36820314730776,7.017671481678357,6.652508554481173,0.0,5.557388800110546,4.903018567573391,11.478225406314818,11.393133273568706,10.29311976803473,5.167237815121372,11.595319877179726,19.60722041205094,9.023397149076821,5.027171365217671,27.558694098143707,7.979601893995679,6.7055352879407115,0.0,7.475847484961893,11.987304214239781,3.4759762797618166,8.31687890576864,13.187453876449919,14.286133555723081,6.338736300305246,5.669190080030011,0.0,26.450134576082785,10.548413321846523,5.862435498765588,35.97121795857799,8.194291749126453,11.723093692150533,5.68273057658271,3.7323264267902694,3.4785502330507003,4.58116304882033,17.28755062037413,3.0999137879139314,4.21348604131212,8.329615521797102,4.31421802602774,1.8893273330706082,48.36235777398802,7.248388454512479,9.453778090286528,3.217719833293616,7.088479822082232,7.023624633365684,4.087879170022041,6.776130591990682,6.458695580752267,11.091605448772336,8.065749008878088,3.693046814289476,3.365162270383692,9.353874424866586,0.0,12.581846960931985,30.46533985806298,3.834121842708477,4.340336965764987,0.0,7.151201783208232,7.761320152330523,20.225673001797745,1.917678384411201,0.0,3.558950786965278,4.383243766010475,5.17818625997672,13.271312976061278,7.316191790920447,0.0,40.12762939360717,7.897521753896168,8.354000014718007,5.670452352001753,4.8518134929395815,43.57324068021574,14.677257061921749,0.0,40.84452506088626,5.543351969847545,0.0,5.937893623123978,5.309057933308207,7.023659419941848,9.537736635538613,6.976070659612304,7.362420568159333,0.0,0.0,4.671779764322252,0.0,6.828365150981268,39.90432287086749,5.305434428923752,8.240458177670805],\"type\":\"box\"},{\"fillcolor\":\"#377eb8\",\"line\":{\"color\":\"#000000\"},\"name\":\"MCI\",\"x\":[6.046833666420363,0.0,8.178476365392369,2.4533505272098877,5.164845758294149,7.298734378130924,0.0,6.600154004843065,14.912574745727673,5.50579690294822,4.356510474604622,12.382557738463168,2.116772210125599,7.742801702540183,0.0,9.459487626705853,3.3644917290220637,0.0,0.0,0.0,35.69758235454226,0.0,8.579482122417618,3.9918377490928103,10.457036798898764,0.0,0.0,0.0,0.0,0.0,0.0,21.76728197036324,3.6766707217150145,11.943365012458521,12.069510345638628,7.508640286146454,7.151305055810806,6.6595176663589415,6.67598849292081,9.17740279298049,6.893738000081091,6.692453441744894,10.536210790926825,21.609049633937808,12.635088815975863,0.0,5.216266591715006,0.0,10.638731151491571,15.551457325661675,11.610093932441385,6.562519916752241,8.636549206436694,7.9446632258301495,0.0,10.361599762482005,4.870971833852161,4.280918395769246,3.0704957111838613,46.23228055585343,12.234453586591512,0.0,5.110582734525318,19.815194698006486,4.168842931302897,0.0,0.0,3.745852182717397,4.933878320007751,16.413154633259854,14.694698093737642,7.337264647389958,17.279548043117494,0.0,9.551866234686962,0.0,0.0,8.797516875845231,5.865430423409344,7.363838210117352,5.1530936067253,6.947217562727417,11.882423934926688,12.066812883334727,10.515468771620757,6.824691864648029,3.159479516120524,4.345794760200007,4.146511454478352,28.040016838951665,0.0,5.2394016736187385,14.826106226599178,7.689958049630207,30.219932257604267,0.0,4.43464264103823,0.0,5.923431451253415,7.549858695201133,0.0,16.279578718353243,15.12977147726431,0.0,6.905819777537416,5.616951394911662,0.0,0.0,13.633191650385735,5.435796483529884,4.37753941955663,0.0,0.0,4.800840998940426,10.634952175752012,3.39623842172144,15.024245481224257,17.343835328970716,8.594858480364836,0.0,3.696656403392763,0.0,0.0,24.02374250952596,7.398149434298928,15.907151450329234,14.055561143081764,12.36416650955635,2.324245320552998,8.0409819758327,12.04247575774006,9.22169623338463,8.810118914482567,14.077981992254713,15.831049191013888,0.0,29.340733512665736,7.5511311495095645,5.376787612441363,19.125202546547612,2.908401000735737,9.035561752742154,4.699363557091705,6.846971663192359,32.28290926624543,9.519080975300609,0.0,2.981545968810903,11.148936567721721,6.861364086596948,12.655632801079417,13.121200926600253,8.809363990466435,5.978539679036373,9.825321179069865,5.711721576377829,4.884826493002905,5.675588924602822,6.736634745077568,0.0,0.0,8.195107333118607,10.1846044486436,0.0,7.583170233685679,17.881552329690766,0.0,0.0,0.0,0.0,3.4776699275693255,6.223445992925582,0.0,7.186420019558575,10.902419304131513,30.73273466840075,7.041503190651821,6.779854315923044,14.0055119546788,9.28950642035342,3.3631805055664845,14.421100498649666,19.088012677340288,6.59764140759847,12.170222167007143,4.6050423195162775,4.218698910155314,5.753742276714882,3.949367082871258,5.836382799392289,0.0,9.749915000067952,9.793775754411664,9.056725377767572,6.683227759025879,0.0,6.056021497620013,4.448258367325463,3.8136251438061612,6.195750790284288,11.291352317578536,10.516720987882975,6.342078237765436,2.3530194293275346,14.715761631239822,9.197275613777752,8.861555004377726,3.2400311629145038,5.120968118276344,56.518172053510966,2.4652275995436237,4.434207395932024,10.87749995793161,3.317369720375282,0.0,0.0,5.9051991819604766,6.536012708894132,10.470931865631174,49.511573860508754,7.830793844178477,12.305376578196382,6.474260437177127,8.712709515697423,4.893492054586292,2.1605399994604237,7.769656189585782,2.852596254433333,6.544816241468836,5.660980116414484,0.0,11.06168668002711,6.088746506283983,23.55335217246863,7.515755166336837,2.0824365221633507,6.9775557033793945,8.633896206545462,7.038308502471293,3.9654336028351587,8.61641413509941,11.427425774799717,8.294351225282934,5.835565329261865,5.302605472351838,4.373693598331294,10.678251712996039,7.195479739988561,0.0,8.373634496802351,13.906443697755327,10.44472968101543,5.315181743220457,11.456123636643635,8.202142337058245,6.592297102020664,8.623071054872192,22.26888603434182,9.241077709969439,7.145096746007981,4.5859046583782614,19.857179040070335,11.117563762200872,4.782471082828405,4.714042491455159,4.435209775526707,11.194934732821151,6.031286099571073,0.0,10.172344741240476,15.814720923757937,0.0,4.864499481729322,0.0,5.613791559081129,7.946656795905781,9.15769561763875,6.091390918257836,9.48650597163123,3.2775510048856686,5.095179519702823,12.483144364769435,0.0,4.834697580913963,0.0,0.0,7.675707320528095,9.852130935695525,0.0,3.342217008573202,7.440045554896537,4.935074210070178,9.914482472558651,6.9792120034185405,9.03878631508365,17.487892496037148,0.0,8.094698028363133,7.002846883794533,9.677067744264571,0.0,6.875985346534398,7.351054326996533,0.0,8.875278970554792,17.09198160093098,0.0,17.902778000469237,8.852891217324562,0.0,12.893390766413347,5.767966452526643,14.720192363090604,0.0,7.914543301880845,5.504765444995991,16.94795161117397,4.685989125814895,2.6177300137828725,8.407534526822637,7.463098657499986,7.155721302317708],\"type\":\"box\"},{\"fillcolor\":\"#e41a1c\",\"line\":{\"color\":\"#000000\"},\"name\":\"SCD\",\"x\":[5.621822189927602,0.0,0.0,12.211246135884325,16.93725241171234,11.495815026761427,10.301082062258528,0.0,3.053386771988446,7.133140729152578,17.268356054168837,7.006464482840384,0.0,0.0,0.0,3.830688396201849,12.183502848419437,0.0,0.0,0.0,18.735270682460186,0.0,32.254965756330726,6.400608636288236,19.634209497946628,0.0,0.0,5.837145809485822,6.073607859945845,22.15859716430231,5.259038352411781,0.0,11.607433757150067,0.0,8.333251134408465,0.0,5.002436740237682,9.398253631485652,7.738024521648719,33.61348367082866,11.133034768771315,0.0,4.565046984202382,4.5041492750983725,25.75109694758847,12.368735272294039,0.0,12.879712496042165,0.0,16.991515104997926,15.886647480775476,9.435874787653415,6.0138548354021575,7.776304176030962,10.469418575892377,15.4025528097447,8.232550511171778,12.136028451933683,9.142073068030331,0.0,4.882398111860672,7.639351513998502,14.48942066618362,33.150394006622726,23.53060280904684,17.241678028679658,7.184869269525096,0.0,9.753631464961085,13.096066025125848,12.635973661232226,12.256040322284845,12.562727469910692,9.560161739378653,15.711663659890208,0.0,13.232238911266858,7.257859014974533,6.487065329074066,5.96238319107202,4.582925319882804,0.0,0.0,0.0,0.0,9.257018965910682,0.0,0.0,8.144228435389717,8.729633861469406,14.69615345153397,0.0,0.0,5.972392437006055,11.77629718237506,4.49609254618402,0.0,4.998687014079947,10.572277943999524,0.0,19.04905653343338,10.634887738342842,0.0,9.665633063518687,0.0,9.398314054211358,0.0,9.103206008370694,0.0,7.01865573543264,16.61589500693294,0.0,5.764131514458444,14.453561193033387,7.960611196711594,0.0,0.0,0.0,10.819271459251427,10.733479769253533,0.0,5.443721114841876,12.533091799932484,3.5105591552921167,12.678907771436696,0.0,7.513562660888178,7.8297098495879425,6.859954548164882,16.275722234965112,0.0,8.74673882754977,7.032459235357459,10.030934151877247,4.3038354810589805,10.00404755556302,0.0,6.961366780983435,0.0,19.232507920864627,9.730244598105903,7.6269257979454315,14.516461743849,10.290291725463328,19.223147236257045,8.675471019663172,14.769214457856458,10.200900421049322,10.468129723848428,0.0,6.622057894020525,8.72034554774107,11.62695460847339,0.0,0.0,0.0,0.0,0.0,18.820726117524863,11.925580909402333,10.09443971425565,9.963788363182246,0.0,10.884522398486027,0.0,0.0,11.410773906611594,0.0,18.445141233692347,0.0,11.514605141183765,0.0,7.6249335244698555,5.293286392846305,10.926268017987395,0.0,12.496865629569779,7.460904411008924,0.0,8.464117128909379,0.0,6.882257301415853,0.0,14.633149522055046],\"type\":\"box\"}],                        {\"template\":{\"data\":{\"histogram2dcontour\":[{\"type\":\"histogram2dcontour\",\"colorbar\":{\"outlinewidth\":0,\"ticks\":\"\"},\"colorscale\":[[0.0,\"#0d0887\"],[0.1111111111111111,\"#46039f\"],[0.2222222222222222,\"#7201a8\"],[0.3333333333333333,\"#9c179e\"],[0.4444444444444444,\"#bd3786\"],[0.5555555555555556,\"#d8576b\"],[0.6666666666666666,\"#ed7953\"],[0.7777777777777778,\"#fb9f3a\"],[0.8888888888888888,\"#fdca26\"],[1.0,\"#f0f921\"]]}],\"choropleth\":[{\"type\":\"choropleth\",\"colorbar\":{\"outlinewidth\":0,\"ticks\":\"\"}}],\"histogram2d\":[{\"type\":\"histogram2d\",\"colorbar\":{\"outlinewidth\":0,\"ticks\":\"\"},\"colorscale\":[[0.0,\"#0d0887\"],[0.1111111111111111,\"#46039f\"],[0.2222222222222222,\"#7201a8\"],[0.3333333333333333,\"#9c179e\"],[0.4444444444444444,\"#bd3786\"],[0.5555555555555556,\"#d8576b\"],[0.6666666666666666,\"#ed7953\"],[0.7777777777777778,\"#fb9f3a\"],[0.8888888888888888,\"#fdca26\"],[1.0,\"#f0f921\"]]}],\"heatmap\":[{\"type\":\"heatmap\",\"colorbar\":{\"outlinewidth\":0,\"ticks\":\"\"},\"colorscale\":[[0.0,\"#0d0887\"],[0.1111111111111111,\"#46039f\"],[0.2222222222222222,\"#7201a8\"],[0.3333333333333333,\"#9c179e\"],[0.4444444444444444,\"#bd3786\"],[0.5555555555555556,\"#d8576b\"],[0.6666666666666666,\"#ed7953\"],[0.7777777777777778,\"#fb9f3a\"],[0.8888888888888888,\"#fdca26\"],[1.0,\"#f0f921\"]]}],\"heatmapgl\":[{\"type\":\"heatmapgl\",\"colorbar\":{\"outlinewidth\":0,\"ticks\":\"\"},\"colorscale\":[[0.0,\"#0d0887\"],[0.1111111111111111,\"#46039f\"],[0.2222222222222222,\"#7201a8\"],[0.3333333333333333,\"#9c179e\"],[0.4444444444444444,\"#bd3786\"],[0.5555555555555556,\"#d8576b\"],[0.6666666666666666,\"#ed7953\"],[0.7777777777777778,\"#fb9f3a\"],[0.8888888888888888,\"#fdca26\"],[1.0,\"#f0f921\"]]}],\"contourcarpet\":[{\"type\":\"contourcarpet\",\"colorbar\":{\"outlinewidth\":0,\"ticks\":\"\"}}],\"contour\":[{\"type\":\"contour\",\"colorbar\":{\"outlinewidth\":0,\"ticks\":\"\"},\"colorscale\":[[0.0,\"#0d0887\"],[0.1111111111111111,\"#46039f\"],[0.2222222222222222,\"#7201a8\"],[0.3333333333333333,\"#9c179e\"],[0.4444444444444444,\"#bd3786\"],[0.5555555555555556,\"#d8576b\"],[0.6666666666666666,\"#ed7953\"],[0.7777777777777778,\"#fb9f3a\"],[0.8888888888888888,\"#fdca26\"],[1.0,\"#f0f921\"]]}],\"surface\":[{\"type\":\"surface\",\"colorbar\":{\"outlinewidth\":0,\"ticks\":\"\"},\"colorscale\":[[0.0,\"#0d0887\"],[0.1111111111111111,\"#46039f\"],[0.2222222222222222,\"#7201a8\"],[0.3333333333333333,\"#9c179e\"],[0.4444444444444444,\"#bd3786\"],[0.5555555555555556,\"#d8576b\"],[0.6666666666666666,\"#ed7953\"],[0.7777777777777778,\"#fb9f3a\"],[0.8888888888888888,\"#fdca26\"],[1.0,\"#f0f921\"]]}],\"mesh3d\":[{\"type\":\"mesh3d\",\"colorbar\":{\"outlinewidth\":0,\"ticks\":\"\"}}],\"scatter\":[{\"fillpattern\":{\"fillmode\":\"overlay\",\"size\":10,\"solidity\":0.2},\"type\":\"scatter\"}],\"parcoords\":[{\"type\":\"parcoords\",\"line\":{\"colorbar\":{\"outlinewidth\":0,\"ticks\":\"\"}}}],\"scatterpolargl\":[{\"type\":\"scatterpolargl\",\"marker\":{\"colorbar\":{\"outlinewidth\":0,\"ticks\":\"\"}}}],\"bar\":[{\"error_x\":{\"color\":\"#2a3f5f\"},\"error_y\":{\"color\":\"#2a3f5f\"},\"marker\":{\"line\":{\"color\":\"#E5ECF6\",\"width\":0.5},\"pattern\":{\"fillmode\":\"overlay\",\"size\":10,\"solidity\":0.2}},\"type\":\"bar\"}],\"scattergeo\":[{\"type\":\"scattergeo\",\"marker\":{\"colorbar\":{\"outlinewidth\":0,\"ticks\":\"\"}}}],\"scatterpolar\":[{\"type\":\"scatterpolar\",\"marker\":{\"colorbar\":{\"outlinewidth\":0,\"ticks\":\"\"}}}],\"histogram\":[{\"marker\":{\"pattern\":{\"fillmode\":\"overlay\",\"size\":10,\"solidity\":0.2}},\"type\":\"histogram\"}],\"scattergl\":[{\"type\":\"scattergl\",\"marker\":{\"colorbar\":{\"outlinewidth\":0,\"ticks\":\"\"}}}],\"scatter3d\":[{\"type\":\"scatter3d\",\"line\":{\"colorbar\":{\"outlinewidth\":0,\"ticks\":\"\"}},\"marker\":{\"colorbar\":{\"outlinewidth\":0,\"ticks\":\"\"}}}],\"scattermapbox\":[{\"type\":\"scattermapbox\",\"marker\":{\"colorbar\":{\"outlinewidth\":0,\"ticks\":\"\"}}}],\"scatterternary\":[{\"type\":\"scatterternary\",\"marker\":{\"colorbar\":{\"outlinewidth\":0,\"ticks\":\"\"}}}],\"scattercarpet\":[{\"type\":\"scattercarpet\",\"marker\":{\"colorbar\":{\"outlinewidth\":0,\"ticks\":\"\"}}}],\"carpet\":[{\"aaxis\":{\"endlinecolor\":\"#2a3f5f\",\"gridcolor\":\"white\",\"linecolor\":\"white\",\"minorgridcolor\":\"white\",\"startlinecolor\":\"#2a3f5f\"},\"baxis\":{\"endlinecolor\":\"#2a3f5f\",\"gridcolor\":\"white\",\"linecolor\":\"white\",\"minorgridcolor\":\"white\",\"startlinecolor\":\"#2a3f5f\"},\"type\":\"carpet\"}],\"table\":[{\"cells\":{\"fill\":{\"color\":\"#EBF0F8\"},\"line\":{\"color\":\"white\"}},\"header\":{\"fill\":{\"color\":\"#C8D4E3\"},\"line\":{\"color\":\"white\"}},\"type\":\"table\"}],\"barpolar\":[{\"marker\":{\"line\":{\"color\":\"#E5ECF6\",\"width\":0.5},\"pattern\":{\"fillmode\":\"overlay\",\"size\":10,\"solidity\":0.2}},\"type\":\"barpolar\"}],\"pie\":[{\"automargin\":true,\"type\":\"pie\"}]},\"layout\":{\"autotypenumbers\":\"strict\",\"colorway\":[\"#636efa\",\"#EF553B\",\"#00cc96\",\"#ab63fa\",\"#FFA15A\",\"#19d3f3\",\"#FF6692\",\"#B6E880\",\"#FF97FF\",\"#FECB52\"],\"font\":{\"color\":\"#2a3f5f\"},\"hovermode\":\"closest\",\"hoverlabel\":{\"align\":\"left\"},\"paper_bgcolor\":\"white\",\"plot_bgcolor\":\"#E5ECF6\",\"polar\":{\"bgcolor\":\"#E5ECF6\",\"angularaxis\":{\"gridcolor\":\"white\",\"linecolor\":\"white\",\"ticks\":\"\"},\"radialaxis\":{\"gridcolor\":\"white\",\"linecolor\":\"white\",\"ticks\":\"\"}},\"ternary\":{\"bgcolor\":\"#E5ECF6\",\"aaxis\":{\"gridcolor\":\"white\",\"linecolor\":\"white\",\"ticks\":\"\"},\"baxis\":{\"gridcolor\":\"white\",\"linecolor\":\"white\",\"ticks\":\"\"},\"caxis\":{\"gridcolor\":\"white\",\"linecolor\":\"white\",\"ticks\":\"\"}},\"coloraxis\":{\"colorbar\":{\"outlinewidth\":0,\"ticks\":\"\"}},\"colorscale\":{\"sequential\":[[0.0,\"#0d0887\"],[0.1111111111111111,\"#46039f\"],[0.2222222222222222,\"#7201a8\"],[0.3333333333333333,\"#9c179e\"],[0.4444444444444444,\"#bd3786\"],[0.5555555555555556,\"#d8576b\"],[0.6666666666666666,\"#ed7953\"],[0.7777777777777778,\"#fb9f3a\"],[0.8888888888888888,\"#fdca26\"],[1.0,\"#f0f921\"]],\"sequentialminus\":[[0.0,\"#0d0887\"],[0.1111111111111111,\"#46039f\"],[0.2222222222222222,\"#7201a8\"],[0.3333333333333333,\"#9c179e\"],[0.4444444444444444,\"#bd3786\"],[0.5555555555555556,\"#d8576b\"],[0.6666666666666666,\"#ed7953\"],[0.7777777777777778,\"#fb9f3a\"],[0.8888888888888888,\"#fdca26\"],[1.0,\"#f0f921\"]],\"diverging\":[[0,\"#8e0152\"],[0.1,\"#c51b7d\"],[0.2,\"#de77ae\"],[0.3,\"#f1b6da\"],[0.4,\"#fde0ef\"],[0.5,\"#f7f7f7\"],[0.6,\"#e6f5d0\"],[0.7,\"#b8e186\"],[0.8,\"#7fbc41\"],[0.9,\"#4d9221\"],[1,\"#276419\"]]},\"xaxis\":{\"gridcolor\":\"white\",\"linecolor\":\"white\",\"ticks\":\"\",\"title\":{\"standoff\":15},\"zerolinecolor\":\"white\",\"automargin\":true,\"zerolinewidth\":2},\"yaxis\":{\"gridcolor\":\"white\",\"linecolor\":\"white\",\"ticks\":\"\",\"title\":{\"standoff\":15},\"zerolinecolor\":\"white\",\"automargin\":true,\"zerolinewidth\":2},\"scene\":{\"xaxis\":{\"backgroundcolor\":\"#E5ECF6\",\"gridcolor\":\"white\",\"linecolor\":\"white\",\"showbackground\":true,\"ticks\":\"\",\"zerolinecolor\":\"white\",\"gridwidth\":2},\"yaxis\":{\"backgroundcolor\":\"#E5ECF6\",\"gridcolor\":\"white\",\"linecolor\":\"white\",\"showbackground\":true,\"ticks\":\"\",\"zerolinecolor\":\"white\",\"gridwidth\":2},\"zaxis\":{\"backgroundcolor\":\"#E5ECF6\",\"gridcolor\":\"white\",\"linecolor\":\"white\",\"showbackground\":true,\"ticks\":\"\",\"zerolinecolor\":\"white\",\"gridwidth\":2}},\"shapedefaults\":{\"line\":{\"color\":\"#2a3f5f\"}},\"annotationdefaults\":{\"arrowcolor\":\"#2a3f5f\",\"arrowhead\":0,\"arrowwidth\":1},\"geo\":{\"bgcolor\":\"white\",\"landcolor\":\"#E5ECF6\",\"subunitcolor\":\"white\",\"showland\":true,\"showlakes\":true,\"lakecolor\":\"white\"},\"title\":{\"x\":0.05},\"mapbox\":{\"style\":\"light\"}}},\"title\":{\"font\":{\"size\":34},\"x\":0.5},\"xaxis\":{\"title\":{\"text\":\"Value\",\"font\":{\"size\":18}},\"tickmode\":\"linear\",\"tick0\":0.0,\"dtick\":5,\"range\":[-1.5,74.4849775070403],\"tickfont\":{\"size\":14}},\"legend\":{\"font\":{\"size\":22},\"yanchor\":\"top\",\"y\":0.97,\"xanchor\":\"right\",\"x\":0.97},\"yaxis\":{\"title\":{\"text\":\"Diagnosis\",\"font\":{\"size\":18}},\"tickfont\":{\"size\":14}},\"showlegend\":false,\"autosize\":false,\"width\":950,\"height\":400},                        {\"responsive\": true}                    ).then(function(){\n",
       "                            \n",
       "var gd = document.getElementById('16d600a0-eb47-408b-8598-7fb4e6f0ffe1');\n",
       "var x = new MutationObserver(function (mutations, observer) {{\n",
       "        var display = window.getComputedStyle(gd).display;\n",
       "        if (!display || display === 'none') {{\n",
       "            console.log([gd, 'removed!']);\n",
       "            Plotly.purge(gd);\n",
       "            observer.disconnect();\n",
       "        }}\n",
       "}});\n",
       "\n",
       "// Listen for the removal of the full notebook cells\n",
       "var notebookContainer = gd.closest('#notebook-container');\n",
       "if (notebookContainer) {{\n",
       "    x.observe(notebookContainer, {childList: true});\n",
       "}}\n",
       "\n",
       "// Listen for the clearing of the current output cell\n",
       "var outputEl = gd.closest('.output');\n",
       "if (outputEl) {{\n",
       "    x.observe(outputEl, {childList: true});\n",
       "}}\n",
       "\n",
       "                        })                };                });            </script>        </div>"
      ]
     },
     "metadata": {},
     "output_type": "display_data"
    }
   ],
   "source": [
    "fig = atypicality_boxes(S=S,\n",
    "                    diagnosis=diagnosis,\n",
    "                    color_list=color_list)\n",
    "fig"
   ]
  },
  {
   "cell_type": "code",
   "execution_count": null,
   "id": "559dc97a",
   "metadata": {},
   "outputs": [],
   "source": []
  }
 ],
 "metadata": {
  "kernelspec": {
   "display_name": "Python 3 (ipykernel)",
   "language": "python",
   "name": "python3"
  },
  "language_info": {
   "codemirror_mode": {
    "name": "ipython",
    "version": 3
   },
   "file_extension": ".py",
   "mimetype": "text/x-python",
   "name": "python",
   "nbconvert_exporter": "python",
   "pygments_lexer": "ipython3",
   "version": "3.9.12"
  }
 },
 "nbformat": 4,
 "nbformat_minor": 5
}
