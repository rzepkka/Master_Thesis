{
 "cells": [
  {
   "cell_type": "code",
   "execution_count": 1,
   "id": "0a8b53eb",
   "metadata": {},
   "outputs": [],
   "source": [
    "from matplotlib import pyplot as plt \n",
    "import numpy as np \n",
    "import pandas as pd \n",
    "import plotly.express as px\n",
    "import plotly.io as pio\n",
    "import plotly.graph_objs as go\n",
    "import plotly.offline as pyo\n",
    "import pickle\n",
    "\n",
    "from collections import Counter\n",
    "\n",
    "import plotly.graph_objects as go\n",
    "import plotly.express as px\n",
    "from plotly.subplots import make_subplots\n",
    "\n",
    "from matplotlib import rc"
   ]
  },
  {
   "cell_type": "markdown",
   "id": "7591cd71",
   "metadata": {},
   "source": [
    "### Load pickle"
   ]
  },
  {
   "cell_type": "code",
   "execution_count": 2,
   "id": "87720551",
   "metadata": {},
   "outputs": [],
   "source": [
    "read_input = open('data/ADC_FTLD_subtypes_agecorrected_zscore_final.pickle','rb')\n",
    "load_inputs = pickle.load(read_input)\n",
    "read_input.close()\n",
    "\n",
    "T, S, X = load_inputs"
   ]
  },
  {
   "cell_type": "markdown",
   "id": "b2a2a0f6",
   "metadata": {},
   "source": [
    "- T --> timeline (timeline object)\n",
    "\n",
    "- S --> subjects (dict)"
   ]
  },
  {
   "cell_type": "code",
   "execution_count": 3,
   "id": "78ee57b6",
   "metadata": {},
   "outputs": [
    {
     "data": {
      "text/plain": [
       "1080"
      ]
     },
     "execution_count": 3,
     "metadata": {},
     "output_type": "execute_result"
    }
   ],
   "source": [
    "len(S['atypicality'])"
   ]
  },
  {
   "cell_type": "code",
   "execution_count": 4,
   "id": "72dca60c",
   "metadata": {},
   "outputs": [
    {
     "data": {
      "text/plain": [
       "array([3.77340938, 9.41622155, 4.62668588, ...,        nan,        nan,\n",
       "              nan])"
      ]
     },
     "execution_count": 4,
     "metadata": {},
     "output_type": "execute_result"
    }
   ],
   "source": [
    "S['atypicality']"
   ]
  },
  {
   "cell_type": "markdown",
   "id": "756d0abe",
   "metadata": {},
   "source": [
    "### Create diagnosis variable\n",
    "\n",
    "- FTD = Frontotemporal Dementia"
   ]
  },
  {
   "cell_type": "code",
   "execution_count": 39,
   "id": "2b96a65b",
   "metadata": {},
   "outputs": [],
   "source": [
    "subtypes = S['subtypes']\n",
    "atypical = S['atypicality']\n",
    "diagnosis = ['Control' if np.isnan(subtype) else \"FTD\" for subtype in subtypes]\n",
    "# diagnosis"
   ]
  },
  {
   "cell_type": "code",
   "execution_count": 40,
   "id": "59a95aac",
   "metadata": {},
   "outputs": [
    {
     "data": {
      "text/plain": [
       "{'FTD': 399, 'Control': 681}"
      ]
     },
     "execution_count": 40,
     "metadata": {},
     "output_type": "execute_result"
    }
   ],
   "source": [
    "counter = dict(Counter(diagnosis))\n",
    "counter"
   ]
  },
  {
   "cell_type": "code",
   "execution_count": 41,
   "id": "af8939ab",
   "metadata": {},
   "outputs": [],
   "source": [
    "# check = ['Control' if np.isnan(stage) else \"FTD\" for stage in staging]\n",
    "# counter = dict(Counter(check))\n",
    "# counter"
   ]
  },
  {
   "cell_type": "code",
   "execution_count": 42,
   "id": "4b338a2a",
   "metadata": {},
   "outputs": [
    {
     "data": {
      "text/plain": [
       "array([ 3.77340938,  9.41622155,  4.62668588,  7.33794599, 16.59190552,\n",
       "        3.44938702, 12.24217853, 12.23141099,  6.0023154 , 12.59100386,\n",
       "        9.04929997, 12.08461199,  5.72702371, 17.13140078,  9.68853373,\n",
       "        9.49001125, 21.90321315,  6.6561032 ,  3.7936146 ,  3.94649783,\n",
       "        2.31856854,  4.23023695,  9.74827541,  3.81768523,  2.4377852 ,\n",
       "        2.23540365, 18.23339926,  5.18047789,  5.4147483 ,  7.13871566,\n",
       "        3.86258724, 12.68981967,  7.18920314, 11.52189123,  8.20195775,\n",
       "       14.17164068,  5.31789805, 12.7504213 , 12.78733112,  1.39922972,\n",
       "        3.36835973,  4.62393041, 10.71174243,  4.10906568, 11.39750226,\n",
       "       11.27105022,  6.80940824,  2.11410596,  7.6231642 , 20.05737424])"
      ]
     },
     "execution_count": 42,
     "metadata": {},
     "output_type": "execute_result"
    }
   ],
   "source": [
    "S['atypicality'][0:50]"
   ]
  },
  {
   "cell_type": "markdown",
   "id": "2d443559",
   "metadata": {},
   "source": [
    "### Convert Nans to 0.0"
   ]
  },
  {
   "cell_type": "code",
   "execution_count": 47,
   "id": "96eec35f",
   "metadata": {},
   "outputs": [
    {
     "data": {
      "text/plain": [
       "37.735109628692555"
      ]
     },
     "execution_count": 47,
     "metadata": {},
     "output_type": "execute_result"
    }
   ],
   "source": [
    "atypical = [np.float64(0.0) if np.isnan(x) else x for x in atypicality]\n",
    "np.max(atypical)"
   ]
  },
  {
   "cell_type": "markdown",
   "id": "3fc58717",
   "metadata": {},
   "source": [
    "### Get labels"
   ]
  },
  {
   "cell_type": "code",
   "execution_count": 12,
   "id": "c8c12446",
   "metadata": {},
   "outputs": [
    {
     "data": {
      "text/plain": [
       "['Control', 'FTD']"
      ]
     },
     "execution_count": 12,
     "metadata": {},
     "output_type": "execute_result"
    }
   ],
   "source": [
    "labels = list(set(diagnosis))\n",
    "# labels = labels[::-1]\n",
    "labels"
   ]
  },
  {
   "cell_type": "code",
   "execution_count": 16,
   "id": "ad6ce9a9",
   "metadata": {},
   "outputs": [],
   "source": [
    "color_list = ['#4daf4a','#377eb8','#e41a1c', '#ffff00']"
   ]
  },
  {
   "cell_type": "markdown",
   "id": "f79c4d6b",
   "metadata": {},
   "source": [
    "### Get indexes"
   ]
  },
  {
   "cell_type": "code",
   "execution_count": 17,
   "id": "97a092c2",
   "metadata": {},
   "outputs": [
    {
     "data": {
      "text/plain": [
       "399"
      ]
     },
     "execution_count": 17,
     "metadata": {},
     "output_type": "execute_result"
    }
   ],
   "source": [
    "diagnosis = np.array(diagnosis)\n",
    "atypicality = np.array(atypicality)\n",
    "\n",
    "idx_Control = np.where(diagnosis=='Control')\n",
    "idx_Control = idx_Control[0]\n",
    "\n",
    "idx_FTD = np.where(diagnosis=='FTD')\n",
    "idx_FTD = idx_FTD[0]\n",
    "len(idx_FTD)"
   ]
  },
  {
   "cell_type": "code",
   "execution_count": 18,
   "id": "4f5a82ab",
   "metadata": {},
   "outputs": [
    {
     "data": {
      "text/plain": [
       "['Control', 'FTD']"
      ]
     },
     "execution_count": 18,
     "metadata": {},
     "output_type": "execute_result"
    }
   ],
   "source": [
    "list(set(diagnosis))"
   ]
  },
  {
   "cell_type": "markdown",
   "id": "28c44e9f",
   "metadata": {},
   "source": [
    "## Atypicality function"
   ]
  },
  {
   "cell_type": "code",
   "execution_count": 74,
   "id": "90b4afb1",
   "metadata": {},
   "outputs": [],
   "source": [
    "def atypicality(S, diagnosis, color_list=['#000000'], num_bins=10, bin_width=0.02):\n",
    "    \"\"\"\n",
    "    Creates a barplot\n",
    "    :param S: dictionary, Snowphlake output\n",
    "    :param diagnosis: np.array or list; with diagnosis labels corresponding to records in S\n",
    "    :param color_list: list with color hex values\n",
    "    :param num_bins: int, how many bins should be displayed\n",
    "    :param bin_width: int\n",
    "    :return: plotly go Bar figure\n",
    "    \"\"\"  \n",
    "    \n",
    "    # Convert NaNs to 0.0\n",
    "    atypical = np.array([np.float64(0.0) if np.isnan(x) else x for x in S['atypicality']])\n",
    "   \n",
    "    # Count number of each subtype occurences\n",
    "    counter = dict(Counter(diagnosis))\n",
    "        \n",
    "    # Get labels\n",
    "    labels = list(set(diagnosis))\n",
    "#     labels = labels[::-1]\n",
    "    \n",
    "    # Get indexes\n",
    "    diagnosis = np.array(diagnosis)\n",
    "    atypical = np.array(atypical)\n",
    "    \n",
    "    # Get indexes for each diagnostic label\n",
    "    idx_list = []\n",
    "    for l in labels:\n",
    "        idx = np.where(diagnosis==l)\n",
    "        idx = idx[0]\n",
    "        idx_list.append(idx)\n",
    "\n",
    "    # Bar settings\n",
    "    num_bins = num_bins\n",
    "    bin_width = np.repeat(bin_width, num_bins)\n",
    "          \n",
    "    color_list = color_list\n",
    "        \n",
    "    count=-1    \n",
    "    num_bins = num_bins\n",
    "    bar_width = np.repeat(0.02, num_bins)\n",
    "    counter = dict(Counter(diagnosis))\n",
    "\n",
    "    fig = go.Figure()\n",
    "    \n",
    "    for idx in idx_list:\n",
    "                if len(idx)>0:\n",
    "                    count=count+1;\n",
    "                freq,binc=np.histogram(atypical[idx],bins=num_bins)\n",
    "                freq = (1.*freq)/len(atypical)\n",
    "                \n",
    "                label = labels[count]\n",
    "\n",
    "                fig.add_trace(go.Bar(\n",
    "                            x=binc[:-1],\n",
    "                            y=freq,\n",
    "                            name=f'{label} (n = {counter[label]})',\n",
    "                            width=bin_width,\n",
    "                            marker_color=color_list[count]\n",
    "                )) \n",
    "                \n",
    "    fig.update_layout(\n",
    "        title=\"Atypicality\",\n",
    "        title_font_size=34,\n",
    "        title_x=0.5,\n",
    "        xaxis_title=\"Value\",\n",
    "        yaxis_title=\"Frequency of occurences\",\n",
    "        xaxis = dict(\n",
    "            tickmode = 'linear',\n",
    "            tick0 = 0.0,\n",
    "            dtick = 2\n",
    "        ),\n",
    "        barmode='group',\n",
    "        legend_font_size=16,\n",
    "        legend=dict(\n",
    "            yanchor=\"top\",\n",
    "            y=0.95,\n",
    "            xanchor=\"right\",\n",
    "            x=0.95),\n",
    "        autosize = False,\n",
    "        width=1000,\n",
    "        height=800\n",
    "    )\n",
    "    \n",
    "    fig.update_xaxes(range=[np.min(atypical)-0.05, np.max(atypical)])\n",
    "    \n",
    "    fig.update_yaxes(title_font_size = 18, \n",
    "                    tickfont_size=14)\n",
    "    \n",
    "    fig.update_xaxes(title_font_size = 18, \n",
    "                    tickfont_size = 14)\n",
    "\n",
    "    return fig"
   ]
  },
  {
   "cell_type": "code",
   "execution_count": 75,
   "id": "8476bf6e",
   "metadata": {},
   "outputs": [],
   "source": [
    "# FOR TESTING\n",
    "diagnosis = np.array(['Control' if np.isnan(subtype) else \"FTD\" for subtype in S['subtypes']])\n",
    "\n",
    "num_bins = 10\n",
    "bin_width = 0.02\n",
    "color_list = ['#4daf4a','#377eb8','#e41a1c', '#ffff00']\n"
   ]
  },
  {
   "cell_type": "code",
   "execution_count": 76,
   "id": "c3c94ce1",
   "metadata": {},
   "outputs": [
    {
     "data": {
      "application/vnd.plotly.v1+json": {
       "config": {
        "plotlyServerURL": "https://plot.ly"
       },
       "data": [
        {
         "marker": {
          "color": "#4daf4a"
         },
         "name": "Control (n = 681)",
         "type": "bar",
         "width": [
          1.2,
          1.2,
          1.2,
          1.2,
          1.2,
          1.2,
          1.2,
          1.2,
          1.2,
          1.2,
          1.2,
          1.2,
          1.2,
          1.2,
          1.2,
          1.2,
          1.2,
          1.2,
          1.2,
          1.2
         ],
         "x": [
          -0.5,
          -0.45,
          -0.4,
          -0.35,
          -0.3,
          -0.25,
          -0.19999999999999996,
          -0.14999999999999997,
          -0.09999999999999998,
          -0.04999999999999999,
          0,
          0.050000000000000044,
          0.10000000000000009,
          0.15000000000000002,
          0.20000000000000007,
          0.25,
          0.30000000000000004,
          0.3500000000000001,
          0.4,
          0.45000000000000007
         ],
         "y": [
          0,
          0,
          0,
          0,
          0,
          0,
          0,
          0,
          0,
          0,
          0.6305555555555555,
          0,
          0,
          0,
          0,
          0,
          0,
          0,
          0,
          0
         ]
        },
        {
         "marker": {
          "color": "#377eb8"
         },
         "name": "FTD (n = 399)",
         "type": "bar",
         "width": [
          1.2,
          1.2,
          1.2,
          1.2,
          1.2,
          1.2,
          1.2,
          1.2,
          1.2,
          1.2,
          1.2,
          1.2,
          1.2,
          1.2,
          1.2,
          1.2,
          1.2,
          1.2,
          1.2,
          1.2
         ],
         "x": [
          0.6212766224153874,
          2.4769682727292457,
          4.332659923043105,
          6.188351573356964,
          8.04404322367082,
          9.899734873984679,
          11.755426524298539,
          13.611118174612397,
          15.466809824926255,
          17.322501475240113,
          19.17819312555397,
          21.03388477586783,
          22.88957642618169,
          24.74526807649555,
          26.600959726809407,
          28.456651377123265,
          30.312343027437123,
          32.16803467775098,
          34.02372632806484,
          35.8794179783787
         ],
         "y": [
          0.03148148148148148,
          0.05925925925925926,
          0.07037037037037037,
          0.05185185185185185,
          0.04259259259259259,
          0.03425925925925926,
          0.030555555555555555,
          0.017592592592592594,
          0.013888888888888888,
          0.004629629629629629,
          0.004629629629629629,
          0.003703703703703704,
          0.000925925925925926,
          0,
          0.000925925925925926,
          0,
          0.000925925925925926,
          0.000925925925925926,
          0,
          0.000925925925925926
         ]
        }
       ],
       "layout": {
        "autosize": false,
        "barmode": "group",
        "height": 800,
        "legend": {
         "font": {
          "size": 16
         },
         "x": 0.95,
         "xanchor": "right",
         "y": 0.95,
         "yanchor": "top"
        },
        "template": {
         "data": {
          "bar": [
           {
            "error_x": {
             "color": "#2a3f5f"
            },
            "error_y": {
             "color": "#2a3f5f"
            },
            "marker": {
             "line": {
              "color": "#E5ECF6",
              "width": 0.5
             },
             "pattern": {
              "fillmode": "overlay",
              "size": 10,
              "solidity": 0.2
             }
            },
            "type": "bar"
           }
          ],
          "barpolar": [
           {
            "marker": {
             "line": {
              "color": "#E5ECF6",
              "width": 0.5
             },
             "pattern": {
              "fillmode": "overlay",
              "size": 10,
              "solidity": 0.2
             }
            },
            "type": "barpolar"
           }
          ],
          "carpet": [
           {
            "aaxis": {
             "endlinecolor": "#2a3f5f",
             "gridcolor": "white",
             "linecolor": "white",
             "minorgridcolor": "white",
             "startlinecolor": "#2a3f5f"
            },
            "baxis": {
             "endlinecolor": "#2a3f5f",
             "gridcolor": "white",
             "linecolor": "white",
             "minorgridcolor": "white",
             "startlinecolor": "#2a3f5f"
            },
            "type": "carpet"
           }
          ],
          "choropleth": [
           {
            "colorbar": {
             "outlinewidth": 0,
             "ticks": ""
            },
            "type": "choropleth"
           }
          ],
          "contour": [
           {
            "colorbar": {
             "outlinewidth": 0,
             "ticks": ""
            },
            "colorscale": [
             [
              0,
              "#0d0887"
             ],
             [
              0.1111111111111111,
              "#46039f"
             ],
             [
              0.2222222222222222,
              "#7201a8"
             ],
             [
              0.3333333333333333,
              "#9c179e"
             ],
             [
              0.4444444444444444,
              "#bd3786"
             ],
             [
              0.5555555555555556,
              "#d8576b"
             ],
             [
              0.6666666666666666,
              "#ed7953"
             ],
             [
              0.7777777777777778,
              "#fb9f3a"
             ],
             [
              0.8888888888888888,
              "#fdca26"
             ],
             [
              1,
              "#f0f921"
             ]
            ],
            "type": "contour"
           }
          ],
          "contourcarpet": [
           {
            "colorbar": {
             "outlinewidth": 0,
             "ticks": ""
            },
            "type": "contourcarpet"
           }
          ],
          "heatmap": [
           {
            "colorbar": {
             "outlinewidth": 0,
             "ticks": ""
            },
            "colorscale": [
             [
              0,
              "#0d0887"
             ],
             [
              0.1111111111111111,
              "#46039f"
             ],
             [
              0.2222222222222222,
              "#7201a8"
             ],
             [
              0.3333333333333333,
              "#9c179e"
             ],
             [
              0.4444444444444444,
              "#bd3786"
             ],
             [
              0.5555555555555556,
              "#d8576b"
             ],
             [
              0.6666666666666666,
              "#ed7953"
             ],
             [
              0.7777777777777778,
              "#fb9f3a"
             ],
             [
              0.8888888888888888,
              "#fdca26"
             ],
             [
              1,
              "#f0f921"
             ]
            ],
            "type": "heatmap"
           }
          ],
          "heatmapgl": [
           {
            "colorbar": {
             "outlinewidth": 0,
             "ticks": ""
            },
            "colorscale": [
             [
              0,
              "#0d0887"
             ],
             [
              0.1111111111111111,
              "#46039f"
             ],
             [
              0.2222222222222222,
              "#7201a8"
             ],
             [
              0.3333333333333333,
              "#9c179e"
             ],
             [
              0.4444444444444444,
              "#bd3786"
             ],
             [
              0.5555555555555556,
              "#d8576b"
             ],
             [
              0.6666666666666666,
              "#ed7953"
             ],
             [
              0.7777777777777778,
              "#fb9f3a"
             ],
             [
              0.8888888888888888,
              "#fdca26"
             ],
             [
              1,
              "#f0f921"
             ]
            ],
            "type": "heatmapgl"
           }
          ],
          "histogram": [
           {
            "marker": {
             "pattern": {
              "fillmode": "overlay",
              "size": 10,
              "solidity": 0.2
             }
            },
            "type": "histogram"
           }
          ],
          "histogram2d": [
           {
            "colorbar": {
             "outlinewidth": 0,
             "ticks": ""
            },
            "colorscale": [
             [
              0,
              "#0d0887"
             ],
             [
              0.1111111111111111,
              "#46039f"
             ],
             [
              0.2222222222222222,
              "#7201a8"
             ],
             [
              0.3333333333333333,
              "#9c179e"
             ],
             [
              0.4444444444444444,
              "#bd3786"
             ],
             [
              0.5555555555555556,
              "#d8576b"
             ],
             [
              0.6666666666666666,
              "#ed7953"
             ],
             [
              0.7777777777777778,
              "#fb9f3a"
             ],
             [
              0.8888888888888888,
              "#fdca26"
             ],
             [
              1,
              "#f0f921"
             ]
            ],
            "type": "histogram2d"
           }
          ],
          "histogram2dcontour": [
           {
            "colorbar": {
             "outlinewidth": 0,
             "ticks": ""
            },
            "colorscale": [
             [
              0,
              "#0d0887"
             ],
             [
              0.1111111111111111,
              "#46039f"
             ],
             [
              0.2222222222222222,
              "#7201a8"
             ],
             [
              0.3333333333333333,
              "#9c179e"
             ],
             [
              0.4444444444444444,
              "#bd3786"
             ],
             [
              0.5555555555555556,
              "#d8576b"
             ],
             [
              0.6666666666666666,
              "#ed7953"
             ],
             [
              0.7777777777777778,
              "#fb9f3a"
             ],
             [
              0.8888888888888888,
              "#fdca26"
             ],
             [
              1,
              "#f0f921"
             ]
            ],
            "type": "histogram2dcontour"
           }
          ],
          "mesh3d": [
           {
            "colorbar": {
             "outlinewidth": 0,
             "ticks": ""
            },
            "type": "mesh3d"
           }
          ],
          "parcoords": [
           {
            "line": {
             "colorbar": {
              "outlinewidth": 0,
              "ticks": ""
             }
            },
            "type": "parcoords"
           }
          ],
          "pie": [
           {
            "automargin": true,
            "type": "pie"
           }
          ],
          "scatter": [
           {
            "fillpattern": {
             "fillmode": "overlay",
             "size": 10,
             "solidity": 0.2
            },
            "type": "scatter"
           }
          ],
          "scatter3d": [
           {
            "line": {
             "colorbar": {
              "outlinewidth": 0,
              "ticks": ""
             }
            },
            "marker": {
             "colorbar": {
              "outlinewidth": 0,
              "ticks": ""
             }
            },
            "type": "scatter3d"
           }
          ],
          "scattercarpet": [
           {
            "marker": {
             "colorbar": {
              "outlinewidth": 0,
              "ticks": ""
             }
            },
            "type": "scattercarpet"
           }
          ],
          "scattergeo": [
           {
            "marker": {
             "colorbar": {
              "outlinewidth": 0,
              "ticks": ""
             }
            },
            "type": "scattergeo"
           }
          ],
          "scattergl": [
           {
            "marker": {
             "colorbar": {
              "outlinewidth": 0,
              "ticks": ""
             }
            },
            "type": "scattergl"
           }
          ],
          "scattermapbox": [
           {
            "marker": {
             "colorbar": {
              "outlinewidth": 0,
              "ticks": ""
             }
            },
            "type": "scattermapbox"
           }
          ],
          "scatterpolar": [
           {
            "marker": {
             "colorbar": {
              "outlinewidth": 0,
              "ticks": ""
             }
            },
            "type": "scatterpolar"
           }
          ],
          "scatterpolargl": [
           {
            "marker": {
             "colorbar": {
              "outlinewidth": 0,
              "ticks": ""
             }
            },
            "type": "scatterpolargl"
           }
          ],
          "scatterternary": [
           {
            "marker": {
             "colorbar": {
              "outlinewidth": 0,
              "ticks": ""
             }
            },
            "type": "scatterternary"
           }
          ],
          "surface": [
           {
            "colorbar": {
             "outlinewidth": 0,
             "ticks": ""
            },
            "colorscale": [
             [
              0,
              "#0d0887"
             ],
             [
              0.1111111111111111,
              "#46039f"
             ],
             [
              0.2222222222222222,
              "#7201a8"
             ],
             [
              0.3333333333333333,
              "#9c179e"
             ],
             [
              0.4444444444444444,
              "#bd3786"
             ],
             [
              0.5555555555555556,
              "#d8576b"
             ],
             [
              0.6666666666666666,
              "#ed7953"
             ],
             [
              0.7777777777777778,
              "#fb9f3a"
             ],
             [
              0.8888888888888888,
              "#fdca26"
             ],
             [
              1,
              "#f0f921"
             ]
            ],
            "type": "surface"
           }
          ],
          "table": [
           {
            "cells": {
             "fill": {
              "color": "#EBF0F8"
             },
             "line": {
              "color": "white"
             }
            },
            "header": {
             "fill": {
              "color": "#C8D4E3"
             },
             "line": {
              "color": "white"
             }
            },
            "type": "table"
           }
          ]
         },
         "layout": {
          "annotationdefaults": {
           "arrowcolor": "#2a3f5f",
           "arrowhead": 0,
           "arrowwidth": 1
          },
          "autotypenumbers": "strict",
          "coloraxis": {
           "colorbar": {
            "outlinewidth": 0,
            "ticks": ""
           }
          },
          "colorscale": {
           "diverging": [
            [
             0,
             "#8e0152"
            ],
            [
             0.1,
             "#c51b7d"
            ],
            [
             0.2,
             "#de77ae"
            ],
            [
             0.3,
             "#f1b6da"
            ],
            [
             0.4,
             "#fde0ef"
            ],
            [
             0.5,
             "#f7f7f7"
            ],
            [
             0.6,
             "#e6f5d0"
            ],
            [
             0.7,
             "#b8e186"
            ],
            [
             0.8,
             "#7fbc41"
            ],
            [
             0.9,
             "#4d9221"
            ],
            [
             1,
             "#276419"
            ]
           ],
           "sequential": [
            [
             0,
             "#0d0887"
            ],
            [
             0.1111111111111111,
             "#46039f"
            ],
            [
             0.2222222222222222,
             "#7201a8"
            ],
            [
             0.3333333333333333,
             "#9c179e"
            ],
            [
             0.4444444444444444,
             "#bd3786"
            ],
            [
             0.5555555555555556,
             "#d8576b"
            ],
            [
             0.6666666666666666,
             "#ed7953"
            ],
            [
             0.7777777777777778,
             "#fb9f3a"
            ],
            [
             0.8888888888888888,
             "#fdca26"
            ],
            [
             1,
             "#f0f921"
            ]
           ],
           "sequentialminus": [
            [
             0,
             "#0d0887"
            ],
            [
             0.1111111111111111,
             "#46039f"
            ],
            [
             0.2222222222222222,
             "#7201a8"
            ],
            [
             0.3333333333333333,
             "#9c179e"
            ],
            [
             0.4444444444444444,
             "#bd3786"
            ],
            [
             0.5555555555555556,
             "#d8576b"
            ],
            [
             0.6666666666666666,
             "#ed7953"
            ],
            [
             0.7777777777777778,
             "#fb9f3a"
            ],
            [
             0.8888888888888888,
             "#fdca26"
            ],
            [
             1,
             "#f0f921"
            ]
           ]
          },
          "colorway": [
           "#636efa",
           "#EF553B",
           "#00cc96",
           "#ab63fa",
           "#FFA15A",
           "#19d3f3",
           "#FF6692",
           "#B6E880",
           "#FF97FF",
           "#FECB52"
          ],
          "font": {
           "color": "#2a3f5f"
          },
          "geo": {
           "bgcolor": "white",
           "lakecolor": "white",
           "landcolor": "#E5ECF6",
           "showlakes": true,
           "showland": true,
           "subunitcolor": "white"
          },
          "hoverlabel": {
           "align": "left"
          },
          "hovermode": "closest",
          "mapbox": {
           "style": "light"
          },
          "paper_bgcolor": "white",
          "plot_bgcolor": "#E5ECF6",
          "polar": {
           "angularaxis": {
            "gridcolor": "white",
            "linecolor": "white",
            "ticks": ""
           },
           "bgcolor": "#E5ECF6",
           "radialaxis": {
            "gridcolor": "white",
            "linecolor": "white",
            "ticks": ""
           }
          },
          "scene": {
           "xaxis": {
            "backgroundcolor": "#E5ECF6",
            "gridcolor": "white",
            "gridwidth": 2,
            "linecolor": "white",
            "showbackground": true,
            "ticks": "",
            "zerolinecolor": "white"
           },
           "yaxis": {
            "backgroundcolor": "#E5ECF6",
            "gridcolor": "white",
            "gridwidth": 2,
            "linecolor": "white",
            "showbackground": true,
            "ticks": "",
            "zerolinecolor": "white"
           },
           "zaxis": {
            "backgroundcolor": "#E5ECF6",
            "gridcolor": "white",
            "gridwidth": 2,
            "linecolor": "white",
            "showbackground": true,
            "ticks": "",
            "zerolinecolor": "white"
           }
          },
          "shapedefaults": {
           "line": {
            "color": "#2a3f5f"
           }
          },
          "ternary": {
           "aaxis": {
            "gridcolor": "white",
            "linecolor": "white",
            "ticks": ""
           },
           "baxis": {
            "gridcolor": "white",
            "linecolor": "white",
            "ticks": ""
           },
           "bgcolor": "#E5ECF6",
           "caxis": {
            "gridcolor": "white",
            "linecolor": "white",
            "ticks": ""
           }
          },
          "title": {
           "x": 0.05
          },
          "xaxis": {
           "automargin": true,
           "gridcolor": "white",
           "linecolor": "white",
           "ticks": "",
           "title": {
            "standoff": 15
           },
           "zerolinecolor": "white",
           "zerolinewidth": 2
          },
          "yaxis": {
           "automargin": true,
           "gridcolor": "white",
           "linecolor": "white",
           "ticks": "",
           "title": {
            "standoff": 15
           },
           "zerolinecolor": "white",
           "zerolinewidth": 2
          }
         }
        },
        "title": {
         "font": {
          "size": 34
         },
         "text": "Atypicality",
         "x": 0.5
        },
        "width": 1000,
        "xaxis": {
         "dtick": 2,
         "range": [
          -0.05,
          37.735109628692555
         ],
         "tick0": 0,
         "tickfont": {
          "size": 14
         },
         "tickmode": "linear",
         "title": {
          "font": {
           "size": 18
          },
          "text": "Value"
         }
        },
        "yaxis": {
         "tickfont": {
          "size": 14
         },
         "title": {
          "font": {
           "size": 18
          },
          "text": "Frequency of occurences"
         }
        }
       }
      },
      "text/html": [
       "<div>                            <div id=\"03e30d3b-4f1b-4cb0-82a0-0ed1e91c83e6\" class=\"plotly-graph-div\" style=\"height:800px; width:1000px;\"></div>            <script type=\"text/javascript\">                require([\"plotly\"], function(Plotly) {                    window.PLOTLYENV=window.PLOTLYENV || {};                                    if (document.getElementById(\"03e30d3b-4f1b-4cb0-82a0-0ed1e91c83e6\")) {                    Plotly.newPlot(                        \"03e30d3b-4f1b-4cb0-82a0-0ed1e91c83e6\",                        [{\"marker\":{\"color\":\"#4daf4a\"},\"name\":\"Control (n = 681)\",\"width\":[1.2,1.2,1.2,1.2,1.2,1.2,1.2,1.2,1.2,1.2,1.2,1.2,1.2,1.2,1.2,1.2,1.2,1.2,1.2,1.2],\"x\":[-0.5,-0.45,-0.4,-0.35,-0.3,-0.25,-0.19999999999999996,-0.14999999999999997,-0.09999999999999998,-0.04999999999999999,0.0,0.050000000000000044,0.10000000000000009,0.15000000000000002,0.20000000000000007,0.25,0.30000000000000004,0.3500000000000001,0.4,0.45000000000000007],\"y\":[0.0,0.0,0.0,0.0,0.0,0.0,0.0,0.0,0.0,0.0,0.6305555555555555,0.0,0.0,0.0,0.0,0.0,0.0,0.0,0.0,0.0],\"type\":\"bar\"},{\"marker\":{\"color\":\"#377eb8\"},\"name\":\"FTD (n = 399)\",\"width\":[1.2,1.2,1.2,1.2,1.2,1.2,1.2,1.2,1.2,1.2,1.2,1.2,1.2,1.2,1.2,1.2,1.2,1.2,1.2,1.2],\"x\":[0.6212766224153874,2.4769682727292457,4.332659923043105,6.188351573356964,8.04404322367082,9.899734873984679,11.755426524298539,13.611118174612397,15.466809824926255,17.322501475240113,19.17819312555397,21.03388477586783,22.88957642618169,24.74526807649555,26.600959726809407,28.456651377123265,30.312343027437123,32.16803467775098,34.02372632806484,35.8794179783787],\"y\":[0.03148148148148148,0.05925925925925926,0.07037037037037037,0.05185185185185185,0.04259259259259259,0.03425925925925926,0.030555555555555555,0.017592592592592594,0.013888888888888888,0.004629629629629629,0.004629629629629629,0.003703703703703704,0.000925925925925926,0.0,0.000925925925925926,0.0,0.000925925925925926,0.000925925925925926,0.0,0.000925925925925926],\"type\":\"bar\"}],                        {\"template\":{\"data\":{\"histogram2dcontour\":[{\"type\":\"histogram2dcontour\",\"colorbar\":{\"outlinewidth\":0,\"ticks\":\"\"},\"colorscale\":[[0.0,\"#0d0887\"],[0.1111111111111111,\"#46039f\"],[0.2222222222222222,\"#7201a8\"],[0.3333333333333333,\"#9c179e\"],[0.4444444444444444,\"#bd3786\"],[0.5555555555555556,\"#d8576b\"],[0.6666666666666666,\"#ed7953\"],[0.7777777777777778,\"#fb9f3a\"],[0.8888888888888888,\"#fdca26\"],[1.0,\"#f0f921\"]]}],\"choropleth\":[{\"type\":\"choropleth\",\"colorbar\":{\"outlinewidth\":0,\"ticks\":\"\"}}],\"histogram2d\":[{\"type\":\"histogram2d\",\"colorbar\":{\"outlinewidth\":0,\"ticks\":\"\"},\"colorscale\":[[0.0,\"#0d0887\"],[0.1111111111111111,\"#46039f\"],[0.2222222222222222,\"#7201a8\"],[0.3333333333333333,\"#9c179e\"],[0.4444444444444444,\"#bd3786\"],[0.5555555555555556,\"#d8576b\"],[0.6666666666666666,\"#ed7953\"],[0.7777777777777778,\"#fb9f3a\"],[0.8888888888888888,\"#fdca26\"],[1.0,\"#f0f921\"]]}],\"heatmap\":[{\"type\":\"heatmap\",\"colorbar\":{\"outlinewidth\":0,\"ticks\":\"\"},\"colorscale\":[[0.0,\"#0d0887\"],[0.1111111111111111,\"#46039f\"],[0.2222222222222222,\"#7201a8\"],[0.3333333333333333,\"#9c179e\"],[0.4444444444444444,\"#bd3786\"],[0.5555555555555556,\"#d8576b\"],[0.6666666666666666,\"#ed7953\"],[0.7777777777777778,\"#fb9f3a\"],[0.8888888888888888,\"#fdca26\"],[1.0,\"#f0f921\"]]}],\"heatmapgl\":[{\"type\":\"heatmapgl\",\"colorbar\":{\"outlinewidth\":0,\"ticks\":\"\"},\"colorscale\":[[0.0,\"#0d0887\"],[0.1111111111111111,\"#46039f\"],[0.2222222222222222,\"#7201a8\"],[0.3333333333333333,\"#9c179e\"],[0.4444444444444444,\"#bd3786\"],[0.5555555555555556,\"#d8576b\"],[0.6666666666666666,\"#ed7953\"],[0.7777777777777778,\"#fb9f3a\"],[0.8888888888888888,\"#fdca26\"],[1.0,\"#f0f921\"]]}],\"contourcarpet\":[{\"type\":\"contourcarpet\",\"colorbar\":{\"outlinewidth\":0,\"ticks\":\"\"}}],\"contour\":[{\"type\":\"contour\",\"colorbar\":{\"outlinewidth\":0,\"ticks\":\"\"},\"colorscale\":[[0.0,\"#0d0887\"],[0.1111111111111111,\"#46039f\"],[0.2222222222222222,\"#7201a8\"],[0.3333333333333333,\"#9c179e\"],[0.4444444444444444,\"#bd3786\"],[0.5555555555555556,\"#d8576b\"],[0.6666666666666666,\"#ed7953\"],[0.7777777777777778,\"#fb9f3a\"],[0.8888888888888888,\"#fdca26\"],[1.0,\"#f0f921\"]]}],\"surface\":[{\"type\":\"surface\",\"colorbar\":{\"outlinewidth\":0,\"ticks\":\"\"},\"colorscale\":[[0.0,\"#0d0887\"],[0.1111111111111111,\"#46039f\"],[0.2222222222222222,\"#7201a8\"],[0.3333333333333333,\"#9c179e\"],[0.4444444444444444,\"#bd3786\"],[0.5555555555555556,\"#d8576b\"],[0.6666666666666666,\"#ed7953\"],[0.7777777777777778,\"#fb9f3a\"],[0.8888888888888888,\"#fdca26\"],[1.0,\"#f0f921\"]]}],\"mesh3d\":[{\"type\":\"mesh3d\",\"colorbar\":{\"outlinewidth\":0,\"ticks\":\"\"}}],\"scatter\":[{\"fillpattern\":{\"fillmode\":\"overlay\",\"size\":10,\"solidity\":0.2},\"type\":\"scatter\"}],\"parcoords\":[{\"type\":\"parcoords\",\"line\":{\"colorbar\":{\"outlinewidth\":0,\"ticks\":\"\"}}}],\"scatterpolargl\":[{\"type\":\"scatterpolargl\",\"marker\":{\"colorbar\":{\"outlinewidth\":0,\"ticks\":\"\"}}}],\"bar\":[{\"error_x\":{\"color\":\"#2a3f5f\"},\"error_y\":{\"color\":\"#2a3f5f\"},\"marker\":{\"line\":{\"color\":\"#E5ECF6\",\"width\":0.5},\"pattern\":{\"fillmode\":\"overlay\",\"size\":10,\"solidity\":0.2}},\"type\":\"bar\"}],\"scattergeo\":[{\"type\":\"scattergeo\",\"marker\":{\"colorbar\":{\"outlinewidth\":0,\"ticks\":\"\"}}}],\"scatterpolar\":[{\"type\":\"scatterpolar\",\"marker\":{\"colorbar\":{\"outlinewidth\":0,\"ticks\":\"\"}}}],\"histogram\":[{\"marker\":{\"pattern\":{\"fillmode\":\"overlay\",\"size\":10,\"solidity\":0.2}},\"type\":\"histogram\"}],\"scattergl\":[{\"type\":\"scattergl\",\"marker\":{\"colorbar\":{\"outlinewidth\":0,\"ticks\":\"\"}}}],\"scatter3d\":[{\"type\":\"scatter3d\",\"line\":{\"colorbar\":{\"outlinewidth\":0,\"ticks\":\"\"}},\"marker\":{\"colorbar\":{\"outlinewidth\":0,\"ticks\":\"\"}}}],\"scattermapbox\":[{\"type\":\"scattermapbox\",\"marker\":{\"colorbar\":{\"outlinewidth\":0,\"ticks\":\"\"}}}],\"scatterternary\":[{\"type\":\"scatterternary\",\"marker\":{\"colorbar\":{\"outlinewidth\":0,\"ticks\":\"\"}}}],\"scattercarpet\":[{\"type\":\"scattercarpet\",\"marker\":{\"colorbar\":{\"outlinewidth\":0,\"ticks\":\"\"}}}],\"carpet\":[{\"aaxis\":{\"endlinecolor\":\"#2a3f5f\",\"gridcolor\":\"white\",\"linecolor\":\"white\",\"minorgridcolor\":\"white\",\"startlinecolor\":\"#2a3f5f\"},\"baxis\":{\"endlinecolor\":\"#2a3f5f\",\"gridcolor\":\"white\",\"linecolor\":\"white\",\"minorgridcolor\":\"white\",\"startlinecolor\":\"#2a3f5f\"},\"type\":\"carpet\"}],\"table\":[{\"cells\":{\"fill\":{\"color\":\"#EBF0F8\"},\"line\":{\"color\":\"white\"}},\"header\":{\"fill\":{\"color\":\"#C8D4E3\"},\"line\":{\"color\":\"white\"}},\"type\":\"table\"}],\"barpolar\":[{\"marker\":{\"line\":{\"color\":\"#E5ECF6\",\"width\":0.5},\"pattern\":{\"fillmode\":\"overlay\",\"size\":10,\"solidity\":0.2}},\"type\":\"barpolar\"}],\"pie\":[{\"automargin\":true,\"type\":\"pie\"}]},\"layout\":{\"autotypenumbers\":\"strict\",\"colorway\":[\"#636efa\",\"#EF553B\",\"#00cc96\",\"#ab63fa\",\"#FFA15A\",\"#19d3f3\",\"#FF6692\",\"#B6E880\",\"#FF97FF\",\"#FECB52\"],\"font\":{\"color\":\"#2a3f5f\"},\"hovermode\":\"closest\",\"hoverlabel\":{\"align\":\"left\"},\"paper_bgcolor\":\"white\",\"plot_bgcolor\":\"#E5ECF6\",\"polar\":{\"bgcolor\":\"#E5ECF6\",\"angularaxis\":{\"gridcolor\":\"white\",\"linecolor\":\"white\",\"ticks\":\"\"},\"radialaxis\":{\"gridcolor\":\"white\",\"linecolor\":\"white\",\"ticks\":\"\"}},\"ternary\":{\"bgcolor\":\"#E5ECF6\",\"aaxis\":{\"gridcolor\":\"white\",\"linecolor\":\"white\",\"ticks\":\"\"},\"baxis\":{\"gridcolor\":\"white\",\"linecolor\":\"white\",\"ticks\":\"\"},\"caxis\":{\"gridcolor\":\"white\",\"linecolor\":\"white\",\"ticks\":\"\"}},\"coloraxis\":{\"colorbar\":{\"outlinewidth\":0,\"ticks\":\"\"}},\"colorscale\":{\"sequential\":[[0.0,\"#0d0887\"],[0.1111111111111111,\"#46039f\"],[0.2222222222222222,\"#7201a8\"],[0.3333333333333333,\"#9c179e\"],[0.4444444444444444,\"#bd3786\"],[0.5555555555555556,\"#d8576b\"],[0.6666666666666666,\"#ed7953\"],[0.7777777777777778,\"#fb9f3a\"],[0.8888888888888888,\"#fdca26\"],[1.0,\"#f0f921\"]],\"sequentialminus\":[[0.0,\"#0d0887\"],[0.1111111111111111,\"#46039f\"],[0.2222222222222222,\"#7201a8\"],[0.3333333333333333,\"#9c179e\"],[0.4444444444444444,\"#bd3786\"],[0.5555555555555556,\"#d8576b\"],[0.6666666666666666,\"#ed7953\"],[0.7777777777777778,\"#fb9f3a\"],[0.8888888888888888,\"#fdca26\"],[1.0,\"#f0f921\"]],\"diverging\":[[0,\"#8e0152\"],[0.1,\"#c51b7d\"],[0.2,\"#de77ae\"],[0.3,\"#f1b6da\"],[0.4,\"#fde0ef\"],[0.5,\"#f7f7f7\"],[0.6,\"#e6f5d0\"],[0.7,\"#b8e186\"],[0.8,\"#7fbc41\"],[0.9,\"#4d9221\"],[1,\"#276419\"]]},\"xaxis\":{\"gridcolor\":\"white\",\"linecolor\":\"white\",\"ticks\":\"\",\"title\":{\"standoff\":15},\"zerolinecolor\":\"white\",\"automargin\":true,\"zerolinewidth\":2},\"yaxis\":{\"gridcolor\":\"white\",\"linecolor\":\"white\",\"ticks\":\"\",\"title\":{\"standoff\":15},\"zerolinecolor\":\"white\",\"automargin\":true,\"zerolinewidth\":2},\"scene\":{\"xaxis\":{\"backgroundcolor\":\"#E5ECF6\",\"gridcolor\":\"white\",\"linecolor\":\"white\",\"showbackground\":true,\"ticks\":\"\",\"zerolinecolor\":\"white\",\"gridwidth\":2},\"yaxis\":{\"backgroundcolor\":\"#E5ECF6\",\"gridcolor\":\"white\",\"linecolor\":\"white\",\"showbackground\":true,\"ticks\":\"\",\"zerolinecolor\":\"white\",\"gridwidth\":2},\"zaxis\":{\"backgroundcolor\":\"#E5ECF6\",\"gridcolor\":\"white\",\"linecolor\":\"white\",\"showbackground\":true,\"ticks\":\"\",\"zerolinecolor\":\"white\",\"gridwidth\":2}},\"shapedefaults\":{\"line\":{\"color\":\"#2a3f5f\"}},\"annotationdefaults\":{\"arrowcolor\":\"#2a3f5f\",\"arrowhead\":0,\"arrowwidth\":1},\"geo\":{\"bgcolor\":\"white\",\"landcolor\":\"#E5ECF6\",\"subunitcolor\":\"white\",\"showland\":true,\"showlakes\":true,\"lakecolor\":\"white\"},\"title\":{\"x\":0.05},\"mapbox\":{\"style\":\"light\"}}},\"title\":{\"text\":\"Atypicality\",\"font\":{\"size\":34},\"x\":0.5},\"xaxis\":{\"title\":{\"text\":\"Value\",\"font\":{\"size\":18}},\"tickmode\":\"linear\",\"tick0\":0.0,\"dtick\":2,\"range\":[-0.05,37.735109628692555],\"tickfont\":{\"size\":14}},\"legend\":{\"font\":{\"size\":16},\"yanchor\":\"top\",\"y\":0.95,\"xanchor\":\"right\",\"x\":0.95},\"yaxis\":{\"title\":{\"text\":\"Frequency of occurences\",\"font\":{\"size\":18}},\"tickfont\":{\"size\":14}},\"barmode\":\"group\",\"autosize\":false,\"width\":1000,\"height\":800},                        {\"responsive\": true}                    ).then(function(){\n",
       "                            \n",
       "var gd = document.getElementById('03e30d3b-4f1b-4cb0-82a0-0ed1e91c83e6');\n",
       "var x = new MutationObserver(function (mutations, observer) {{\n",
       "        var display = window.getComputedStyle(gd).display;\n",
       "        if (!display || display === 'none') {{\n",
       "            console.log([gd, 'removed!']);\n",
       "            Plotly.purge(gd);\n",
       "            observer.disconnect();\n",
       "        }}\n",
       "}});\n",
       "\n",
       "// Listen for the removal of the full notebook cells\n",
       "var notebookContainer = gd.closest('#notebook-container');\n",
       "if (notebookContainer) {{\n",
       "    x.observe(notebookContainer, {childList: true});\n",
       "}}\n",
       "\n",
       "// Listen for the clearing of the current output cell\n",
       "var outputEl = gd.closest('.output');\n",
       "if (outputEl) {{\n",
       "    x.observe(outputEl, {childList: true});\n",
       "}}\n",
       "\n",
       "                        })                };                });            </script>        </div>"
      ]
     },
     "metadata": {},
     "output_type": "display_data"
    }
   ],
   "source": [
    "fig = atypicality(S=S,\n",
    "                      diagnosis=diagnosis, \n",
    "                      color_list = color_list,\n",
    "                      num_bins=20, \n",
    "                      bin_width=1.2)\n",
    "fig"
   ]
  },
  {
   "cell_type": "markdown",
   "id": "7cdb2693",
   "metadata": {},
   "source": [
    "## Staging Boxplots function"
   ]
  },
  {
   "cell_type": "code",
   "execution_count": 84,
   "id": "6c797076",
   "metadata": {},
   "outputs": [],
   "source": [
    "def atypicality_boxes(S, diagnosis, color_list='#000000'):\n",
    "    \"\"\"\n",
    "    Creates a boxplot\n",
    "    :param S: dictionary, Snowphlake output\n",
    "    :param diagnosis: np.array or list; with diagnosis labels corresponding to records in S\n",
    "    :param color_list: list with color hex values\n",
    "    :return: plotly go Box figure\n",
    "    \"\"\"\n",
    "    \n",
    "    # Convert NaNs to 0.0\n",
    "    atypical = np.array([np.float64(0.0) if np.isnan(x) else x for x in S['atypicality']])\n",
    "   \n",
    "    # Count number of each subtype occurences\n",
    "    counter = dict(Counter(diagnosis))\n",
    "        \n",
    "    # Get labels\n",
    "    labels = list(set(diagnosis))\n",
    "    \n",
    "    # Get indexes\n",
    "    diagnosis = np.array(diagnosis)\n",
    "    atypical = np.array(atypical)\n",
    "    \n",
    "    # Get indexes for each diagnostic label\n",
    "    idx_list = []\n",
    "    for l in labels:\n",
    "        idx = np.where(diagnosis==l)\n",
    "        idx = idx[0]\n",
    "        idx_list.append(idx)\n",
    "        \n",
    "    \n",
    "    fig = go.Figure()\n",
    "\n",
    "    for count, idx in enumerate(idx_list):\n",
    "        fig.add_trace(go.Box(x=atypical[idx], name=labels[count],\n",
    "                             fillcolor=color_list[count],\n",
    "                            line_color='#000000'))\n",
    "\n",
    "    fig.update_xaxes(range=[np.min(atypical)-0.05, np.max(atypical)])\n",
    "    \n",
    "    fig.update_layout(\n",
    "            title=\"Atypicality - Boxplots\",\n",
    "            title_font_size=34,\n",
    "            title_x=0.5,\n",
    "            xaxis_title=\"Value\",\n",
    "            yaxis_title=\"Diagnosis\",\n",
    "            xaxis = dict(\n",
    "                tickmode = 'linear',\n",
    "                tick0 = 0.0,\n",
    "                dtick = 2\n",
    "            ),\n",
    "            legend_font_size=16,\n",
    "            legend=dict(\n",
    "                yanchor=\"top\",\n",
    "                y=0.97,\n",
    "                xanchor=\"right\",\n",
    "                x=0.97),\n",
    "            autosize = False,\n",
    "            width=1000,\n",
    "            height=600\n",
    "        )\n",
    "    \n",
    "    fig.update_yaxes(title_font_size = 18, \n",
    "                    tickfont_size=14)\n",
    "    \n",
    "    fig.update_xaxes(title_font_size = 18, \n",
    "                    tickfont_size = 14)\n",
    "\n",
    "    return fig"
   ]
  },
  {
   "cell_type": "code",
   "execution_count": 85,
   "id": "0e3c029c",
   "metadata": {},
   "outputs": [],
   "source": [
    "# FOR TESTING\n",
    "diagnosis = np.array(['Control' if np.isnan(subtype) else \"FTD\" for subtype in S['subtypes']])\n",
    "color_list = ['#4daf4a','#377eb8','#e41a1c', '#ffff00']"
   ]
  },
  {
   "cell_type": "code",
   "execution_count": 86,
   "id": "c96b2cd0",
   "metadata": {},
   "outputs": [
    {
     "data": {
      "application/vnd.plotly.v1+json": {
       "config": {
        "plotlyServerURL": "https://plot.ly"
       },
       "data": [
        {
         "fillcolor": "#4daf4a",
         "line": {
          "color": "#000000"
         },
         "name": "Control",
         "type": "box",
         "x": [
          0,
          0,
          0,
          0,
          0,
          0,
          0,
          0,
          0,
          0,
          0,
          0,
          0,
          0,
          0,
          0,
          0,
          0,
          0,
          0,
          0,
          0,
          0,
          0,
          0,
          0,
          0,
          0,
          0,
          0,
          0,
          0,
          0,
          0,
          0,
          0,
          0,
          0,
          0,
          0,
          0,
          0,
          0,
          0,
          0,
          0,
          0,
          0,
          0,
          0,
          0,
          0,
          0,
          0,
          0,
          0,
          0,
          0,
          0,
          0,
          0,
          0,
          0,
          0,
          0,
          0,
          0,
          0,
          0,
          0,
          0,
          0,
          0,
          0,
          0,
          0,
          0,
          0,
          0,
          0,
          0,
          0,
          0,
          0,
          0,
          0,
          0,
          0,
          0,
          0,
          0,
          0,
          0,
          0,
          0,
          0,
          0,
          0,
          0,
          0,
          0,
          0,
          0,
          0,
          0,
          0,
          0,
          0,
          0,
          0,
          0,
          0,
          0,
          0,
          0,
          0,
          0,
          0,
          0,
          0,
          0,
          0,
          0,
          0,
          0,
          0,
          0,
          0,
          0,
          0,
          0,
          0,
          0,
          0,
          0,
          0,
          0,
          0,
          0,
          0,
          0,
          0,
          0,
          0,
          0,
          0,
          0,
          0,
          0,
          0,
          0,
          0,
          0,
          0,
          0,
          0,
          0,
          0,
          0,
          0,
          0,
          0,
          0,
          0,
          0,
          0,
          0,
          0,
          0,
          0,
          0,
          0,
          0,
          0,
          0,
          0,
          0,
          0,
          0,
          0,
          0,
          0,
          0,
          0,
          0,
          0,
          0,
          0,
          0,
          0,
          0,
          0,
          0,
          0,
          0,
          0,
          0,
          0,
          0,
          0,
          0,
          0,
          0,
          0,
          0,
          0,
          0,
          0,
          0,
          0,
          0,
          0,
          0,
          0,
          0,
          0,
          0,
          0,
          0,
          0,
          0,
          0,
          0,
          0,
          0,
          0,
          0,
          0,
          0,
          0,
          0,
          0,
          0,
          0,
          0,
          0,
          0,
          0,
          0,
          0,
          0,
          0,
          0,
          0,
          0,
          0,
          0,
          0,
          0,
          0,
          0,
          0,
          0,
          0,
          0,
          0,
          0,
          0,
          0,
          0,
          0,
          0,
          0,
          0,
          0,
          0,
          0,
          0,
          0,
          0,
          0,
          0,
          0,
          0,
          0,
          0,
          0,
          0,
          0,
          0,
          0,
          0,
          0,
          0,
          0,
          0,
          0,
          0,
          0,
          0,
          0,
          0,
          0,
          0,
          0,
          0,
          0,
          0,
          0,
          0,
          0,
          0,
          0,
          0,
          0,
          0,
          0,
          0,
          0,
          0,
          0,
          0,
          0,
          0,
          0,
          0,
          0,
          0,
          0,
          0,
          0,
          0,
          0,
          0,
          0,
          0,
          0,
          0,
          0,
          0,
          0,
          0,
          0,
          0,
          0,
          0,
          0,
          0,
          0,
          0,
          0,
          0,
          0,
          0,
          0,
          0,
          0,
          0,
          0,
          0,
          0,
          0,
          0,
          0,
          0,
          0,
          0,
          0,
          0,
          0,
          0,
          0,
          0,
          0,
          0,
          0,
          0,
          0,
          0,
          0,
          0,
          0,
          0,
          0,
          0,
          0,
          0,
          0,
          0,
          0,
          0,
          0,
          0,
          0,
          0,
          0,
          0,
          0,
          0,
          0,
          0,
          0,
          0,
          0,
          0,
          0,
          0,
          0,
          0,
          0,
          0,
          0,
          0,
          0,
          0,
          0,
          0,
          0,
          0,
          0,
          0,
          0,
          0,
          0,
          0,
          0,
          0,
          0,
          0,
          0,
          0,
          0,
          0,
          0,
          0,
          0,
          0,
          0,
          0,
          0,
          0,
          0,
          0,
          0,
          0,
          0,
          0,
          0,
          0,
          0,
          0,
          0,
          0,
          0,
          0,
          0,
          0,
          0,
          0,
          0,
          0,
          0,
          0,
          0,
          0,
          0,
          0,
          0,
          0,
          0,
          0,
          0,
          0,
          0,
          0,
          0,
          0,
          0,
          0,
          0,
          0,
          0,
          0,
          0,
          0,
          0,
          0,
          0,
          0,
          0,
          0,
          0,
          0,
          0,
          0,
          0,
          0,
          0,
          0,
          0,
          0,
          0,
          0,
          0,
          0,
          0,
          0,
          0,
          0,
          0,
          0,
          0,
          0,
          0,
          0,
          0,
          0,
          0,
          0,
          0,
          0,
          0,
          0,
          0,
          0,
          0,
          0,
          0,
          0,
          0,
          0,
          0,
          0,
          0,
          0,
          0,
          0,
          0,
          0,
          0,
          0,
          0,
          0,
          0,
          0,
          0,
          0,
          0,
          0,
          0,
          0,
          0,
          0,
          0,
          0,
          0,
          0,
          0,
          0,
          0,
          0,
          0,
          0,
          0,
          0,
          0,
          0,
          0,
          0,
          0,
          0,
          0,
          0,
          0,
          0,
          0,
          0,
          0,
          0,
          0,
          0,
          0,
          0,
          0,
          0,
          0,
          0,
          0,
          0,
          0,
          0,
          0,
          0,
          0,
          0,
          0,
          0,
          0,
          0,
          0,
          0,
          0,
          0,
          0,
          0,
          0,
          0,
          0,
          0,
          0,
          0,
          0,
          0,
          0,
          0,
          0,
          0,
          0,
          0,
          0,
          0,
          0,
          0,
          0,
          0,
          0,
          0,
          0,
          0,
          0,
          0,
          0,
          0,
          0,
          0,
          0,
          0,
          0,
          0,
          0,
          0,
          0,
          0,
          0,
          0,
          0,
          0,
          0,
          0,
          0,
          0,
          0,
          0,
          0,
          0,
          0,
          0,
          0,
          0,
          0,
          0,
          0,
          0,
          0,
          0,
          0,
          0,
          0,
          0,
          0,
          0,
          0,
          0,
          0,
          0,
          0,
          0,
          0,
          0,
          0,
          0,
          0,
          0,
          0,
          0,
          0,
          0,
          0,
          0,
          0,
          0
         ]
        },
        {
         "fillcolor": "#377eb8",
         "line": {
          "color": "#000000"
         },
         "name": "FTD",
         "type": "box",
         "x": [
          3.773409378223123,
          9.416221553469631,
          4.626685882809204,
          7.337945987600072,
          16.591905519445778,
          3.4493870217997395,
          12.242178528405656,
          12.2314109894902,
          6.00231540338634,
          12.591003862724468,
          9.049299970969944,
          12.084611987780185,
          5.727023707573629,
          17.13140077737026,
          9.68853372755086,
          9.49001125030202,
          21.90321314836831,
          6.656103203382759,
          3.7936145956224645,
          3.946497831342046,
          2.318568543246947,
          4.230236950274946,
          9.748275405521266,
          3.817685227976518,
          2.4377851981611043,
          2.235403650034505,
          18.233399264484902,
          5.180477889558177,
          5.414748303743507,
          7.13871566347374,
          3.862587238210692,
          12.689819670864228,
          7.189203135539817,
          11.521891233292916,
          8.201957748884983,
          14.171640677043289,
          5.317898045965952,
          12.750421304396227,
          12.787331123874235,
          1.3992297181813782,
          3.3683597256987157,
          4.623930406836436,
          10.711742434207457,
          4.109065683297676,
          11.397502260585142,
          11.271050216340974,
          6.80940824235598,
          2.1141059636776074,
          7.623164195508462,
          20.057374244958435,
          5.971197174553857,
          5.04221510777198,
          13.920214286814533,
          3.0135849315351977,
          5.791471762562534,
          5.329662986900004,
          9.476919198639344,
          6.71480490431603,
          9.920707924040748,
          4.892812408715342,
          13.795061438055072,
          3.8223682987558014,
          10.908364888502907,
          7.754654242027331,
          5.672553938826008,
          8.030725163621584,
          3.0863933575548925,
          5.737850578790875,
          12.554994492855194,
          5.182532141986709,
          7.872357120397485,
          2.4524255461258626,
          5.9394978993759375,
          9.607258688042958,
          9.226365501483357,
          6.369320391671627,
          5.1860079742030285,
          2.663325058757415,
          4.445522107597203,
          13.949946614047338,
          2.8632585625799,
          4.754273533232372,
          5.92394277744148,
          5.69493146034789,
          5.135407924404209,
          9.44147913354953,
          12.954351919247728,
          6.84832900562456,
          7.762310517462612,
          5.614870724568451,
          12.424910237761768,
          5.559627597424512,
          2.8851255716583877,
          12.487795155763948,
          12.904376266325874,
          2.305804543874604,
          9.372638378486528,
          3.745298312231313,
          2.1840790526549583,
          5.6836898933999285,
          6.908676217368826,
          7.668743966758182,
          9.594435181626356,
          6.785803701225991,
          1.5581694227410718,
          3.4743441127583288,
          16.460057965102717,
          8.41735154360924,
          3.4812984293689224,
          5.933270430388814,
          5.7587450193662075,
          16.08698498735024,
          3.215541946301423,
          10.254970168317792,
          3.3168018611307044,
          7.387784810297981,
          7.38166703966775,
          4.517440317634732,
          8.982798072270523,
          5.846510928155393,
          5.952130316720151,
          12.200866651506463,
          7.244812630482901,
          1.7602029116528706,
          4.745624892507841,
          19.230483697197265,
          10.420455875542329,
          11.645354483639942,
          5.371583522034172,
          2.6371258184155044,
          4.113651066477576,
          5.1943761471705665,
          7.401572861949741,
          13.968544497048995,
          4.089475995064019,
          5.665784255559894,
          6.768392017110504,
          10.283148314740776,
          3.733669407932666,
          11.966916202314273,
          2.680827991545298,
          3.7841207328442352,
          13.785040203431628,
          7.237258265633194,
          4.5245883603890835,
          10.144468899290601,
          3.606445121300929,
          4.412583416072624,
          5.918998059876097,
          1.8019114330386228,
          6.875106941965494,
          6.206629462816514,
          14.79744718395013,
          7.363377071961704,
          4.149871812702623,
          1.789299933528532,
          3.1997709801545913,
          3.8186668018993735,
          10.849554224628912,
          5.544531386104696,
          5.883270110124533,
          6.759661868814543,
          5.358542898381337,
          6.650977157114562,
          4.648187171027541,
          12.062397108798372,
          3.7787417662181184,
          10.774368942596706,
          0.6212766224153874,
          7.397481336120047,
          4.27499608879638,
          7.293507122450931,
          3.1326633713237637,
          1.337303740970937,
          4.743389483263392,
          10.631349560718494,
          12.108630673300228,
          4.814732020827827,
          3.862765221182424,
          16.989552385608214,
          10.522356161731196,
          5.21293563791657,
          2.6995793308844265,
          12.185338807903864,
          8.2290084311424,
          5.148053968695817,
          5.695362042668263,
          10.790114503972482,
          9.430285674526516,
          12.383874510726919,
          10.656152901822916,
          0.7112125481583922,
          9.47773162919961,
          4.542575587143974,
          33.28358605280792,
          10.272171779382061,
          9.476457481359875,
          5.0895133927904705,
          14.846947245236969,
          7.056158472224251,
          1.6840869269860392,
          10.93514936205532,
          7.35102772042662,
          3.5746584260349628,
          9.832994483658737,
          2.5467951373980067,
          4.18530784456647,
          6.502266667633278,
          9.80563942313256,
          13.996714714100008,
          9.64208957642592,
          5.916451627231233,
          1.7849633838225918,
          8.080563136418464,
          5.9954745506581055,
          5.64179720925713,
          18.64714895545889,
          9.46915893395428,
          17.69670224741526,
          4.6407036717569214,
          10.038539916836019,
          5.990806814244731,
          4.720095166853307,
          7.509627521704793,
          7.218207206421257,
          1.754592391572087,
          2.7374977572126107,
          10.156775426796468,
          8.690901378277491,
          10.205394629792814,
          9.058358188160977,
          5.7164790188364565,
          8.707144093263599,
          2.0887664065903326,
          3.7527964516965047,
          8.050148805686193,
          11.950606138818296,
          8.135562622244576,
          3.1850013775599617,
          2.2804207291512517,
          10.90019293747411,
          5.411465798242817,
          15.246983133510115,
          7.763163672835786,
          8.0169669914962,
          12.853632399866477,
          2.972308492269597,
          13.519503715876837,
          5.4327194257726745,
          7.376286989060978,
          2.0348076995460382,
          2.0147925472252166,
          1.370779231340176,
          6.932552866772596,
          12.009400046199865,
          2.38950922986583,
          2.6087273471660852,
          1.5293852045254546,
          4.685054878507259,
          16.170803121710357,
          5.508669735741655,
          4.3333159122468965,
          6.388832448720862,
          2.9240962917257134,
          17.270534478773648,
          5.143253460561198,
          21.785345952486026,
          26.747533980948692,
          6.97156397377991,
          4.34530567156563,
          1.787683243164262,
          5.775524397437316,
          3.326883702840142,
          4.657528681090351,
          12.450406062335736,
          8.428522368423838,
          2.6871791286416062,
          7.154789318623457,
          7.295063708710584,
          10.497307915941708,
          7.0827894906701765,
          10.950469566631334,
          15.483788760464945,
          8.795362584421607,
          6.497530272657736,
          17.208662698994154,
          8.5085990547336,
          6.072834678432607,
          14.29856911830589,
          3.0512252933980726,
          14.624698353222525,
          9.980312710750239,
          3.717348663082787,
          9.501419271517399,
          7.134205571062932,
          8.153956374239161,
          8.41108535754297,
          16.76254351452982,
          4.028578911571221,
          4.147520856099058,
          1.3102590746611529,
          8.490626465690339,
          4.531246196378399,
          21.690697388486665,
          3.7591021191856497,
          4.000509650394538,
          12.926026490264151,
          4.352365117847601,
          9.607712651464595,
          7.4295976890609055,
          3.3120130795077998,
          14.555010366825982,
          7.3132328089774115,
          4.744183486248081,
          14.098863118792103,
          1.7634534496813687,
          3.7303702887881967,
          19.197687776571932,
          3.2145413836740926,
          37.735109628692555,
          6.733170286555024,
          7.3744350343522065,
          11.688482796081026,
          14.932765949213248,
          3.6309169353582944,
          11.965658383193956,
          18.244116009725502,
          30.695037805151813,
          9.447682159420298,
          15.201172249996137,
          2.865325125140401,
          20.130554076756106,
          2.489478375361966,
          7.755631425103715,
          7.574249445616855,
          4.896403240436598,
          6.547882359639368,
          12.029938550354359,
          9.57324045010543,
          2.6048596577775953,
          5.209998201339306,
          16.97134366919473,
          5.8222419243523715,
          9.07463265022043,
          12.58385003251998,
          7.598544161948428,
          2.0480066643389474,
          8.849149623550542,
          11.261924936062014,
          6.1341200389461665,
          11.81123374997755,
          23.102156402776657,
          1.5263618444171256,
          18.18740332892345,
          13.008383650207744,
          3.5513474725137377,
          12.987291552874582,
          2.9665040418901487,
          10.675857652879948,
          14.819174761663374,
          8.375310718395522,
          12.752562550539231,
          14.890863297149522,
          16.504360548904053,
          9.388513979739782,
          11.035256305519724,
          0.9880006599243569,
          13.423660958378669,
          9.111060478887477,
          7.187428065750904,
          1.5469854171786133,
          11.117665080633083,
          10.737956196961996,
          22.308159006886733,
          13.020247738275526,
          9.44396344140668,
          1.9558955521838859,
          4.773222554232733,
          10.598849697252165,
          9.801117236742414,
          10.516220196659031,
          11.015112524445605,
          5.873203747426087,
          16.56430066217787,
          15.685163777334605,
          1.4003270269186148,
          10.17110615740549,
          4.4656968211373504,
          5.806741758875296,
          7.537249675806745,
          14.431906304270017,
          11.60758310172654,
          2.6364490387000137,
          3.366384862346391,
          6.655668656955358,
          19.293719900881257,
          3.2531577603340027,
          16.588732162349487,
          8.57936977300423
         ]
        }
       ],
       "layout": {
        "autosize": false,
        "height": 600,
        "legend": {
         "font": {
          "size": 16
         },
         "x": 0.97,
         "xanchor": "right",
         "y": 0.97,
         "yanchor": "top"
        },
        "template": {
         "data": {
          "bar": [
           {
            "error_x": {
             "color": "#2a3f5f"
            },
            "error_y": {
             "color": "#2a3f5f"
            },
            "marker": {
             "line": {
              "color": "#E5ECF6",
              "width": 0.5
             },
             "pattern": {
              "fillmode": "overlay",
              "size": 10,
              "solidity": 0.2
             }
            },
            "type": "bar"
           }
          ],
          "barpolar": [
           {
            "marker": {
             "line": {
              "color": "#E5ECF6",
              "width": 0.5
             },
             "pattern": {
              "fillmode": "overlay",
              "size": 10,
              "solidity": 0.2
             }
            },
            "type": "barpolar"
           }
          ],
          "carpet": [
           {
            "aaxis": {
             "endlinecolor": "#2a3f5f",
             "gridcolor": "white",
             "linecolor": "white",
             "minorgridcolor": "white",
             "startlinecolor": "#2a3f5f"
            },
            "baxis": {
             "endlinecolor": "#2a3f5f",
             "gridcolor": "white",
             "linecolor": "white",
             "minorgridcolor": "white",
             "startlinecolor": "#2a3f5f"
            },
            "type": "carpet"
           }
          ],
          "choropleth": [
           {
            "colorbar": {
             "outlinewidth": 0,
             "ticks": ""
            },
            "type": "choropleth"
           }
          ],
          "contour": [
           {
            "colorbar": {
             "outlinewidth": 0,
             "ticks": ""
            },
            "colorscale": [
             [
              0,
              "#0d0887"
             ],
             [
              0.1111111111111111,
              "#46039f"
             ],
             [
              0.2222222222222222,
              "#7201a8"
             ],
             [
              0.3333333333333333,
              "#9c179e"
             ],
             [
              0.4444444444444444,
              "#bd3786"
             ],
             [
              0.5555555555555556,
              "#d8576b"
             ],
             [
              0.6666666666666666,
              "#ed7953"
             ],
             [
              0.7777777777777778,
              "#fb9f3a"
             ],
             [
              0.8888888888888888,
              "#fdca26"
             ],
             [
              1,
              "#f0f921"
             ]
            ],
            "type": "contour"
           }
          ],
          "contourcarpet": [
           {
            "colorbar": {
             "outlinewidth": 0,
             "ticks": ""
            },
            "type": "contourcarpet"
           }
          ],
          "heatmap": [
           {
            "colorbar": {
             "outlinewidth": 0,
             "ticks": ""
            },
            "colorscale": [
             [
              0,
              "#0d0887"
             ],
             [
              0.1111111111111111,
              "#46039f"
             ],
             [
              0.2222222222222222,
              "#7201a8"
             ],
             [
              0.3333333333333333,
              "#9c179e"
             ],
             [
              0.4444444444444444,
              "#bd3786"
             ],
             [
              0.5555555555555556,
              "#d8576b"
             ],
             [
              0.6666666666666666,
              "#ed7953"
             ],
             [
              0.7777777777777778,
              "#fb9f3a"
             ],
             [
              0.8888888888888888,
              "#fdca26"
             ],
             [
              1,
              "#f0f921"
             ]
            ],
            "type": "heatmap"
           }
          ],
          "heatmapgl": [
           {
            "colorbar": {
             "outlinewidth": 0,
             "ticks": ""
            },
            "colorscale": [
             [
              0,
              "#0d0887"
             ],
             [
              0.1111111111111111,
              "#46039f"
             ],
             [
              0.2222222222222222,
              "#7201a8"
             ],
             [
              0.3333333333333333,
              "#9c179e"
             ],
             [
              0.4444444444444444,
              "#bd3786"
             ],
             [
              0.5555555555555556,
              "#d8576b"
             ],
             [
              0.6666666666666666,
              "#ed7953"
             ],
             [
              0.7777777777777778,
              "#fb9f3a"
             ],
             [
              0.8888888888888888,
              "#fdca26"
             ],
             [
              1,
              "#f0f921"
             ]
            ],
            "type": "heatmapgl"
           }
          ],
          "histogram": [
           {
            "marker": {
             "pattern": {
              "fillmode": "overlay",
              "size": 10,
              "solidity": 0.2
             }
            },
            "type": "histogram"
           }
          ],
          "histogram2d": [
           {
            "colorbar": {
             "outlinewidth": 0,
             "ticks": ""
            },
            "colorscale": [
             [
              0,
              "#0d0887"
             ],
             [
              0.1111111111111111,
              "#46039f"
             ],
             [
              0.2222222222222222,
              "#7201a8"
             ],
             [
              0.3333333333333333,
              "#9c179e"
             ],
             [
              0.4444444444444444,
              "#bd3786"
             ],
             [
              0.5555555555555556,
              "#d8576b"
             ],
             [
              0.6666666666666666,
              "#ed7953"
             ],
             [
              0.7777777777777778,
              "#fb9f3a"
             ],
             [
              0.8888888888888888,
              "#fdca26"
             ],
             [
              1,
              "#f0f921"
             ]
            ],
            "type": "histogram2d"
           }
          ],
          "histogram2dcontour": [
           {
            "colorbar": {
             "outlinewidth": 0,
             "ticks": ""
            },
            "colorscale": [
             [
              0,
              "#0d0887"
             ],
             [
              0.1111111111111111,
              "#46039f"
             ],
             [
              0.2222222222222222,
              "#7201a8"
             ],
             [
              0.3333333333333333,
              "#9c179e"
             ],
             [
              0.4444444444444444,
              "#bd3786"
             ],
             [
              0.5555555555555556,
              "#d8576b"
             ],
             [
              0.6666666666666666,
              "#ed7953"
             ],
             [
              0.7777777777777778,
              "#fb9f3a"
             ],
             [
              0.8888888888888888,
              "#fdca26"
             ],
             [
              1,
              "#f0f921"
             ]
            ],
            "type": "histogram2dcontour"
           }
          ],
          "mesh3d": [
           {
            "colorbar": {
             "outlinewidth": 0,
             "ticks": ""
            },
            "type": "mesh3d"
           }
          ],
          "parcoords": [
           {
            "line": {
             "colorbar": {
              "outlinewidth": 0,
              "ticks": ""
             }
            },
            "type": "parcoords"
           }
          ],
          "pie": [
           {
            "automargin": true,
            "type": "pie"
           }
          ],
          "scatter": [
           {
            "fillpattern": {
             "fillmode": "overlay",
             "size": 10,
             "solidity": 0.2
            },
            "type": "scatter"
           }
          ],
          "scatter3d": [
           {
            "line": {
             "colorbar": {
              "outlinewidth": 0,
              "ticks": ""
             }
            },
            "marker": {
             "colorbar": {
              "outlinewidth": 0,
              "ticks": ""
             }
            },
            "type": "scatter3d"
           }
          ],
          "scattercarpet": [
           {
            "marker": {
             "colorbar": {
              "outlinewidth": 0,
              "ticks": ""
             }
            },
            "type": "scattercarpet"
           }
          ],
          "scattergeo": [
           {
            "marker": {
             "colorbar": {
              "outlinewidth": 0,
              "ticks": ""
             }
            },
            "type": "scattergeo"
           }
          ],
          "scattergl": [
           {
            "marker": {
             "colorbar": {
              "outlinewidth": 0,
              "ticks": ""
             }
            },
            "type": "scattergl"
           }
          ],
          "scattermapbox": [
           {
            "marker": {
             "colorbar": {
              "outlinewidth": 0,
              "ticks": ""
             }
            },
            "type": "scattermapbox"
           }
          ],
          "scatterpolar": [
           {
            "marker": {
             "colorbar": {
              "outlinewidth": 0,
              "ticks": ""
             }
            },
            "type": "scatterpolar"
           }
          ],
          "scatterpolargl": [
           {
            "marker": {
             "colorbar": {
              "outlinewidth": 0,
              "ticks": ""
             }
            },
            "type": "scatterpolargl"
           }
          ],
          "scatterternary": [
           {
            "marker": {
             "colorbar": {
              "outlinewidth": 0,
              "ticks": ""
             }
            },
            "type": "scatterternary"
           }
          ],
          "surface": [
           {
            "colorbar": {
             "outlinewidth": 0,
             "ticks": ""
            },
            "colorscale": [
             [
              0,
              "#0d0887"
             ],
             [
              0.1111111111111111,
              "#46039f"
             ],
             [
              0.2222222222222222,
              "#7201a8"
             ],
             [
              0.3333333333333333,
              "#9c179e"
             ],
             [
              0.4444444444444444,
              "#bd3786"
             ],
             [
              0.5555555555555556,
              "#d8576b"
             ],
             [
              0.6666666666666666,
              "#ed7953"
             ],
             [
              0.7777777777777778,
              "#fb9f3a"
             ],
             [
              0.8888888888888888,
              "#fdca26"
             ],
             [
              1,
              "#f0f921"
             ]
            ],
            "type": "surface"
           }
          ],
          "table": [
           {
            "cells": {
             "fill": {
              "color": "#EBF0F8"
             },
             "line": {
              "color": "white"
             }
            },
            "header": {
             "fill": {
              "color": "#C8D4E3"
             },
             "line": {
              "color": "white"
             }
            },
            "type": "table"
           }
          ]
         },
         "layout": {
          "annotationdefaults": {
           "arrowcolor": "#2a3f5f",
           "arrowhead": 0,
           "arrowwidth": 1
          },
          "autotypenumbers": "strict",
          "coloraxis": {
           "colorbar": {
            "outlinewidth": 0,
            "ticks": ""
           }
          },
          "colorscale": {
           "diverging": [
            [
             0,
             "#8e0152"
            ],
            [
             0.1,
             "#c51b7d"
            ],
            [
             0.2,
             "#de77ae"
            ],
            [
             0.3,
             "#f1b6da"
            ],
            [
             0.4,
             "#fde0ef"
            ],
            [
             0.5,
             "#f7f7f7"
            ],
            [
             0.6,
             "#e6f5d0"
            ],
            [
             0.7,
             "#b8e186"
            ],
            [
             0.8,
             "#7fbc41"
            ],
            [
             0.9,
             "#4d9221"
            ],
            [
             1,
             "#276419"
            ]
           ],
           "sequential": [
            [
             0,
             "#0d0887"
            ],
            [
             0.1111111111111111,
             "#46039f"
            ],
            [
             0.2222222222222222,
             "#7201a8"
            ],
            [
             0.3333333333333333,
             "#9c179e"
            ],
            [
             0.4444444444444444,
             "#bd3786"
            ],
            [
             0.5555555555555556,
             "#d8576b"
            ],
            [
             0.6666666666666666,
             "#ed7953"
            ],
            [
             0.7777777777777778,
             "#fb9f3a"
            ],
            [
             0.8888888888888888,
             "#fdca26"
            ],
            [
             1,
             "#f0f921"
            ]
           ],
           "sequentialminus": [
            [
             0,
             "#0d0887"
            ],
            [
             0.1111111111111111,
             "#46039f"
            ],
            [
             0.2222222222222222,
             "#7201a8"
            ],
            [
             0.3333333333333333,
             "#9c179e"
            ],
            [
             0.4444444444444444,
             "#bd3786"
            ],
            [
             0.5555555555555556,
             "#d8576b"
            ],
            [
             0.6666666666666666,
             "#ed7953"
            ],
            [
             0.7777777777777778,
             "#fb9f3a"
            ],
            [
             0.8888888888888888,
             "#fdca26"
            ],
            [
             1,
             "#f0f921"
            ]
           ]
          },
          "colorway": [
           "#636efa",
           "#EF553B",
           "#00cc96",
           "#ab63fa",
           "#FFA15A",
           "#19d3f3",
           "#FF6692",
           "#B6E880",
           "#FF97FF",
           "#FECB52"
          ],
          "font": {
           "color": "#2a3f5f"
          },
          "geo": {
           "bgcolor": "white",
           "lakecolor": "white",
           "landcolor": "#E5ECF6",
           "showlakes": true,
           "showland": true,
           "subunitcolor": "white"
          },
          "hoverlabel": {
           "align": "left"
          },
          "hovermode": "closest",
          "mapbox": {
           "style": "light"
          },
          "paper_bgcolor": "white",
          "plot_bgcolor": "#E5ECF6",
          "polar": {
           "angularaxis": {
            "gridcolor": "white",
            "linecolor": "white",
            "ticks": ""
           },
           "bgcolor": "#E5ECF6",
           "radialaxis": {
            "gridcolor": "white",
            "linecolor": "white",
            "ticks": ""
           }
          },
          "scene": {
           "xaxis": {
            "backgroundcolor": "#E5ECF6",
            "gridcolor": "white",
            "gridwidth": 2,
            "linecolor": "white",
            "showbackground": true,
            "ticks": "",
            "zerolinecolor": "white"
           },
           "yaxis": {
            "backgroundcolor": "#E5ECF6",
            "gridcolor": "white",
            "gridwidth": 2,
            "linecolor": "white",
            "showbackground": true,
            "ticks": "",
            "zerolinecolor": "white"
           },
           "zaxis": {
            "backgroundcolor": "#E5ECF6",
            "gridcolor": "white",
            "gridwidth": 2,
            "linecolor": "white",
            "showbackground": true,
            "ticks": "",
            "zerolinecolor": "white"
           }
          },
          "shapedefaults": {
           "line": {
            "color": "#2a3f5f"
           }
          },
          "ternary": {
           "aaxis": {
            "gridcolor": "white",
            "linecolor": "white",
            "ticks": ""
           },
           "baxis": {
            "gridcolor": "white",
            "linecolor": "white",
            "ticks": ""
           },
           "bgcolor": "#E5ECF6",
           "caxis": {
            "gridcolor": "white",
            "linecolor": "white",
            "ticks": ""
           }
          },
          "title": {
           "x": 0.05
          },
          "xaxis": {
           "automargin": true,
           "gridcolor": "white",
           "linecolor": "white",
           "ticks": "",
           "title": {
            "standoff": 15
           },
           "zerolinecolor": "white",
           "zerolinewidth": 2
          },
          "yaxis": {
           "automargin": true,
           "gridcolor": "white",
           "linecolor": "white",
           "ticks": "",
           "title": {
            "standoff": 15
           },
           "zerolinecolor": "white",
           "zerolinewidth": 2
          }
         }
        },
        "title": {
         "font": {
          "size": 34
         },
         "text": "Atypicality - Boxplots",
         "x": 0.5
        },
        "width": 1000,
        "xaxis": {
         "dtick": 2,
         "range": [
          -0.05,
          37.735109628692555
         ],
         "tick0": 0,
         "tickfont": {
          "size": 14
         },
         "tickmode": "linear",
         "title": {
          "font": {
           "size": 18
          },
          "text": "Value"
         }
        },
        "yaxis": {
         "tickfont": {
          "size": 14
         },
         "title": {
          "font": {
           "size": 18
          },
          "text": "Diagnosis"
         }
        }
       }
      },
      "text/html": [
       "<div>                            <div id=\"658241ae-6fab-4dbb-a6f1-c6f07f2e1725\" class=\"plotly-graph-div\" style=\"height:600px; width:1000px;\"></div>            <script type=\"text/javascript\">                require([\"plotly\"], function(Plotly) {                    window.PLOTLYENV=window.PLOTLYENV || {};                                    if (document.getElementById(\"658241ae-6fab-4dbb-a6f1-c6f07f2e1725\")) {                    Plotly.newPlot(                        \"658241ae-6fab-4dbb-a6f1-c6f07f2e1725\",                        [{\"fillcolor\":\"#4daf4a\",\"line\":{\"color\":\"#000000\"},\"name\":\"Control\",\"x\":[0.0,0.0,0.0,0.0,0.0,0.0,0.0,0.0,0.0,0.0,0.0,0.0,0.0,0.0,0.0,0.0,0.0,0.0,0.0,0.0,0.0,0.0,0.0,0.0,0.0,0.0,0.0,0.0,0.0,0.0,0.0,0.0,0.0,0.0,0.0,0.0,0.0,0.0,0.0,0.0,0.0,0.0,0.0,0.0,0.0,0.0,0.0,0.0,0.0,0.0,0.0,0.0,0.0,0.0,0.0,0.0,0.0,0.0,0.0,0.0,0.0,0.0,0.0,0.0,0.0,0.0,0.0,0.0,0.0,0.0,0.0,0.0,0.0,0.0,0.0,0.0,0.0,0.0,0.0,0.0,0.0,0.0,0.0,0.0,0.0,0.0,0.0,0.0,0.0,0.0,0.0,0.0,0.0,0.0,0.0,0.0,0.0,0.0,0.0,0.0,0.0,0.0,0.0,0.0,0.0,0.0,0.0,0.0,0.0,0.0,0.0,0.0,0.0,0.0,0.0,0.0,0.0,0.0,0.0,0.0,0.0,0.0,0.0,0.0,0.0,0.0,0.0,0.0,0.0,0.0,0.0,0.0,0.0,0.0,0.0,0.0,0.0,0.0,0.0,0.0,0.0,0.0,0.0,0.0,0.0,0.0,0.0,0.0,0.0,0.0,0.0,0.0,0.0,0.0,0.0,0.0,0.0,0.0,0.0,0.0,0.0,0.0,0.0,0.0,0.0,0.0,0.0,0.0,0.0,0.0,0.0,0.0,0.0,0.0,0.0,0.0,0.0,0.0,0.0,0.0,0.0,0.0,0.0,0.0,0.0,0.0,0.0,0.0,0.0,0.0,0.0,0.0,0.0,0.0,0.0,0.0,0.0,0.0,0.0,0.0,0.0,0.0,0.0,0.0,0.0,0.0,0.0,0.0,0.0,0.0,0.0,0.0,0.0,0.0,0.0,0.0,0.0,0.0,0.0,0.0,0.0,0.0,0.0,0.0,0.0,0.0,0.0,0.0,0.0,0.0,0.0,0.0,0.0,0.0,0.0,0.0,0.0,0.0,0.0,0.0,0.0,0.0,0.0,0.0,0.0,0.0,0.0,0.0,0.0,0.0,0.0,0.0,0.0,0.0,0.0,0.0,0.0,0.0,0.0,0.0,0.0,0.0,0.0,0.0,0.0,0.0,0.0,0.0,0.0,0.0,0.0,0.0,0.0,0.0,0.0,0.0,0.0,0.0,0.0,0.0,0.0,0.0,0.0,0.0,0.0,0.0,0.0,0.0,0.0,0.0,0.0,0.0,0.0,0.0,0.0,0.0,0.0,0.0,0.0,0.0,0.0,0.0,0.0,0.0,0.0,0.0,0.0,0.0,0.0,0.0,0.0,0.0,0.0,0.0,0.0,0.0,0.0,0.0,0.0,0.0,0.0,0.0,0.0,0.0,0.0,0.0,0.0,0.0,0.0,0.0,0.0,0.0,0.0,0.0,0.0,0.0,0.0,0.0,0.0,0.0,0.0,0.0,0.0,0.0,0.0,0.0,0.0,0.0,0.0,0.0,0.0,0.0,0.0,0.0,0.0,0.0,0.0,0.0,0.0,0.0,0.0,0.0,0.0,0.0,0.0,0.0,0.0,0.0,0.0,0.0,0.0,0.0,0.0,0.0,0.0,0.0,0.0,0.0,0.0,0.0,0.0,0.0,0.0,0.0,0.0,0.0,0.0,0.0,0.0,0.0,0.0,0.0,0.0,0.0,0.0,0.0,0.0,0.0,0.0,0.0,0.0,0.0,0.0,0.0,0.0,0.0,0.0,0.0,0.0,0.0,0.0,0.0,0.0,0.0,0.0,0.0,0.0,0.0,0.0,0.0,0.0,0.0,0.0,0.0,0.0,0.0,0.0,0.0,0.0,0.0,0.0,0.0,0.0,0.0,0.0,0.0,0.0,0.0,0.0,0.0,0.0,0.0,0.0,0.0,0.0,0.0,0.0,0.0,0.0,0.0,0.0,0.0,0.0,0.0,0.0,0.0,0.0,0.0,0.0,0.0,0.0,0.0,0.0,0.0,0.0,0.0,0.0,0.0,0.0,0.0,0.0,0.0,0.0,0.0,0.0,0.0,0.0,0.0,0.0,0.0,0.0,0.0,0.0,0.0,0.0,0.0,0.0,0.0,0.0,0.0,0.0,0.0,0.0,0.0,0.0,0.0,0.0,0.0,0.0,0.0,0.0,0.0,0.0,0.0,0.0,0.0,0.0,0.0,0.0,0.0,0.0,0.0,0.0,0.0,0.0,0.0,0.0,0.0,0.0,0.0,0.0,0.0,0.0,0.0,0.0,0.0,0.0,0.0,0.0,0.0,0.0,0.0,0.0,0.0,0.0,0.0,0.0,0.0,0.0,0.0,0.0,0.0,0.0,0.0,0.0,0.0,0.0,0.0,0.0,0.0,0.0,0.0,0.0,0.0,0.0,0.0,0.0,0.0,0.0,0.0,0.0,0.0,0.0,0.0,0.0,0.0,0.0,0.0,0.0,0.0,0.0,0.0,0.0,0.0,0.0,0.0,0.0,0.0,0.0,0.0,0.0,0.0,0.0,0.0,0.0,0.0,0.0,0.0,0.0,0.0,0.0,0.0,0.0,0.0,0.0,0.0,0.0,0.0,0.0,0.0,0.0,0.0,0.0,0.0,0.0,0.0,0.0,0.0,0.0,0.0,0.0,0.0,0.0,0.0,0.0,0.0,0.0,0.0,0.0,0.0,0.0,0.0,0.0,0.0,0.0,0.0,0.0,0.0,0.0,0.0,0.0,0.0,0.0,0.0,0.0,0.0,0.0,0.0,0.0,0.0,0.0,0.0,0.0,0.0,0.0,0.0,0.0,0.0,0.0,0.0,0.0,0.0,0.0,0.0,0.0,0.0,0.0,0.0,0.0,0.0,0.0,0.0,0.0,0.0,0.0,0.0,0.0,0.0,0.0,0.0,0.0,0.0,0.0,0.0,0.0,0.0,0.0,0.0,0.0,0.0,0.0],\"type\":\"box\"},{\"fillcolor\":\"#377eb8\",\"line\":{\"color\":\"#000000\"},\"name\":\"FTD\",\"x\":[3.773409378223123,9.416221553469631,4.626685882809204,7.337945987600072,16.591905519445778,3.4493870217997395,12.242178528405656,12.2314109894902,6.00231540338634,12.591003862724468,9.049299970969944,12.084611987780185,5.727023707573629,17.13140077737026,9.68853372755086,9.49001125030202,21.90321314836831,6.656103203382759,3.7936145956224645,3.946497831342046,2.318568543246947,4.230236950274946,9.748275405521266,3.817685227976518,2.4377851981611043,2.235403650034505,18.233399264484902,5.180477889558177,5.414748303743507,7.13871566347374,3.862587238210692,12.689819670864228,7.189203135539817,11.521891233292916,8.201957748884983,14.171640677043289,5.317898045965952,12.750421304396227,12.787331123874235,1.3992297181813782,3.3683597256987157,4.623930406836436,10.711742434207457,4.109065683297676,11.397502260585142,11.271050216340974,6.80940824235598,2.1141059636776074,7.623164195508462,20.057374244958435,5.971197174553857,5.04221510777198,13.920214286814533,3.0135849315351977,5.791471762562534,5.329662986900004,9.476919198639344,6.71480490431603,9.920707924040748,4.892812408715342,13.795061438055072,3.8223682987558014,10.908364888502907,7.754654242027331,5.672553938826008,8.030725163621584,3.0863933575548925,5.737850578790875,12.554994492855194,5.182532141986709,7.872357120397485,2.4524255461258626,5.9394978993759375,9.607258688042958,9.226365501483357,6.369320391671627,5.1860079742030285,2.663325058757415,4.445522107597203,13.949946614047338,2.8632585625799,4.754273533232372,5.92394277744148,5.69493146034789,5.135407924404209,9.44147913354953,12.954351919247728,6.84832900562456,7.762310517462612,5.614870724568451,12.424910237761768,5.559627597424512,2.8851255716583877,12.487795155763948,12.904376266325874,2.305804543874604,9.372638378486528,3.745298312231313,2.1840790526549583,5.6836898933999285,6.908676217368826,7.668743966758182,9.594435181626356,6.785803701225991,1.5581694227410718,3.4743441127583288,16.460057965102717,8.41735154360924,3.4812984293689224,5.933270430388814,5.7587450193662075,16.08698498735024,3.215541946301423,10.254970168317792,3.3168018611307044,7.387784810297981,7.38166703966775,4.517440317634732,8.982798072270523,5.846510928155393,5.952130316720151,12.200866651506463,7.244812630482901,1.7602029116528706,4.745624892507841,19.230483697197265,10.420455875542329,11.645354483639942,5.371583522034172,2.6371258184155044,4.113651066477576,5.1943761471705665,7.401572861949741,13.968544497048995,4.089475995064019,5.665784255559894,6.768392017110504,10.283148314740776,3.733669407932666,11.966916202314273,2.680827991545298,3.7841207328442352,13.785040203431628,7.237258265633194,4.5245883603890835,10.144468899290601,3.606445121300929,4.412583416072624,5.918998059876097,1.8019114330386228,6.875106941965494,6.206629462816514,14.79744718395013,7.363377071961704,4.149871812702623,1.789299933528532,3.1997709801545913,3.8186668018993735,10.849554224628912,5.544531386104696,5.883270110124533,6.759661868814543,5.358542898381337,6.650977157114562,4.648187171027541,12.062397108798372,3.7787417662181184,10.774368942596706,0.6212766224153874,7.397481336120047,4.27499608879638,7.293507122450931,3.1326633713237637,1.337303740970937,4.743389483263392,10.631349560718494,12.108630673300228,4.814732020827827,3.862765221182424,16.989552385608214,10.522356161731196,5.21293563791657,2.6995793308844265,12.185338807903864,8.2290084311424,5.148053968695817,5.695362042668263,10.790114503972482,9.430285674526516,12.383874510726919,10.656152901822916,0.7112125481583922,9.47773162919961,4.542575587143974,33.28358605280792,10.272171779382061,9.476457481359875,5.0895133927904705,14.846947245236969,7.056158472224251,1.6840869269860392,10.93514936205532,7.35102772042662,3.5746584260349628,9.832994483658737,2.5467951373980067,4.18530784456647,6.502266667633278,9.80563942313256,13.996714714100008,9.64208957642592,5.916451627231233,1.7849633838225918,8.080563136418464,5.9954745506581055,5.64179720925713,18.64714895545889,9.46915893395428,17.69670224741526,4.6407036717569214,10.038539916836019,5.990806814244731,4.720095166853307,7.509627521704793,7.218207206421257,1.754592391572087,2.7374977572126107,10.156775426796468,8.690901378277491,10.205394629792814,9.058358188160977,5.7164790188364565,8.707144093263599,2.0887664065903326,3.7527964516965047,8.050148805686193,11.950606138818296,8.135562622244576,3.1850013775599617,2.2804207291512517,10.90019293747411,5.411465798242817,15.246983133510115,7.763163672835786,8.0169669914962,12.853632399866477,2.972308492269597,13.519503715876837,5.4327194257726745,7.376286989060978,2.0348076995460382,2.0147925472252166,1.370779231340176,6.932552866772596,12.009400046199865,2.38950922986583,2.6087273471660852,1.5293852045254546,4.685054878507259,16.170803121710357,5.508669735741655,4.3333159122468965,6.388832448720862,2.9240962917257134,17.270534478773648,5.143253460561198,21.785345952486026,26.747533980948692,6.97156397377991,4.34530567156563,1.787683243164262,5.775524397437316,3.326883702840142,4.657528681090351,12.450406062335736,8.428522368423838,2.6871791286416062,7.154789318623457,7.295063708710584,10.497307915941708,7.0827894906701765,10.950469566631334,15.483788760464945,8.795362584421607,6.497530272657736,17.208662698994154,8.5085990547336,6.072834678432607,14.29856911830589,3.0512252933980726,14.624698353222525,9.980312710750239,3.717348663082787,9.501419271517399,7.134205571062932,8.153956374239161,8.41108535754297,16.76254351452982,4.028578911571221,4.147520856099058,1.3102590746611529,8.490626465690339,4.531246196378399,21.690697388486665,3.7591021191856497,4.000509650394538,12.926026490264151,4.352365117847601,9.607712651464595,7.4295976890609055,3.3120130795077998,14.555010366825982,7.3132328089774115,4.744183486248081,14.098863118792103,1.7634534496813687,3.7303702887881967,19.197687776571932,3.2145413836740926,37.735109628692555,6.733170286555024,7.3744350343522065,11.688482796081026,14.932765949213248,3.6309169353582944,11.965658383193956,18.244116009725502,30.695037805151813,9.447682159420298,15.201172249996137,2.865325125140401,20.130554076756106,2.489478375361966,7.755631425103715,7.574249445616855,4.896403240436598,6.547882359639368,12.029938550354359,9.57324045010543,2.6048596577775953,5.209998201339306,16.97134366919473,5.8222419243523715,9.07463265022043,12.58385003251998,7.598544161948428,2.0480066643389474,8.849149623550542,11.261924936062014,6.1341200389461665,11.81123374997755,23.102156402776657,1.5263618444171256,18.18740332892345,13.008383650207744,3.5513474725137377,12.987291552874582,2.9665040418901487,10.675857652879948,14.819174761663374,8.375310718395522,12.752562550539231,14.890863297149522,16.504360548904053,9.388513979739782,11.035256305519724,0.9880006599243569,13.423660958378669,9.111060478887477,7.187428065750904,1.5469854171786133,11.117665080633083,10.737956196961996,22.308159006886733,13.020247738275526,9.44396344140668,1.9558955521838859,4.773222554232733,10.598849697252165,9.801117236742414,10.516220196659031,11.015112524445605,5.873203747426087,16.56430066217787,15.685163777334605,1.4003270269186148,10.17110615740549,4.4656968211373504,5.806741758875296,7.537249675806745,14.431906304270017,11.60758310172654,2.6364490387000137,3.366384862346391,6.655668656955358,19.293719900881257,3.2531577603340027,16.588732162349487,8.57936977300423],\"type\":\"box\"}],                        {\"template\":{\"data\":{\"histogram2dcontour\":[{\"type\":\"histogram2dcontour\",\"colorbar\":{\"outlinewidth\":0,\"ticks\":\"\"},\"colorscale\":[[0.0,\"#0d0887\"],[0.1111111111111111,\"#46039f\"],[0.2222222222222222,\"#7201a8\"],[0.3333333333333333,\"#9c179e\"],[0.4444444444444444,\"#bd3786\"],[0.5555555555555556,\"#d8576b\"],[0.6666666666666666,\"#ed7953\"],[0.7777777777777778,\"#fb9f3a\"],[0.8888888888888888,\"#fdca26\"],[1.0,\"#f0f921\"]]}],\"choropleth\":[{\"type\":\"choropleth\",\"colorbar\":{\"outlinewidth\":0,\"ticks\":\"\"}}],\"histogram2d\":[{\"type\":\"histogram2d\",\"colorbar\":{\"outlinewidth\":0,\"ticks\":\"\"},\"colorscale\":[[0.0,\"#0d0887\"],[0.1111111111111111,\"#46039f\"],[0.2222222222222222,\"#7201a8\"],[0.3333333333333333,\"#9c179e\"],[0.4444444444444444,\"#bd3786\"],[0.5555555555555556,\"#d8576b\"],[0.6666666666666666,\"#ed7953\"],[0.7777777777777778,\"#fb9f3a\"],[0.8888888888888888,\"#fdca26\"],[1.0,\"#f0f921\"]]}],\"heatmap\":[{\"type\":\"heatmap\",\"colorbar\":{\"outlinewidth\":0,\"ticks\":\"\"},\"colorscale\":[[0.0,\"#0d0887\"],[0.1111111111111111,\"#46039f\"],[0.2222222222222222,\"#7201a8\"],[0.3333333333333333,\"#9c179e\"],[0.4444444444444444,\"#bd3786\"],[0.5555555555555556,\"#d8576b\"],[0.6666666666666666,\"#ed7953\"],[0.7777777777777778,\"#fb9f3a\"],[0.8888888888888888,\"#fdca26\"],[1.0,\"#f0f921\"]]}],\"heatmapgl\":[{\"type\":\"heatmapgl\",\"colorbar\":{\"outlinewidth\":0,\"ticks\":\"\"},\"colorscale\":[[0.0,\"#0d0887\"],[0.1111111111111111,\"#46039f\"],[0.2222222222222222,\"#7201a8\"],[0.3333333333333333,\"#9c179e\"],[0.4444444444444444,\"#bd3786\"],[0.5555555555555556,\"#d8576b\"],[0.6666666666666666,\"#ed7953\"],[0.7777777777777778,\"#fb9f3a\"],[0.8888888888888888,\"#fdca26\"],[1.0,\"#f0f921\"]]}],\"contourcarpet\":[{\"type\":\"contourcarpet\",\"colorbar\":{\"outlinewidth\":0,\"ticks\":\"\"}}],\"contour\":[{\"type\":\"contour\",\"colorbar\":{\"outlinewidth\":0,\"ticks\":\"\"},\"colorscale\":[[0.0,\"#0d0887\"],[0.1111111111111111,\"#46039f\"],[0.2222222222222222,\"#7201a8\"],[0.3333333333333333,\"#9c179e\"],[0.4444444444444444,\"#bd3786\"],[0.5555555555555556,\"#d8576b\"],[0.6666666666666666,\"#ed7953\"],[0.7777777777777778,\"#fb9f3a\"],[0.8888888888888888,\"#fdca26\"],[1.0,\"#f0f921\"]]}],\"surface\":[{\"type\":\"surface\",\"colorbar\":{\"outlinewidth\":0,\"ticks\":\"\"},\"colorscale\":[[0.0,\"#0d0887\"],[0.1111111111111111,\"#46039f\"],[0.2222222222222222,\"#7201a8\"],[0.3333333333333333,\"#9c179e\"],[0.4444444444444444,\"#bd3786\"],[0.5555555555555556,\"#d8576b\"],[0.6666666666666666,\"#ed7953\"],[0.7777777777777778,\"#fb9f3a\"],[0.8888888888888888,\"#fdca26\"],[1.0,\"#f0f921\"]]}],\"mesh3d\":[{\"type\":\"mesh3d\",\"colorbar\":{\"outlinewidth\":0,\"ticks\":\"\"}}],\"scatter\":[{\"fillpattern\":{\"fillmode\":\"overlay\",\"size\":10,\"solidity\":0.2},\"type\":\"scatter\"}],\"parcoords\":[{\"type\":\"parcoords\",\"line\":{\"colorbar\":{\"outlinewidth\":0,\"ticks\":\"\"}}}],\"scatterpolargl\":[{\"type\":\"scatterpolargl\",\"marker\":{\"colorbar\":{\"outlinewidth\":0,\"ticks\":\"\"}}}],\"bar\":[{\"error_x\":{\"color\":\"#2a3f5f\"},\"error_y\":{\"color\":\"#2a3f5f\"},\"marker\":{\"line\":{\"color\":\"#E5ECF6\",\"width\":0.5},\"pattern\":{\"fillmode\":\"overlay\",\"size\":10,\"solidity\":0.2}},\"type\":\"bar\"}],\"scattergeo\":[{\"type\":\"scattergeo\",\"marker\":{\"colorbar\":{\"outlinewidth\":0,\"ticks\":\"\"}}}],\"scatterpolar\":[{\"type\":\"scatterpolar\",\"marker\":{\"colorbar\":{\"outlinewidth\":0,\"ticks\":\"\"}}}],\"histogram\":[{\"marker\":{\"pattern\":{\"fillmode\":\"overlay\",\"size\":10,\"solidity\":0.2}},\"type\":\"histogram\"}],\"scattergl\":[{\"type\":\"scattergl\",\"marker\":{\"colorbar\":{\"outlinewidth\":0,\"ticks\":\"\"}}}],\"scatter3d\":[{\"type\":\"scatter3d\",\"line\":{\"colorbar\":{\"outlinewidth\":0,\"ticks\":\"\"}},\"marker\":{\"colorbar\":{\"outlinewidth\":0,\"ticks\":\"\"}}}],\"scattermapbox\":[{\"type\":\"scattermapbox\",\"marker\":{\"colorbar\":{\"outlinewidth\":0,\"ticks\":\"\"}}}],\"scatterternary\":[{\"type\":\"scatterternary\",\"marker\":{\"colorbar\":{\"outlinewidth\":0,\"ticks\":\"\"}}}],\"scattercarpet\":[{\"type\":\"scattercarpet\",\"marker\":{\"colorbar\":{\"outlinewidth\":0,\"ticks\":\"\"}}}],\"carpet\":[{\"aaxis\":{\"endlinecolor\":\"#2a3f5f\",\"gridcolor\":\"white\",\"linecolor\":\"white\",\"minorgridcolor\":\"white\",\"startlinecolor\":\"#2a3f5f\"},\"baxis\":{\"endlinecolor\":\"#2a3f5f\",\"gridcolor\":\"white\",\"linecolor\":\"white\",\"minorgridcolor\":\"white\",\"startlinecolor\":\"#2a3f5f\"},\"type\":\"carpet\"}],\"table\":[{\"cells\":{\"fill\":{\"color\":\"#EBF0F8\"},\"line\":{\"color\":\"white\"}},\"header\":{\"fill\":{\"color\":\"#C8D4E3\"},\"line\":{\"color\":\"white\"}},\"type\":\"table\"}],\"barpolar\":[{\"marker\":{\"line\":{\"color\":\"#E5ECF6\",\"width\":0.5},\"pattern\":{\"fillmode\":\"overlay\",\"size\":10,\"solidity\":0.2}},\"type\":\"barpolar\"}],\"pie\":[{\"automargin\":true,\"type\":\"pie\"}]},\"layout\":{\"autotypenumbers\":\"strict\",\"colorway\":[\"#636efa\",\"#EF553B\",\"#00cc96\",\"#ab63fa\",\"#FFA15A\",\"#19d3f3\",\"#FF6692\",\"#B6E880\",\"#FF97FF\",\"#FECB52\"],\"font\":{\"color\":\"#2a3f5f\"},\"hovermode\":\"closest\",\"hoverlabel\":{\"align\":\"left\"},\"paper_bgcolor\":\"white\",\"plot_bgcolor\":\"#E5ECF6\",\"polar\":{\"bgcolor\":\"#E5ECF6\",\"angularaxis\":{\"gridcolor\":\"white\",\"linecolor\":\"white\",\"ticks\":\"\"},\"radialaxis\":{\"gridcolor\":\"white\",\"linecolor\":\"white\",\"ticks\":\"\"}},\"ternary\":{\"bgcolor\":\"#E5ECF6\",\"aaxis\":{\"gridcolor\":\"white\",\"linecolor\":\"white\",\"ticks\":\"\"},\"baxis\":{\"gridcolor\":\"white\",\"linecolor\":\"white\",\"ticks\":\"\"},\"caxis\":{\"gridcolor\":\"white\",\"linecolor\":\"white\",\"ticks\":\"\"}},\"coloraxis\":{\"colorbar\":{\"outlinewidth\":0,\"ticks\":\"\"}},\"colorscale\":{\"sequential\":[[0.0,\"#0d0887\"],[0.1111111111111111,\"#46039f\"],[0.2222222222222222,\"#7201a8\"],[0.3333333333333333,\"#9c179e\"],[0.4444444444444444,\"#bd3786\"],[0.5555555555555556,\"#d8576b\"],[0.6666666666666666,\"#ed7953\"],[0.7777777777777778,\"#fb9f3a\"],[0.8888888888888888,\"#fdca26\"],[1.0,\"#f0f921\"]],\"sequentialminus\":[[0.0,\"#0d0887\"],[0.1111111111111111,\"#46039f\"],[0.2222222222222222,\"#7201a8\"],[0.3333333333333333,\"#9c179e\"],[0.4444444444444444,\"#bd3786\"],[0.5555555555555556,\"#d8576b\"],[0.6666666666666666,\"#ed7953\"],[0.7777777777777778,\"#fb9f3a\"],[0.8888888888888888,\"#fdca26\"],[1.0,\"#f0f921\"]],\"diverging\":[[0,\"#8e0152\"],[0.1,\"#c51b7d\"],[0.2,\"#de77ae\"],[0.3,\"#f1b6da\"],[0.4,\"#fde0ef\"],[0.5,\"#f7f7f7\"],[0.6,\"#e6f5d0\"],[0.7,\"#b8e186\"],[0.8,\"#7fbc41\"],[0.9,\"#4d9221\"],[1,\"#276419\"]]},\"xaxis\":{\"gridcolor\":\"white\",\"linecolor\":\"white\",\"ticks\":\"\",\"title\":{\"standoff\":15},\"zerolinecolor\":\"white\",\"automargin\":true,\"zerolinewidth\":2},\"yaxis\":{\"gridcolor\":\"white\",\"linecolor\":\"white\",\"ticks\":\"\",\"title\":{\"standoff\":15},\"zerolinecolor\":\"white\",\"automargin\":true,\"zerolinewidth\":2},\"scene\":{\"xaxis\":{\"backgroundcolor\":\"#E5ECF6\",\"gridcolor\":\"white\",\"linecolor\":\"white\",\"showbackground\":true,\"ticks\":\"\",\"zerolinecolor\":\"white\",\"gridwidth\":2},\"yaxis\":{\"backgroundcolor\":\"#E5ECF6\",\"gridcolor\":\"white\",\"linecolor\":\"white\",\"showbackground\":true,\"ticks\":\"\",\"zerolinecolor\":\"white\",\"gridwidth\":2},\"zaxis\":{\"backgroundcolor\":\"#E5ECF6\",\"gridcolor\":\"white\",\"linecolor\":\"white\",\"showbackground\":true,\"ticks\":\"\",\"zerolinecolor\":\"white\",\"gridwidth\":2}},\"shapedefaults\":{\"line\":{\"color\":\"#2a3f5f\"}},\"annotationdefaults\":{\"arrowcolor\":\"#2a3f5f\",\"arrowhead\":0,\"arrowwidth\":1},\"geo\":{\"bgcolor\":\"white\",\"landcolor\":\"#E5ECF6\",\"subunitcolor\":\"white\",\"showland\":true,\"showlakes\":true,\"lakecolor\":\"white\"},\"title\":{\"x\":0.05},\"mapbox\":{\"style\":\"light\"}}},\"xaxis\":{\"range\":[-0.05,37.735109628692555],\"title\":{\"text\":\"Value\",\"font\":{\"size\":18}},\"tickmode\":\"linear\",\"tick0\":0.0,\"dtick\":2,\"tickfont\":{\"size\":14}},\"title\":{\"text\":\"Atypicality - Boxplots\",\"font\":{\"size\":34},\"x\":0.5},\"legend\":{\"font\":{\"size\":16},\"yanchor\":\"top\",\"y\":0.97,\"xanchor\":\"right\",\"x\":0.97},\"yaxis\":{\"title\":{\"text\":\"Diagnosis\",\"font\":{\"size\":18}},\"tickfont\":{\"size\":14}},\"autosize\":false,\"width\":1000,\"height\":600},                        {\"responsive\": true}                    ).then(function(){\n",
       "                            \n",
       "var gd = document.getElementById('658241ae-6fab-4dbb-a6f1-c6f07f2e1725');\n",
       "var x = new MutationObserver(function (mutations, observer) {{\n",
       "        var display = window.getComputedStyle(gd).display;\n",
       "        if (!display || display === 'none') {{\n",
       "            console.log([gd, 'removed!']);\n",
       "            Plotly.purge(gd);\n",
       "            observer.disconnect();\n",
       "        }}\n",
       "}});\n",
       "\n",
       "// Listen for the removal of the full notebook cells\n",
       "var notebookContainer = gd.closest('#notebook-container');\n",
       "if (notebookContainer) {{\n",
       "    x.observe(notebookContainer, {childList: true});\n",
       "}}\n",
       "\n",
       "// Listen for the clearing of the current output cell\n",
       "var outputEl = gd.closest('.output');\n",
       "if (outputEl) {{\n",
       "    x.observe(outputEl, {childList: true});\n",
       "}}\n",
       "\n",
       "                        })                };                });            </script>        </div>"
      ]
     },
     "metadata": {},
     "output_type": "display_data"
    }
   ],
   "source": [
    "fig = atypicality_boxes(S=S,\n",
    "                    diagnosis=diagnosis,\n",
    "                    color_list=color_list)\n",
    "fig"
   ]
  },
  {
   "cell_type": "code",
   "execution_count": null,
   "id": "559dc97a",
   "metadata": {},
   "outputs": [],
   "source": []
  }
 ],
 "metadata": {
  "kernelspec": {
   "display_name": "Python 3 (ipykernel)",
   "language": "python",
   "name": "python3"
  },
  "language_info": {
   "codemirror_mode": {
    "name": "ipython",
    "version": 3
   },
   "file_extension": ".py",
   "mimetype": "text/x-python",
   "name": "python",
   "nbconvert_exporter": "python",
   "pygments_lexer": "ipython3",
   "version": "3.9.12"
  }
 },
 "nbformat": 4,
 "nbformat_minor": 5
}
