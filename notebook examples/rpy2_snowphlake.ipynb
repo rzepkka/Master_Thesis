{
 "cells": [
  {
   "cell_type": "code",
   "execution_count": 193,
   "id": "ec6187e7",
   "metadata": {},
   "outputs": [],
   "source": [
    "import pandas as pd\n",
    "\n",
    "import rpy2\n",
    "import rpy2.robjects.packages as rpackages\n",
    "from rpy2.robjects.packages import importr, data\n",
    "import rpy2.robjects as robjects\n",
    "from rpy2.robjects.conversion import localconverter\n",
    "from rpy2.robjects import pandas2ri"
   ]
  },
  {
   "cell_type": "code",
   "execution_count": 194,
   "id": "9282bae5",
   "metadata": {},
   "outputs": [],
   "source": [
    "utils = importr('utils')\n",
    "base = importr(\"base\")\n",
    "datasets = importr('datasets')\n",
    "ggseg = importr(\"ggseg\")\n",
    "ggplot2 = importr(\"ggplot2\")\n",
    "dplyr = importr(\"dplyr\")\n",
    "tidyr = importr(\"tidyr\")\n",
    "\n",
    "ggseg3d = importr('ggseg3d')"
   ]
  },
  {
   "cell_type": "code",
   "execution_count": 195,
   "id": "2b8c5fb7",
   "metadata": {},
   "outputs": [
    {
     "data": {
      "text/plain": [
       "<rpy2.rinterface_lib.sexp.NULLType object at 0x7fc3713c77c0> [RTYPES.NILSXP]"
      ]
     },
     "execution_count": 195,
     "metadata": {},
     "output_type": "execute_result"
    }
   ],
   "source": [
    "utils.chooseCRANmirror(ind=1)\n",
    "# utils.install_packages('NMF') # repos=\"https://cloud.r-project.org\""
   ]
  },
  {
   "cell_type": "markdown",
   "id": "d6d3899b",
   "metadata": {},
   "source": [
    "### Convert PandasDataFrame to rpy2 DataFrame"
   ]
  },
  {
   "cell_type": "code",
   "execution_count": 196,
   "id": "70a14048",
   "metadata": {},
   "outputs": [],
   "source": [
    "dk_data = pd.read_csv(\"dk_R_subtype0.csv\") \n",
    "# dk_data\n",
    "\n",
    "aseg_data = pd.read_csv(\"aseg_R_subtype0.csv\") \n",
    "# aseg_data"
   ]
  },
  {
   "cell_type": "code",
   "execution_count": 197,
   "id": "1202d343",
   "metadata": {},
   "outputs": [],
   "source": [
    "# dk_data_right = dk_data[dk_data['hemi']=='right']\n",
    "# dk_data_left = dk_data[dk_data['hemi']=='left']"
   ]
  },
  {
   "cell_type": "code",
   "execution_count": 198,
   "id": "903b82e3",
   "metadata": {},
   "outputs": [],
   "source": [
    "with localconverter(robjects.default_converter + pandas2ri.converter):\n",
    "    dk_data_R = robjects.conversion.py2rpy(dk_data)\n",
    "\n",
    "# with localconverter(robjects.default_converter + pandas2ri.converter):\n",
    "#     dk_data_right_R = robjects.conversion.py2rpy(dk_data_right)\n",
    "\n",
    "# with localconverter(robjects.default_converter + pandas2ri.converter):\n",
    "#     dk_data_left_R = robjects.conversion.py2rpy(dk_data_left)"
   ]
  },
  {
   "cell_type": "code",
   "execution_count": 199,
   "id": "96f537e7",
   "metadata": {},
   "outputs": [
    {
     "data": {
      "text/html": [
       "\n",
       "        <span>R/rpy2 DataFrame (24 x 2)</span>\n",
       "        <table>\n",
       "          <thead>\n",
       "            <tr>\n",
       "              \n",
       "              <th>region</th>\n",
       "              \n",
       "              <th>p</th>\n",
       "              \n",
       "            </tr>\n",
       "          </thead>\n",
       "          <tbody>\n",
       "          \n",
       "          <tr>\n",
       "            \n",
       "            <td>\n",
       "              ...\n",
       "            </td>\n",
       "            \n",
       "            <td>\n",
       "              ...\n",
       "            </td>\n",
       "            \n",
       "          </tr>\n",
       "          \n",
       "          </tbody>\n",
       "        </table>\n",
       "    "
      ],
      "text/plain": [
       "<rpy2.robjects.vectors.DataFrame object at 0x7fc353094ec0> [RTYPES.VECSXP]\n",
       "R classes: ('data.frame',)\n",
       "[StrSexpVector, IntSexpVector]\n",
       "  region: <class 'rpy2.rinterface_lib.sexp.StrSexpVector'>\n",
       "  <rpy2.rinterface_lib.sexp.StrSexpVector object at 0x7fc353099780> [RTYPES.STRSXP]\n",
       "  p: <class 'rpy2.rinterface.IntSexpVector'>\n",
       "  <rpy2.rinterface.IntSexpVector object at 0x7fc300fa8180> [RTYPES.INTSXP]"
      ]
     },
     "execution_count": 199,
     "metadata": {},
     "output_type": "execute_result"
    }
   ],
   "source": [
    "with localconverter(robjects.default_converter + pandas2ri.converter):\n",
    "    aseg_data_R = robjects.conversion.py2rpy(aseg_data)\n",
    "\n",
    "aseg_data_R"
   ]
  },
  {
   "cell_type": "markdown",
   "id": "c1f88977",
   "metadata": {},
   "source": [
    "### Function description"
   ]
  },
  {
   "cell_type": "code",
   "execution_count": 200,
   "id": "21e5b07e",
   "metadata": {},
   "outputs": [
    {
     "name": "stdout",
     "output_type": "stream",
     "text": [
      "function (.data = NULL, atlas = \"dk_3d\", surface = \"LCBC\", hemisphere = c(\"right\", \n",
      "    \"subcort\"), label = \"region\", text = NULL, colour = \"colour\", \n",
      "    palette = NULL, na.colour = \"darkgrey\", na.alpha = 1, show.legend = TRUE, \n",
      "    options.legend = NULL, ...) \n",
      "{\n",
      "    atlas3d = get_atlas(atlas, surface = surface, hemisphere = hemisphere)\n",
      "    if (!is.null(.data)) {\n",
      "        atlas3d <- data_merge(.data, atlas3d)\n",
      "    }\n",
      "    pal.colours <- get_palette(palette)\n",
      "    if (is.numeric(unlist(atlas3d[, colour]))) {\n",
      "        if (is.null(names(palette))) {\n",
      "            pal.colours$values <- seq(min(atlas3d[, colour], \n",
      "                na.rm = TRUE), max(atlas3d[, colour], na.rm = TRUE), \n",
      "                length.out = nrow(pal.colours))\n",
      "        }\n",
      "        atlas3d$new_col = gradient_n_pal(pal.colours$orig, pal.colours$values, \n",
      "            \"Lab\")(unlist(atlas3d[, colour]))\n",
      "        fill = \"new_col\"\n",
      "    }\n",
      "    else {\n",
      "        fill = colour\n",
      "    }\n",
      "    p = plotly::plot_ly()\n",
      "    for (tt in 1:nrow(atlas3d)) {\n",
      "        col = rep(unlist(atlas3d[tt, fill]), nrow(atlas3d$mesh[[tt]]$faces))\n",
      "        col = ifelse(is.na(col), na.colour, col)\n",
      "        op = ifelse(is.na(unlist(atlas3d[tt, fill])), na.alpha, \n",
      "            1)\n",
      "        txt = if (is.null(text)) {\n",
      "            text\n",
      "        }\n",
      "        else {\n",
      "            paste0(text, \": \", unlist(atlas3d[tt, text]))\n",
      "        }\n",
      "        p = plotly::add_trace(p, x = atlas3d$mesh[[tt]]$vertices$x, \n",
      "            y = atlas3d$mesh[[tt]]$vertices$y, z = atlas3d$mesh[[tt]]$vertices$z, \n",
      "            i = atlas3d$mesh[[tt]]$faces$i - 1, j = atlas3d$mesh[[tt]]$faces$j - \n",
      "                1, k = atlas3d$mesh[[tt]]$faces$k - 1, facecolor = col, \n",
      "            type = \"mesh3d\", text = txt, showscale = FALSE, opacity = op, \n",
      "            name = unlist(atlas3d[tt, label]), ...)\n",
      "    }\n",
      "    if (show.legend & is.numeric(unlist(atlas3d[, colour]))) {\n",
      "        dt_leg <- dplyr::mutate(pal.colours, x = 0, y = 0, z = 0)\n",
      "        p <- plotly::add_trace(p, data = dt_leg, x = ~x, y = ~y, \n",
      "            z = ~z, intensity = ~values, colorscale = unname(dt_leg[, \n",
      "                c(\"norm\", \"hex\")]), type = \"mesh3d\", colorbar = options.legend)\n",
      "    }\n",
      "    p\n",
      "}\n",
      "<bytecode: 0x7fc34fce9378>\n",
      "<environment: namespace:ggseg3d>\n",
      "\n"
     ]
    }
   ],
   "source": [
    "print(ggseg3d.ggseg3d)"
   ]
  },
  {
   "cell_type": "code",
   "execution_count": 201,
   "id": "66617df3",
   "metadata": {},
   "outputs": [
    {
     "name": "stdout",
     "output_type": "stream",
     "text": [
      "function (p, camera, aspectratio = 1) \n",
      "{\n",
      "    stopifnot(is.character(camera) | is.list(camera))\n",
      "    views = if (class(camera) != \"list\") {\n",
      "        camera <- match.arg(camera, c(\"left lateral\", \"left medial\", \n",
      "            \"right lateral\", \"right medial\"))\n",
      "        switch(camera, `left lateral` = list(eye = list(x = -2.5, \n",
      "            y = 0, z = 0)), `left medial` = list(eye = list(x = 2, \n",
      "            y = 0, z = 0)), `right lateral` = list(eye = list(x = 2, \n",
      "            y = 0, z = 0)), `right medial` = list(eye = list(x = -2.5, \n",
      "            y = 0, z = 0)))\n",
      "    }\n",
      "    else {\n",
      "        camera\n",
      "    }\n",
      "    plotly::layout(p, scene = list(camera = views, aspectratio = aspectratio))\n",
      "}\n",
      "<bytecode: 0x7fc34fc95d98>\n",
      "<environment: namespace:ggseg3d>\n",
      "\n"
     ]
    }
   ],
   "source": [
    "print(ggseg3d.pan_camera)"
   ]
  },
  {
   "cell_type": "code",
   "execution_count": 202,
   "id": "6092538d",
   "metadata": {},
   "outputs": [
    {
     "name": "stdout",
     "output_type": "stream",
     "text": [
      "function (palette) \n",
      "{\n",
      "    if (is.null(palette)) {\n",
      "        palette = c(\"skyblue\", \"dodgerblue\")\n",
      "    }\n",
      "    if (!is.null(names(palette))) {\n",
      "        pal.colours <- names(palette)\n",
      "        pal.values <- unname(palette)\n",
      "        pal.norm <- range_norm(pal.values)\n",
      "    }\n",
      "    else {\n",
      "        pal.colours <- palette\n",
      "        pal.norm <- seq(0, 1, length.out = length(pal.colours))\n",
      "        pal.values <- seq(0, 1, length.out = length(pal.colours))\n",
      "    }\n",
      "    pal.colours = if (length(palette) == 1) {\n",
      "        data.frame(values = c(pal.values, pal.values + 1), norm = c(0, \n",
      "            1), orig = c(pal.colours, pal.colours), stringsAsFactors = F)\n",
      "    }\n",
      "    else {\n",
      "        data.frame(values = pal.values, norm = pal.norm, orig = pal.colours, \n",
      "            stringsAsFactors = F)\n",
      "    }\n",
      "    pal.colours$hex <- gradient_n_pal(colours = pal.colours$orig, \n",
      "        values = pal.colours$values, space = \"Lab\")(pal.colours$values)\n",
      "    pal.colours\n",
      "}\n",
      "<bytecode: 0x7fc34fcf63b0>\n",
      "<environment: namespace:ggseg3d>\n",
      "\n"
     ]
    }
   ],
   "source": [
    "print(ggseg3d.get_palette)"
   ]
  },
  {
   "cell_type": "code",
   "execution_count": 203,
   "id": "1e6d90ab",
   "metadata": {},
   "outputs": [
    {
     "name": "stdout",
     "output_type": "stream",
     "text": [
      "function (p, hemisphere = c(\"left\", \"right\"), colour = \"#cecece\", \n",
      "    opacity = 0.3) \n",
      "{\n",
      "    cortex <- dplyr::filter(cortex_3d, hemi %in% hemisphere)\n",
      "    cortex <- tidyr::unnest(cortex, ggseg_3d)\n",
      "    colour <- if (grepl(\"^#\", colour)) {\n",
      "        colour\n",
      "    }\n",
      "    else {\n",
      "        col2hex(colour)\n",
      "    }\n",
      "    for (tt in 1:nrow(cortex)) {\n",
      "        col = rep(colour, length(cortex$mesh[[tt]]$it[1, ]))\n",
      "        p = plotly::add_trace(p, x = cortex$mesh[[tt]]$vb[\"xpts\", \n",
      "            ], y = cortex$mesh[[tt]]$vb[\"ypts\", ], z = cortex$mesh[[tt]]$vb[\"zpts\", \n",
      "            ], i = cortex$mesh[[tt]]$it[1, ] - 1, j = cortex$mesh[[tt]]$it[2, \n",
      "            ] - 1, k = cortex$mesh[[tt]]$it[3, ] - 1, facecolor = col, \n",
      "            type = \"mesh3d\", showscale = FALSE, name = \"cerebral cortex\", \n",
      "            opacity = opacity)\n",
      "    }\n",
      "    p\n",
      "}\n",
      "<bytecode: 0x7fc34fd72d88>\n",
      "<environment: namespace:ggseg3d>\n",
      "\n"
     ]
    }
   ],
   "source": [
    "print(ggseg3d.add_glassbrain)"
   ]
  },
  {
   "cell_type": "markdown",
   "id": "69e03ad8",
   "metadata": {},
   "source": [
    "### Get atlases"
   ]
  },
  {
   "cell_type": "code",
   "execution_count": 204,
   "id": "16b46e4f",
   "metadata": {
    "scrolled": true
   },
   "outputs": [],
   "source": [
    "dk_3d = ggseg3d.get_atlas('dk_3d', surface = [\"LCBC\",'inflated'], hemisphere = ['left','right'])\n",
    "# dk_3d"
   ]
  },
  {
   "cell_type": "code",
   "execution_count": 205,
   "id": "1e637031",
   "metadata": {},
   "outputs": [],
   "source": [
    "aseg_3d = ggseg3d.get_atlas('aseg_3d', surface = \"LCBC\", hemisphere = 'subcort')\n",
    "# aseg_3d"
   ]
  },
  {
   "cell_type": "markdown",
   "id": "3f2d25f9",
   "metadata": {},
   "source": [
    "### Colors"
   ]
  },
  {
   "cell_type": "code",
   "execution_count": 206,
   "id": "e97d88c2",
   "metadata": {},
   "outputs": [
    {
     "name": "stdout",
     "output_type": "stream",
     "text": [
      "[1] \"#6e0101\" \"#ffabab\"\n",
      "\n"
     ]
    }
   ],
   "source": [
    "# pallette = ggseg3d.get_palette(colors)\n",
    "\n",
    "colors = robjects.r('''\n",
    "c('#6e0101','#ffabab')\n",
    "''')\n",
    "\n",
    "print(colors)"
   ]
  },
  {
   "cell_type": "code",
   "execution_count": 207,
   "id": "a6329686",
   "metadata": {},
   "outputs": [
    {
     "name": "stdout",
     "output_type": "stream",
     "text": [
      "[1]  0 25\n",
      "\n"
     ]
    }
   ],
   "source": [
    "# vminmax = [0,25]\n",
    "\n",
    "colorbar = robjects.r('''\n",
    "c(0,25)\n",
    "''')\n",
    "\n",
    "print(colorbar)"
   ]
  },
  {
   "cell_type": "markdown",
   "id": "d4a8b3c6",
   "metadata": {},
   "source": [
    "### Test ggseg3d function"
   ]
  },
  {
   "cell_type": "code",
   "execution_count": 210,
   "id": "9b4c4991",
   "metadata": {},
   "outputs": [
    {
     "data": {
      "text/html": [
       "\n",
       "        <span>ListVector with 8 elements.</span>\n",
       "        <table>\n",
       "        <tbody>\n",
       "        \n",
       "          <tr>\n",
       "            <th>\n",
       "            x\n",
       "            </th>\n",
       "            <td>\n",
       "            \n",
       "        <span>ListVector with 6 elements.</span>\n",
       "        <table>\n",
       "        <tbody>\n",
       "        \n",
       "          <tr>\n",
       "            <th>\n",
       "            visdat\n",
       "            </th>\n",
       "            <td>\n",
       "            <rpy2.rinterface.ListSexpVector object at 0x7fc35308e800> [RTYPES.VECSXP]\n",
       "            </td>\n",
       "          </tr>\n",
       "        \n",
       "          <tr>\n",
       "            <th>\n",
       "            cur_data\n",
       "            </th>\n",
       "            <td>\n",
       "            <rpy2.rinterface_lib.sexp.StrSexpVector object at 0x7fc35308e500> [RTYPES.STRSXP]\n",
       "            </td>\n",
       "          </tr>\n",
       "        \n",
       "          <tr>\n",
       "            <th>\n",
       "            attrs\n",
       "            </th>\n",
       "            <td>\n",
       "            <rpy2.rinterface.ListSexpVector object at 0x7fc35308ed80> [RTYPES.VECSXP]\n",
       "            </td>\n",
       "          </tr>\n",
       "        \n",
       "          <tr>\n",
       "            <th>\n",
       "            layout\n",
       "            </th>\n",
       "            <td>\n",
       "            <rpy2.rinterface.ListSexpVector object at 0x7fc35308eb80> [RTYPES.VECSXP]\n",
       "            </td>\n",
       "          </tr>\n",
       "        \n",
       "          <tr>\n",
       "            <th>\n",
       "            source\n",
       "            </th>\n",
       "            <td>\n",
       "            <rpy2.rinterface_lib.sexp.StrSexpVector object at 0x7fc3530a2c00> [RTYPES.STRSXP]\n",
       "            </td>\n",
       "          </tr>\n",
       "        \n",
       "          <tr>\n",
       "            <th>\n",
       "            config\n",
       "            </th>\n",
       "            <td>\n",
       "            <rpy2.rinterface.ListSexpVector object at 0x7fc3530a2e00> [RTYPES.VECSXP]\n",
       "            </td>\n",
       "          </tr>\n",
       "        \n",
       "        </tbody>\n",
       "        </table>\n",
       "        \n",
       "            </td>\n",
       "          </tr>\n",
       "        \n",
       "          <tr>\n",
       "            <th>\n",
       "            width\n",
       "            </th>\n",
       "            <td>\n",
       "            <rpy2.rinterface_lib.sexp.NULLType object at 0x7fc3713c77c0> [RTYPES.NILSXP]\n",
       "            </td>\n",
       "          </tr>\n",
       "        \n",
       "          <tr>\n",
       "            <th>\n",
       "            height\n",
       "            </th>\n",
       "            <td>\n",
       "            <rpy2.rinterface_lib.sexp.NULLType object at 0x7fc3713c77c0> [RTYPES.NILSXP]\n",
       "            </td>\n",
       "          </tr>\n",
       "        \n",
       "          <tr>\n",
       "            <th>\n",
       "            ...\n",
       "            </th>\n",
       "            <td>\n",
       "            ...\n",
       "            </td>\n",
       "          </tr>\n",
       "        \n",
       "          <tr>\n",
       "            <th>\n",
       "            elementId\n",
       "            </th>\n",
       "            <td>\n",
       "            <rpy2.rinterface_lib.sexp.NULLType object at 0x7fc3713c77c0> [RTYPES.NILSXP]\n",
       "            </td>\n",
       "          </tr>\n",
       "        \n",
       "          <tr>\n",
       "            <th>\n",
       "            preRenderHook\n",
       "            </th>\n",
       "            <td>\n",
       "            function (p, registerFrames = TRUE) \n",
       "{\n",
       "    UseMethod(\"plotly_build\")\n",
       "}\n",
       "<bytecode: 0x7fc3490ff640>\n",
       "<environment: namespace:plotly>\n",
       "\n",
       "            </td>\n",
       "          </tr>\n",
       "        \n",
       "          <tr>\n",
       "            <th>\n",
       "            jsHooks\n",
       "            </th>\n",
       "            <td>\n",
       "            \n",
       "        <span>ListVector with 0 elements.</span>\n",
       "        <table>\n",
       "        <tbody>\n",
       "        \n",
       "        </tbody>\n",
       "        </table>\n",
       "        \n",
       "            </td>\n",
       "          </tr>\n",
       "        \n",
       "        </tbody>\n",
       "        </table>\n",
       "        "
      ],
      "text/plain": [
       "<rpy2.robjects.vectors.ListVector object at 0x7fc3554360c0> [RTYPES.VECSXP]\n",
       "R classes: ('plotly', 'htmlwidget')\n",
       "[Lis..., NUL..., NUL..., Lis..., Lis..., NUL..., Sex..., Lis...]\n",
       "  x: <class 'rpy2.rinterface.ListSexpVector'>\n",
       "  <rpy2.rinterface.ListSexpVector object at 0x7fc35308e300> [RTYPES.VECSXP]\n",
       "  width: <class 'rpy2.rinterface_lib.sexp.NULLType'>\n",
       "  <rpy2.rinterface_lib.sexp.NULLType object at 0x7fc3713c77c0> [RTYPES.NILSXP]\n",
       "  height: <class 'rpy2.rinterface_lib.sexp.NULLType'>\n",
       "  <rpy2.rinterface_lib.sexp.NULLType object at 0x7fc3713c77c0> [RTYPES.NILSXP]\n",
       "  sizingPolicy: <class 'rpy2.rinterface.ListSexpVector'>\n",
       "  <rpy2.rinterface.ListSexpVector object at 0x7fc35308e300> [RTYPES.VECSXP]\n",
       "  dependencies: <class 'rpy2.rinterface.ListSexpVector'>\n",
       "  <rpy2.rinterface.ListSexpVector object at 0x7fc35308e500> [RTYPES.VECSXP]\n",
       "  elementId: <class 'rpy2.rinterface_lib.sexp.NULLType'>\n",
       "  <rpy2.rinterface_lib.sexp.NULLType object at 0x7fc3713c77c0> [RTYPES.NILSXP]\n",
       "  preRenderHook: <class 'rpy2.rinterface.SexpClosure'>\n",
       "  <rpy2.rinterface.SexpClosure object at 0x7fc35308e500> [RTYPES.CLOSXP]\n",
       "  jsHooks: <class 'rpy2.rinterface.ListSexpVector'>\n",
       "  <rpy2.rinterface.ListSexpVector object at 0x7fc35308e240> [RTYPES.VECSXP]"
      ]
     },
     "execution_count": 210,
     "metadata": {},
     "output_type": "execute_result"
    }
   ],
   "source": [
    "plot_dk = ggseg3d.ggseg3d(dk_data_R, atlas = dk_3d, surface = [\"LCBC\",'inflated'], hemisphere = ['left','right'],\n",
    "               label = 'region', colour = 'p', palette = colors, vminmax = colorbar)\n",
    "\n",
    "plot_dk"
   ]
  },
  {
   "cell_type": "code",
   "execution_count": 168,
   "id": "7d20ef15",
   "metadata": {},
   "outputs": [
    {
     "name": "stdout",
     "output_type": "stream",
     "text": [
      "\n"
     ]
    }
   ],
   "source": [
    "plot_aseg = ggseg3d.ggseg3d(aseg_data_R, atlas = aseg_3d, surface = \"LCBC\", hemisphere = 'subcort',\n",
    "               label = 'region', colour = 'p', palette = colors, vminmax = [0,25])\n",
    "\n",
    "print(plot_aseg)"
   ]
  },
  {
   "cell_type": "code",
   "execution_count": 209,
   "id": "c060fd43",
   "metadata": {},
   "outputs": [
    {
     "data": {
      "text/plain": [
       "rpy2.robjects.vectors.ListVector"
      ]
     },
     "execution_count": 209,
     "metadata": {},
     "output_type": "execute_result"
    }
   ],
   "source": [
    "type(plot_dk)"
   ]
  },
  {
   "cell_type": "markdown",
   "id": "e4d7267a",
   "metadata": {},
   "source": [
    "## DK-ATLAS --> Python"
   ]
  },
  {
   "cell_type": "code",
   "execution_count": 186,
   "id": "a12bd3f7",
   "metadata": {},
   "outputs": [
    {
     "name": "stdout",
     "output_type": "stream",
     "text": [
      "\n"
     ]
    }
   ],
   "source": [
    "# LEFT HEMISPHERE\n",
    "\n",
    "dk_left = ggseg3d.ggseg3d(dk_data_R, atlas = dk_3d, surface = [\"LCBC\",'inflated'], hemisphere = 'left',\n",
    "               label = 'region', colour = 'p', palette = colors)\n",
    "\n",
    "dk_left = ggseg3d.pan_camera(dk_left, 'right medial')\n",
    "\n",
    "\n",
    "print(dk_left)"
   ]
  },
  {
   "cell_type": "code",
   "execution_count": 190,
   "id": "1a530da9",
   "metadata": {},
   "outputs": [
    {
     "name": "stdout",
     "output_type": "stream",
     "text": [
      "\n"
     ]
    }
   ],
   "source": [
    "# RIGHT HEMISPHERE\n",
    "\n",
    "dk_right = ggseg3d.ggseg3d(dk_data_R, atlas = dk_3d, surface = [\"LCBC\",'inflated'], hemisphere = 'right',\n",
    "               label = 'region', colour = 'p', palette = colors)\n",
    "\n",
    "dk_right = ggseg3d.pan_camera(dk_right, 'left medial')\n",
    "\n",
    "\n",
    "print(dk_right)"
   ]
  },
  {
   "cell_type": "code",
   "execution_count": 188,
   "id": "17025c62",
   "metadata": {},
   "outputs": [
    {
     "name": "stdout",
     "output_type": "stream",
     "text": [
      "\n"
     ]
    }
   ],
   "source": [
    "# WHOLE BRAIN\n",
    "\n",
    "dk_full = ggseg3d.ggseg3d(dk_data_R, atlas = dk_3d, surface = [\"LCBC\",'inflated'], hemisphere = ['left','right'],\n",
    "               label = 'region', colour = 'p', palette = colors)\n",
    "\n",
    "print(dk_full)"
   ]
  },
  {
   "cell_type": "markdown",
   "id": "fdb32fc7",
   "metadata": {},
   "source": [
    "## ASEG-ATLAS --> Python"
   ]
  },
  {
   "cell_type": "code",
   "execution_count": 191,
   "id": "74b04e1f",
   "metadata": {},
   "outputs": [
    {
     "name": "stdout",
     "output_type": "stream",
     "text": [
      "\n"
     ]
    }
   ],
   "source": [
    "# WITHOUT REFERENCE\n",
    "\n",
    "plot_aseg = ggseg3d.ggseg3d(aseg_data_R, atlas = aseg_3d, surface = \"LCBC\", hemisphere = 'subcort',\n",
    "               label = 'region', colour = 'p', palette = colors)\n",
    "\n",
    "print(plot_aseg)\n",
    "\n"
   ]
  },
  {
   "cell_type": "code",
   "execution_count": 177,
   "id": "7f723761",
   "metadata": {},
   "outputs": [
    {
     "name": "stdout",
     "output_type": "stream",
     "text": [
      "\n"
     ]
    }
   ],
   "source": [
    "# ADD GLASSBRAIN\n",
    "\n",
    "plot_aseg = ggseg3d.add_glassbrain(plot_aseg, hemisphere = [\"left\", \"right\"], colour = \"#cecece\", opacity = 0.3)\n",
    "\n",
    "print(plot_aseg)"
   ]
  },
  {
   "cell_type": "code",
   "execution_count": null,
   "id": "e444ebbe",
   "metadata": {},
   "outputs": [],
   "source": []
  }
 ],
 "metadata": {
  "kernelspec": {
   "display_name": "Python 3 (ipykernel)",
   "language": "python",
   "name": "python3"
  },
  "language_info": {
   "codemirror_mode": {
    "name": "ipython",
    "version": 3
   },
   "file_extension": ".py",
   "mimetype": "text/x-python",
   "name": "python",
   "nbconvert_exporter": "python",
   "pygments_lexer": "ipython3",
   "version": "3.9.12"
  }
 },
 "nbformat": 4,
 "nbformat_minor": 5
}
