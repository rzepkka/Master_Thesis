{
 "cells": [
  {
   "cell_type": "code",
   "execution_count": 22,
   "id": "84bf9fde",
   "metadata": {},
   "outputs": [],
   "source": [
    "import rpy2\n",
    "import rpy2.robjects.packages as rpackages\n",
    "from rpy2.robjects.packages import importr, data\n",
    "\n",
    "import rpy2.robjects as robjects"
   ]
  },
  {
   "cell_type": "code",
   "execution_count": 2,
   "id": "d186fa2a",
   "metadata": {},
   "outputs": [],
   "source": [
    "# !pip install rpy2"
   ]
  },
  {
   "cell_type": "code",
   "execution_count": 23,
   "id": "220bdaed",
   "metadata": {},
   "outputs": [
    {
     "ename": "PackageNotInstalledError",
     "evalue": "The R package \"utils\" is not installed.",
     "output_type": "error",
     "traceback": [
      "\u001b[0;31m---------------------------------------------------------------------------\u001b[0m",
      "\u001b[0;31mPackageNotInstalledError\u001b[0m                  Traceback (most recent call last)",
      "Input \u001b[0;32mIn [23]\u001b[0m, in \u001b[0;36m<cell line: 1>\u001b[0;34m()\u001b[0m\n\u001b[0;32m----> 1\u001b[0m utils \u001b[38;5;241m=\u001b[39m \u001b[43mimportr\u001b[49m\u001b[43m(\u001b[49m\u001b[38;5;124;43m'\u001b[39;49m\u001b[38;5;124;43mutils\u001b[39;49m\u001b[38;5;124;43m'\u001b[39;49m\u001b[43m)\u001b[49m\n\u001b[1;32m      2\u001b[0m base \u001b[38;5;241m=\u001b[39m importr(\u001b[38;5;124m\"\u001b[39m\u001b[38;5;124mbase\u001b[39m\u001b[38;5;124m\"\u001b[39m)\n\u001b[1;32m      3\u001b[0m datasets \u001b[38;5;241m=\u001b[39m importr(\u001b[38;5;124m'\u001b[39m\u001b[38;5;124mdatasets\u001b[39m\u001b[38;5;124m'\u001b[39m)\n",
      "File \u001b[0;32m~/opt/anaconda3/envs/umc/lib/python3.9/site-packages/rpy2/robjects/packages.py:471\u001b[0m, in \u001b[0;36mimportr\u001b[0;34m(name, lib_loc, robject_translations, signature_translation, suppress_messages, on_conflict, symbol_r2python, symbol_resolve, data)\u001b[0m\n\u001b[1;32m    439\u001b[0m \u001b[38;5;124;03m\"\"\" Import an R package.\u001b[39;00m\n\u001b[1;32m    440\u001b[0m \n\u001b[1;32m    441\u001b[0m \u001b[38;5;124;03mArguments:\u001b[39;00m\n\u001b[0;32m   (...)\u001b[0m\n\u001b[1;32m    467\u001b[0m \n\u001b[1;32m    468\u001b[0m \u001b[38;5;124;03m\"\"\"\u001b[39;00m\n\u001b[1;32m    470\u001b[0m \u001b[38;5;28;01mif\u001b[39;00m \u001b[38;5;129;01mnot\u001b[39;00m isinstalled(name, lib_loc\u001b[38;5;241m=\u001b[39mlib_loc):\n\u001b[0;32m--> 471\u001b[0m     \u001b[38;5;28;01mraise\u001b[39;00m PackageNotInstalledError(\n\u001b[1;32m    472\u001b[0m         \u001b[38;5;124m'\u001b[39m\u001b[38;5;124mThe R package \u001b[39m\u001b[38;5;124m\"\u001b[39m\u001b[38;5;132;01m%s\u001b[39;00m\u001b[38;5;124m\"\u001b[39m\u001b[38;5;124m is not installed.\u001b[39m\u001b[38;5;124m'\u001b[39m \u001b[38;5;241m%\u001b[39m name\n\u001b[1;32m    473\u001b[0m     )\n\u001b[1;32m    475\u001b[0m \u001b[38;5;28;01mif\u001b[39;00m suppress_messages:\n\u001b[1;32m    476\u001b[0m     ok \u001b[38;5;241m=\u001b[39m quiet_require(name, lib_loc\u001b[38;5;241m=\u001b[39mlib_loc)\n",
      "\u001b[0;31mPackageNotInstalledError\u001b[0m: The R package \"utils\" is not installed."
     ]
    }
   ],
   "source": [
    "utils = importr('utils')\n",
    "base = importr(\"base\")\n",
    "datasets = importr('datasets')"
   ]
  },
  {
   "cell_type": "code",
   "execution_count": 21,
   "id": "50291d8a",
   "metadata": {},
   "outputs": [
    {
     "name": "stderr",
     "output_type": "stream",
     "text": [
      "R[write to console]: Instalowanie pakietu w ‘/Users/macos/Library/R/x86_64/4.1/library’\n",
      "(ponieważ ‘lib’ nie jest określony)\n",
      "\n"
     ]
    },
    {
     "data": {
      "text/plain": [
       "<rpy2.rinterface_lib.sexp.NULLType object at 0x7f9d11530fc0> [RTYPES.NILSXP]"
      ]
     },
     "execution_count": 21,
     "metadata": {},
     "output_type": "execute_result"
    }
   ],
   "source": [
    "# utils.install_packages('Biobase', repos=\"https://cloud.r-project.org\")"
   ]
  },
  {
   "cell_type": "code",
   "execution_count": 8,
   "id": "0c4f8ead",
   "metadata": {},
   "outputs": [],
   "source": [
    "# utils.install_packages('ggplot2', repos=\"https://cloud.r-project.org\")"
   ]
  },
  {
   "cell_type": "code",
   "execution_count": 5,
   "id": "518efb42",
   "metadata": {},
   "outputs": [],
   "source": [
    "ggseg3d = importr('ggseg3d')"
   ]
  },
  {
   "cell_type": "code",
   "execution_count": 4,
   "id": "bc138756",
   "metadata": {},
   "outputs": [],
   "source": [
    "ggseg = importr(\"ggseg\")\n",
    "ggplot2 = importr(\"ggplot2\")\n",
    "dplyr = importr(\"dplyr\")\n",
    "tidyr = importr(\"tidyr\")"
   ]
  },
  {
   "cell_type": "code",
   "execution_count": 6,
   "id": "5717230d",
   "metadata": {},
   "outputs": [
    {
     "data": {
      "text/plain": [
       "'/Users/macos/Library/R/x86_64/4.1/library/dplyr/help/dplyr-package'"
      ]
     },
     "execution_count": 6,
     "metadata": {},
     "output_type": "execute_result"
    }
   ],
   "source": [
    "help_doc = utils.help(\"dplyr\")\n",
    "help_doc[0]"
   ]
  },
  {
   "cell_type": "code",
   "execution_count": 163,
   "id": "83b5d28d",
   "metadata": {},
   "outputs": [
    {
     "data": {
      "text/plain": [
       "'/Library/Frameworks/R.framework/Versions/4.1/Resources/library/tidyr/help/tidyr-package'"
      ]
     },
     "execution_count": 163,
     "metadata": {},
     "output_type": "execute_result"
    }
   ],
   "source": [
    "help_doc = utils.help(\"tidyr\")\n",
    "help_doc[0]"
   ]
  },
  {
   "cell_type": "code",
   "execution_count": 165,
   "id": "a0ff1045",
   "metadata": {},
   "outputs": [
    {
     "data": {
      "text/plain": [
       "'/Library/Frameworks/R.framework/Versions/4.1/Resources/library/ggplot2/help/ggplot'"
      ]
     },
     "execution_count": 165,
     "metadata": {},
     "output_type": "execute_result"
    }
   ],
   "source": [
    "help_doc = utils.help(\"ggplot\")\n",
    "help_doc[0]"
   ]
  },
  {
   "cell_type": "code",
   "execution_count": 11,
   "id": "f52ba97e",
   "metadata": {},
   "outputs": [],
   "source": [
    "# robjects.r('''\n",
    "# filtered_dk =dk_3d %>% \n",
    "#   filter(surf == \"inflated\" & hemi == \"right\") %>% \n",
    "#   unnest(cols = ggseg_3d)\n",
    "  \n",
    "# print(filtered_dk$region)\n",
    "# ''')"
   ]
  },
  {
   "cell_type": "code",
   "execution_count": 10,
   "id": "0de1b616",
   "metadata": {},
   "outputs": [],
   "source": [
    "# robjects.r('''\n",
    "# filtered_aseg = aseg_3d %>% \n",
    "#   unnest(cols = ggseg_3d)\n",
    "  \n",
    "# print(filtered_aseg)\n",
    "# ''')"
   ]
  },
  {
   "cell_type": "code",
   "execution_count": 10,
   "id": "e2eacaac",
   "metadata": {},
   "outputs": [],
   "source": [
    "robjects.r('''\n",
    "dk_data <- read.csv(file = 'dk_R_subtype0.csv')\n",
    "  \n",
    "print(dk_data)\n",
    "''')"
   ]
  },
  {
   "cell_type": "code",
   "execution_count": null,
   "id": "2f96d591",
   "metadata": {},
   "outputs": [],
   "source": [
    "file = open(\"/Users/macos/Desktop/UVA/Thesis - UMC/graphs-development/3D-brain/R_calling.R\")\n",
    "content = file.read()\n"
   ]
  },
  {
   "cell_type": "code",
   "execution_count": 140,
   "id": "c69fed7c",
   "metadata": {},
   "outputs": [
    {
     "name": "stderr",
     "output_type": "stream",
     "text": [
      "\n",
      "Dołączanie pakietu: ‘dplyr’\n",
      "\n",
      "Następujące obiekty zostały zakryte z ‘package:stats’:\n",
      "\n",
      "    filter, lag\n",
      "\n",
      "Następujące obiekty zostały zakryte z ‘package:base’:\n",
      "\n",
      "    intersect, setdiff, setequal, union\n",
      "\n"
     ]
    },
    {
     "data": {
      "text/plain": [
       "0"
      ]
     },
     "execution_count": 140,
     "metadata": {},
     "output_type": "execute_result"
    }
   ],
   "source": [
    "# import subprocess\n",
    "# res = subprocess.call(\"Rscript R_calling.R\", shell=True, stdin=subprocess.PIPE, stdout=subprocess.PIPE)\n",
    "# res"
   ]
  },
  {
   "cell_type": "code",
   "execution_count": 11,
   "id": "e35a8f3c",
   "metadata": {},
   "outputs": [
    {
     "data": {
      "text/html": [
       "\n",
       "        <span>ListVector with 8 elements.</span>\n",
       "        <table>\n",
       "        <tbody>\n",
       "        \n",
       "          <tr>\n",
       "            <th>\n",
       "            x\n",
       "            </th>\n",
       "            <td>\n",
       "            \n",
       "        <span>ListVector with 7 elements.</span>\n",
       "        <table>\n",
       "        <tbody>\n",
       "        \n",
       "          <tr>\n",
       "            <th>\n",
       "            visdat\n",
       "            </th>\n",
       "            <td>\n",
       "            <rpy2.rinterface.ListSexpVector object at 0x7f9d1394eb00> [RTYPES.VECSXP]\n",
       "            </td>\n",
       "          </tr>\n",
       "        \n",
       "          <tr>\n",
       "            <th>\n",
       "            cur_data\n",
       "            </th>\n",
       "            <td>\n",
       "            <rpy2.rinterface_lib.sexp.StrSexpVector object at 0x7f9d13939c80> [RTYPES.STRSXP]\n",
       "            </td>\n",
       "          </tr>\n",
       "        \n",
       "          <tr>\n",
       "            <th>\n",
       "            attrs\n",
       "            </th>\n",
       "            <td>\n",
       "            <rpy2.rinterface.ListSexpVector object at 0x7f9d13939a00> [RTYPES.VECSXP]\n",
       "            </td>\n",
       "          </tr>\n",
       "        \n",
       "          <tr>\n",
       "            <th>\n",
       "            layout\n",
       "            </th>\n",
       "            <td>\n",
       "            <rpy2.rinterface.ListSexpVector object at 0x7f9d13939380> [RTYPES.VECSXP]\n",
       "            </td>\n",
       "          </tr>\n",
       "        \n",
       "          <tr>\n",
       "            <th>\n",
       "            source\n",
       "            </th>\n",
       "            <td>\n",
       "            <rpy2.rinterface_lib.sexp.StrSexpVector object at 0x7f9d13939ec0> [RTYPES.STRSXP]\n",
       "            </td>\n",
       "          </tr>\n",
       "        \n",
       "          <tr>\n",
       "            <th>\n",
       "            config\n",
       "            </th>\n",
       "            <td>\n",
       "            <rpy2.rinterface.ListSexpVector object at 0x7f9d13939100> [RTYPES.VECSXP]\n",
       "            </td>\n",
       "          </tr>\n",
       "        \n",
       "          <tr>\n",
       "            <th>\n",
       "            layoutAttrs\n",
       "            </th>\n",
       "            <td>\n",
       "            <rpy2.rinterface.ListSexpVector object at 0x7f9d1342b100> [RTYPES.VECSXP]\n",
       "            </td>\n",
       "          </tr>\n",
       "        \n",
       "        </tbody>\n",
       "        </table>\n",
       "        \n",
       "            </td>\n",
       "          </tr>\n",
       "        \n",
       "          <tr>\n",
       "            <th>\n",
       "            width\n",
       "            </th>\n",
       "            <td>\n",
       "            <rpy2.rinterface_lib.sexp.NULLType object at 0x7f9d11530fc0> [RTYPES.NILSXP]\n",
       "            </td>\n",
       "          </tr>\n",
       "        \n",
       "          <tr>\n",
       "            <th>\n",
       "            height\n",
       "            </th>\n",
       "            <td>\n",
       "            <rpy2.rinterface_lib.sexp.NULLType object at 0x7f9d11530fc0> [RTYPES.NILSXP]\n",
       "            </td>\n",
       "          </tr>\n",
       "        \n",
       "          <tr>\n",
       "            <th>\n",
       "            ...\n",
       "            </th>\n",
       "            <td>\n",
       "            ...\n",
       "            </td>\n",
       "          </tr>\n",
       "        \n",
       "          <tr>\n",
       "            <th>\n",
       "            elementId\n",
       "            </th>\n",
       "            <td>\n",
       "            <rpy2.rinterface_lib.sexp.NULLType object at 0x7f9d11530fc0> [RTYPES.NILSXP]\n",
       "            </td>\n",
       "          </tr>\n",
       "        \n",
       "          <tr>\n",
       "            <th>\n",
       "            preRenderHook\n",
       "            </th>\n",
       "            <td>\n",
       "            function (p, registerFrames = TRUE) \n",
       "{\n",
       "    UseMethod(\"plotly_build\")\n",
       "}\n",
       "<bytecode: 0x7f9ccf5495b8>\n",
       "<environment: namespace:plotly>\n",
       "\n",
       "            </td>\n",
       "          </tr>\n",
       "        \n",
       "          <tr>\n",
       "            <th>\n",
       "            jsHooks\n",
       "            </th>\n",
       "            <td>\n",
       "            \n",
       "        <span>ListVector with 0 elements.</span>\n",
       "        <table>\n",
       "        <tbody>\n",
       "        \n",
       "        </tbody>\n",
       "        </table>\n",
       "        \n",
       "            </td>\n",
       "          </tr>\n",
       "        \n",
       "        </tbody>\n",
       "        </table>\n",
       "        "
      ],
      "text/plain": [
       "<rpy2.robjects.vectors.ListVector object at 0x7f9d1394a200> [RTYPES.VECSXP]\n",
       "R classes: ('plotly', 'htmlwidget')\n",
       "[Lis..., NUL..., NUL..., Lis..., Lis..., NUL..., Sex..., Lis...]\n",
       "  x: <class 'rpy2.rinterface.ListSexpVector'>\n",
       "  <rpy2.rinterface.ListSexpVector object at 0x7f9d13946f80> [RTYPES.VECSXP]\n",
       "  width: <class 'rpy2.rinterface_lib.sexp.NULLType'>\n",
       "  <rpy2.rinterface_lib.sexp.NULLType object at 0x7f9d11530fc0> [RTYPES.NILSXP]\n",
       "  height: <class 'rpy2.rinterface_lib.sexp.NULLType'>\n",
       "  <rpy2.rinterface_lib.sexp.NULLType object at 0x7f9d11530fc0> [RTYPES.NILSXP]\n",
       "  sizingPolicy: <class 'rpy2.rinterface.ListSexpVector'>\n",
       "  <rpy2.rinterface.ListSexpVector object at 0x7f9d1394e600> [RTYPES.VECSXP]\n",
       "  dependencies: <class 'rpy2.rinterface.ListSexpVector'>\n",
       "  <rpy2.rinterface.ListSexpVector object at 0x7f9d1394e580> [RTYPES.VECSXP]\n",
       "  elementId: <class 'rpy2.rinterface_lib.sexp.NULLType'>\n",
       "  <rpy2.rinterface_lib.sexp.NULLType object at 0x7f9d11530fc0> [RTYPES.NILSXP]\n",
       "  preRenderHook: <class 'rpy2.rinterface.SexpClosure'>\n",
       "  <rpy2.rinterface.SexpClosure object at 0x7f9d1394e580> [RTYPES.CLOSXP]\n",
       "  jsHooks: <class 'rpy2.rinterface.ListSexpVector'>\n",
       "  <rpy2.rinterface.ListSexpVector object at 0x7f9d1394eb00> [RTYPES.VECSXP]"
      ]
     },
     "execution_count": 11,
     "metadata": {},
     "output_type": "execute_result"
    }
   ],
   "source": [
    "# WORKS FROM PYTHON !!!!!\n",
    "\n",
    "robjects.r('''someData = dk_3d %>%\n",
    "  filter(surf == \"inflated\" & hemi == \"right\") %>%\n",
    "  unnest(ggseg_3d) %>%\n",
    "  ungroup() %>%\n",
    "  select(region) %>%\n",
    "  na.omit() %>%\n",
    "  mutate(p = sample(seq(0,.5, length.out = 100 ), nrow(.)) %>%\n",
    "           round(2))\n",
    "\n",
    "p = ggseg3d(.data = someData,\n",
    "        atlas = dk_3d,\n",
    "        colour = \"p\", text = \"p\") %>%\n",
    "  pan_camera(\"right medial\")\n",
    "  \n",
    "print(p)\n",
    "''')"
   ]
  },
  {
   "cell_type": "code",
   "execution_count": 12,
   "id": "50586bd1",
   "metadata": {},
   "outputs": [
    {
     "data": {
      "text/html": [
       "\n",
       "        <span>ListVector with 8 elements.</span>\n",
       "        <table>\n",
       "        <tbody>\n",
       "        \n",
       "          <tr>\n",
       "            <th>\n",
       "            x\n",
       "            </th>\n",
       "            <td>\n",
       "            \n",
       "        <span>ListVector with 7 elements.</span>\n",
       "        <table>\n",
       "        <tbody>\n",
       "        \n",
       "          <tr>\n",
       "            <th>\n",
       "            visdat\n",
       "            </th>\n",
       "            <td>\n",
       "            <rpy2.rinterface.ListSexpVector object at 0x7f9ce3a6bb80> [RTYPES.VECSXP]\n",
       "            </td>\n",
       "          </tr>\n",
       "        \n",
       "          <tr>\n",
       "            <th>\n",
       "            cur_data\n",
       "            </th>\n",
       "            <td>\n",
       "            <rpy2.rinterface_lib.sexp.StrSexpVector object at 0x7f9ce3a6bac0> [RTYPES.STRSXP]\n",
       "            </td>\n",
       "          </tr>\n",
       "        \n",
       "          <tr>\n",
       "            <th>\n",
       "            attrs\n",
       "            </th>\n",
       "            <td>\n",
       "            <rpy2.rinterface.ListSexpVector object at 0x7f9ce3a6b340> [RTYPES.VECSXP]\n",
       "            </td>\n",
       "          </tr>\n",
       "        \n",
       "          <tr>\n",
       "            <th>\n",
       "            layout\n",
       "            </th>\n",
       "            <td>\n",
       "            <rpy2.rinterface.ListSexpVector object at 0x7f9ce3a6b2c0> [RTYPES.VECSXP]\n",
       "            </td>\n",
       "          </tr>\n",
       "        \n",
       "          <tr>\n",
       "            <th>\n",
       "            source\n",
       "            </th>\n",
       "            <td>\n",
       "            <rpy2.rinterface_lib.sexp.StrSexpVector object at 0x7f9ce3a6bbc0> [RTYPES.STRSXP]\n",
       "            </td>\n",
       "          </tr>\n",
       "        \n",
       "          <tr>\n",
       "            <th>\n",
       "            config\n",
       "            </th>\n",
       "            <td>\n",
       "            <rpy2.rinterface.ListSexpVector object at 0x7f9d138eda00> [RTYPES.VECSXP]\n",
       "            </td>\n",
       "          </tr>\n",
       "        \n",
       "          <tr>\n",
       "            <th>\n",
       "            layoutAttrs\n",
       "            </th>\n",
       "            <td>\n",
       "            <rpy2.rinterface.ListSexpVector object at 0x7f9d138edc40> [RTYPES.VECSXP]\n",
       "            </td>\n",
       "          </tr>\n",
       "        \n",
       "        </tbody>\n",
       "        </table>\n",
       "        \n",
       "            </td>\n",
       "          </tr>\n",
       "        \n",
       "          <tr>\n",
       "            <th>\n",
       "            width\n",
       "            </th>\n",
       "            <td>\n",
       "            <rpy2.rinterface_lib.sexp.NULLType object at 0x7f9d11530fc0> [RTYPES.NILSXP]\n",
       "            </td>\n",
       "          </tr>\n",
       "        \n",
       "          <tr>\n",
       "            <th>\n",
       "            height\n",
       "            </th>\n",
       "            <td>\n",
       "            <rpy2.rinterface_lib.sexp.NULLType object at 0x7f9d11530fc0> [RTYPES.NILSXP]\n",
       "            </td>\n",
       "          </tr>\n",
       "        \n",
       "          <tr>\n",
       "            <th>\n",
       "            ...\n",
       "            </th>\n",
       "            <td>\n",
       "            ...\n",
       "            </td>\n",
       "          </tr>\n",
       "        \n",
       "          <tr>\n",
       "            <th>\n",
       "            elementId\n",
       "            </th>\n",
       "            <td>\n",
       "            <rpy2.rinterface_lib.sexp.NULLType object at 0x7f9d11530fc0> [RTYPES.NILSXP]\n",
       "            </td>\n",
       "          </tr>\n",
       "        \n",
       "          <tr>\n",
       "            <th>\n",
       "            preRenderHook\n",
       "            </th>\n",
       "            <td>\n",
       "            function (p, registerFrames = TRUE) \n",
       "{\n",
       "    UseMethod(\"plotly_build\")\n",
       "}\n",
       "<bytecode: 0x7f9ccf5495b8>\n",
       "<environment: namespace:plotly>\n",
       "\n",
       "            </td>\n",
       "          </tr>\n",
       "        \n",
       "          <tr>\n",
       "            <th>\n",
       "            jsHooks\n",
       "            </th>\n",
       "            <td>\n",
       "            \n",
       "        <span>ListVector with 0 elements.</span>\n",
       "        <table>\n",
       "        <tbody>\n",
       "        \n",
       "        </tbody>\n",
       "        </table>\n",
       "        \n",
       "            </td>\n",
       "          </tr>\n",
       "        \n",
       "        </tbody>\n",
       "        </table>\n",
       "        "
      ],
      "text/plain": [
       "<rpy2.robjects.vectors.ListVector object at 0x7f9d132f4c80> [RTYPES.VECSXP]\n",
       "R classes: ('plotly', 'htmlwidget')\n",
       "[Lis..., NUL..., NUL..., Lis..., Lis..., NUL..., Sex..., Lis...]\n",
       "  x: <class 'rpy2.rinterface.ListSexpVector'>\n",
       "  <rpy2.rinterface.ListSexpVector object at 0x7f9d1394b300> [RTYPES.VECSXP]\n",
       "  width: <class 'rpy2.rinterface_lib.sexp.NULLType'>\n",
       "  <rpy2.rinterface_lib.sexp.NULLType object at 0x7f9d11530fc0> [RTYPES.NILSXP]\n",
       "  height: <class 'rpy2.rinterface_lib.sexp.NULLType'>\n",
       "  <rpy2.rinterface_lib.sexp.NULLType object at 0x7f9d11530fc0> [RTYPES.NILSXP]\n",
       "  sizingPolicy: <class 'rpy2.rinterface.ListSexpVector'>\n",
       "  <rpy2.rinterface.ListSexpVector object at 0x7f9d1366ed40> [RTYPES.VECSXP]\n",
       "  dependencies: <class 'rpy2.rinterface.ListSexpVector'>\n",
       "  <rpy2.rinterface.ListSexpVector object at 0x7f9d1366ec40> [RTYPES.VECSXP]\n",
       "  elementId: <class 'rpy2.rinterface_lib.sexp.NULLType'>\n",
       "  <rpy2.rinterface_lib.sexp.NULLType object at 0x7f9d11530fc0> [RTYPES.NILSXP]\n",
       "  preRenderHook: <class 'rpy2.rinterface.SexpClosure'>\n",
       "  <rpy2.rinterface.SexpClosure object at 0x7f9d13670680> [RTYPES.CLOSXP]\n",
       "  jsHooks: <class 'rpy2.rinterface.ListSexpVector'>\n",
       "  <rpy2.rinterface.ListSexpVector object at 0x7f9ce3a6bb80> [RTYPES.VECSXP]"
      ]
     },
     "execution_count": 12,
     "metadata": {},
     "output_type": "execute_result"
    }
   ],
   "source": [
    "robjects.r('''p = ggseg3d(.data = dk_data,\n",
    "        atlas = dk_3d,\n",
    "        hemisphere = 'left',\n",
    "        colour = \"p\",\n",
    "        text = \"p\")%>%\n",
    "  pan_camera(\"right medial\") \n",
    "  \n",
    "  print(p)\n",
    "''')"
   ]
  },
  {
   "cell_type": "code",
   "execution_count": null,
   "id": "a5cc1047",
   "metadata": {},
   "outputs": [],
   "source": []
  },
  {
   "cell_type": "code",
   "execution_count": null,
   "id": "905aa13a",
   "metadata": {},
   "outputs": [],
   "source": []
  },
  {
   "cell_type": "code",
   "execution_count": null,
   "id": "ec13a9ae",
   "metadata": {},
   "outputs": [],
   "source": []
  },
  {
   "cell_type": "code",
   "execution_count": 13,
   "id": "d19479bf",
   "metadata": {},
   "outputs": [],
   "source": [
    "p = robjects.r('''\n",
    "ggseg3d(.data = dk_data, \n",
    "        atlas = dk_3d,\n",
    "        hemisphere = 'left',\n",
    "        colour = \"p\", \n",
    "        palette = colors,\n",
    "        text = \"p\")\n",
    "''')"
   ]
  },
  {
   "cell_type": "code",
   "execution_count": 14,
   "id": "842d485b",
   "metadata": {},
   "outputs": [
    {
     "data": {
      "text/html": [
       "\n",
       "        <span>ListVector with 8 elements.</span>\n",
       "        <table>\n",
       "        <tbody>\n",
       "        \n",
       "          <tr>\n",
       "            <th>\n",
       "            x\n",
       "            </th>\n",
       "            <td>\n",
       "            \n",
       "        <span>ListVector with 6 elements.</span>\n",
       "        <table>\n",
       "        <tbody>\n",
       "        \n",
       "          <tr>\n",
       "            <th>\n",
       "            visdat\n",
       "            </th>\n",
       "            <td>\n",
       "            <rpy2.rinterface.ListSexpVector object at 0x7f9d139694c0> [RTYPES.VECSXP]\n",
       "            </td>\n",
       "          </tr>\n",
       "        \n",
       "          <tr>\n",
       "            <th>\n",
       "            cur_data\n",
       "            </th>\n",
       "            <td>\n",
       "            <rpy2.rinterface_lib.sexp.StrSexpVector object at 0x7f9d13969c80> [RTYPES.STRSXP]\n",
       "            </td>\n",
       "          </tr>\n",
       "        \n",
       "          <tr>\n",
       "            <th>\n",
       "            attrs\n",
       "            </th>\n",
       "            <td>\n",
       "            <rpy2.rinterface.ListSexpVector object at 0x7f9d13969080> [RTYPES.VECSXP]\n",
       "            </td>\n",
       "          </tr>\n",
       "        \n",
       "          <tr>\n",
       "            <th>\n",
       "            layout\n",
       "            </th>\n",
       "            <td>\n",
       "            <rpy2.rinterface.ListSexpVector object at 0x7f9d13969940> [RTYPES.VECSXP]\n",
       "            </td>\n",
       "          </tr>\n",
       "        \n",
       "          <tr>\n",
       "            <th>\n",
       "            source\n",
       "            </th>\n",
       "            <td>\n",
       "            <rpy2.rinterface_lib.sexp.StrSexpVector object at 0x7f9d13969e40> [RTYPES.STRSXP]\n",
       "            </td>\n",
       "          </tr>\n",
       "        \n",
       "          <tr>\n",
       "            <th>\n",
       "            config\n",
       "            </th>\n",
       "            <td>\n",
       "            <rpy2.rinterface.ListSexpVector object at 0x7f9d13969e00> [RTYPES.VECSXP]\n",
       "            </td>\n",
       "          </tr>\n",
       "        \n",
       "        </tbody>\n",
       "        </table>\n",
       "        \n",
       "            </td>\n",
       "          </tr>\n",
       "        \n",
       "          <tr>\n",
       "            <th>\n",
       "            width\n",
       "            </th>\n",
       "            <td>\n",
       "            <rpy2.rinterface_lib.sexp.NULLType object at 0x7f9d11530fc0> [RTYPES.NILSXP]\n",
       "            </td>\n",
       "          </tr>\n",
       "        \n",
       "          <tr>\n",
       "            <th>\n",
       "            height\n",
       "            </th>\n",
       "            <td>\n",
       "            <rpy2.rinterface_lib.sexp.NULLType object at 0x7f9d11530fc0> [RTYPES.NILSXP]\n",
       "            </td>\n",
       "          </tr>\n",
       "        \n",
       "          <tr>\n",
       "            <th>\n",
       "            ...\n",
       "            </th>\n",
       "            <td>\n",
       "            ...\n",
       "            </td>\n",
       "          </tr>\n",
       "        \n",
       "          <tr>\n",
       "            <th>\n",
       "            elementId\n",
       "            </th>\n",
       "            <td>\n",
       "            <rpy2.rinterface_lib.sexp.NULLType object at 0x7f9d11530fc0> [RTYPES.NILSXP]\n",
       "            </td>\n",
       "          </tr>\n",
       "        \n",
       "          <tr>\n",
       "            <th>\n",
       "            preRenderHook\n",
       "            </th>\n",
       "            <td>\n",
       "            function (p, registerFrames = TRUE) \n",
       "{\n",
       "    UseMethod(\"plotly_build\")\n",
       "}\n",
       "<bytecode: 0x7f9ccf5495b8>\n",
       "<environment: namespace:plotly>\n",
       "\n",
       "            </td>\n",
       "          </tr>\n",
       "        \n",
       "          <tr>\n",
       "            <th>\n",
       "            jsHooks\n",
       "            </th>\n",
       "            <td>\n",
       "            \n",
       "        <span>ListVector with 0 elements.</span>\n",
       "        <table>\n",
       "        <tbody>\n",
       "        \n",
       "        </tbody>\n",
       "        </table>\n",
       "        \n",
       "            </td>\n",
       "          </tr>\n",
       "        \n",
       "        </tbody>\n",
       "        </table>\n",
       "        "
      ],
      "text/plain": [
       "<rpy2.robjects.vectors.ListVector object at 0x7f9d1339cc40> [RTYPES.VECSXP]\n",
       "R classes: ('plotly', 'htmlwidget')\n",
       "[Lis..., NUL..., NUL..., Lis..., Lis..., NUL..., Sex..., Lis...]\n",
       "  x: <class 'rpy2.rinterface.ListSexpVector'>\n",
       "  <rpy2.rinterface.ListSexpVector object at 0x7f9d1395b200> [RTYPES.VECSXP]\n",
       "  width: <class 'rpy2.rinterface_lib.sexp.NULLType'>\n",
       "  <rpy2.rinterface_lib.sexp.NULLType object at 0x7f9d11530fc0> [RTYPES.NILSXP]\n",
       "  height: <class 'rpy2.rinterface_lib.sexp.NULLType'>\n",
       "  <rpy2.rinterface_lib.sexp.NULLType object at 0x7f9d11530fc0> [RTYPES.NILSXP]\n",
       "  sizingPolicy: <class 'rpy2.rinterface.ListSexpVector'>\n",
       "  <rpy2.rinterface.ListSexpVector object at 0x7f9d1395b200> [RTYPES.VECSXP]\n",
       "  dependencies: <class 'rpy2.rinterface.ListSexpVector'>\n",
       "  <rpy2.rinterface.ListSexpVector object at 0x7f9d1395b400> [RTYPES.VECSXP]\n",
       "  elementId: <class 'rpy2.rinterface_lib.sexp.NULLType'>\n",
       "  <rpy2.rinterface_lib.sexp.NULLType object at 0x7f9d11530fc0> [RTYPES.NILSXP]\n",
       "  preRenderHook: <class 'rpy2.rinterface.SexpClosure'>\n",
       "  <rpy2.rinterface.SexpClosure object at 0x7f9d13969240> [RTYPES.CLOSXP]\n",
       "  jsHooks: <class 'rpy2.rinterface.ListSexpVector'>\n",
       "  <rpy2.rinterface.ListSexpVector object at 0x7f9d13969f40> [RTYPES.VECSXP]"
      ]
     },
     "execution_count": 14,
     "metadata": {},
     "output_type": "execute_result"
    }
   ],
   "source": [
    "p"
   ]
  },
  {
   "cell_type": "code",
   "execution_count": 15,
   "id": "7cb05825",
   "metadata": {},
   "outputs": [],
   "source": [
    "p = robjects.r('''ggseg3d(.data = dk_data, \n",
    "        atlas = dk_3d,\n",
    "        hemisphere = 'left',\n",
    "        colour = \"p\", \n",
    "        palette = colors,\n",
    "        text = \"p\") %>% \n",
    "  pan_camera(\"right medial\")  \n",
    "''')"
   ]
  },
  {
   "cell_type": "code",
   "execution_count": 16,
   "id": "81f6b657",
   "metadata": {},
   "outputs": [
    {
     "name": "stdout",
     "output_type": "stream",
     "text": [
      "\n"
     ]
    }
   ],
   "source": [
    "print(p)"
   ]
  },
  {
   "cell_type": "code",
   "execution_count": 17,
   "id": "2b50a314",
   "metadata": {},
   "outputs": [],
   "source": [
    "p = robjects.r('''ggseg3d(.data = aseg_data, \n",
    "        atlas = aseg_3d, \n",
    "        colour = \"p\", \n",
    "        palette = colors,\n",
    "        text = \"p\", \n",
    "        na.alpha= .5,\n",
    "        options.legend = list(title=list(text=\"\"))\n",
    ")\n",
    "''')"
   ]
  },
  {
   "cell_type": "code",
   "execution_count": 18,
   "id": "d78eb91c",
   "metadata": {},
   "outputs": [
    {
     "name": "stdout",
     "output_type": "stream",
     "text": [
      "\n"
     ]
    }
   ],
   "source": [
    "print(p)"
   ]
  },
  {
   "cell_type": "code",
   "execution_count": null,
   "id": "85bfd39c",
   "metadata": {},
   "outputs": [],
   "source": []
  }
 ],
 "metadata": {
  "kernelspec": {
   "display_name": "Python 3 (ipykernel)",
   "language": "python",
   "name": "python3"
  },
  "language_info": {
   "codemirror_mode": {
    "name": "ipython",
    "version": 3
   },
   "file_extension": ".py",
   "mimetype": "text/x-python",
   "name": "python",
   "nbconvert_exporter": "python",
   "pygments_lexer": "ipython3",
   "version": "3.9.12"
  }
 },
 "nbformat": 4,
 "nbformat_minor": 5
}
